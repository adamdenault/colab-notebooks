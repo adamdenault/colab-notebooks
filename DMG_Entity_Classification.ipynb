{
  "nbformat": 4,
  "nbformat_minor": 0,
  "metadata": {
    "colab": {
      "name": "DMG Entity Classification.ipynb",
      "provenance": [],
      "collapsed_sections": [],
      "include_colab_link": true
    },
    "kernelspec": {
      "name": "python3",
      "display_name": "Python 3"
    }
  },
  "cells": [
    {
      "cell_type": "markdown",
      "metadata": {
        "id": "view-in-github",
        "colab_type": "text"
      },
      "source": [
        "<a href=\"https://colab.research.google.com/github/adamdenault/colab-notebooks/blob/master/DMG_Entity_Classification.ipynb\" target=\"_parent\"><img src=\"https://colab.research.google.com/assets/colab-badge.svg\" alt=\"Open In Colab\"/></a>"
      ]
    },
    {
      "cell_type": "markdown",
      "metadata": {
        "id": "eXiEVrpmtguk",
        "colab_type": "text"
      },
      "source": [
        "This notebook is intended to allow a user to run entity analysis on three URLs and understand differences in central topics covered by pieces of content. It is a tutorial implementation of Google's NLP entity Analysis API. \n",
        "\n",
        "For more guidance on how to run this, see here: https://sashadagayev.com/systematically-analyze-your-content-vs-competitor-content-and-make-actionable-improvements/\n",
        "\n",
        "To use this notebook - go to File > Save a Copy in Drive.\n"
      ]
    },
    {
      "cell_type": "markdown",
      "metadata": {
        "id": "Dqgk1LfbjMgZ",
        "colab_type": "text"
      },
      "source": [
        ""
      ]
    },
    {
      "cell_type": "code",
      "metadata": {
        "id": "_ygJDAflZzEz",
        "colab_type": "code",
        "colab": {}
      },
      "source": [
        "import os\n",
        "import json\n",
        "import urllib3\n",
        "import pandas as pd"
      ],
      "execution_count": 21,
      "outputs": []
    },
    {
      "cell_type": "code",
      "metadata": {
        "id": "WZpFgSKoaFFh",
        "colab_type": "code",
        "colab": {}
      },
      "source": [
        "os.environ['GOOGLE_APPLICATION_CREDENTIALS'] = \"/content/nlp-colab.json\" #change to the name of your credentials. These can be obtained here:https://cloud.google.com/natural-language/docs/quickstart"
      ],
      "execution_count": 22,
      "outputs": []
    },
    {
      "cell_type": "code",
      "metadata": {
        "id": "qkSW-0qyYlcP",
        "colab_type": "code",
        "colab": {}
      },
      "source": [
        "# Imports the Google Cloud client library\n",
        "from google.cloud import language\n",
        "from google.cloud.language import enums\n",
        "from google.cloud.language import types\n",
        "from google.cloud import language_v1\n",
        "from google.cloud.language_v1 import enums\n",
        "\n",
        "# Instantiates a client\n",
        "\n",
        "client = language.LanguageServiceClient()"
      ],
      "execution_count": 23,
      "outputs": []
    },
    {
      "cell_type": "markdown",
      "metadata": {
        "id": "4XCGW9btPE-9",
        "colab_type": "text"
      },
      "source": [
        "This is the default sentiment analysis method recommended by Google. It is currently set up to take in an HTML response from a page."
      ]
    },
    {
      "cell_type": "code",
      "metadata": {
        "colab_type": "code",
        "id": "zndJdEyupb39",
        "colab": {}
      },
      "source": [
        "def sample_analyze_entities(html_content):\n",
        "    client = language_v1.LanguageServiceClient()\n",
        "\n",
        "    # Available types: PLAIN_TEXT, HTML\n",
        "    type_ = enums.Document.Type.HTML #you can change this to be just text; doesn't have to be HTML.\n",
        "\n",
        "    # Optional. If not specified, the language is automatically detected.\n",
        "    # For list of supported languages:\n",
        "    # https://cloud.google.com/natural-language/docs/languages\n",
        "    language = \"en\"\n",
        "    document = {\"content\": html_content, \"type\": type_, \"language\": language}\n",
        "\n",
        "    # Available values: NONE, UTF8, UTF16, UTF32\n",
        "    encoding_type = enums.EncodingType.UTF8\n",
        "\n",
        "    response = client.analyze_entities(document, encoding_type=encoding_type)\n",
        "    return response\n"
      ],
      "execution_count": 24,
      "outputs": []
    },
    {
      "cell_type": "code",
      "metadata": {
        "id": "s3WCBz3bp582",
        "colab_type": "code",
        "colab": {}
      },
      "source": [
        "def return_entity_dataframe(response):\n",
        "  output = sample_analyze_entities(response.data)\n",
        "  output_list = []\n",
        "  for entity in output.entities:\n",
        "    entity_dict = {}\n",
        "    entity_dict['entity_name'] = entity.name\n",
        "    entity_dict['entity_type'] = enums.Entity.Type(entity.type).name\n",
        "    entity_dict['entity_salience('+response._request_url+')'] = entity.salience\n",
        "    entity_dict['entity_number_of_mentions('+response._request_url+')'] = len(entity.mentions)\n",
        "    output_list.append(entity_dict)\n",
        "  json_entity_analysis = json.dumps(output_list)\n",
        "  df = pd.read_json(json_entity_analysis)\n",
        "  summed_df = df.groupby(['entity_name']).sum()\n",
        "  summed_df.sort_values(by=['entity_salience('+response._request_url+')'], ascending=False)\n",
        "  return summed_df"
      ],
      "execution_count": 25,
      "outputs": []
    },
    {
      "cell_type": "markdown",
      "metadata": {
        "id": "-NTBzXHwQpxG",
        "colab_type": "text"
      },
      "source": [
        "\n",
        "\n",
        "```\n",
        "# This is formatted as code\n",
        "```\n",
        "\n",
        "# Swap out your URLs HERE!!!\n"
      ]
    },
    {
      "cell_type": "code",
      "metadata": {
        "id": "bcyztYFATTbV",
        "colab_type": "code",
        "colab": {
          "base_uri": "https://localhost:8080/",
          "height": 34
        },
        "outputId": "75169446-0ba3-4bc0-942e-70765450c490"
      },
      "source": [
        "from google.colab import drive\n",
        "drive.mount('/content/drive')"
      ],
      "execution_count": 26,
      "outputs": [
        {
          "output_type": "stream",
          "text": [
            "Drive already mounted at /content/drive; to attempt to forcibly remount, call drive.mount(\"/content/drive\", force_remount=True).\n"
          ],
          "name": "stdout"
        }
      ]
    },
    {
      "cell_type": "code",
      "metadata": {
        "id": "uftbkeV54hAj",
        "colab_type": "code",
        "colab": {
          "base_uri": "https://localhost:8080/",
          "height": 309
        },
        "outputId": "c6b64cc3-68e8-43ec-b839-1900d698d17f"
      },
      "source": [
        "http = urllib3.PoolManager()\n",
        "response1 = http.request('GET','https://mbbhm.com')\n",
        "response2 = http.request('GET','https://mbofmc.com')\n",
        "response3 = http.request('GET','https://mbotw.com')\n",
        "response4 = http.request('GET','https://mbobr.com')"
      ],
      "execution_count": 27,
      "outputs": [
        {
          "output_type": "stream",
          "text": [
            "/usr/local/lib/python3.6/dist-packages/urllib3/connectionpool.py:847: InsecureRequestWarning: Unverified HTTPS request is being made. Adding certificate verification is strongly advised. See: https://urllib3.readthedocs.io/en/latest/advanced-usage.html#ssl-warnings\n",
            "  InsecureRequestWarning)\n",
            "/usr/local/lib/python3.6/dist-packages/urllib3/connectionpool.py:847: InsecureRequestWarning: Unverified HTTPS request is being made. Adding certificate verification is strongly advised. See: https://urllib3.readthedocs.io/en/latest/advanced-usage.html#ssl-warnings\n",
            "  InsecureRequestWarning)\n",
            "/usr/local/lib/python3.6/dist-packages/urllib3/connectionpool.py:847: InsecureRequestWarning: Unverified HTTPS request is being made. Adding certificate verification is strongly advised. See: https://urllib3.readthedocs.io/en/latest/advanced-usage.html#ssl-warnings\n",
            "  InsecureRequestWarning)\n",
            "/usr/local/lib/python3.6/dist-packages/urllib3/connectionpool.py:847: InsecureRequestWarning: Unverified HTTPS request is being made. Adding certificate verification is strongly advised. See: https://urllib3.readthedocs.io/en/latest/advanced-usage.html#ssl-warnings\n",
            "  InsecureRequestWarning)\n",
            "/usr/local/lib/python3.6/dist-packages/urllib3/connectionpool.py:847: InsecureRequestWarning: Unverified HTTPS request is being made. Adding certificate verification is strongly advised. See: https://urllib3.readthedocs.io/en/latest/advanced-usage.html#ssl-warnings\n",
            "  InsecureRequestWarning)\n",
            "/usr/local/lib/python3.6/dist-packages/urllib3/connectionpool.py:847: InsecureRequestWarning: Unverified HTTPS request is being made. Adding certificate verification is strongly advised. See: https://urllib3.readthedocs.io/en/latest/advanced-usage.html#ssl-warnings\n",
            "  InsecureRequestWarning)\n",
            "/usr/local/lib/python3.6/dist-packages/urllib3/connectionpool.py:847: InsecureRequestWarning: Unverified HTTPS request is being made. Adding certificate verification is strongly advised. See: https://urllib3.readthedocs.io/en/latest/advanced-usage.html#ssl-warnings\n",
            "  InsecureRequestWarning)\n",
            "/usr/local/lib/python3.6/dist-packages/urllib3/connectionpool.py:847: InsecureRequestWarning: Unverified HTTPS request is being made. Adding certificate verification is strongly advised. See: https://urllib3.readthedocs.io/en/latest/advanced-usage.html#ssl-warnings\n",
            "  InsecureRequestWarning)\n"
          ],
          "name": "stderr"
        }
      ]
    },
    {
      "cell_type": "code",
      "metadata": {
        "id": "Jl0oeZM3sBBe",
        "colab_type": "code",
        "colab": {}
      },
      "source": [
        "url1_analysis = return_entity_dataframe(response1)\n",
        "url2_analysis = return_entity_dataframe(response2)\n",
        "url3_analysis = return_entity_dataframe(response3)\n",
        "url4_analysis = return_entity_dataframe(response4)"
      ],
      "execution_count": 42,
      "outputs": []
    },
    {
      "cell_type": "markdown",
      "metadata": {
        "id": "mo1zly_LQ9qt",
        "colab_type": "text"
      },
      "source": [
        "These functions here join all of the entity results into one giant table so that it can be easier for the users to review results and compare. "
      ]
    },
    {
      "cell_type": "code",
      "metadata": {
        "id": "wkHg_k2MyJF8",
        "colab_type": "code",
        "colab": {}
      },
      "source": [
        "url1and2 = url1_analysis.merge(url2_analysis,how='outer', left_on='entity_name', right_on=\"entity_name\")\n",
        "url1and2and3 = url1and2.merge(url3_analysis,how='outer', left_on='entity_name', right_on=\"entity_name\")\n",
        "url1and2and3and4 = url1and2and3.merge(url4_analysis,how='outer', left_on='entity_name', right_on=\"entity_name\")"
      ],
      "execution_count": 45,
      "outputs": []
    },
    {
      "cell_type": "code",
      "metadata": {
        "id": "DNMTixY-yHiq",
        "colab_type": "code",
        "colab": {
          "base_uri": "https://localhost:8080/",
          "height": 478
        },
        "outputId": "eab322f6-8694-4561-e646-c2541c0b94b4"
      },
      "source": [
        "url1and2and3and4.sort_values(by=['entity_salience('+response1._request_url+')'], ascending=False)"
      ],
      "execution_count": 49,
      "outputs": [
        {
          "output_type": "execute_result",
          "data": {
            "text/html": [
              "<div>\n",
              "<style scoped>\n",
              "    .dataframe tbody tr th:only-of-type {\n",
              "        vertical-align: middle;\n",
              "    }\n",
              "\n",
              "    .dataframe tbody tr th {\n",
              "        vertical-align: top;\n",
              "    }\n",
              "\n",
              "    .dataframe thead th {\n",
              "        text-align: right;\n",
              "    }\n",
              "</style>\n",
              "<table border=\"1\" class=\"dataframe\">\n",
              "  <thead>\n",
              "    <tr style=\"text-align: right;\">\n",
              "      <th></th>\n",
              "      <th>entity_salience(https://mbbhm.com)</th>\n",
              "      <th>entity_number_of_mentions(https://mbbhm.com)</th>\n",
              "      <th>entity_salience(https://mbofmc.com)</th>\n",
              "      <th>entity_number_of_mentions(https://mbofmc.com)</th>\n",
              "      <th>entity_salience(https://mbotw.com)</th>\n",
              "      <th>entity_number_of_mentions(https://mbotw.com)</th>\n",
              "      <th>entity_salience(https://mbobr.com)</th>\n",
              "      <th>entity_number_of_mentions(https://mbobr.com)</th>\n",
              "    </tr>\n",
              "    <tr>\n",
              "      <th>entity_name</th>\n",
              "      <th></th>\n",
              "      <th></th>\n",
              "      <th></th>\n",
              "      <th></th>\n",
              "      <th></th>\n",
              "      <th></th>\n",
              "      <th></th>\n",
              "      <th></th>\n",
              "    </tr>\n",
              "  </thead>\n",
              "  <tbody>\n",
              "    <tr>\n",
              "      <th>Mercedes-Benz</th>\n",
              "      <td>0.233861</td>\n",
              "      <td>21.0</td>\n",
              "      <td>0.065588</td>\n",
              "      <td>28.0</td>\n",
              "      <td>0.100136</td>\n",
              "      <td>35.0</td>\n",
              "      <td>0.143482</td>\n",
              "      <td>26.0</td>\n",
              "    </tr>\n",
              "    <tr>\n",
              "      <th>Vehicles</th>\n",
              "      <td>0.093655</td>\n",
              "      <td>13.0</td>\n",
              "      <td>0.008338</td>\n",
              "      <td>2.0</td>\n",
              "      <td>0.060297</td>\n",
              "      <td>14.0</td>\n",
              "      <td>0.069115</td>\n",
              "      <td>10.0</td>\n",
              "    </tr>\n",
              "    <tr>\n",
              "      <th>Specials</th>\n",
              "      <td>0.074603</td>\n",
              "      <td>14.0</td>\n",
              "      <td>0.029184</td>\n",
              "      <td>10.0</td>\n",
              "      <td>0.021944</td>\n",
              "      <td>11.0</td>\n",
              "      <td>0.016727</td>\n",
              "      <td>10.0</td>\n",
              "    </tr>\n",
              "    <tr>\n",
              "      <th>SUV</th>\n",
              "      <td>0.064842</td>\n",
              "      <td>10.0</td>\n",
              "      <td>0.016013</td>\n",
              "      <td>6.0</td>\n",
              "      <td>0.036626</td>\n",
              "      <td>15.0</td>\n",
              "      <td>0.040724</td>\n",
              "      <td>12.0</td>\n",
              "    </tr>\n",
              "    <tr>\n",
              "      <th>Service</th>\n",
              "      <td>0.028901</td>\n",
              "      <td>14.0</td>\n",
              "      <td>0.017039</td>\n",
              "      <td>9.0</td>\n",
              "      <td>0.014871</td>\n",
              "      <td>11.0</td>\n",
              "      <td>0.009877</td>\n",
              "      <td>8.0</td>\n",
              "    </tr>\n",
              "    <tr>\n",
              "      <th>...</th>\n",
              "      <td>...</td>\n",
              "      <td>...</td>\n",
              "      <td>...</td>\n",
              "      <td>...</td>\n",
              "      <td>...</td>\n",
              "      <td>...</td>\n",
              "      <td>...</td>\n",
              "      <td>...</td>\n",
              "    </tr>\n",
              "    <tr>\n",
              "      <th>site</th>\n",
              "      <td>NaN</td>\n",
              "      <td>NaN</td>\n",
              "      <td>NaN</td>\n",
              "      <td>NaN</td>\n",
              "      <td>NaN</td>\n",
              "      <td>NaN</td>\n",
              "      <td>0.000437</td>\n",
              "      <td>1.0</td>\n",
              "    </tr>\n",
              "    <tr>\n",
              "      <th>standards</th>\n",
              "      <td>NaN</td>\n",
              "      <td>NaN</td>\n",
              "      <td>NaN</td>\n",
              "      <td>NaN</td>\n",
              "      <td>NaN</td>\n",
              "      <td>NaN</td>\n",
              "      <td>0.000168</td>\n",
              "      <td>1.0</td>\n",
              "    </tr>\n",
              "    <tr>\n",
              "      <th>test drive</th>\n",
              "      <td>NaN</td>\n",
              "      <td>NaN</td>\n",
              "      <td>NaN</td>\n",
              "      <td>NaN</td>\n",
              "      <td>NaN</td>\n",
              "      <td>NaN</td>\n",
              "      <td>0.000184</td>\n",
              "      <td>1.0</td>\n",
              "    </tr>\n",
              "    <tr>\n",
              "      <th>types</th>\n",
              "      <td>NaN</td>\n",
              "      <td>NaN</td>\n",
              "      <td>NaN</td>\n",
              "      <td>NaN</td>\n",
              "      <td>NaN</td>\n",
              "      <td>NaN</td>\n",
              "      <td>0.000485</td>\n",
              "      <td>1.0</td>\n",
              "    </tr>\n",
              "    <tr>\n",
              "      <th>vans</th>\n",
              "      <td>NaN</td>\n",
              "      <td>NaN</td>\n",
              "      <td>NaN</td>\n",
              "      <td>NaN</td>\n",
              "      <td>NaN</td>\n",
              "      <td>NaN</td>\n",
              "      <td>0.000682</td>\n",
              "      <td>1.0</td>\n",
              "    </tr>\n",
              "  </tbody>\n",
              "</table>\n",
              "<p>562 rows × 8 columns</p>\n",
              "</div>"
            ],
            "text/plain": [
              "               entity_salience(https://mbbhm.com)  ...  entity_number_of_mentions(https://mbobr.com)\n",
              "entity_name                                        ...                                              \n",
              "Mercedes-Benz                            0.233861  ...                                          26.0\n",
              "Vehicles                                 0.093655  ...                                          10.0\n",
              "Specials                                 0.074603  ...                                          10.0\n",
              "SUV                                      0.064842  ...                                          12.0\n",
              "Service                                  0.028901  ...                                           8.0\n",
              "...                                           ...  ...                                           ...\n",
              "site                                          NaN  ...                                           1.0\n",
              "standards                                     NaN  ...                                           1.0\n",
              "test drive                                    NaN  ...                                           1.0\n",
              "types                                         NaN  ...                                           1.0\n",
              "vans                                          NaN  ...                                           1.0\n",
              "\n",
              "[562 rows x 8 columns]"
            ]
          },
          "metadata": {
            "tags": []
          },
          "execution_count": 49
        }
      ]
    },
    {
      "cell_type": "code",
      "metadata": {
        "id": "VmSEh9_H0-ZQ",
        "colab_type": "code",
        "colab": {}
      },
      "source": [
        "url1and2and3and4.to_csv('DMG-entities.csv')"
      ],
      "execution_count": 50,
      "outputs": []
    },
    {
      "cell_type": "code",
      "metadata": {
        "id": "zEVldKTVHkwV",
        "colab_type": "code",
        "colab": {}
      },
      "source": [
        ""
      ],
      "execution_count": 50,
      "outputs": []
    }
  ]
}
