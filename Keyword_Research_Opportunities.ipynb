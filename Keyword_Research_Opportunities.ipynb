{
  "nbformat": 4,
  "nbformat_minor": 0,
  "metadata": {
    "colab": {
      "name": "Copy of Keyword Research Opportunities.ipynb",
      "provenance": [],
      "collapsed_sections": [],
      "toc_visible": true,
      "include_colab_link": true
    },
    "kernelspec": {
      "name": "python3",
      "display_name": "Python 3"
    }
  },
  "cells": [
    {
      "cell_type": "markdown",
      "metadata": {
        "id": "view-in-github",
        "colab_type": "text"
      },
      "source": [
        "<a href=\"https://colab.research.google.com/github/adamdenault/colab-notebooks/blob/master/Keyword_Research_Opportunities.ipynb\" target=\"_parent\"><img src=\"https://colab.research.google.com/assets/colab-badge.svg\" alt=\"Open In Colab\"/></a>"
      ]
    },
    {
      "cell_type": "markdown",
      "metadata": {
        "id": "G7y0mSAmOKrV",
        "colab_type": "text"
      },
      "source": [
        "# Keyword Research Made Easy\n",
        "\n",
        "Made by [![Follow](https://img.shields.io/twitter/follow/BritneyMuller?style=social)](https://twitter.com/BritneyMuller)\n",
        "\n",
        "Please contact britneymuller@gmail.com with Subject [Colab Link Analysis] with any questions.\n",
        "\n",
        "Explore: [github.com/BritneyMuller/colab-notebooks ](https://github.com/BritneyMuller/colab-notebooks)for more Notebook examples"
      ]
    },
    {
      "cell_type": "markdown",
      "metadata": {
        "id": "Y59nEdqJO7Wg",
        "colab_type": "text"
      },
      "source": [
        "# Upload GSC Data\n",
        "\n",
        "\n",
        "![Export internal link csv to your local computer](https://i.imgur.com/J9y04cL.png)\n",
        "\n",
        "---\n",
        "\n",
        "\n",
        "\n",
        "Note: [Shift + Return] is the shortcut to run a single cell. \n",
        "\n",
        "Try running the code below by clicking into the cell and doing [Shift + Return].\n"
      ]
    },
    {
      "cell_type": "code",
      "metadata": {
        "id": "dOGPtWU6fAKR",
        "colab_type": "code",
        "colab": {}
      },
      "source": [
        "import csv\n",
        "import json\n",
        "import requests\n",
        "import pandas as pd\n",
        "import numpy as np\n",
        "import re\n",
        "from IPython.display import display"
      ],
      "execution_count": 1,
      "outputs": []
    },
    {
      "cell_type": "code",
      "metadata": {
        "id": "TSOQ1M2kO1F_",
        "colab_type": "code",
        "colab": {
          "resources": {
            "http://localhost:8080/nbextensions/google.colab/files.js": {
              "data": "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",
              "ok": true,
              "headers": [
                [
                  "content-type",
                  "application/javascript"
                ]
              ],
              "status": 200,
              "status_text": ""
            }
          },
          "base_uri": "https://localhost:8080/",
          "height": 72
        },
        "outputId": "9885b4e5-92de-4d00-e382-b66cc0c28eab"
      },
      "source": [
        "from google.colab import files\n",
        "uploaded = files.upload()"
      ],
      "execution_count": 2,
      "outputs": [
        {
          "output_type": "display_data",
          "data": {
            "text/html": [
              "\n",
              "     <input type=\"file\" id=\"files-cfa7584b-9611-4c8d-a3a0-c4147e2b2031\" name=\"files[]\" multiple disabled\n",
              "        style=\"border:none\" />\n",
              "     <output id=\"result-cfa7584b-9611-4c8d-a3a0-c4147e2b2031\">\n",
              "      Upload widget is only available when the cell has been executed in the\n",
              "      current browser session. Please rerun this cell to enable.\n",
              "      </output>\n",
              "      <script src=\"/nbextensions/google.colab/files.js\"></script> "
            ],
            "text/plain": [
              "<IPython.core.display.HTML object>"
            ]
          },
          "metadata": {
            "tags": []
          }
        },
        {
          "output_type": "stream",
          "text": [
            "Saving Queries.csv to Queries.csv\n"
          ],
          "name": "stdout"
        }
      ]
    },
    {
      "cell_type": "markdown",
      "metadata": {
        "id": "DvhbitJsgn3A",
        "colab_type": "text"
      },
      "source": [
        "Upload data as \"df\" (dataframe)"
      ]
    },
    {
      "cell_type": "code",
      "metadata": {
        "id": "5bwFFew5O4_y",
        "colab_type": "code",
        "colab": {}
      },
      "source": [
        "df = pd.read_csv(\"/content/Queries.csv\")"
      ],
      "execution_count": 4,
      "outputs": []
    },
    {
      "cell_type": "markdown",
      "metadata": {
        "id": "B1d2HJG0gt4P",
        "colab_type": "text"
      },
      "source": [
        "Look at the first 5 lines (this includes the header)\n"
      ]
    },
    {
      "cell_type": "code",
      "metadata": {
        "id": "PAuO2kzLe5QU",
        "colab_type": "code",
        "colab": {
          "base_uri": "https://localhost:8080/",
          "height": 200
        },
        "outputId": "15937612-4e36-4fc4-aa21-c5578961bd29"
      },
      "source": [
        "df.head()"
      ],
      "execution_count": 5,
      "outputs": [
        {
          "output_type": "execute_result",
          "data": {
            "text/html": [
              "<div>\n",
              "<style scoped>\n",
              "    .dataframe tbody tr th:only-of-type {\n",
              "        vertical-align: middle;\n",
              "    }\n",
              "\n",
              "    .dataframe tbody tr th {\n",
              "        vertical-align: top;\n",
              "    }\n",
              "\n",
              "    .dataframe thead th {\n",
              "        text-align: right;\n",
              "    }\n",
              "</style>\n",
              "<table border=\"1\" class=\"dataframe\">\n",
              "  <thead>\n",
              "    <tr style=\"text-align: right;\">\n",
              "      <th></th>\n",
              "      <th>Query</th>\n",
              "      <th>Clicks</th>\n",
              "      <th>Impressions</th>\n",
              "      <th>CTR</th>\n",
              "      <th>Position</th>\n",
              "    </tr>\n",
              "  </thead>\n",
              "  <tbody>\n",
              "    <tr>\n",
              "      <th>0</th>\n",
              "      <td>mercedes birmingham</td>\n",
              "      <td>5461</td>\n",
              "      <td>10840</td>\n",
              "      <td>50.38%</td>\n",
              "      <td>3.85</td>\n",
              "    </tr>\n",
              "    <tr>\n",
              "      <th>1</th>\n",
              "      <td>mercedes of birmingham</td>\n",
              "      <td>2013</td>\n",
              "      <td>3423</td>\n",
              "      <td>58.81%</td>\n",
              "      <td>1.50</td>\n",
              "    </tr>\n",
              "    <tr>\n",
              "      <th>2</th>\n",
              "      <td>mercedes benz birmingham</td>\n",
              "      <td>1889</td>\n",
              "      <td>4113</td>\n",
              "      <td>45.93%</td>\n",
              "      <td>2.99</td>\n",
              "    </tr>\n",
              "    <tr>\n",
              "      <th>3</th>\n",
              "      <td>mercedes benz of birmingham</td>\n",
              "      <td>1704</td>\n",
              "      <td>2966</td>\n",
              "      <td>57.45%</td>\n",
              "      <td>1.50</td>\n",
              "    </tr>\n",
              "    <tr>\n",
              "      <th>4</th>\n",
              "      <td>birmingham mercedes</td>\n",
              "      <td>979</td>\n",
              "      <td>1434</td>\n",
              "      <td>68.27%</td>\n",
              "      <td>1.79</td>\n",
              "    </tr>\n",
              "  </tbody>\n",
              "</table>\n",
              "</div>"
            ],
            "text/plain": [
              "                         Query  Clicks  Impressions     CTR  Position\n",
              "0          mercedes birmingham    5461        10840  50.38%      3.85\n",
              "1       mercedes of birmingham    2013         3423  58.81%      1.50\n",
              "2     mercedes benz birmingham    1889         4113  45.93%      2.99\n",
              "3  mercedes benz of birmingham    1704         2966  57.45%      1.50\n",
              "4          birmingham mercedes     979         1434  68.27%      1.79"
            ]
          },
          "metadata": {
            "tags": []
          },
          "execution_count": 5
        }
      ]
    },
    {
      "cell_type": "markdown",
      "metadata": {
        "id": "EUNZpQBtXdN8",
        "colab_type": "text"
      },
      "source": [
        "Look at the last 5 lines (this also includes the header)"
      ]
    },
    {
      "cell_type": "code",
      "metadata": {
        "id": "sum4dPoukwW4",
        "colab_type": "code",
        "colab": {
          "base_uri": "https://localhost:8080/",
          "height": 200
        },
        "outputId": "72299446-b5dd-4c8e-c6c5-6ae2c3bd82bd"
      },
      "source": [
        "df.tail()"
      ],
      "execution_count": 6,
      "outputs": [
        {
          "output_type": "execute_result",
          "data": {
            "text/html": [
              "<div>\n",
              "<style scoped>\n",
              "    .dataframe tbody tr th:only-of-type {\n",
              "        vertical-align: middle;\n",
              "    }\n",
              "\n",
              "    .dataframe tbody tr th {\n",
              "        vertical-align: top;\n",
              "    }\n",
              "\n",
              "    .dataframe thead th {\n",
              "        text-align: right;\n",
              "    }\n",
              "</style>\n",
              "<table border=\"1\" class=\"dataframe\">\n",
              "  <thead>\n",
              "    <tr style=\"text-align: right;\">\n",
              "      <th></th>\n",
              "      <th>Query</th>\n",
              "      <th>Clicks</th>\n",
              "      <th>Impressions</th>\n",
              "      <th>CTR</th>\n",
              "      <th>Position</th>\n",
              "    </tr>\n",
              "  </thead>\n",
              "  <tbody>\n",
              "    <tr>\n",
              "      <th>995</th>\n",
              "      <td>jeep grand cherokee sterling edition</td>\n",
              "      <td>0</td>\n",
              "      <td>172</td>\n",
              "      <td>0%</td>\n",
              "      <td>34.56</td>\n",
              "    </tr>\n",
              "    <tr>\n",
              "      <th>996</th>\n",
              "      <td>lease pre owned mercedes</td>\n",
              "      <td>0</td>\n",
              "      <td>172</td>\n",
              "      <td>0%</td>\n",
              "      <td>49.16</td>\n",
              "    </tr>\n",
              "    <tr>\n",
              "      <th>997</th>\n",
              "      <td>new mercedes-benz amg s-class birmingham</td>\n",
              "      <td>0</td>\n",
              "      <td>171</td>\n",
              "      <td>0%</td>\n",
              "      <td>15.15</td>\n",
              "    </tr>\n",
              "    <tr>\n",
              "      <th>998</th>\n",
              "      <td>certified pre owned mercedes suv</td>\n",
              "      <td>0</td>\n",
              "      <td>171</td>\n",
              "      <td>0%</td>\n",
              "      <td>23.03</td>\n",
              "    </tr>\n",
              "    <tr>\n",
              "      <th>999</th>\n",
              "      <td>new mercedes-benz amg e-class birmingham</td>\n",
              "      <td>0</td>\n",
              "      <td>171</td>\n",
              "      <td>0%</td>\n",
              "      <td>23.13</td>\n",
              "    </tr>\n",
              "  </tbody>\n",
              "</table>\n",
              "</div>"
            ],
            "text/plain": [
              "                                        Query  Clicks  ...  CTR Position\n",
              "995      jeep grand cherokee sterling edition       0  ...   0%    34.56\n",
              "996                  lease pre owned mercedes       0  ...   0%    49.16\n",
              "997  new mercedes-benz amg s-class birmingham       0  ...   0%    15.15\n",
              "998          certified pre owned mercedes suv       0  ...   0%    23.03\n",
              "999  new mercedes-benz amg e-class birmingham       0  ...   0%    23.13\n",
              "\n",
              "[5 rows x 5 columns]"
            ]
          },
          "metadata": {
            "tags": []
          },
          "execution_count": 6
        }
      ]
    },
    {
      "cell_type": "markdown",
      "metadata": {
        "id": "z9GaE8SJi89u",
        "colab_type": "text"
      },
      "source": [
        "## Find all Queries with 'X' keyword\n",
        "This example shows all keywords with \"seo\""
      ]
    },
    {
      "cell_type": "code",
      "metadata": {
        "id": "LbuhQAbvhk_P",
        "colab_type": "code",
        "colab": {
          "base_uri": "https://localhost:8080/",
          "height": 411
        },
        "outputId": "a0ce7310-b0fb-43c3-f79e-5615d9062d89"
      },
      "source": [
        "df_filtered = df[(df['Query'].str.contains(\"mercedes\", regex=True)==True)]\n",
        "df_filtered.head(100)"
      ],
      "execution_count": 10,
      "outputs": [
        {
          "output_type": "execute_result",
          "data": {
            "text/html": [
              "<div>\n",
              "<style scoped>\n",
              "    .dataframe tbody tr th:only-of-type {\n",
              "        vertical-align: middle;\n",
              "    }\n",
              "\n",
              "    .dataframe tbody tr th {\n",
              "        vertical-align: top;\n",
              "    }\n",
              "\n",
              "    .dataframe thead th {\n",
              "        text-align: right;\n",
              "    }\n",
              "</style>\n",
              "<table border=\"1\" class=\"dataframe\">\n",
              "  <thead>\n",
              "    <tr style=\"text-align: right;\">\n",
              "      <th></th>\n",
              "      <th>Query</th>\n",
              "      <th>Clicks</th>\n",
              "      <th>Impressions</th>\n",
              "      <th>CTR</th>\n",
              "      <th>Position</th>\n",
              "    </tr>\n",
              "  </thead>\n",
              "  <tbody>\n",
              "    <tr>\n",
              "      <th>0</th>\n",
              "      <td>mercedes birmingham</td>\n",
              "      <td>5461</td>\n",
              "      <td>10840</td>\n",
              "      <td>50.38%</td>\n",
              "      <td>3.85</td>\n",
              "    </tr>\n",
              "    <tr>\n",
              "      <th>1</th>\n",
              "      <td>mercedes of birmingham</td>\n",
              "      <td>2013</td>\n",
              "      <td>3423</td>\n",
              "      <td>58.81%</td>\n",
              "      <td>1.50</td>\n",
              "    </tr>\n",
              "    <tr>\n",
              "      <th>2</th>\n",
              "      <td>mercedes benz birmingham</td>\n",
              "      <td>1889</td>\n",
              "      <td>4113</td>\n",
              "      <td>45.93%</td>\n",
              "      <td>2.99</td>\n",
              "    </tr>\n",
              "    <tr>\n",
              "      <th>3</th>\n",
              "      <td>mercedes benz of birmingham</td>\n",
              "      <td>1704</td>\n",
              "      <td>2966</td>\n",
              "      <td>57.45%</td>\n",
              "      <td>1.50</td>\n",
              "    </tr>\n",
              "    <tr>\n",
              "      <th>4</th>\n",
              "      <td>birmingham mercedes</td>\n",
              "      <td>979</td>\n",
              "      <td>1434</td>\n",
              "      <td>68.27%</td>\n",
              "      <td>1.79</td>\n",
              "    </tr>\n",
              "    <tr>\n",
              "      <th>...</th>\n",
              "      <td>...</td>\n",
              "      <td>...</td>\n",
              "      <td>...</td>\n",
              "      <td>...</td>\n",
              "      <td>...</td>\n",
              "    </tr>\n",
              "    <tr>\n",
              "      <th>106</th>\n",
              "      <td>first amg mercedes</td>\n",
              "      <td>13</td>\n",
              "      <td>265</td>\n",
              "      <td>4.91%</td>\n",
              "      <td>4.76</td>\n",
              "    </tr>\n",
              "    <tr>\n",
              "      <th>108</th>\n",
              "      <td>mercedes benz in birmingham</td>\n",
              "      <td>13</td>\n",
              "      <td>45</td>\n",
              "      <td>28.89%</td>\n",
              "      <td>2.16</td>\n",
              "    </tr>\n",
              "    <tr>\n",
              "      <th>109</th>\n",
              "      <td>mercedes benz of birmingham irondale</td>\n",
              "      <td>13</td>\n",
              "      <td>25</td>\n",
              "      <td>52%</td>\n",
              "      <td>3.88</td>\n",
              "    </tr>\n",
              "    <tr>\n",
              "      <th>110</th>\n",
              "      <td>mercedes service</td>\n",
              "      <td>12</td>\n",
              "      <td>1592</td>\n",
              "      <td>0.75%</td>\n",
              "      <td>64.30</td>\n",
              "    </tr>\n",
              "    <tr>\n",
              "      <th>111</th>\n",
              "      <td>used mercedes</td>\n",
              "      <td>12</td>\n",
              "      <td>582</td>\n",
              "      <td>2.06%</td>\n",
              "      <td>17.60</td>\n",
              "    </tr>\n",
              "  </tbody>\n",
              "</table>\n",
              "<p>100 rows × 5 columns</p>\n",
              "</div>"
            ],
            "text/plain": [
              "                                    Query  Clicks  ...     CTR Position\n",
              "0                     mercedes birmingham    5461  ...  50.38%     3.85\n",
              "1                  mercedes of birmingham    2013  ...  58.81%     1.50\n",
              "2                mercedes benz birmingham    1889  ...  45.93%     2.99\n",
              "3             mercedes benz of birmingham    1704  ...  57.45%     1.50\n",
              "4                     birmingham mercedes     979  ...  68.27%     1.79\n",
              "..                                    ...     ...  ...     ...      ...\n",
              "106                    first amg mercedes      13  ...   4.91%     4.76\n",
              "108           mercedes benz in birmingham      13  ...  28.89%     2.16\n",
              "109  mercedes benz of birmingham irondale      13  ...     52%     3.88\n",
              "110                      mercedes service      12  ...   0.75%    64.30\n",
              "111                         used mercedes      12  ...   2.06%    17.60\n",
              "\n",
              "[100 rows x 5 columns]"
            ]
          },
          "metadata": {
            "tags": []
          },
          "execution_count": 10
        }
      ]
    },
    {
      "cell_type": "markdown",
      "metadata": {
        "id": "9M-wgv-vwKqM",
        "colab_type": "text"
      },
      "source": [
        "#Load Filter-able Data Table"
      ]
    },
    {
      "cell_type": "code",
      "metadata": {
        "id": "VU9uY-GtthWo",
        "colab_type": "code",
        "colab": {
          "base_uri": "https://localhost:8080/",
          "height": 122
        },
        "outputId": "7b3f1e25-c59b-400e-d5f9-98f03439b5e0"
      },
      "source": [
        "from google.colab import drive\n",
        "drive.mount('/content/drive')"
      ],
      "execution_count": 11,
      "outputs": [
        {
          "output_type": "stream",
          "text": [
            "Go to this URL in a browser: https://accounts.google.com/o/oauth2/auth?client_id=947318989803-6bn6qk8qdgf4n4g3pfee6491hc0brc4i.apps.googleusercontent.com&redirect_uri=urn%3aietf%3awg%3aoauth%3a2.0%3aoob&response_type=code&scope=email%20https%3a%2f%2fwww.googleapis.com%2fauth%2fdocs.test%20https%3a%2f%2fwww.googleapis.com%2fauth%2fdrive%20https%3a%2f%2fwww.googleapis.com%2fauth%2fdrive.photos.readonly%20https%3a%2f%2fwww.googleapis.com%2fauth%2fpeopleapi.readonly\n",
            "\n",
            "Enter your authorization code:\n",
            "··········\n",
            "Mounted at /content/drive\n"
          ],
          "name": "stdout"
        }
      ]
    },
    {
      "cell_type": "code",
      "metadata": {
        "id": "VnQX_Xs5o7uX",
        "colab_type": "code",
        "colab": {
          "base_uri": "https://localhost:8080/",
          "height": 625
        },
        "outputId": "caf063f0-5eb8-4f44-da78-22d3186d5cf7"
      },
      "source": [
        "%load_ext google.colab.data_table\n",
        "\n",
        "df"
      ],
      "execution_count": 12,
      "outputs": [
        {
          "output_type": "execute_result",
          "data": {
            "application/vnd.google.colaboratory.module+javascript": "\n      import \"https://ssl.gstatic.com/colaboratory/data_table/a6224c040fa35dcf/data_table.js\";\n\n      window.createDataTable({\n        data: [[{\n            'v': 0,\n            'f': \"0\",\n        },\n\"mercedes birmingham\",\n{\n            'v': 5461,\n            'f': \"5461\",\n        },\n{\n            'v': 10840,\n            'f': \"10840\",\n        },\n\"50.38%\",\n{\n            'v': 3.85,\n            'f': \"3.85\",\n        }],\n [{\n            'v': 1,\n            'f': \"1\",\n        },\n\"mercedes of birmingham\",\n{\n            'v': 2013,\n            'f': \"2013\",\n        },\n{\n            'v': 3423,\n            'f': \"3423\",\n        },\n\"58.81%\",\n{\n            'v': 1.5,\n            'f': \"1.5\",\n        }],\n [{\n            'v': 2,\n            'f': \"2\",\n        },\n\"mercedes benz birmingham\",\n{\n            'v': 1889,\n            'f': \"1889\",\n        },\n{\n            'v': 4113,\n            'f': \"4113\",\n        },\n\"45.93%\",\n{\n            'v': 2.99,\n            'f': \"2.99\",\n        }],\n [{\n            'v': 3,\n            'f': \"3\",\n        },\n\"mercedes benz of birmingham\",\n{\n            'v': 1704,\n            'f': \"1704\",\n        },\n{\n            'v': 2966,\n            'f': \"2966\",\n        },\n\"57.45%\",\n{\n            'v': 1.5,\n            'f': \"1.5\",\n        }],\n [{\n            'v': 4,\n            'f': \"4\",\n        },\n\"birmingham mercedes\",\n{\n            'v': 979,\n            'f': \"979\",\n        },\n{\n            'v': 1434,\n            'f': \"1434\",\n        },\n\"68.27%\",\n{\n            'v': 1.79,\n            'f': \"1.79\",\n        }],\n [{\n            'v': 5,\n            'f': \"5\",\n        },\n\"mercedes birmingham al\",\n{\n            'v': 800,\n            'f': \"800\",\n        },\n{\n            'v': 1386,\n            'f': \"1386\",\n        },\n\"57.72%\",\n{\n            'v': 2.3,\n            'f': \"2.3\",\n        }],\n [{\n            'v': 6,\n            'f': \"6\",\n        },\n\"mercedes benz\",\n{\n            'v': 789,\n            'f': \"789\",\n        },\n{\n            'v': 10012,\n            'f': \"10012\",\n        },\n\"7.88%\",\n{\n            'v': 29.3,\n            'f': \"29.3\",\n        }],\n [{\n            'v': 7,\n            'f': \"7\",\n        },\n\"mercedes\",\n{\n            'v': 650,\n            'f': \"650\",\n        },\n{\n            'v': 10652,\n            'f': \"10652\",\n        },\n\"6.1%\",\n{\n            'v': 24.73,\n            'f': \"24.73\",\n        }],\n [{\n            'v': 8,\n            'f': \"8\",\n        },\n\"mbbhm\",\n{\n            'v': 533,\n            'f': \"533\",\n        },\n{\n            'v': 747,\n            'f': \"747\",\n        },\n\"71.35%\",\n{\n            'v': 2.91,\n            'f': \"2.91\",\n        }],\n [{\n            'v': 9,\n            'f': \"9\",\n        },\n\"mercedes irondale\",\n{\n            'v': 351,\n            'f': \"351\",\n        },\n{\n            'v': 825,\n            'f': \"825\",\n        },\n\"42.55%\",\n{\n            'v': 3.88,\n            'f': \"3.88\",\n        }],\n [{\n            'v': 10,\n            'f': \"10\",\n        },\n\"mercedes-benz of birmingham\",\n{\n            'v': 346,\n            'f': \"346\",\n        },\n{\n            'v': 850,\n            'f': \"850\",\n        },\n\"40.71%\",\n{\n            'v': 1.51,\n            'f': \"1.51\",\n        }],\n [{\n            'v': 11,\n            'f': \"11\",\n        },\n\"mercedes benz birmingham al\",\n{\n            'v': 346,\n            'f': \"346\",\n        },\n{\n            'v': 709,\n            'f': \"709\",\n        },\n\"48.8%\",\n{\n            'v': 2.86,\n            'f': \"2.86\",\n        }],\n [{\n            'v': 12,\n            'f': \"12\",\n        },\n\"mercedes hoover\",\n{\n            'v': 322,\n            'f': \"322\",\n        },\n{\n            'v': 821,\n            'f': \"821\",\n        },\n\"39.22%\",\n{\n            'v': 4.01,\n            'f': \"4.01\",\n        }],\n [{\n            'v': 13,\n            'f': \"13\",\n        },\n\"mercedes benz irondale\",\n{\n            'v': 290,\n            'f': \"290\",\n        },\n{\n            'v': 774,\n            'f': \"774\",\n        },\n\"37.47%\",\n{\n            'v': 3.9,\n            'f': \"3.9\",\n        }],\n [{\n            'v': 14,\n            'f': \"14\",\n        },\n\"mercedes of birmingham al\",\n{\n            'v': 243,\n            'f': \"243\",\n        },\n{\n            'v': 529,\n            'f': \"529\",\n        },\n\"45.94%\",\n{\n            'v': 1.53,\n            'f': \"1.53\",\n        }],\n [{\n            'v': 15,\n            'f': \"15\",\n        },\n\"mercedes benz hoover al\",\n{\n            'v': 229,\n            'f': \"229\",\n        },\n{\n            'v': 544,\n            'f': \"544\",\n        },\n\"42.1%\",\n{\n            'v': 4.23,\n            'f': \"4.23\",\n        }],\n [{\n            'v': 16,\n            'f': \"16\",\n        },\n\"mb of birmingham\",\n{\n            'v': 217,\n            'f': \"217\",\n        },\n{\n            'v': 300,\n            'f': \"300\",\n        },\n\"72.33%\",\n{\n            'v': 1.7,\n            'f': \"1.7\",\n        }],\n [{\n            'v': 17,\n            'f': \"17\",\n        },\n\"mercedes benz of birmingham irondale campus\",\n{\n            'v': 181,\n            'f': \"181\",\n        },\n{\n            'v': 319,\n            'f': \"319\",\n        },\n\"56.74%\",\n{\n            'v': 3.17,\n            'f': \"3.17\",\n        }],\n [{\n            'v': 18,\n            'f': \"18\",\n        },\n\"mercedes of birmingham irondale\",\n{\n            'v': 171,\n            'f': \"171\",\n        },\n{\n            'v': 225,\n            'f': \"225\",\n        },\n\"76%\",\n{\n            'v': 3.22,\n            'f': \"3.22\",\n        }],\n [{\n            'v': 19,\n            'f': \"19\",\n        },\n\"mercedes benz hoover\",\n{\n            'v': 159,\n            'f': \"159\",\n        },\n{\n            'v': 440,\n            'f': \"440\",\n        },\n\"36.14%\",\n{\n            'v': 3.68,\n            'f': \"3.68\",\n        }],\n [{\n            'v': 20,\n            'f': \"20\",\n        },\n\"mbbhm irondale\",\n{\n            'v': 158,\n            'f': \"158\",\n        },\n{\n            'v': 210,\n            'f': \"210\",\n        },\n\"75.24%\",\n{\n            'v': 3.15,\n            'f': \"3.15\",\n        }],\n [{\n            'v': 21,\n            'f': \"21\",\n        },\n\"mb birmingham\",\n{\n            'v': 141,\n            'f': \"141\",\n        },\n{\n            'v': 236,\n            'f': \"236\",\n        },\n\"59.75%\",\n{\n            'v': 2.83,\n            'f': \"2.83\",\n        }],\n [{\n            'v': 22,\n            'f': \"22\",\n        },\n\"mercedes hoover al\",\n{\n            'v': 140,\n            'f': \"140\",\n        },\n{\n            'v': 473,\n            'f': \"473\",\n        },\n\"29.6%\",\n{\n            'v': 3.77,\n            'f': \"3.77\",\n        }],\n [{\n            'v': 23,\n            'f': \"23\",\n        },\n\"mercedes of irondale\",\n{\n            'v': 123,\n            'f': \"123\",\n        },\n{\n            'v': 160,\n            'f': \"160\",\n        },\n\"76.88%\",\n{\n            'v': 3.52,\n            'f': \"3.52\",\n        }],\n [{\n            'v': 24,\n            'f': \"24\",\n        },\n\"mercedes of birmingham hoover\",\n{\n            'v': 122,\n            'f': \"122\",\n        },\n{\n            'v': 189,\n            'f': \"189\",\n        },\n\"64.55%\",\n{\n            'v': 3.12,\n            'f': \"3.12\",\n        }],\n [{\n            'v': 25,\n            'f': \"25\",\n        },\n\"mercedes benz alabama\",\n{\n            'v': 111,\n            'f': \"111\",\n        },\n{\n            'v': 1138,\n            'f': \"1138\",\n        },\n\"9.75%\",\n{\n            'v': 4.32,\n            'f': \"4.32\",\n        }],\n [{\n            'v': 26,\n            'f': \"26\",\n        },\n\"hoover mercedes\",\n{\n            'v': 108,\n            'f': \"108\",\n        },\n{\n            'v': 396,\n            'f': \"396\",\n        },\n\"27.27%\",\n{\n            'v': 5.42,\n            'f': \"5.42\",\n        }],\n [{\n            'v': 27,\n            'f': \"27\",\n        },\n\"mercedes dealership\",\n{\n            'v': 92,\n            'f': \"92\",\n        },\n{\n            'v': 2619,\n            'f': \"2619\",\n        },\n\"3.51%\",\n{\n            'v': 48.31,\n            'f': \"48.31\",\n        }],\n [{\n            'v': 28,\n            'f': \"28\",\n        },\n\"nick saban mercedes\",\n{\n            'v': 85,\n            'f': \"85\",\n        },\n{\n            'v': 437,\n            'f': \"437\",\n        },\n\"19.45%\",\n{\n            'v': 1.01,\n            'f': \"1.01\",\n        }],\n [{\n            'v': 29,\n            'f': \"29\",\n        },\n\"irondale mercedes\",\n{\n            'v': 85,\n            'f': \"85\",\n        },\n{\n            'v': 189,\n            'f': \"189\",\n        },\n\"44.97%\",\n{\n            'v': 3.52,\n            'f': \"3.52\",\n        }],\n [{\n            'v': 30,\n            'f': \"30\",\n        },\n\"mercedes birmingham hoover\",\n{\n            'v': 84,\n            'f': \"84\",\n        },\n{\n            'v': 155,\n            'f': \"155\",\n        },\n\"54.19%\",\n{\n            'v': 3.62,\n            'f': \"3.62\",\n        }],\n [{\n            'v': 31,\n            'f': \"31\",\n        },\n\"mercedes bham\",\n{\n            'v': 84,\n            'f': \"84\",\n        },\n{\n            'v': 152,\n            'f': \"152\",\n        },\n\"55.26%\",\n{\n            'v': 4.38,\n            'f': \"4.38\",\n        }],\n [{\n            'v': 32,\n            'f': \"32\",\n        },\n\"mercedes alabama\",\n{\n            'v': 72,\n            'f': \"72\",\n        },\n{\n            'v': 1148,\n            'f': \"1148\",\n        },\n\"6.27%\",\n{\n            'v': 4.37,\n            'f': \"4.37\",\n        }],\n [{\n            'v': 33,\n            'f': \"33\",\n        },\n\"mercedes-benz birmingham\",\n{\n            'v': 71,\n            'f': \"71\",\n        },\n{\n            'v': 175,\n            'f': \"175\",\n        },\n\"40.57%\",\n{\n            'v': 2.95,\n            'f': \"2.95\",\n        }],\n [{\n            'v': 34,\n            'f': \"34\",\n        },\n\"mercedes-benz of birmingham hoover\",\n{\n            'v': 69,\n            'f': \"69\",\n        },\n{\n            'v': 254,\n            'f': \"254\",\n        },\n\"27.17%\",\n{\n            'v': 1.68,\n            'f': \"1.68\",\n        }],\n [{\n            'v': 35,\n            'f': \"35\",\n        },\n\"mercedes birmingham alabama\",\n{\n            'v': 67,\n            'f': \"67\",\n        },\n{\n            'v': 100,\n            'f': \"100\",\n        },\n\"67%\",\n{\n            'v': 2.97,\n            'f': \"2.97\",\n        }],\n [{\n            'v': 36,\n            'f': \"36\",\n        },\n\"mercedes of hoover\",\n{\n            'v': 67,\n            'f': \"67\",\n        },\n{\n            'v': 96,\n            'f': \"96\",\n        },\n\"69.79%\",\n{\n            'v': 3.67,\n            'f': \"3.67\",\n        }],\n [{\n            'v': 37,\n            'f': \"37\",\n        },\n\"mercedes benz of irondale\",\n{\n            'v': 66,\n            'f': \"66\",\n        },\n{\n            'v': 125,\n            'f': \"125\",\n        },\n\"52.8%\",\n{\n            'v': 3.75,\n            'f': \"3.75\",\n        }],\n [{\n            'v': 38,\n            'f': \"38\",\n        },\n\"birmingham mercedes benz\",\n{\n            'v': 59,\n            'f': \"59\",\n        },\n{\n            'v': 200,\n            'f': \"200\",\n        },\n\"29.5%\",\n{\n            'v': 2.58,\n            'f': \"2.58\",\n        }],\n [{\n            'v': 39,\n            'f': \"39\",\n        },\n\"crown mercedes\",\n{\n            'v': 58,\n            'f': \"58\",\n        },\n{\n            'v': 160,\n            'f': \"160\",\n        },\n\"36.25%\",\n{\n            'v': 8.0,\n            'f': \"8.0\",\n        }],\n [{\n            'v': 40,\n            'f': \"40\",\n        },\n\"mercedes benz birmingham irondale\",\n{\n            'v': 58,\n            'f': \"58\",\n        },\n{\n            'v': 100,\n            'f': \"100\",\n        },\n\"58%\",\n{\n            'v': 3.16,\n            'f': \"3.16\",\n        }],\n [{\n            'v': 41,\n            'f': \"41\",\n        },\n\"hoover mercedes benz\",\n{\n            'v': 57,\n            'f': \"57\",\n        },\n{\n            'v': 105,\n            'f': \"105\",\n        },\n\"54.29%\",\n{\n            'v': 4.16,\n            'f': \"4.16\",\n        }],\n [{\n            'v': 42,\n            'f': \"42\",\n        },\n\"mercedes benz of alabama\",\n{\n            'v': 55,\n            'f': \"55\",\n        },\n{\n            'v': 168,\n            'f': \"168\",\n        },\n\"32.74%\",\n{\n            'v': 2.39,\n            'f': \"2.39\",\n        }],\n [{\n            'v': 43,\n            'f': \"43\",\n        },\n\"mercedes dealership birmingham al\",\n{\n            'v': 55,\n            'f': \"55\",\n        },\n{\n            'v': 153,\n            'f': \"153\",\n        },\n\"35.95%\",\n{\n            'v': 1.48,\n            'f': \"1.48\",\n        }],\n [{\n            'v': 44,\n            'f': \"44\",\n        },\n\"mercedes-benz of birmingham irondale\",\n{\n            'v': 55,\n            'f': \"55\",\n        },\n{\n            'v': 121,\n            'f': \"121\",\n        },\n\"45.45%\",\n{\n            'v': 3.69,\n            'f': \"3.69\",\n        }],\n [{\n            'v': 45,\n            'f': \"45\",\n        },\n\"benz birmingham\",\n{\n            'v': 55,\n            'f': \"55\",\n        },\n{\n            'v': 79,\n            'f': \"79\",\n        },\n\"69.62%\",\n{\n            'v': 1.63,\n            'f': \"1.63\",\n        }],\n [{\n            'v': 46,\n            'f': \"46\",\n        },\n\"mercedes birmingham irondale\",\n{\n            'v': 51,\n            'f': \"51\",\n        },\n{\n            'v': 114,\n            'f': \"114\",\n        },\n\"44.74%\",\n{\n            'v': 4.12,\n            'f': \"4.12\",\n        }],\n [{\n            'v': 47,\n            'f': \"47\",\n        },\n\"mercedes benz of birmingham hoover\",\n{\n            'v': 50,\n            'f': \"50\",\n        },\n{\n            'v': 72,\n            'f': \"72\",\n        },\n\"69.44%\",\n{\n            'v': 3.11,\n            'f': \"3.11\",\n        }],\n [{\n            'v': 48,\n            'f': \"48\",\n        },\n\"mercedes loyalty program\",\n{\n            'v': 49,\n            'f': \"49\",\n        },\n{\n            'v': 301,\n            'f': \"301\",\n        },\n\"16.28%\",\n{\n            'v': 4.3,\n            'f': \"4.3\",\n        }],\n [{\n            'v': 49,\n            'f': \"49\",\n        },\n\"mercedes benz of hoover\",\n{\n            'v': 49,\n            'f': \"49\",\n        },\n{\n            'v': 65,\n            'f': \"65\",\n        },\n\"75.38%\",\n{\n            'v': 3.52,\n            'f': \"3.52\",\n        }],\n [{\n            'v': 50,\n            'f': \"50\",\n        },\n\"mbusa star\",\n{\n            'v': 47,\n            'f': \"47\",\n        },\n{\n            'v': 114,\n            'f': \"114\",\n        },\n\"41.23%\",\n{\n            'v': 2.06,\n            'f': \"2.06\",\n        }],\n [{\n            'v': 51,\n            'f': \"51\",\n        },\n\"birmingham mercedes irondale\",\n{\n            'v': 46,\n            'f': \"46\",\n        },\n{\n            'v': 72,\n            'f': \"72\",\n        },\n\"63.89%\",\n{\n            'v': 3.06,\n            'f': \"3.06\",\n        }],\n [{\n            'v': 52,\n            'f': \"52\",\n        },\n\"mercedes-benz of birmingham - irondale campus irondale, al\",\n{\n            'v': 44,\n            'f': \"44\",\n        },\n{\n            'v': 82,\n            'f': \"82\",\n        },\n\"53.66%\",\n{\n            'v': 1.0,\n            'f': \"1.0\",\n        }],\n [{\n            'v': 53,\n            'f': \"53\",\n        },\n\"mercedes irondale al\",\n{\n            'v': 41,\n            'f': \"41\",\n        },\n{\n            'v': 100,\n            'f': \"100\",\n        },\n\"41%\",\n{\n            'v': 4.11,\n            'f': \"4.11\",\n        }],\n [{\n            'v': 54,\n            'f': \"54\",\n        },\n\"mercedes in birmingham\",\n{\n            'v': 41,\n            'f': \"41\",\n        },\n{\n            'v': 98,\n            'f': \"98\",\n        },\n\"41.84%\",\n{\n            'v': 2.72,\n            'f': \"2.72\",\n        }],\n [{\n            'v': 55,\n            'f': \"55\",\n        },\n\"mercedes dealership near me\",\n{\n            'v': 40,\n            'f': \"40\",\n        },\n{\n            'v': 235,\n            'f': \"235\",\n        },\n\"17.02%\",\n{\n            'v': 28.17,\n            'f': \"28.17\",\n        }],\n [{\n            'v': 56,\n            'f': \"56\",\n        },\n\"mercedes of alabama\",\n{\n            'v': 39,\n            'f': \"39\",\n        },\n{\n            'v': 177,\n            'f': \"177\",\n        },\n\"22.03%\",\n{\n            'v': 2.8,\n            'f': \"2.8\",\n        }],\n [{\n            'v': 57,\n            'f': \"57\",\n        },\n\"mercedes benz birmingham alabama\",\n{\n            'v': 39,\n            'f': \"39\",\n        },\n{\n            'v': 91,\n            'f': \"91\",\n        },\n\"42.86%\",\n{\n            'v': 3.05,\n            'f': \"3.05\",\n        }],\n [{\n            'v': 58,\n            'f': \"58\",\n        },\n\"mercedes-benz birmingham alabama\",\n{\n            'v': 38,\n            'f': \"38\",\n        },\n{\n            'v': 91,\n            'f': \"91\",\n        },\n\"41.76%\",\n{\n            'v': 3.68,\n            'f': \"3.68\",\n        }],\n [{\n            'v': 59,\n            'f': \"59\",\n        },\n\"mercedes of bham\",\n{\n            'v': 38,\n            'f': \"38\",\n        },\n{\n            'v': 64,\n            'f': \"64\",\n        },\n\"59.38%\",\n{\n            'v': 1.66,\n            'f': \"1.66\",\n        }],\n [{\n            'v': 60,\n            'f': \"60\",\n        },\n\"crown mercedes birmingham\",\n{\n            'v': 36,\n            'f': \"36\",\n        },\n{\n            'v': 102,\n            'f': \"102\",\n        },\n\"35.29%\",\n{\n            'v': 2.78,\n            'f': \"2.78\",\n        }],\n [{\n            'v': 61,\n            'f': \"61\",\n        },\n\"birmingham mercedes used cars\",\n{\n            'v': 36,\n            'f': \"36\",\n        },\n{\n            'v': 88,\n            'f': \"88\",\n        },\n\"40.91%\",\n{\n            'v': 2.74,\n            'f': \"2.74\",\n        }],\n [{\n            'v': 62,\n            'f': \"62\",\n        },\n\"bham mercedes\",\n{\n            'v': 35,\n            'f': \"35\",\n        },\n{\n            'v': 58,\n            'f': \"58\",\n        },\n\"60.34%\",\n{\n            'v': 3.59,\n            'f': \"3.59\",\n        }],\n [{\n            'v': 63,\n            'f': \"63\",\n        },\n\"mercedes benz hoover alabama\",\n{\n            'v': 35,\n            'f': \"35\",\n        },\n{\n            'v': 54,\n            'f': \"54\",\n        },\n\"64.81%\",\n{\n            'v': 3.89,\n            'f': \"3.89\",\n        }],\n [{\n            'v': 64,\n            'f': \"64\",\n        },\n\"mercedes benz dealership\",\n{\n            'v': 34,\n            'f': \"34\",\n        },\n{\n            'v': 943,\n            'f': \"943\",\n        },\n\"3.61%\",\n{\n            'v': 55.11,\n            'f': \"55.11\",\n        }],\n [{\n            'v': 65,\n            'f': \"65\",\n        },\n\"mercedes-benz of birmingham hoover, al\",\n{\n            'v': 34,\n            'f': \"34\",\n        },\n{\n            'v': 74,\n            'f': \"74\",\n        },\n\"45.95%\",\n{\n            'v': 1.05,\n            'f': \"1.05\",\n        }],\n [{\n            'v': 66,\n            'f': \"66\",\n        },\n\"nick saban mercedes dealership\",\n{\n            'v': 33,\n            'f': \"33\",\n        },\n{\n            'v': 344,\n            'f': \"344\",\n        },\n\"9.59%\",\n{\n            'v': 1.55,\n            'f': \"1.55\",\n        }],\n [{\n            'v': 67,\n            'f': \"67\",\n        },\n\"used mercedes birmingham al\",\n{\n            'v': 32,\n            'f': \"32\",\n        },\n{\n            'v': 140,\n            'f': \"140\",\n        },\n\"22.86%\",\n{\n            'v': 1.04,\n            'f': \"1.04\",\n        }],\n [{\n            'v': 68,\n            'f': \"68\",\n        },\n\"nicholas saban iii\",\n{\n            'v': 31,\n            'f': \"31\",\n        },\n{\n            'v': 92,\n            'f': \"92\",\n        },\n\"33.7%\",\n{\n            'v': 1.27,\n            'f': \"1.27\",\n        }],\n [{\n            'v': 69,\n            'f': \"69\",\n        },\n\"mercedes-benz\",\n{\n            'v': 30,\n            'f': \"30\",\n        },\n{\n            'v': 2205,\n            'f': \"2205\",\n        },\n\"1.36%\",\n{\n            'v': 52.67,\n            'f': \"52.67\",\n        }],\n [{\n            'v': 70,\n            'f': \"70\",\n        },\n\"first amg car\",\n{\n            'v': 29,\n            'f': \"29\",\n        },\n{\n            'v': 526,\n            'f': \"526\",\n        },\n\"5.51%\",\n{\n            'v': 2.99,\n            'f': \"2.99\",\n        }],\n [{\n            'v': 71,\n            'f': \"71\",\n        },\n\"saban mercedes\",\n{\n            'v': 29,\n            'f': \"29\",\n        },\n{\n            'v': 77,\n            'f': \"77\",\n        },\n\"37.66%\",\n{\n            'v': 1.14,\n            'f': \"1.14\",\n        }],\n [{\n            'v': 72,\n            'f': \"72\",\n        },\n\"mercedes benz of birmingham al\",\n{\n            'v': 29,\n            'f': \"29\",\n        },\n{\n            'v': 53,\n            'f': \"53\",\n        },\n\"54.72%\",\n{\n            'v': 1.25,\n            'f': \"1.25\",\n        }],\n [{\n            'v': 73,\n            'f': \"73\",\n        },\n\"mercedes of birmingham alabama\",\n{\n            'v': 29,\n            'f': \"29\",\n        },\n{\n            'v': 53,\n            'f': \"53\",\n        },\n\"54.72%\",\n{\n            'v': 1.36,\n            'f': \"1.36\",\n        }],\n [{\n            'v': 74,\n            'f': \"74\",\n        },\n\"mercedes hoover alabama\",\n{\n            'v': 27,\n            'f': \"27\",\n        },\n{\n            'v': 54,\n            'f': \"54\",\n        },\n\"50%\",\n{\n            'v': 4.56,\n            'f': \"4.56\",\n        }],\n [{\n            'v': 75,\n            'f': \"75\",\n        },\n\"mercedes benz irondale alabama\",\n{\n            'v': 26,\n            'f': \"26\",\n        },\n{\n            'v': 51,\n            'f': \"51\",\n        },\n\"50.98%\",\n{\n            'v': 4.37,\n            'f': \"4.37\",\n        }],\n [{\n            'v': 76,\n            'f': \"76\",\n        },\n\"mercedes irondale alabama\",\n{\n            'v': 26,\n            'f': \"26\",\n        },\n{\n            'v': 46,\n            'f': \"46\",\n        },\n\"56.52%\",\n{\n            'v': 3.52,\n            'f': \"3.52\",\n        }],\n [{\n            'v': 77,\n            'f': \"77\",\n        },\n\"mercedes benz in birmingham al\",\n{\n            'v': 25,\n            'f': \"25\",\n        },\n{\n            'v': 56,\n            'f': \"56\",\n        },\n\"44.64%\",\n{\n            'v': 1.55,\n            'f': \"1.55\",\n        }],\n [{\n            'v': 78,\n            'f': \"78\",\n        },\n\"mercedes benz of birmingham alabama\",\n{\n            'v': 25,\n            'f': \"25\",\n        },\n{\n            'v': 48,\n            'f': \"48\",\n        },\n\"52.08%\",\n{\n            'v': 1.27,\n            'f': \"1.27\",\n        }],\n [{\n            'v': 79,\n            'f': \"79\",\n        },\n\"birmingham mercedes hoover\",\n{\n            'v': 25,\n            'f': \"25\",\n        },\n{\n            'v': 39,\n            'f': \"39\",\n        },\n\"64.1%\",\n{\n            'v': 4.05,\n            'f': \"4.05\",\n        }],\n [{\n            'v': 80,\n            'f': \"80\",\n        },\n\"birmingham benz\",\n{\n            'v': 24,\n            'f': \"24\",\n        },\n{\n            'v': 459,\n            'f': \"459\",\n        },\n\"5.23%\",\n{\n            'v': 4.15,\n            'f': \"4.15\",\n        }],\n [{\n            'v': 81,\n            'f': \"81\",\n        },\n\"mercedes benz near me\",\n{\n            'v': 24,\n            'f': \"24\",\n        },\n{\n            'v': 311,\n            'f': \"311\",\n        },\n\"7.72%\",\n{\n            'v': 39.75,\n            'f': \"39.75\",\n        }],\n [{\n            'v': 82,\n            'f': \"82\",\n        },\n\"mercedes in birmingham al\",\n{\n            'v': 24,\n            'f': \"24\",\n        },\n{\n            'v': 65,\n            'f': \"65\",\n        },\n\"36.92%\",\n{\n            'v': 1.42,\n            'f': \"1.42\",\n        }],\n [{\n            'v': 83,\n            'f': \"83\",\n        },\n\"mercedes near me\",\n{\n            'v': 23,\n            'f': \"23\",\n        },\n{\n            'v': 211,\n            'f': \"211\",\n        },\n\"10.9%\",\n{\n            'v': 41.59,\n            'f': \"41.59\",\n        }],\n [{\n            'v': 84,\n            'f': \"84\",\n        },\n\"mercedes benz in alabama\",\n{\n            'v': 23,\n            'f': \"23\",\n        },\n{\n            'v': 184,\n            'f': \"184\",\n        },\n\"12.5%\",\n{\n            'v': 4.02,\n            'f': \"4.02\",\n        }],\n [{\n            'v': 85,\n            'f': \"85\",\n        },\n\"crown mercedes birmingham al\",\n{\n            'v': 23,\n            'f': \"23\",\n        },\n{\n            'v': 56,\n            'f': \"56\",\n        },\n\"41.07%\",\n{\n            'v': 2.3,\n            'f': \"2.3\",\n        }],\n [{\n            'v': 86,\n            'f': \"86\",\n        },\n\"mercedes dealer near me\",\n{\n            'v': 21,\n            'f': \"21\",\n        },\n{\n            'v': 270,\n            'f': \"270\",\n        },\n\"7.78%\",\n{\n            'v': 50.03,\n            'f': \"50.03\",\n        }],\n [{\n            'v': 87,\n            'f': \"87\",\n        },\n\"mercedes benz loyalty program 2020\",\n{\n            'v': 21,\n            'f': \"21\",\n        },\n{\n            'v': 115,\n            'f': \"115\",\n        },\n\"18.26%\",\n{\n            'v': 2.99,\n            'f': \"2.99\",\n        }],\n [{\n            'v': 88,\n            'f': \"88\",\n        },\n\"mercedes bhm\",\n{\n            'v': 21,\n            'f': \"21\",\n        },\n{\n            'v': 35,\n            'f': \"35\",\n        },\n\"60%\",\n{\n            'v': 1.91,\n            'f': \"1.91\",\n        }],\n [{\n            'v': 89,\n            'f': \"89\",\n        },\n\"mercedes birmingham plant\",\n{\n            'v': 20,\n            'f': \"20\",\n        },\n{\n            'v': 107,\n            'f': \"107\",\n        },\n\"18.69%\",\n{\n            'v': 5.79,\n            'f': \"5.79\",\n        }],\n [{\n            'v': 90,\n            'f': \"90\",\n        },\n\"mercedes grants mill road\",\n{\n            'v': 20,\n            'f': \"20\",\n        },\n{\n            'v': 55,\n            'f': \"55\",\n        },\n\"36.36%\",\n{\n            'v': 4.56,\n            'f': \"4.56\",\n        }],\n [{\n            'v': 91,\n            'f': \"91\",\n        },\n\"mbbham\",\n{\n            'v': 20,\n            'f': \"20\",\n        },\n{\n            'v': 23,\n            'f': \"23\",\n        },\n\"86.96%\",\n{\n            'v': 2.91,\n            'f': \"2.91\",\n        }],\n [{\n            'v': 92,\n            'f': \"92\",\n        },\n\"birmingham mercedes dealership\",\n{\n            'v': 19,\n            'f': \"19\",\n        },\n{\n            'v': 42,\n            'f': \"42\",\n        },\n\"45.24%\",\n{\n            'v': 2.05,\n            'f': \"2.05\",\n        }],\n [{\n            'v': 93,\n            'f': \"93\",\n        },\n\"birmingham mercedes dealer\",\n{\n            'v': 18,\n            'f': \"18\",\n        },\n{\n            'v': 60,\n            'f': \"60\",\n        },\n\"30%\",\n{\n            'v': 2.93,\n            'f': \"2.93\",\n        }],\n [{\n            'v': 94,\n            'f': \"94\",\n        },\n\"mb birmingham al\",\n{\n            'v': 18,\n            'f': \"18\",\n        },\n{\n            'v': 23,\n            'f': \"23\",\n        },\n\"78.26%\",\n{\n            'v': 2.48,\n            'f': \"2.48\",\n        }],\n [{\n            'v': 95,\n            'f': \"95\",\n        },\n\"mercedes benz american express\",\n{\n            'v': 17,\n            'f': \"17\",\n        },\n{\n            'v': 96,\n            'f': \"96\",\n        },\n\"17.71%\",\n{\n            'v': 3.93,\n            'f': \"3.93\",\n        }],\n [{\n            'v': 96,\n            'f': \"96\",\n        },\n\"mercedes benz bham\",\n{\n            'v': 17,\n            'f': \"17\",\n        },\n{\n            'v': 43,\n            'f': \"43\",\n        },\n\"39.53%\",\n{\n            'v': 4.23,\n            'f': \"4.23\",\n        }],\n [{\n            'v': 97,\n            'f': \"97\",\n        },\n\"mercedes of hoover al\",\n{\n            'v': 17,\n            'f': \"17\",\n        },\n{\n            'v': 32,\n            'f': \"32\",\n        },\n\"53.12%\",\n{\n            'v': 4.38,\n            'f': \"4.38\",\n        }],\n [{\n            'v': 98,\n            'f': \"98\",\n        },\n\"mercedes dealers near me\",\n{\n            'v': 16,\n            'f': \"16\",\n        },\n{\n            'v': 82,\n            'f': \"82\",\n        },\n\"19.51%\",\n{\n            'v': 46.7,\n            'f': \"46.7\",\n        }],\n [{\n            'v': 99,\n            'f': \"99\",\n        },\n\"mercedes dealerships in alabama\",\n{\n            'v': 15,\n            'f': \"15\",\n        },\n{\n            'v': 400,\n            'f': \"400\",\n        },\n\"3.75%\",\n{\n            'v': 1.54,\n            'f': \"1.54\",\n        }],\n [{\n            'v': 100,\n            'f': \"100\",\n        },\n\"mercedes birmingham jobs\",\n{\n            'v': 15,\n            'f': \"15\",\n        },\n{\n            'v': 149,\n            'f': \"149\",\n        },\n\"10.07%\",\n{\n            'v': 2.67,\n            'f': \"2.67\",\n        }],\n [{\n            'v': 101,\n            'f': \"101\",\n        },\n\"mercedes in alabama\",\n{\n            'v': 15,\n            'f': \"15\",\n        },\n{\n            'v': 124,\n            'f': \"124\",\n        },\n\"12.1%\",\n{\n            'v': 4.86,\n            'f': \"4.86\",\n        }],\n [{\n            'v': 102,\n            'f': \"102\",\n        },\n\"mercedes loyalty accelerator program 2020\",\n{\n            'v': 15,\n            'f': \"15\",\n        },\n{\n            'v': 82,\n            'f': \"82\",\n        },\n\"18.29%\",\n{\n            'v': 3.02,\n            'f': \"3.02\",\n        }],\n [{\n            'v': 103,\n            'f': \"103\",\n        },\n\"tom williams mercedes\",\n{\n            'v': 15,\n            'f': \"15\",\n        },\n{\n            'v': 30,\n            'f': \"30\",\n        },\n\"50%\",\n{\n            'v': 5.27,\n            'f': \"5.27\",\n        }],\n [{\n            'v': 104,\n            'f': \"104\",\n        },\n\"mercedes dealership birmingham\",\n{\n            'v': 14,\n            'f': \"14\",\n        },\n{\n            'v': 183,\n            'f': \"183\",\n        },\n\"7.65%\",\n{\n            'v': 4.08,\n            'f': \"4.08\",\n        }],\n [{\n            'v': 105,\n            'f': \"105\",\n        },\n\"first mercedes amg car\",\n{\n            'v': 14,\n            'f': \"14\",\n        },\n{\n            'v': 97,\n            'f': \"97\",\n        },\n\"14.43%\",\n{\n            'v': 2.82,\n            'f': \"2.82\",\n        }],\n [{\n            'v': 106,\n            'f': \"106\",\n        },\n\"first amg mercedes\",\n{\n            'v': 13,\n            'f': \"13\",\n        },\n{\n            'v': 265,\n            'f': \"265\",\n        },\n\"4.91%\",\n{\n            'v': 4.76,\n            'f': \"4.76\",\n        }],\n [{\n            'v': 107,\n            'f': \"107\",\n        },\n\"mercedez benz\",\n{\n            'v': 13,\n            'f': \"13\",\n        },\n{\n            'v': 144,\n            'f': \"144\",\n        },\n\"9.03%\",\n{\n            'v': 33.81,\n            'f': \"33.81\",\n        }],\n [{\n            'v': 108,\n            'f': \"108\",\n        },\n\"mercedes benz in birmingham\",\n{\n            'v': 13,\n            'f': \"13\",\n        },\n{\n            'v': 45,\n            'f': \"45\",\n        },\n\"28.89%\",\n{\n            'v': 2.16,\n            'f': \"2.16\",\n        }],\n [{\n            'v': 109,\n            'f': \"109\",\n        },\n\"mercedes benz of birmingham irondale\",\n{\n            'v': 13,\n            'f': \"13\",\n        },\n{\n            'v': 25,\n            'f': \"25\",\n        },\n\"52%\",\n{\n            'v': 3.88,\n            'f': \"3.88\",\n        }],\n [{\n            'v': 110,\n            'f': \"110\",\n        },\n\"mercedes service\",\n{\n            'v': 12,\n            'f': \"12\",\n        },\n{\n            'v': 1592,\n            'f': \"1592\",\n        },\n\"0.75%\",\n{\n            'v': 64.3,\n            'f': \"64.3\",\n        }],\n [{\n            'v': 111,\n            'f': \"111\",\n        },\n\"used mercedes\",\n{\n            'v': 12,\n            'f': \"12\",\n        },\n{\n            'v': 582,\n            'f': \"582\",\n        },\n\"2.06%\",\n{\n            'v': 17.6,\n            'f': \"17.6\",\n        }],\n [{\n            'v': 112,\n            'f': \"112\",\n        },\n\"my dad story\",\n{\n            'v': 12,\n            'f': \"12\",\n        },\n{\n            'v': 259,\n            'f': \"259\",\n        },\n\"4.63%\",\n{\n            'v': 5.74,\n            'f': \"5.74\",\n        }],\n [{\n            'v': 113,\n            'f': \"113\",\n        },\n\"mercedes benz rising star program\",\n{\n            'v': 12,\n            'f': \"12\",\n        },\n{\n            'v': 115,\n            'f': \"115\",\n        },\n\"10.43%\",\n{\n            'v': 2.24,\n            'f': \"2.24\",\n        }],\n [{\n            'v': 114,\n            'f': \"114\",\n        },\n\"mercedes-benz irondale\",\n{\n            'v': 12,\n            'f': \"12\",\n        },\n{\n            'v': 48,\n            'f': \"48\",\n        },\n\"25%\",\n{\n            'v': 4.42,\n            'f': \"4.42\",\n        }],\n [{\n            'v': 115,\n            'f': \"115\",\n        },\n\"mercedes birmingham careers\",\n{\n            'v': 12,\n            'f': \"12\",\n        },\n{\n            'v': 45,\n            'f': \"45\",\n        },\n\"26.67%\",\n{\n            'v': 2.27,\n            'f': \"2.27\",\n        }],\n [{\n            'v': 116,\n            'f': \"116\",\n        },\n\"mercedes benz irondale al\",\n{\n            'v': 12,\n            'f': \"12\",\n        },\n{\n            'v': 41,\n            'f': \"41\",\n        },\n\"29.27%\",\n{\n            'v': 4.12,\n            'f': \"4.12\",\n        }],\n [{\n            'v': 117,\n            'f': \"117\",\n        },\n\"birmingham mercedes benz dealership\",\n{\n            'v': 12,\n            'f': \"12\",\n        },\n{\n            'v': 39,\n            'f': \"39\",\n        },\n\"30.77%\",\n{\n            'v': 4.03,\n            'f': \"4.03\",\n        }],\n [{\n            'v': 118,\n            'f': \"118\",\n        },\n\"mercedes birmingham service\",\n{\n            'v': 12,\n            'f': \"12\",\n        },\n{\n            'v': 32,\n            'f': \"32\",\n        },\n\"37.5%\",\n{\n            'v': 6.09,\n            'f': \"6.09\",\n        }],\n [{\n            'v': 119,\n            'f': \"119\",\n        },\n\"mercedes star program\",\n{\n            'v': 11,\n            'f': \"11\",\n        },\n{\n            'v': 110,\n            'f': \"110\",\n        },\n\"10%\",\n{\n            'v': 4.16,\n            'f': \"4.16\",\n        }],\n [{\n            'v': 120,\n            'f': \"120\",\n        },\n\"mercedes rising star program\",\n{\n            'v': 11,\n            'f': \"11\",\n        },\n{\n            'v': 99,\n            'f': \"99\",\n        },\n\"11.11%\",\n{\n            'v': 2.63,\n            'f': \"2.63\",\n        }],\n [{\n            'v': 121,\n            'f': \"121\",\n        },\n\"alabama mercedes benz\",\n{\n            'v': 11,\n            'f': \"11\",\n        },\n{\n            'v': 84,\n            'f': \"84\",\n        },\n\"13.1%\",\n{\n            'v': 4.89,\n            'f': \"4.89\",\n        }],\n [{\n            'v': 122,\n            'f': \"122\",\n        },\n\"first amg model\",\n{\n            'v': 11,\n            'f': \"11\",\n        },\n{\n            'v': 59,\n            'f': \"59\",\n        },\n\"18.64%\",\n{\n            'v': 1.76,\n            'f': \"1.76\",\n        }],\n [{\n            'v': 123,\n            'f': \"123\",\n        },\n\"mercedes dealership alabama\",\n{\n            'v': 11,\n            'f': \"11\",\n        },\n{\n            'v': 53,\n            'f': \"53\",\n        },\n\"20.75%\",\n{\n            'v': 1.62,\n            'f': \"1.62\",\n        }],\n [{\n            'v': 124,\n            'f': \"124\",\n        },\n\"mercedes benz dealership birmingham al\",\n{\n            'v': 11,\n            'f': \"11\",\n        },\n{\n            'v': 29,\n            'f': \"29\",\n        },\n\"37.93%\",\n{\n            'v': 1.41,\n            'f': \"1.41\",\n        }],\n [{\n            'v': 125,\n            'f': \"125\",\n        },\n\"benz\",\n{\n            'v': 10,\n            'f': \"10\",\n        },\n{\n            'v': 1784,\n            'f': \"1784\",\n        },\n\"0.56%\",\n{\n            'v': 55.86,\n            'f': \"55.86\",\n        }],\n [{\n            'v': 126,\n            'f': \"126\",\n        },\n\"about my dad\",\n{\n            'v': 10,\n            'f': \"10\",\n        },\n{\n            'v': 590,\n            'f': \"590\",\n        },\n\"1.69%\",\n{\n            'v': 7.27,\n            'f': \"7.27\",\n        }],\n [{\n            'v': 127,\n            'f': \"127\",\n        },\n\"first amg\",\n{\n            'v': 10,\n            'f': \"10\",\n        },\n{\n            'v': 527,\n            'f': \"527\",\n        },\n\"1.9%\",\n{\n            'v': 5.04,\n            'f': \"5.04\",\n        }],\n [{\n            'v': 128,\n            'f': \"128\",\n        },\n\"mercedes benz loyalty program\",\n{\n            'v': 10,\n            'f': \"10\",\n        },\n{\n            'v': 124,\n            'f': \"124\",\n        },\n\"8.06%\",\n{\n            'v': 3.81,\n            'f': \"3.81\",\n        }],\n [{\n            'v': 129,\n            'f': \"129\",\n        },\n\"used mercedes-benz birmingham\",\n{\n            'v': 10,\n            'f': \"10\",\n        },\n{\n            'v': 102,\n            'f': \"102\",\n        },\n\"9.8%\",\n{\n            'v': 21.52,\n            'f': \"21.52\",\n        }],\n [{\n            'v': 130,\n            'f': \"130\",\n        },\n\"irondale mercedes dealership\",\n{\n            'v': 10,\n            'f': \"10\",\n        },\n{\n            'v': 25,\n            'f': \"25\",\n        },\n\"40%\",\n{\n            'v': 3.72,\n            'f': \"3.72\",\n        }],\n [{\n            'v': 131,\n            'f': \"131\",\n        },\n\"mercedes loyalty\",\n{\n            'v': 10,\n            'f': \"10\",\n        },\n{\n            'v': 24,\n            'f': \"24\",\n        },\n\"41.67%\",\n{\n            'v': 2.17,\n            'f': \"2.17\",\n        }],\n [{\n            'v': 132,\n            'f': \"132\",\n        },\n\"mercedes benz birmingham used cars\",\n{\n            'v': 10,\n            'f': \"10\",\n        },\n{\n            'v': 21,\n            'f': \"21\",\n        },\n\"47.62%\",\n{\n            'v': 16.38,\n            'f': \"16.38\",\n        }],\n [{\n            'v': 133,\n            'f': \"133\",\n        },\n\"nick saban car dealership\",\n{\n            'v': 9,\n            'f': \"9\",\n        },\n{\n            'v': 306,\n            'f': \"306\",\n        },\n\"2.94%\",\n{\n            'v': 5.29,\n            'f': \"5.29\",\n        }],\n [{\n            'v': 134,\n            'f': \"134\",\n        },\n\"story about my father\",\n{\n            'v': 9,\n            'f': \"9\",\n        },\n{\n            'v': 118,\n            'f': \"118\",\n        },\n\"7.63%\",\n{\n            'v': 4.97,\n            'f': \"4.97\",\n        }],\n [{\n            'v': 135,\n            'f': \"135\",\n        },\n\"mercedes service birmingham al\",\n{\n            'v': 9,\n            'f': \"9\",\n        },\n{\n            'v': 111,\n            'f': \"111\",\n        },\n\"8.11%\",\n{\n            'v': 1.78,\n            'f': \"1.78\",\n        }],\n [{\n            'v': 136,\n            'f': \"136\",\n        },\n\"alabama mercedes\",\n{\n            'v': 9,\n            'f': \"9\",\n        },\n{\n            'v': 94,\n            'f': \"94\",\n        },\n\"9.57%\",\n{\n            'v': 3.24,\n            'f': \"3.24\",\n        }],\n [{\n            'v': 137,\n            'f': \"137\",\n        },\n\"nick saban mercedes van\",\n{\n            'v': 9,\n            'f': \"9\",\n        },\n{\n            'v': 54,\n            'f': \"54\",\n        },\n\"16.67%\",\n{\n            'v': 1.78,\n            'f': \"1.78\",\n        }],\n [{\n            'v': 138,\n            'f': \"138\",\n        },\n\"mercedes benz for sale birmingham\",\n{\n            'v': 9,\n            'f': \"9\",\n        },\n{\n            'v': 51,\n            'f': \"51\",\n        },\n\"17.65%\",\n{\n            'v': 3.22,\n            'f': \"3.22\",\n        }],\n [{\n            'v': 139,\n            'f': \"139\",\n        },\n\"american express mercedes benz\",\n{\n            'v': 9,\n            'f': \"9\",\n        },\n{\n            'v': 48,\n            'f': \"48\",\n        },\n\"18.75%\",\n{\n            'v': 3.98,\n            'f': \"3.98\",\n        }],\n [{\n            'v': 140,\n            'f': \"140\",\n        },\n\"mercedes amg features\",\n{\n            'v': 9,\n            'f': \"9\",\n        },\n{\n            'v': 44,\n            'f': \"44\",\n        },\n\"20.45%\",\n{\n            'v': 4.0,\n            'f': \"4.0\",\n        }],\n [{\n            'v': 141,\n            'f': \"141\",\n        },\n\"mb of birmingham alabama\",\n{\n            'v': 9,\n            'f': \"9\",\n        },\n{\n            'v': 22,\n            'f': \"22\",\n        },\n\"40.91%\",\n{\n            'v': 1.27,\n            'f': \"1.27\",\n        }],\n [{\n            'v': 142,\n            'f': \"142\",\n        },\n\"mercedes benz parts birmingham\",\n{\n            'v': 9,\n            'f': \"9\",\n        },\n{\n            'v': 18,\n            'f': \"18\",\n        },\n\"50%\",\n{\n            'v': 5.22,\n            'f': \"5.22\",\n        }],\n [{\n            'v': 143,\n            'f': \"143\",\n        },\n\"mercedes application\",\n{\n            'v': 8,\n            'f': \"8\",\n        },\n{\n            'v': 144,\n            'f': \"144\",\n        },\n\"5.56%\",\n{\n            'v': 7.48,\n            'f': \"7.48\",\n        }],\n [{\n            'v': 144,\n            'f': \"144\",\n        },\n\"cross carline\",\n{\n            'v': 8,\n            'f': \"8\",\n        },\n{\n            'v': 96,\n            'f': \"96\",\n        },\n\"8.33%\",\n{\n            'v': 1.59,\n            'f': \"1.59\",\n        }],\n [{\n            'v': 145,\n            'f': \"145\",\n        },\n\"mercedes loyalty discount\",\n{\n            'v': 8,\n            'f': \"8\",\n        },\n{\n            'v': 52,\n            'f': \"52\",\n        },\n\"15.38%\",\n{\n            'v': 5.81,\n            'f': \"5.81\",\n        }],\n [{\n            'v': 146,\n            'f': \"146\",\n        },\n\"mercedes hoover service department\",\n{\n            'v': 8,\n            'f': \"8\",\n        },\n{\n            'v': 45,\n            'f': \"45\",\n        },\n\"17.78%\",\n{\n            'v': 3.98,\n            'f': \"3.98\",\n        }],\n [{\n            'v': 147,\n            'f': \"147\",\n        },\n\"mercedes irondale service\",\n{\n            'v': 8,\n            'f': \"8\",\n        },\n{\n            'v': 22,\n            'f': \"22\",\n        },\n\"36.36%\",\n{\n            'v': 3.55,\n            'f': \"3.55\",\n        }],\n [{\n            'v': 148,\n            'f': \"148\",\n        },\n\"mercedes-benz of birmingham hoover al\",\n{\n            'v': 8,\n            'f': \"8\",\n        },\n{\n            'v': 10,\n            'f': \"10\",\n        },\n\"80%\",\n{\n            'v': 4.2,\n            'f': \"4.2\",\n        }],\n [{\n            'v': 149,\n            'f': \"149\",\n        },\n\"mercedes jobs\",\n{\n            'v': 7,\n            'f': \"7\",\n        },\n{\n            'v': 522,\n            'f': \"522\",\n        },\n\"1.34%\",\n{\n            'v': 41.66,\n            'f': \"41.66\",\n        }],\n [{\n            'v': 150,\n            'f': \"150\",\n        },\n\"mercedes dealer birmingham\",\n{\n            'v': 7,\n            'f': \"7\",\n        },\n{\n            'v': 80,\n            'f': \"80\",\n        },\n\"8.75%\",\n{\n            'v': 6.06,\n            'f': \"6.06\",\n        }],\n [{\n            'v': 151,\n            'f': \"151\",\n        },\n\"benz dealership\",\n{\n            'v': 7,\n            'f': \"7\",\n        },\n{\n            'v': 75,\n            'f': \"75\",\n        },\n\"9.33%\",\n{\n            'v': 21.0,\n            'f': \"21.0\",\n        }],\n [{\n            'v': 152,\n            'f': \"152\",\n        },\n\"mercedes-benz loyalty program 2020\",\n{\n            'v': 7,\n            'f': \"7\",\n        },\n{\n            'v': 60,\n            'f': \"60\",\n        },\n\"11.67%\",\n{\n            'v': 3.75,\n            'f': \"3.75\",\n        }],\n [{\n            'v': 153,\n            'f': \"153\",\n        },\n\"cross car line\",\n{\n            'v': 7,\n            'f': \"7\",\n        },\n{\n            'v': 56,\n            'f': \"56\",\n        },\n\"12.5%\",\n{\n            'v': 2.2,\n            'f': \"2.2\",\n        }],\n [{\n            'v': 154,\n            'f': \"154\",\n        },\n\"mercedes benz student discount\",\n{\n            'v': 7,\n            'f': \"7\",\n        },\n{\n            'v': 52,\n            'f': \"52\",\n        },\n\"13.46%\",\n{\n            'v': 3.33,\n            'f': \"3.33\",\n        }],\n [{\n            'v': 155,\n            'f': \"155\",\n        },\n\"mercedes first time buyer program\",\n{\n            'v': 7,\n            'f': \"7\",\n        },\n{\n            'v': 46,\n            'f': \"46\",\n        },\n\"15.22%\",\n{\n            'v': 3.17,\n            'f': \"3.17\",\n        }],\n [{\n            'v': 156,\n            'f': \"156\",\n        },\n\"mercedes-benz inspection checklist\",\n{\n            'v': 7,\n            'f': \"7\",\n        },\n{\n            'v': 26,\n            'f': \"26\",\n        },\n\"26.92%\",\n{\n            'v': 1.81,\n            'f': \"1.81\",\n        }],\n [{\n            'v': 157,\n            'f': \"157\",\n        },\n\"mercedes-benz hoover\",\n{\n            'v': 7,\n            'f': \"7\",\n        },\n{\n            'v': 17,\n            'f': \"17\",\n        },\n\"41.18%\",\n{\n            'v': 4.76,\n            'f': \"4.76\",\n        }],\n [{\n            'v': 158,\n            'f': \"158\",\n        },\n\"mercedes-benz dealership\",\n{\n            'v': 6,\n            'f': \"6\",\n        },\n{\n            'v': 1126,\n            'f': \"1126\",\n        },\n\"0.53%\",\n{\n            'v': 71.6,\n            'f': \"71.6\",\n        }],\n [{\n            'v': 159,\n            'f': \"159\",\n        },\n\"mercedes dealer\",\n{\n            'v': 6,\n            'f': \"6\",\n        },\n{\n            'v': 933,\n            'f': \"933\",\n        },\n\"0.64%\",\n{\n            'v': 41.13,\n            'f': \"41.13\",\n        }],\n [{\n            'v': 160,\n            'f': \"160\",\n        },\n\"pre owned mercedes\",\n{\n            'v': 6,\n            'f': \"6\",\n        },\n{\n            'v': 757,\n            'f': \"757\",\n        },\n\"0.79%\",\n{\n            'v': 31.32,\n            'f': \"31.32\",\n        }],\n [{\n            'v': 161,\n            'f': \"161\",\n        },\n\"certified pre owned mercedes\",\n{\n            'v': 6,\n            'f': \"6\",\n        },\n{\n            'v': 748,\n            'f': \"748\",\n        },\n\"0.8%\",\n{\n            'v': 26.15,\n            'f': \"26.15\",\n        }],\n [{\n            'v': 162,\n            'f': \"162\",\n        },\n\"amg history\",\n{\n            'v': 6,\n            'f': \"6\",\n        },\n{\n            'v': 681,\n            'f': \"681\",\n        },\n\"0.88%\",\n{\n            'v': 3.7,\n            'f': \"3.7\",\n        }],\n [{\n            'v': 163,\n            'f': \"163\",\n        },\n\"mercedes al\",\n{\n            'v': 6,\n            'f': \"6\",\n        },\n{\n            'v': 343,\n            'f': \"343\",\n        },\n\"1.75%\",\n{\n            'v': 5.87,\n            'f': \"5.87\",\n        }],\n [{\n            'v': 164,\n            'f': \"164\",\n        },\n\"mercedes lease\",\n{\n            'v': 6,\n            'f': \"6\",\n        },\n{\n            'v': 337,\n            'f': \"337\",\n        },\n\"1.78%\",\n{\n            'v': 33.32,\n            'f': \"33.32\",\n        }],\n [{\n            'v': 165,\n            'f': \"165\",\n        },\n\"first mercedes amg\",\n{\n            'v': 6,\n            'f': \"6\",\n        },\n{\n            'v': 218,\n            'f': \"218\",\n        },\n\"2.75%\",\n{\n            'v': 7.43,\n            'f': \"7.43\",\n        }],\n [{\n            'v': 166,\n            'f': \"166\",\n        },\n\"mercedes benz dealer near me\",\n{\n            'v': 6,\n            'f': \"6\",\n        },\n{\n            'v': 208,\n            'f': \"208\",\n        },\n\"2.88%\",\n{\n            'v': 63.15,\n            'f': \"63.15\",\n        }],\n [{\n            'v': 167,\n            'f': \"167\",\n        },\n\"mercedes parts near me\",\n{\n            'v': 6,\n            'f': \"6\",\n        },\n{\n            'v': 124,\n            'f': \"124\",\n        },\n\"4.84%\",\n{\n            'v': 25.25,\n            'f': \"25.25\",\n        }],\n [{\n            'v': 168,\n            'f': \"168\",\n        },\n\"mercedes-benz alabama\",\n{\n            'v': 6,\n            'f': \"6\",\n        },\n{\n            'v': 52,\n            'f': \"52\",\n        },\n\"11.54%\",\n{\n            'v': 4.69,\n            'f': \"4.69\",\n        }],\n [{\n            'v': 169,\n            'f': \"169\",\n        },\n\"mercedes birmingham used cars\",\n{\n            'v': 6,\n            'f': \"6\",\n        },\n{\n            'v': 52,\n            'f': \"52\",\n        },\n\"11.54%\",\n{\n            'v': 7.9,\n            'f': \"7.9\",\n        }],\n [{\n            'v': 170,\n            'f': \"170\",\n        },\n\"mercedes cpo checklist\",\n{\n            'v': 6,\n            'f': \"6\",\n        },\n{\n            'v': 50,\n            'f': \"50\",\n        },\n\"12%\",\n{\n            'v': 6.26,\n            'f': \"6.26\",\n        }],\n [{\n            'v': 171,\n            'f': \"171\",\n        },\n\"mercedes lease loyalty program\",\n{\n            'v': 6,\n            'f': \"6\",\n        },\n{\n            'v': 25,\n            'f': \"25\",\n        },\n\"24%\",\n{\n            'v': 4.56,\n            'f': \"4.56\",\n        }],\n [{\n            'v': 172,\n            'f': \"172\",\n        },\n\"mercedes parts\",\n{\n            'v': 5,\n            'f': \"5\",\n        },\n{\n            'v': 1577,\n            'f': \"1577\",\n        },\n\"0.32%\",\n{\n            'v': 67.17,\n            'f': \"67.17\",\n        }],\n [{\n            'v': 173,\n            'f': \"173\",\n        },\n\"mercedes benz parts\",\n{\n            'v': 5,\n            'f': \"5\",\n        },\n{\n            'v': 1294,\n            'f': \"1294\",\n        },\n\"0.39%\",\n{\n            'v': 45.09,\n            'f': \"45.09\",\n        }],\n [{\n            'v': 174,\n            'f': \"174\",\n        },\n\"used mercedes benz\",\n{\n            'v': 5,\n            'f': \"5\",\n        },\n{\n            'v': 435,\n            'f': \"435\",\n        },\n\"1.15%\",\n{\n            'v': 52.81,\n            'f': \"52.81\",\n        }],\n [{\n            'v': 175,\n            'f': \"175\",\n        },\n\"mercedez\",\n{\n            'v': 5,\n            'f': \"5\",\n        },\n{\n            'v': 260,\n            'f': \"260\",\n        },\n\"1.92%\",\n{\n            'v': 34.73,\n            'f': \"34.73\",\n        }],\n [{\n            'v': 176,\n            'f': \"176\",\n        },\n\"mercedes benz dealership near me\",\n{\n            'v': 5,\n            'f': \"5\",\n        },\n{\n            'v': 123,\n            'f': \"123\",\n        },\n\"4.07%\",\n{\n            'v': 50.71,\n            'f': \"50.71\",\n        }],\n [{\n            'v': 177,\n            'f': \"177\",\n        },\n\"mercedes used cars\",\n{\n            'v': 5,\n            'f': \"5\",\n        },\n{\n            'v': 76,\n            'f': \"76\",\n        },\n\"6.58%\",\n{\n            'v': 52.5,\n            'f': \"52.5\",\n        }],\n [{\n            'v': 178,\n            'f': \"178\",\n        },\n\"mercedes benz dealerships in alabama\",\n{\n            'v': 5,\n            'f': \"5\",\n        },\n{\n            'v': 48,\n            'f': \"48\",\n        },\n\"10.42%\",\n{\n            'v': 1.58,\n            'f': \"1.58\",\n        }],\n [{\n            'v': 179,\n            'f': \"179\",\n        },\n\"mercedes service birmingham\",\n{\n            'v': 5,\n            'f': \"5\",\n        },\n{\n            'v': 43,\n            'f': \"43\",\n        },\n\"11.63%\",\n{\n            'v': 11.09,\n            'f': \"11.09\",\n        }],\n [{\n            'v': 180,\n            'f': \"180\",\n        },\n\"g wagon for sale\",\n{\n            'v': 5,\n            'f': \"5\",\n        },\n{\n            'v': 30,\n            'f': \"30\",\n        },\n\"16.67%\",\n{\n            'v': 31.73,\n            'f': \"31.73\",\n        }],\n [{\n            'v': 181,\n            'f': \"181\",\n        },\n\"nick saban mercedes dealerships\",\n{\n            'v': 5,\n            'f': \"5\",\n        },\n{\n            'v': 27,\n            'f': \"27\",\n        },\n\"18.52%\",\n{\n            'v': 2.96,\n            'f': \"2.96\",\n        }],\n [{\n            'v': 182,\n            'f': \"182\",\n        },\n\"mercedes benz birmingham service\",\n{\n            'v': 5,\n            'f': \"5\",\n        },\n{\n            'v': 24,\n            'f': \"24\",\n        },\n\"20.83%\",\n{\n            'v': 4.42,\n            'f': \"4.42\",\n        }],\n [{\n            'v': 183,\n            'f': \"183\",\n        },\n\"i got the belt from my dad\",\n{\n            'v': 5,\n            'f': \"5\",\n        },\n{\n            'v': 24,\n            'f': \"24\",\n        },\n\"20.83%\",\n{\n            'v': 25.83,\n            'f': \"25.83\",\n        }],\n [{\n            'v': 184,\n            'f': \"184\",\n        },\n\"mercedes-benz of birmingham - irondale campus irondale\",\n{\n            'v': 5,\n            'f': \"5\",\n        },\n{\n            'v': 20,\n            'f': \"20\",\n        },\n\"25%\",\n{\n            'v': 1.0,\n            'f': \"1.0\",\n        }],\n [{\n            'v': 185,\n            'f': \"185\",\n        },\n\"mercedes benz birmingham jobs\",\n{\n            'v': 5,\n            'f': \"5\",\n        },\n{\n            'v': 19,\n            'f': \"19\",\n        },\n\"26.32%\",\n{\n            'v': 2.37,\n            'f': \"2.37\",\n        }],\n [{\n            'v': 186,\n            'f': \"186\",\n        },\n\"saban mercedes dealership\",\n{\n            'v': 5,\n            'f': \"5\",\n        },\n{\n            'v': 19,\n            'f': \"19\",\n        },\n\"26.32%\",\n{\n            'v': 3.26,\n            'f': \"3.26\",\n        }],\n [{\n            'v': 187,\n            'f': \"187\",\n        },\n\"mercedes bham al\",\n{\n            'v': 5,\n            'f': \"5\",\n        },\n{\n            'v': 5,\n            'f': \"5\",\n        },\n\"100%\",\n{\n            'v': 4.2,\n            'f': \"4.2\",\n        }],\n [{\n            'v': 188,\n            'f': \"188\",\n        },\n\"mercedes dashboard\",\n{\n            'v': 4,\n            'f': \"4\",\n        },\n{\n            'v': 2054,\n            'f': \"2054\",\n        },\n\"0.19%\",\n{\n            'v': 10.39,\n            'f': \"10.39\",\n        }],\n [{\n            'v': 189,\n            'f': \"189\",\n        },\n\"mercedes benz service\",\n{\n            'v': 4,\n            'f': \"4\",\n        },\n{\n            'v': 1494,\n            'f': \"1494\",\n        },\n\"0.27%\",\n{\n            'v': 47.86,\n            'f': \"47.86\",\n        }],\n [{\n            'v': 190,\n            'f': \"190\",\n        },\n\"lease mercedes benz\",\n{\n            'v': 4,\n            'f': \"4\",\n        },\n{\n            'v': 325,\n            'f': \"325\",\n        },\n\"1.23%\",\n{\n            'v': 71.02,\n            'f': \"71.02\",\n        }],\n [{\n            'v': 191,\n            'f': \"191\",\n        },\n\"mercedes suv for sale\",\n{\n            'v': 4,\n            'f': \"4\",\n        },\n{\n            'v': 256,\n            'f': \"256\",\n        },\n\"1.56%\",\n{\n            'v': 31.79,\n            'f': \"31.79\",\n        }],\n [{\n            'v': 192,\n            'f': \"192\",\n        },\n\"mercades\",\n{\n            'v': 4,\n            'f': \"4\",\n        },\n{\n            'v': 216,\n            'f': \"216\",\n        },\n\"1.85%\",\n{\n            'v': 22.03,\n            'f': \"22.03\",\n        }],\n [{\n            'v': 193,\n            'f': \"193\",\n        },\n\"luxury cars birmingham al\",\n{\n            'v': 4,\n            'f': \"4\",\n        },\n{\n            'v': 170,\n            'f': \"170\",\n        },\n\"2.35%\",\n{\n            'v': 7.78,\n            'f': \"7.78\",\n        }],\n [{\n            'v': 194,\n            'f': \"194\",\n        },\n\"mercedes jobs near me\",\n{\n            'v': 4,\n            'f': \"4\",\n        },\n{\n            'v': 107,\n            'f': \"107\",\n        },\n\"3.74%\",\n{\n            'v': 11.36,\n            'f': \"11.36\",\n        }],\n [{\n            'v': 195,\n            'f': \"195\",\n        },\n\"birmingham benz birmingham alabama\",\n{\n            'v': 4,\n            'f': \"4\",\n        },\n{\n            'v': 105,\n            'f': \"105\",\n        },\n\"3.81%\",\n{\n            'v': 5.1,\n            'f': \"5.1\",\n        }],\n [{\n            'v': 196,\n            'f': \"196\",\n        },\n\"amg first car\",\n{\n            'v': 4,\n            'f': \"4\",\n        },\n{\n            'v': 85,\n            'f': \"85\",\n        },\n\"4.71%\",\n{\n            'v': 2.73,\n            'f': \"2.73\",\n        }],\n [{\n            'v': 197,\n            'f': \"197\",\n        },\n\"mercedes amg first car\",\n{\n            'v': 4,\n            'f': \"4\",\n        },\n{\n            'v': 73,\n            'f': \"73\",\n        },\n\"5.48%\",\n{\n            'v': 3.15,\n            'f': \"3.15\",\n        }],\n [{\n            'v': 198,\n            'f': \"198\",\n        },\n\"luxury car dealerships birmingham al\",\n{\n            'v': 4,\n            'f': \"4\",\n        },\n{\n            'v': 65,\n            'f': \"65\",\n        },\n\"6.15%\",\n{\n            'v': 5.38,\n            'f': \"5.38\",\n        }],\n [{\n            'v': 199,\n            'f': \"199\",\n        },\n\"mercedes amex\",\n{\n            'v': 4,\n            'f': \"4\",\n        },\n{\n            'v': 56,\n            'f': \"56\",\n        },\n\"7.14%\",\n{\n            'v': 4.8,\n            'f': \"4.8\",\n        }],\n [{\n            'v': 200,\n            'f': \"200\",\n        },\n\"infiniti of birmingham\",\n{\n            'v': 4,\n            'f': \"4\",\n        },\n{\n            'v': 56,\n            'f': \"56\",\n        },\n\"7.14%\",\n{\n            'v': 39.07,\n            'f': \"39.07\",\n        }],\n [{\n            'v': 201,\n            'f': \"201\",\n        },\n\"mercedes protection\",\n{\n            'v': 4,\n            'f': \"4\",\n        },\n{\n            'v': 47,\n            'f': \"47\",\n        },\n\"8.51%\",\n{\n            'v': 4.89,\n            'f': \"4.89\",\n        }],\n [{\n            'v': 202,\n            'f': \"202\",\n        },\n\"used mercedes birmingham\",\n{\n            'v': 4,\n            'f': \"4\",\n        },\n{\n            'v': 45,\n            'f': \"45\",\n        },\n\"8.89%\",\n{\n            'v': 17.78,\n            'f': \"17.78\",\n        }],\n [{\n            'v': 203,\n            'f': \"203\",\n        },\n\"used mercedes near me\",\n{\n            'v': 4,\n            'f': \"4\",\n        },\n{\n            'v': 43,\n            'f': \"43\",\n        },\n\"9.3%\",\n{\n            'v': 18.63,\n            'f': \"18.63\",\n        }],\n [{\n            'v': 204,\n            'f': \"204\",\n        },\n\"mercedes dealer in birmingham\",\n{\n            'v': 4,\n            'f': \"4\",\n        },\n{\n            'v': 37,\n            'f': \"37\",\n        },\n\"10.81%\",\n{\n            'v': 4.46,\n            'f': \"4.46\",\n        }],\n [{\n            'v': 205,\n            'f': \"205\",\n        },\n\"nick saban mercedes benz dealership\",\n{\n            'v': 4,\n            'f': \"4\",\n        },\n{\n            'v': 33,\n            'f': \"33\",\n        },\n\"12.12%\",\n{\n            'v': 3.0,\n            'f': \"3.0\",\n        }],\n [{\n            'v': 206,\n            'f': \"206\",\n        },\n\"mercedes in hoover\",\n{\n            'v': 4,\n            'f': \"4\",\n        },\n{\n            'v': 18,\n            'f': \"18\",\n        },\n\"22.22%\",\n{\n            'v': 4.33,\n            'f': \"4.33\",\n        }],\n [{\n            'v': 207,\n            'f': \"207\",\n        },\n\"mercedes-benz of birmingham - irondale campus\",\n{\n            'v': 4,\n            'f': \"4\",\n        },\n{\n            'v': 16,\n            'f': \"16\",\n        },\n\"25%\",\n{\n            'v': 1.38,\n            'f': \"1.38\",\n        }],\n [{\n            'v': 208,\n            'f': \"208\",\n        },\n\"crown mercedes hoover alabama\",\n{\n            'v': 4,\n            'f': \"4\",\n        },\n{\n            'v': 9,\n            'f': \"9\",\n        },\n\"44.44%\",\n{\n            'v': 4.56,\n            'f': \"4.56\",\n        }],\n [{\n            'v': 209,\n            'f': \"209\",\n        },\n\"mercedes of birmingham irondale campus\",\n{\n            'v': 4,\n            'f': \"4\",\n        },\n{\n            'v': 8,\n            'f': \"8\",\n        },\n\"50%\",\n{\n            'v': 3.0,\n            'f': \"3.0\",\n        }],\n [{\n            'v': 210,\n            'f': \"210\",\n        },\n\"mercedes for sale\",\n{\n            'v': 3,\n            'f': \"3\",\n        },\n{\n            'v': 745,\n            'f': \"745\",\n        },\n\"0.4%\",\n{\n            'v': 55.55,\n            'f': \"55.55\",\n        }],\n [{\n            'v': 211,\n            'f': \"211\",\n        },\n\"glc\",\n{\n            'v': 3,\n            'f': \"3\",\n        },\n{\n            'v': 608,\n            'f': \"608\",\n        },\n\"0.49%\",\n{\n            'v': 71.25,\n            'f': \"71.25\",\n        }],\n [{\n            'v': 212,\n            'f': \"212\",\n        },\n\"used mercedes benz birmingham\",\n{\n            'v': 3,\n            'f': \"3\",\n        },\n{\n            'v': 447,\n            'f': \"447\",\n        },\n\"0.67%\",\n{\n            'v': 29.84,\n            'f': \"29.84\",\n        }],\n [{\n            'v': 213,\n            'f': \"213\",\n        },\n\"used mercedes for sale\",\n{\n            'v': 3,\n            'f': \"3\",\n        },\n{\n            'v': 443,\n            'f': \"443\",\n        },\n\"0.68%\",\n{\n            'v': 54.54,\n            'f': \"54.54\",\n        }],\n [{\n            'v': 214,\n            'f': \"214\",\n        },\n\"mercedes service coupons\",\n{\n            'v': 3,\n            'f': \"3\",\n        },\n{\n            'v': 396,\n            'f': \"396\",\n        },\n\"0.76%\",\n{\n            'v': 52.41,\n            'f': \"52.41\",\n        }],\n [{\n            'v': 215,\n            'f': \"215\",\n        },\n\"mercedes blue\",\n{\n            'v': 3,\n            'f': \"3\",\n        },\n{\n            'v': 395,\n            'f': \"395\",\n        },\n\"0.76%\",\n{\n            'v': 8.15,\n            'f': \"8.15\",\n        }],\n [{\n            'v': 216,\n            'f': \"216\",\n        },\n\"carbg\",\n{\n            'v': 3,\n            'f': \"3\",\n        },\n{\n            'v': 334,\n            'f': \"334\",\n        },\n\"0.9%\",\n{\n            'v': 5.34,\n            'f': \"5.34\",\n        }],\n [{\n            'v': 217,\n            'f': \"217\",\n        },\n\"mercedes dealers\",\n{\n            'v': 3,\n            'f': \"3\",\n        },\n{\n            'v': 330,\n            'f': \"330\",\n        },\n\"0.91%\",\n{\n            'v': 36.95,\n            'f': \"36.95\",\n        }],\n [{\n            'v': 218,\n            'f': \"218\",\n        },\n\"mercedes benz dealer\",\n{\n            'v': 3,\n            'f': \"3\",\n        },\n{\n            'v': 329,\n            'f': \"329\",\n        },\n\"0.91%\",\n{\n            'v': 56.59,\n            'f': \"56.59\",\n        }],\n [{\n            'v': 219,\n            'f': \"219\",\n        },\n\"mercedes benz service near me\",\n{\n            'v': 3,\n            'f': \"3\",\n        },\n{\n            'v': 263,\n            'f': \"263\",\n        },\n\"1.14%\",\n{\n            'v': 52.84,\n            'f': \"52.84\",\n        }],\n [{\n            'v': 220,\n            'f': \"220\",\n        },\n\"mercedes benz service department\",\n{\n            'v': 3,\n            'f': \"3\",\n        },\n{\n            'v': 246,\n            'f': \"246\",\n        },\n\"1.22%\",\n{\n            'v': 43.3,\n            'f': \"43.3\",\n        }],\n [{\n            'v': 221,\n            'f': \"221\",\n        },\n\"mercedes benz parts department\",\n{\n            'v': 3,\n            'f': \"3\",\n        },\n{\n            'v': 236,\n            'f': \"236\",\n        },\n\"1.27%\",\n{\n            'v': 30.12,\n            'f': \"30.12\",\n        }],\n [{\n            'v': 222,\n            'f': \"222\",\n        },\n\"mercedes benz application\",\n{\n            'v': 3,\n            'f': \"3\",\n        },\n{\n            'v': 192,\n            'f': \"192\",\n        },\n\"1.56%\",\n{\n            'v': 7.94,\n            'f': \"7.94\",\n        }],\n [{\n            'v': 223,\n            'f': \"223\",\n        },\n\"mercedes service near me\",\n{\n            'v': 3,\n            'f': \"3\",\n        },\n{\n            'v': 183,\n            'f': \"183\",\n        },\n\"1.64%\",\n{\n            'v': 56.57,\n            'f': \"56.57\",\n        }],\n [{\n            'v': 224,\n            'f': \"224\",\n        },\n\"mercedes benz for sale\",\n{\n            'v': 3,\n            'f': \"3\",\n        },\n{\n            'v': 122,\n            'f': \"122\",\n        },\n\"2.46%\",\n{\n            'v': 50.25,\n            'f': \"50.25\",\n        }],\n [{\n            'v': 225,\n            'f': \"225\",\n        },\n\"bij motors al llc\",\n{\n            'v': 3,\n            'f': \"3\",\n        },\n{\n            'v': 92,\n            'f': \"92\",\n        },\n\"3.26%\",\n{\n            'v': 7.17,\n            'f': \"7.17\",\n        }],\n [{\n            'v': 226,\n            'f': \"226\",\n        },\n\"story about my dad\",\n{\n            'v': 3,\n            'f': \"3\",\n        },\n{\n            'v': 91,\n            'f': \"91\",\n        },\n\"3.3%\",\n{\n            'v': 6.66,\n            'f': \"6.66\",\n        }],\n [{\n            'v': 227,\n            'f': \"227\",\n        },\n\"mercedes used\",\n{\n            'v': 3,\n            'f': \"3\",\n        },\n{\n            'v': 79,\n            'f': \"79\",\n        },\n\"3.8%\",\n{\n            'v': 63.15,\n            'f': \"63.15\",\n        }],\n [{\n            'v': 228,\n            'f': \"228\",\n        },\n\"crown mercedes benz\",\n{\n            'v': 3,\n            'f': \"3\",\n        },\n{\n            'v': 73,\n            'f': \"73\",\n        },\n\"4.11%\",\n{\n            'v': 12.47,\n            'f': \"12.47\",\n        }],\n [{\n            'v': 229,\n            'f': \"229\",\n        },\n\"hoover car dealerships\",\n{\n            'v': 3,\n            'f': \"3\",\n        },\n{\n            'v': 67,\n            'f': \"67\",\n        },\n\"4.48%\",\n{\n            'v': 85.66,\n            'f': \"85.66\",\n        }],\n [{\n            'v': 230,\n            'f': \"230\",\n        },\n\"mercedes benz job application\",\n{\n            'v': 3,\n            'f': \"3\",\n        },\n{\n            'v': 58,\n            'f': \"58\",\n        },\n\"5.17%\",\n{\n            'v': 10.26,\n            'f': \"10.26\",\n        }],\n [{\n            'v': 231,\n            'f': \"231\",\n        },\n\"mercedes demo cars\",\n{\n            'v': 3,\n            'f': \"3\",\n        },\n{\n            'v': 53,\n            'f': \"53\",\n        },\n\"5.66%\",\n{\n            'v': 8.75,\n            'f': \"8.75\",\n        }],\n [{\n            'v': 232,\n            'f': \"232\",\n        },\n\"car dealerships in hoover al\",\n{\n            'v': 3,\n            'f': \"3\",\n        },\n{\n            'v': 49,\n            'f': \"49\",\n        },\n\"6.12%\",\n{\n            'v': 60.18,\n            'f': \"60.18\",\n        }],\n [{\n            'v': 233,\n            'f': \"233\",\n        },\n\"mercedes-benz rising stars program\",\n{\n            'v': 3,\n            'f': \"3\",\n        },\n{\n            'v': 47,\n            'f': \"47\",\n        },\n\"6.38%\",\n{\n            'v': 2.74,\n            'f': \"2.74\",\n        }],\n [{\n            'v': 234,\n            'f': \"234\",\n        },\n\"amg features\",\n{\n            'v': 3,\n            'f': \"3\",\n        },\n{\n            'v': 44,\n            'f': \"44\",\n        },\n\"6.82%\",\n{\n            'v': 4.16,\n            'f': \"4.16\",\n        }],\n [{\n            'v': 235,\n            'f': \"235\",\n        },\n\"mercedes parts birmingham\",\n{\n            'v': 3,\n            'f': \"3\",\n        },\n{\n            'v': 43,\n            'f': \"43\",\n        },\n\"6.98%\",\n{\n            'v': 15.98,\n            'f': \"15.98\",\n        }],\n [{\n            'v': 236,\n            'f': \"236\",\n        },\n\"mercedes for sale birmingham al\",\n{\n            'v': 3,\n            'f': \"3\",\n        },\n{\n            'v': 37,\n            'f': \"37\",\n        },\n\"8.11%\",\n{\n            'v': 2.76,\n            'f': \"2.76\",\n        }],\n [{\n            'v': 237,\n            'f': \"237\",\n        },\n\"mercedes benz dealers in alabama\",\n{\n            'v': 3,\n            'f': \"3\",\n        },\n{\n            'v': 35,\n            'f': \"35\",\n        },\n\"8.57%\",\n{\n            'v': 1.54,\n            'f': \"1.54\",\n        }],\n [{\n            'v': 238,\n            'f': \"238\",\n        },\n\"cross carline meaning\",\n{\n            'v': 3,\n            'f': \"3\",\n        },\n{\n            'v': 35,\n            'f': \"35\",\n        },\n\"8.57%\",\n{\n            'v': 1.83,\n            'f': \"1.83\",\n        }],\n [{\n            'v': 239,\n            'f': \"239\",\n        },\n\"nick saban sprinter van\",\n{\n            'v': 3,\n            'f': \"3\",\n        },\n{\n            'v': 34,\n            'f': \"34\",\n        },\n\"8.82%\",\n{\n            'v': 1.71,\n            'f': \"1.71\",\n        }],\n [{\n            'v': 240,\n            'f': \"240\",\n        },\n\"how to maintain a mercedes benz\",\n{\n            'v': 3,\n            'f': \"3\",\n        },\n{\n            'v': 33,\n            'f': \"33\",\n        },\n\"9.09%\",\n{\n            'v': 7.58,\n            'f': \"7.58\",\n        }],\n [{\n            'v': 241,\n            'f': \"241\",\n        },\n\"american express mercedes\",\n{\n            'v': 3,\n            'f': \"3\",\n        },\n{\n            'v': 31,\n            'f': \"31\",\n        },\n\"9.68%\",\n{\n            'v': 3.84,\n            'f': \"3.84\",\n        }],\n [{\n            'v': 242,\n            'f': \"242\",\n        },\n\"mercedes loyalty incentive\",\n{\n            'v': 3,\n            'f': \"3\",\n        },\n{\n            'v': 31,\n            'f': \"31\",\n        },\n\"9.68%\",\n{\n            'v': 8.26,\n            'f': \"8.26\",\n        }],\n [{\n            'v': 243,\n            'f': \"243\",\n        },\n\"merceds benz\",\n{\n            'v': 3,\n            'f': \"3\",\n        },\n{\n            'v': 25,\n            'f': \"25\",\n        },\n\"12%\",\n{\n            'v': 29.28,\n            'f': \"29.28\",\n        }],\n [{\n            'v': 244,\n            'f': \"244\",\n        },\n\"mercedes student program\",\n{\n            'v': 3,\n            'f': \"3\",\n        },\n{\n            'v': 24,\n            'f': \"24\",\n        },\n\"12.5%\",\n{\n            'v': 2.38,\n            'f': \"2.38\",\n        }],\n [{\n            'v': 245,\n            'f': \"245\",\n        },\n\"mercedes birmingham parts\",\n{\n            'v': 3,\n            'f': \"3\",\n        },\n{\n            'v': 15,\n            'f': \"15\",\n        },\n\"20%\",\n{\n            'v': 10.2,\n            'f': \"10.2\",\n        }],\n [{\n            'v': 246,\n            'f': \"246\",\n        },\n\"mercedes benz birmingham parts\",\n{\n            'v': 3,\n            'f': \"3\",\n        },\n{\n            'v': 12,\n            'f': \"12\",\n        },\n\"25%\",\n{\n            'v': 9.33,\n            'f': \"9.33\",\n        }],\n [{\n            'v': 247,\n            'f': \"247\",\n        },\n\"first amg ever\",\n{\n            'v': 3,\n            'f': \"3\",\n        },\n{\n            'v': 11,\n            'f': \"11\",\n        },\n\"27.27%\",\n{\n            'v': 4.18,\n            'f': \"4.18\",\n        }],\n [{\n            'v': 248,\n            'f': \"248\",\n        },\n\"mercedes dealership in birmingham\",\n{\n            'v': 3,\n            'f': \"3\",\n        },\n{\n            'v': 8,\n            'f': \"8\",\n        },\n\"37.5%\",\n{\n            'v': 2.62,\n            'f': \"2.62\",\n        }],\n [{\n            'v': 249,\n            'f': \"249\",\n        },\n\"meredes benz\",\n{\n            'v': 3,\n            'f': \"3\",\n        },\n{\n            'v': 8,\n            'f': \"8\",\n        },\n\"37.5%\",\n{\n            'v': 28.88,\n            'f': \"28.88\",\n        }],\n [{\n            'v': 250,\n            'f': \"250\",\n        },\n\"mercades birmingham\",\n{\n            'v': 3,\n            'f': \"3\",\n        },\n{\n            'v': 7,\n            'f': \"7\",\n        },\n\"42.86%\",\n{\n            'v': 2.14,\n            'f': \"2.14\",\n        }],\n [{\n            'v': 251,\n            'f': \"251\",\n        },\n\"dealerships near me\",\n{\n            'v': 3,\n            'f': \"3\",\n        },\n{\n            'v': 7,\n            'f': \"7\",\n        },\n\"42.86%\",\n{\n            'v': 5.43,\n            'f': \"5.43\",\n        }],\n [{\n            'v': 252,\n            'f': \"252\",\n        },\n\"mercedes g wagon near me\",\n{\n            'v': 3,\n            'f': \"3\",\n        },\n{\n            'v': 5,\n            'f': \"5\",\n        },\n\"60%\",\n{\n            'v': 11.0,\n            'f': \"11.0\",\n        }],\n [{\n            'v': 253,\n            'f': \"253\",\n        },\n\"g wagon for sale near me\",\n{\n            'v': 3,\n            'f': \"3\",\n        },\n{\n            'v': 4,\n            'f': \"4\",\n        },\n\"75%\",\n{\n            'v': 25.25,\n            'f': \"25.25\",\n        }],\n [{\n            'v': 254,\n            'f': \"254\",\n        },\n\"crown auto\",\n{\n            'v': 3,\n            'f': \"3\",\n        },\n{\n            'v': 3,\n            'f': \"3\",\n        },\n\"100%\",\n{\n            'v': 1.0,\n            'f': \"1.0\",\n        }],\n [{\n            'v': 255,\n            'f': \"255\",\n        },\n\"mercedes benz grants mill road\",\n{\n            'v': 3,\n            'f': \"3\",\n        },\n{\n            'v': 3,\n            'f': \"3\",\n        },\n\"100%\",\n{\n            'v': 5.0,\n            'f': \"5.0\",\n        }],\n [{\n            'v': 256,\n            'f': \"256\",\n        },\n\"roadside assistance\",\n{\n            'v': 2,\n            'f': \"2\",\n        },\n{\n            'v': 1503,\n            'f': \"1503\",\n        },\n\"0.13%\",\n{\n            'v': 20.74,\n            'f': \"20.74\",\n        }],\n [{\n            'v': 257,\n            'f': \"257\",\n        },\n\"mercedes benz service coupons\",\n{\n            'v': 2,\n            'f': \"2\",\n        },\n{\n            'v': 1016,\n            'f': \"1016\",\n        },\n\"0.2%\",\n{\n            'v': 77.84,\n            'f': \"77.84\",\n        }],\n [{\n            'v': 258,\n            'f': \"258\",\n        },\n\"where is my dad\",\n{\n            'v': 2,\n            'f': \"2\",\n        },\n{\n            'v': 675,\n            'f': \"675\",\n        },\n\"0.3%\",\n{\n            'v': 15.99,\n            'f': \"15.99\",\n        }],\n [{\n            'v': 259,\n            'f': \"259\",\n        },\n\"2020 mercedes-benz sprinter extended cargo van\",\n{\n            'v': 2,\n            'f': \"2\",\n        },\n{\n            'v': 662,\n            'f': \"662\",\n        },\n\"0.3%\",\n{\n            'v': 12.7,\n            'f': \"12.7\",\n        }],\n [{\n            'v': 260,\n            'f': \"260\",\n        },\n\"mercedes lease specials\",\n{\n            'v': 2,\n            'f': \"2\",\n        },\n{\n            'v': 651,\n            'f': \"651\",\n        },\n\"0.31%\",\n{\n            'v': 67.36,\n            'f': \"67.36\",\n        }],\n [{\n            'v': 261,\n            'f': \"261\",\n        },\n\"certified mercedes\",\n{\n            'v': 2,\n            'f': \"2\",\n        },\n{\n            'v': 592,\n            'f': \"592\",\n        },\n\"0.34%\",\n{\n            'v': 29.93,\n            'f': \"29.93\",\n        }],\n [{\n            'v': 262,\n            'f': \"262\",\n        },\n\"mercedes service specials\",\n{\n            'v': 2,\n            'f': \"2\",\n        },\n{\n            'v': 425,\n            'f': \"425\",\n        },\n\"0.47%\",\n{\n            'v': 46.54,\n            'f': \"46.54\",\n        }],\n [{\n            'v': 263,\n            'f': \"263\",\n        },\n\"lunar blue mercedes\",\n{\n            'v': 2,\n            'f': \"2\",\n        },\n{\n            'v': 368,\n            'f': \"368\",\n        },\n\"0.54%\",\n{\n            'v': 9.08,\n            'f': \"9.08\",\n        }],\n [{\n            'v': 264,\n            'f': \"264\",\n        },\n\"certified preowned mercedes\",\n{\n            'v': 2,\n            'f': \"2\",\n        },\n{\n            'v': 285,\n            'f': \"285\",\n        },\n\"0.7%\",\n{\n            'v': 37.95,\n            'f': \"37.95\",\n        }],\n [{\n            'v': 265,\n            'f': \"265\",\n        },\n\"mercedes dealerships\",\n{\n            'v': 2,\n            'f': \"2\",\n        },\n{\n            'v': 267,\n            'f': \"267\",\n        },\n\"0.75%\",\n{\n            'v': 76.82,\n            'f': \"76.82\",\n        }],\n [{\n            'v': 266,\n            'f': \"266\",\n        },\n\"mercedes convertible for sale\",\n{\n            'v': 2,\n            'f': \"2\",\n        },\n{\n            'v': 266,\n            'f': \"266\",\n        },\n\"0.75%\",\n{\n            'v': 26.89,\n            'f': \"26.89\",\n        }],\n [{\n            'v': 267,\n            'f': \"267\",\n        },\n\"leasing mercedes\",\n{\n            'v': 2,\n            'f': \"2\",\n        },\n{\n            'v': 222,\n            'f': \"222\",\n        },\n\"0.9%\",\n{\n            'v': 34.79,\n            'f': \"34.79\",\n        }],\n [{\n            'v': 268,\n            'f': \"268\",\n        },\n\"history of amg\",\n{\n            'v': 2,\n            'f': \"2\",\n        },\n{\n            'v': 189,\n            'f': \"189\",\n        },\n\"1.06%\",\n{\n            'v': 3.17,\n            'f': \"3.17\",\n        }],\n [{\n            'v': 269,\n            'f': \"269\",\n        },\n\"nick saban car\",\n{\n            'v': 2,\n            'f': \"2\",\n        },\n{\n            'v': 150,\n            'f': \"150\",\n        },\n\"1.33%\",\n{\n            'v': 4.93,\n            'f': \"4.93\",\n        }],\n [{\n            'v': 270,\n            'f': \"270\",\n        },\n\"mercedesbenz\",\n{\n            'v': 2,\n            'f': \"2\",\n        },\n{\n            'v': 130,\n            'f': \"130\",\n        },\n\"1.54%\",\n{\n            'v': 71.61,\n            'f': \"71.61\",\n        }],\n [{\n            'v': 271,\n            'f': \"271\",\n        },\n\"story of my father\",\n{\n            'v': 2,\n            'f': \"2\",\n        },\n{\n            'v': 125,\n            'f': \"125\",\n        },\n\"1.6%\",\n{\n            'v': 7.79,\n            'f': \"7.79\",\n        }],\n [{\n            'v': 272,\n            'f': \"272\",\n        },\n\"mercedes benz al\",\n{\n            'v': 2,\n            'f': \"2\",\n        },\n{\n            'v': 107,\n            'f': \"107\",\n        },\n\"1.87%\",\n{\n            'v': 6.69,\n            'f': \"6.69\",\n        }],\n [{\n            'v': 273,\n            'f': \"273\",\n        },\n\"mercedes glc coupe for sale\",\n{\n            'v': 2,\n            'f': \"2\",\n        },\n{\n            'v': 101,\n            'f': \"101\",\n        },\n\"1.98%\",\n{\n            'v': 58.71,\n            'f': \"58.71\",\n        }],\n [{\n            'v': 274,\n            'f': \"274\",\n        },\n\"used car dealerships hoover al\",\n{\n            'v': 2,\n            'f': \"2\",\n        },\n{\n            'v': 92,\n            'f': \"92\",\n        },\n\"2.17%\",\n{\n            'v': 60.09,\n            'f': \"60.09\",\n        }],\n [{\n            'v': 275,\n            'f': \"275\",\n        },\n\"mercedes benz used\",\n{\n            'v': 2,\n            'f': \"2\",\n        },\n{\n            'v': 90,\n            'f': \"90\",\n        },\n\"2.22%\",\n{\n            'v': 71.57,\n            'f': \"71.57\",\n        }],\n [{\n            'v': 276,\n            'f': \"276\",\n        },\n\"mercedes metris cargo dimensions\",\n{\n            'v': 2,\n            'f': \"2\",\n        },\n{\n            'v': 89,\n            'f': \"89\",\n        },\n\"2.25%\",\n{\n            'v': 10.2,\n            'f': \"10.2\",\n        }],\n [{\n            'v': 277,\n            'f': \"277\",\n        },\n\"nick saban dealership\",\n{\n            'v': 2,\n            'f': \"2\",\n        },\n{\n            'v': 83,\n            'f': \"83\",\n        },\n\"2.41%\",\n{\n            'v': 6.72,\n            'f': \"6.72\",\n        }],\n [{\n            'v': 278,\n            'f': \"278\",\n        },\n\"mercedes dealerships near me\",\n{\n            'v': 2,\n            'f': \"2\",\n        },\n{\n            'v': 82,\n            'f': \"82\",\n        },\n\"2.44%\",\n{\n            'v': 52.29,\n            'f': \"52.29\",\n        }],\n [{\n            'v': 279,\n            'f': \"279\",\n        },\n\"mbusi\",\n{\n            'v': 2,\n            'f': \"2\",\n        },\n{\n            'v': 77,\n            'f': \"77\",\n        },\n\"2.6%\",\n{\n            'v': 32.49,\n            'f': \"32.49\",\n        }],\n [{\n            'v': 280,\n            'f': \"280\",\n        },\n\"mercedes demo lease specials\",\n{\n            'v': 2,\n            'f': \"2\",\n        },\n{\n            'v': 71,\n            'f': \"71\",\n        },\n\"2.82%\",\n{\n            'v': 9.24,\n            'f': \"9.24\",\n        }],\n [{\n            'v': 281,\n            'f': \"281\",\n        },\n\"the first amg\",\n{\n            'v': 2,\n            'f': \"2\",\n        },\n{\n            'v': 63,\n            'f': \"63\",\n        },\n\"3.17%\",\n{\n            'v': 4.78,\n            'f': \"4.78\",\n        }],\n [{\n            'v': 282,\n            'f': \"282\",\n        },\n\"mercedes for sale in alabama\",\n{\n            'v': 2,\n            'f': \"2\",\n        },\n{\n            'v': 58,\n            'f': \"58\",\n        },\n\"3.45%\",\n{\n            'v': 8.84,\n            'f': \"8.84\",\n        }],\n [{\n            'v': 283,\n            'f': \"283\",\n        },\n\"sprinter 1500\",\n{\n            'v': 2,\n            'f': \"2\",\n        },\n{\n            'v': 54,\n            'f': \"54\",\n        },\n\"3.7%\",\n{\n            'v': 11.26,\n            'f': \"11.26\",\n        }],\n [{\n            'v': 284,\n            'f': \"284\",\n        },\n\"mercedes american express\",\n{\n            'v': 2,\n            'f': \"2\",\n        },\n{\n            'v': 53,\n            'f': \"53\",\n        },\n\"3.77%\",\n{\n            'v': 5.02,\n            'f': \"5.02\",\n        }],\n [{\n            'v': 285,\n            'f': \"285\",\n        },\n\"mb certified\",\n{\n            'v': 2,\n            'f': \"2\",\n        },\n{\n            'v': 53,\n            'f': \"53\",\n        },\n\"3.77%\",\n{\n            'v': 30.57,\n            'f': \"30.57\",\n        }],\n [{\n            'v': 286,\n            'f': \"286\",\n        },\n\"mercede\",\n{\n            'v': 2,\n            'f': \"2\",\n        },\n{\n            'v': 44,\n            'f': \"44\",\n        },\n\"4.55%\",\n{\n            'v': 53.32,\n            'f': \"53.32\",\n        }],\n [{\n            'v': 287,\n            'f': \"287\",\n        },\n\"1800 montgomery highway\",\n{\n            'v': 2,\n            'f': \"2\",\n        },\n{\n            'v': 41,\n            'f': \"41\",\n        },\n\"4.88%\",\n{\n            'v': 2.0,\n            'f': \"2.0\",\n        }],\n [{\n            'v': 288,\n            'f': \"288\",\n        },\n\"mercedes benz amex\",\n{\n            'v': 2,\n            'f': \"2\",\n        },\n{\n            'v': 41,\n            'f': \"41\",\n        },\n\"4.88%\",\n{\n            'v': 3.39,\n            'f': \"3.39\",\n        }],\n [{\n            'v': 289,\n            'f': \"289\",\n        },\n\"merceds\",\n{\n            'v': 2,\n            'f': \"2\",\n        },\n{\n            'v': 40,\n            'f': \"40\",\n        },\n\"5%\",\n{\n            'v': 29.93,\n            'f': \"29.93\",\n        }],\n [{\n            'v': 290,\n            'f': \"290\",\n        },\n\"amex mercedes benz\",\n{\n            'v': 2,\n            'f': \"2\",\n        },\n{\n            'v': 36,\n            'f': \"36\",\n        },\n\"5.56%\",\n{\n            'v': 3.19,\n            'f': \"3.19\",\n        }],\n [{\n            'v': 291,\n            'f': \"291\",\n        },\n\"amex mercedes\",\n{\n            'v': 2,\n            'f': \"2\",\n        },\n{\n            'v': 36,\n            'f': \"36\",\n        },\n\"5.56%\",\n{\n            'v': 4.22,\n            'f': \"4.22\",\n        }],\n [{\n            'v': 292,\n            'f': \"292\",\n        },\n\"mercedes-benz inventory\",\n{\n            'v': 2,\n            'f': \"2\",\n        },\n{\n            'v': 33,\n            'f': \"33\",\n        },\n\"6.06%\",\n{\n            'v': 13.79,\n            'f': \"13.79\",\n        }],\n [{\n            'v': 293,\n            'f': \"293\",\n        },\n\"mercedes benz current offers\",\n{\n            'v': 2,\n            'f': \"2\",\n        },\n{\n            'v': 31,\n            'f': \"31\",\n        },\n\"6.45%\",\n{\n            'v': 26.48,\n            'f': \"26.48\",\n        }],\n [{\n            'v': 294,\n            'f': \"294\",\n        },\n\"first class guaranteed auto protection\",\n{\n            'v': 2,\n            'f': \"2\",\n        },\n{\n            'v': 30,\n            'f': \"30\",\n        },\n\"6.67%\",\n{\n            'v': 8.3,\n            'f': \"8.3\",\n        }],\n [{\n            'v': 295,\n            'f': \"295\",\n        },\n\"benz near me\",\n{\n            'v': 2,\n            'f': \"2\",\n        },\n{\n            'v': 26,\n            'f': \"26\",\n        },\n\"7.69%\",\n{\n            'v': 32.04,\n            'f': \"32.04\",\n        }],\n [{\n            'v': 296,\n            'f': \"296\",\n        },\n\"mercdes\",\n{\n            'v': 2,\n            'f': \"2\",\n        },\n{\n            'v': 26,\n            'f': \"26\",\n        },\n\"7.69%\",\n{\n            'v': 57.0,\n            'f': \"57.0\",\n        }],\n [{\n            'v': 297,\n            'f': \"297\",\n        },\n\"2020 c63 amg steering wheel\",\n{\n            'v': 2,\n            'f': \"2\",\n        },\n{\n            'v': 23,\n            'f': \"23\",\n        },\n\"8.7%\",\n{\n            'v': 6.3,\n            'f': \"6.3\",\n        }],\n [{\n            'v': 298,\n            'f': \"298\",\n        },\n\"mersades\",\n{\n            'v': 2,\n            'f': \"2\",\n        },\n{\n            'v': 20,\n            'f': \"20\",\n        },\n\"10%\",\n{\n            'v': 36.65,\n            'f': \"36.65\",\n        }],\n [{\n            'v': 299,\n            'f': \"299\",\n        },\n\"mercedes amg for sale\",\n{\n            'v': 2,\n            'f': \"2\",\n        },\n{\n            'v': 20,\n            'f': \"20\",\n        },\n\"10%\",\n{\n            'v': 46.7,\n            'f': \"46.7\",\n        }],\n [{\n            'v': 300,\n            'f': \"300\",\n        },\n\"my father story in english\",\n{\n            'v': 2,\n            'f': \"2\",\n        },\n{\n            'v': 19,\n            'f': \"19\",\n        },\n\"10.53%\",\n{\n            'v': 10.58,\n            'f': \"10.58\",\n        }],\n [{\n            'v': 301,\n            'f': \"301\",\n        },\n\"mercedes diamond blue\",\n{\n            'v': 2,\n            'f': \"2\",\n        },\n{\n            'v': 18,\n            'f': \"18\",\n        },\n\"11.11%\",\n{\n            'v': 7.33,\n            'f': \"7.33\",\n        }],\n [{\n            'v': 302,\n            'f': \"302\",\n        },\n\"metris van for sale\",\n{\n            'v': 2,\n            'f': \"2\",\n        },\n{\n            'v': 15,\n            'f': \"15\",\n        },\n\"13.33%\",\n{\n            'v': 20.0,\n            'f': \"20.0\",\n        }],\n [{\n            'v': 303,\n            'f': \"303\",\n        },\n\"my dad was the best\",\n{\n            'v': 2,\n            'f': \"2\",\n        },\n{\n            'v': 14,\n            'f': \"14\",\n        },\n\"14.29%\",\n{\n            'v': 13.36,\n            'f': \"13.36\",\n        }],\n [{\n            'v': 304,\n            'f': \"304\",\n        },\n\"mercedes benz loyalty\",\n{\n            'v': 2,\n            'f': \"2\",\n        },\n{\n            'v': 11,\n            'f': \"11\",\n        },\n\"18.18%\",\n{\n            'v': 2.55,\n            'f': \"2.55\",\n        }],\n [{\n            'v': 305,\n            'f': \"305\",\n        },\n\"mercedes birmingham dealership\",\n{\n            'v': 2,\n            'f': \"2\",\n        },\n{\n            'v': 10,\n            'f': \"10\",\n        },\n\"20%\",\n{\n            'v': 4.6,\n            'f': \"4.6\",\n        }],\n [{\n            'v': 306,\n            'f': \"306\",\n        },\n\"car dealerships hoover al\",\n{\n            'v': 2,\n            'f': \"2\",\n        },\n{\n            'v': 9,\n            'f': \"9\",\n        },\n\"22.22%\",\n{\n            'v': 28.44,\n            'f': \"28.44\",\n        }],\n [{\n            'v': 307,\n            'f': \"307\",\n        },\n\"mercedes benz dealership birmingham\",\n{\n            'v': 2,\n            'f': \"2\",\n        },\n{\n            'v': 8,\n            'f': \"8\",\n        },\n\"25%\",\n{\n            'v': 3.38,\n            'f': \"3.38\",\n        }],\n [{\n            'v': 308,\n            'f': \"308\",\n        },\n\"hoover car dealership\",\n{\n            'v': 2,\n            'f': \"2\",\n        },\n{\n            'v': 8,\n            'f': \"8\",\n        },\n\"25%\",\n{\n            'v': 34.88,\n            'f': \"34.88\",\n        }],\n [{\n            'v': 309,\n            'f': \"309\",\n        },\n\"hoover al car dealerships\",\n{\n            'v': 2,\n            'f': \"2\",\n        },\n{\n            'v': 8,\n            'f': \"8\",\n        },\n\"25%\",\n{\n            'v': 42.5,\n            'f': \"42.5\",\n        }],\n [{\n            'v': 310,\n            'f': \"310\",\n        },\n\"cars for sale near me\",\n{\n            'v': 2,\n            'f': \"2\",\n        },\n{\n            'v': 3,\n            'f': \"3\",\n        },\n\"66.67%\",\n{\n            'v': 1.0,\n            'f': \"1.0\",\n        }],\n [{\n            'v': 311,\n            'f': \"311\",\n        },\n\"mercedes car lot near me\",\n{\n            'v': 2,\n            'f': \"2\",\n        },\n{\n            'v': 3,\n            'f': \"3\",\n        },\n\"66.67%\",\n{\n            'v': 5.0,\n            'f': \"5.0\",\n        }],\n [{\n            'v': 312,\n            'f': \"312\",\n        },\n\"car dealerships near me\",\n{\n            'v': 2,\n            'f': \"2\",\n        },\n{\n            'v': 3,\n            'f': \"3\",\n        },\n\"66.67%\",\n{\n            'v': 21.0,\n            'f': \"21.0\",\n        }],\n [{\n            'v': 313,\n            'f': \"313\",\n        },\n\"g wagon dealership near me\",\n{\n            'v': 2,\n            'f': \"2\",\n        },\n{\n            'v': 2,\n            'f': \"2\",\n        },\n\"100%\",\n{\n            'v': 1.0,\n            'f': \"1.0\",\n        }],\n [{\n            'v': 314,\n            'f': \"314\",\n        },\n\"mercedes benz suv near me\",\n{\n            'v': 2,\n            'f': \"2\",\n        },\n{\n            'v': 2,\n            'f': \"2\",\n        },\n\"100%\",\n{\n            'v': 2.5,\n            'f': \"2.5\",\n        }],\n [{\n            'v': 315,\n            'f': \"315\",\n        },\n\"mercedes benz convertible for sale\",\n{\n            'v': 2,\n            'f': \"2\",\n        },\n{\n            'v': 2,\n            'f': \"2\",\n        },\n\"100%\",\n{\n            'v': 4.5,\n            'f': \"4.5\",\n        }],\n [{\n            'v': 316,\n            'f': \"316\",\n        },\n\"mercedes benz birmingham hoover\",\n{\n            'v': 2,\n            'f': \"2\",\n        },\n{\n            'v': 2,\n            'f': \"2\",\n        },\n\"100%\",\n{\n            'v': 5.0,\n            'f': \"5.0\",\n        }],\n [{\n            'v': 317,\n            'f': \"317\",\n        },\n\"mercedes suv dealership near me\",\n{\n            'v': 2,\n            'f': \"2\",\n        },\n{\n            'v': 2,\n            'f': \"2\",\n        },\n\"100%\",\n{\n            'v': 5.0,\n            'f': \"5.0\",\n        }],\n [{\n            'v': 318,\n            'f': \"318\",\n        },\n\"mercedes s 560\",\n{\n            'v': 1,\n            'f': \"1\",\n        },\n{\n            'v': 1902,\n            'f': \"1902\",\n        },\n\"0.05%\",\n{\n            'v': 5.68,\n            'f': \"5.68\",\n        }],\n [{\n            'v': 319,\n            'f': \"319\",\n        },\n\"mercedes sprinter\",\n{\n            'v': 1,\n            'f': \"1\",\n        },\n{\n            'v': 1683,\n            'f': \"1683\",\n        },\n\"0.06%\",\n{\n            'v': 71.83,\n            'f': \"71.83\",\n        }],\n [{\n            'v': 320,\n            'f': \"320\",\n        },\n\"mercedes pre owned\",\n{\n            'v': 1,\n            'f': \"1\",\n        },\n{\n            'v': 1353,\n            'f': \"1353\",\n        },\n\"0.07%\",\n{\n            'v': 43.17,\n            'f': \"43.17\",\n        }],\n [{\n            'v': 321,\n            'f': \"321\",\n        },\n\"mercedes benz credit card\",\n{\n            'v': 1,\n            'f': \"1\",\n        },\n{\n            'v': 934,\n            'f': \"934\",\n        },\n\"0.11%\",\n{\n            'v': 6.28,\n            'f': \"6.28\",\n        }],\n [{\n            'v': 322,\n            'f': \"322\",\n        },\n\"mercedes vans\",\n{\n            'v': 1,\n            'f': \"1\",\n        },\n{\n            'v': 805,\n            'f': \"805\",\n        },\n\"0.12%\",\n{\n            'v': 41.23,\n            'f': \"41.23\",\n        }],\n [{\n            'v': 323,\n            'f': \"323\",\n        },\n\"mercedes service center\",\n{\n            'v': 1,\n            'f': \"1\",\n        },\n{\n            'v': 794,\n            'f': \"794\",\n        },\n\"0.13%\",\n{\n            'v': 80.88,\n            'f': \"80.88\",\n        }],\n [{\n            'v': 324,\n            'f': \"324\",\n        },\n\"mercedes benz dashboard\",\n{\n            'v': 1,\n            'f': \"1\",\n        },\n{\n            'v': 762,\n            'f': \"762\",\n        },\n\"0.13%\",\n{\n            'v': 1.05,\n            'f': \"1.05\",\n        }],\n [{\n            'v': 325,\n            'f': \"325\",\n        },\n\"mercedes benz vans\",\n{\n            'v': 1,\n            'f': \"1\",\n        },\n{\n            'v': 719,\n            'f': \"719\",\n        },\n\"0.14%\",\n{\n            'v': 36.75,\n            'f': \"36.75\",\n        }],\n [{\n            'v': 326,\n            'f': \"326\",\n        },\n\"mercedes 350 suv\",\n{\n            'v': 1,\n            'f': \"1\",\n        },\n{\n            'v': 691,\n            'f': \"691\",\n        },\n\"0.14%\",\n{\n            'v': 2.1,\n            'f': \"2.1\",\n        }],\n [{\n            'v': 327,\n            'f': \"327\",\n        },\n\"eclass\",\n{\n            'v': 1,\n            'f': \"1\",\n        },\n{\n            'v': 664,\n            'f': \"664\",\n        },\n\"0.15%\",\n{\n            'v': 43.36,\n            'f': \"43.36\",\n        }],\n [{\n            'v': 328,\n            'f': \"328\",\n        },\n\"mercedes benz lease\",\n{\n            'v': 1,\n            'f': \"1\",\n        },\n{\n            'v': 601,\n            'f': \"601\",\n        },\n\"0.17%\",\n{\n            'v': 58.43,\n            'f': \"58.43\",\n        }],\n [{\n            'v': 329,\n            'f': \"329\",\n        },\n\"mercedes specials\",\n{\n            'v': 1,\n            'f': \"1\",\n        },\n{\n            'v': 575,\n            'f': \"575\",\n        },\n\"0.17%\",\n{\n            'v': 26.83,\n            'f': \"26.83\",\n        }],\n [{\n            'v': 330,\n            'f': \"330\",\n        },\n\"my dad\",\n{\n            'v': 1,\n            'f': \"1\",\n        },\n{\n            'v': 555,\n            'f': \"555\",\n        },\n\"0.18%\",\n{\n            'v': 29.1,\n            'f': \"29.1\",\n        }],\n [{\n            'v': 331,\n            'f': \"331\",\n        },\n\"jobs in birmingham\",\n{\n            'v': 1,\n            'f': \"1\",\n        },\n{\n            'v': 486,\n            'f': \"486\",\n        },\n\"0.21%\",\n{\n            'v': 76.36,\n            'f': \"76.36\",\n        }],\n [{\n            'v': 332,\n            'f': \"332\",\n        },\n\"mb usa\",\n{\n            'v': 1,\n            'f': \"1\",\n        },\n{\n            'v': 451,\n            'f': \"451\",\n        },\n\"0.22%\",\n{\n            'v': 55.58,\n            'f': \"55.58\",\n        }],\n [{\n            'v': 333,\n            'f': \"333\",\n        },\n\"mercedes mechanic\",\n{\n            'v': 1,\n            'f': \"1\",\n        },\n{\n            'v': 430,\n            'f': \"430\",\n        },\n\"0.23%\",\n{\n            'v': 68.15,\n            'f': \"68.15\",\n        }],\n [{\n            'v': 334,\n            'f': \"334\",\n        },\n\"mercedes benz specials\",\n{\n            'v': 1,\n            'f': \"1\",\n        },\n{\n            'v': 341,\n            'f': \"341\",\n        },\n\"0.29%\",\n{\n            'v': 24.5,\n            'f': \"24.5\",\n        }],\n [{\n            'v': 335,\n            'f': \"335\",\n        },\n\"bhm.com\",\n{\n            'v': 1,\n            'f': \"1\",\n        },\n{\n            'v': 286,\n            'f': \"286\",\n        },\n\"0.35%\",\n{\n            'v': 7.58,\n            'f': \"7.58\",\n        }],\n [{\n            'v': 336,\n            'f': \"336\",\n        },\n\"mercedes-benz credit card\",\n{\n            'v': 1,\n            'f': \"1\",\n        },\n{\n            'v': 279,\n            'f': \"279\",\n        },\n\"0.36%\",\n{\n            'v': 8.07,\n            'f': \"8.07\",\n        }],\n [{\n            'v': 337,\n            'f': \"337\",\n        },\n\"pre owned mercedes benz\",\n{\n            'v': 1,\n            'f': \"1\",\n        },\n{\n            'v': 258,\n            'f': \"258\",\n        },\n\"0.39%\",\n{\n            'v': 27.25,\n            'f': \"27.25\",\n        }],\n [{\n            'v': 338,\n            'f': \"338\",\n        },\n\"mercedes benz repair\",\n{\n            'v': 1,\n            'f': \"1\",\n        },\n{\n            'v': 240,\n            'f': \"240\",\n        },\n\"0.42%\",\n{\n            'v': 46.27,\n            'f': \"46.27\",\n        }],\n [{\n            'v': 339,\n            'f': \"339\",\n        },\n\"dad story\",\n{\n            'v': 1,\n            'f': \"1\",\n        },\n{\n            'v': 234,\n            'f': \"234\",\n        },\n\"0.43%\",\n{\n            'v': 8.46,\n            'f': \"8.46\",\n        }],\n [{\n            'v': 340,\n            'f': \"340\",\n        },\n\"mb\",\n{\n            'v': 1,\n            'f': \"1\",\n        },\n{\n            'v': 225,\n            'f': \"225\",\n        },\n\"0.44%\",\n{\n            'v': 10.34,\n            'f': \"10.34\",\n        }],\n [{\n            'v': 341,\n            'f': \"341\",\n        },\n\"sprinter dealer\",\n{\n            'v': 1,\n            'f': \"1\",\n        },\n{\n            'v': 221,\n            'f': \"221\",\n        },\n\"0.45%\",\n{\n            'v': 87.61,\n            'f': \"87.61\",\n        }],\n [{\n            'v': 342,\n            'f': \"342\",\n        },\n\"mercedes benz used cars\",\n{\n            'v': 1,\n            'f': \"1\",\n        },\n{\n            'v': 211,\n            'f': \"211\",\n        },\n\"0.47%\",\n{\n            'v': 68.16,\n            'f': \"68.16\",\n        }],\n [{\n            'v': 343,\n            'f': \"343\",\n        },\n\"birmingham luxury cars\",\n{\n            'v': 1,\n            'f': \"1\",\n        },\n{\n            'v': 180,\n            'f': \"180\",\n        },\n\"0.56%\",\n{\n            'v': 10.02,\n            'f': \"10.02\",\n        }],\n [{\n            'v': 344,\n            'f': \"344\",\n        },\n\"mercedes-benz lease\",\n{\n            'v': 1,\n            'f': \"1\",\n        },\n{\n            'v': 162,\n            'f': \"162\",\n        },\n\"0.62%\",\n{\n            'v': 57.15,\n            'f': \"57.15\",\n        }],\n [{\n            'v': 345,\n            'f': \"345\",\n        },\n\"2020 mercedes-benz sprinter passenger van\",\n{\n            'v': 1,\n            'f': \"1\",\n        },\n{\n            'v': 151,\n            'f': \"151\",\n        },\n\"0.66%\",\n{\n            'v': 10.07,\n            'f': \"10.07\",\n        }],\n [{\n            'v': 346,\n            'f': \"346\",\n        },\n\"nick saban signature\",\n{\n            'v': 1,\n            'f': \"1\",\n        },\n{\n            'v': 147,\n            'f': \"147\",\n        },\n\"0.68%\",\n{\n            'v': 1.73,\n            'f': \"1.73\",\n        }],\n [{\n            'v': 347,\n            'f': \"347\",\n        },\n\"mercedes montgomery\",\n{\n            'v': 1,\n            'f': \"1\",\n        },\n{\n            'v': 143,\n            'f': \"143\",\n        },\n\"0.7%\",\n{\n            'v': 16.14,\n            'f': \"16.14\",\n        }],\n [{\n            'v': 348,\n            'f': \"348\",\n        },\n\"2020 mercedes-benz sprinter cargo van\",\n{\n            'v': 1,\n            'f': \"1\",\n        },\n{\n            'v': 142,\n            'f': \"142\",\n        },\n\"0.7%\",\n{\n            'v': 35.64,\n            'f': \"35.64\",\n        }],\n [{\n            'v': 349,\n            'f': \"349\",\n        },\n\"mercedes benz repair near me\",\n{\n            'v': 1,\n            'f': \"1\",\n        },\n{\n            'v': 142,\n            'f': \"142\",\n        },\n\"0.7%\",\n{\n            'v': 75.45,\n            'f': \"75.45\",\n        }],\n [{\n            'v': 350,\n            'f': \"350\",\n        },\n\"mercedes car\",\n{\n            'v': 1,\n            'f': \"1\",\n        },\n{\n            'v': 141,\n            'f': \"141\",\n        },\n\"0.71%\",\n{\n            'v': 71.32,\n            'f': \"71.32\",\n        }],\n [{\n            'v': 351,\n            'f': \"351\",\n        },\n\"mercedes benz parts near me\",\n{\n            'v': 1,\n            'f': \"1\",\n        },\n{\n            'v': 140,\n            'f': \"140\",\n        },\n\"0.71%\",\n{\n            'v': 27.34,\n            'f': \"27.34\",\n        }],\n [{\n            'v': 352,\n            'f': \"352\",\n        },\n\"mercedes benz gle suv\",\n{\n            'v': 1,\n            'f': \"1\",\n        },\n{\n            'v': 140,\n            'f': \"140\",\n        },\n\"0.71%\",\n{\n            'v': 74.0,\n            'f': \"74.0\",\n        }],\n [{\n            'v': 353,\n            'f': \"353\",\n        },\n\"pre owned mercedes suv\",\n{\n            'v': 1,\n            'f': \"1\",\n        },\n{\n            'v': 138,\n            'f': \"138\",\n        },\n\"0.72%\",\n{\n            'v': 40.31,\n            'f': \"40.31\",\n        }],\n [{\n            'v': 354,\n            'f': \"354\",\n        },\n\"mercedes wholesale parts\",\n{\n            'v': 1,\n            'f': \"1\",\n        },\n{\n            'v': 132,\n            'f': \"132\",\n        },\n\"0.76%\",\n{\n            'v': 45.72,\n            'f': \"45.72\",\n        }],\n [{\n            'v': 355,\n            'f': \"355\",\n        },\n\"when did mercedes buy amg\",\n{\n            'v': 1,\n            'f': \"1\",\n        },\n{\n            'v': 131,\n            'f': \"131\",\n        },\n\"0.76%\",\n{\n            'v': 6.66,\n            'f': \"6.66\",\n        }],\n [{\n            'v': 356,\n            'f': \"356\",\n        },\n\"mercedes repair near me\",\n{\n            'v': 1,\n            'f': \"1\",\n        },\n{\n            'v': 128,\n            'f': \"128\",\n        },\n\"0.78%\",\n{\n            'v': 35.14,\n            'f': \"35.14\",\n        }],\n [{\n            'v': 357,\n            'f': \"357\",\n        },\n\"e class\",\n{\n            'v': 1,\n            'f': \"1\",\n        },\n{\n            'v': 126,\n            'f': \"126\",\n        },\n\"0.79%\",\n{\n            'v': 24.87,\n            'f': \"24.87\",\n        }],\n [{\n            'v': 358,\n            'f': \"358\",\n        },\n\"mercedes benz dealerships near me\",\n{\n            'v': 1,\n            'f': \"1\",\n        },\n{\n            'v': 119,\n            'f': \"119\",\n        },\n\"0.84%\",\n{\n            'v': 68.1,\n            'f': \"68.1\",\n        }],\n [{\n            'v': 359,\n            'f': \"359\",\n        },\n\"mercedes birmingham mi\",\n{\n            'v': 1,\n            'f': \"1\",\n        },\n{\n            'v': 118,\n            'f': \"118\",\n        },\n\"0.85%\",\n{\n            'v': 8.09,\n            'f': \"8.09\",\n        }],\n [{\n            'v': 360,\n            'f': \"360\",\n        },\n\"v12 biturbo\",\n{\n            'v': 1,\n            'f': \"1\",\n        },\n{\n            'v': 118,\n            'f': \"118\",\n        },\n\"0.85%\",\n{\n            'v': 24.15,\n            'f': \"24.15\",\n        }],\n [{\n            'v': 361,\n            'f': \"361\",\n        },\n\"mercedes-benz service near me\",\n{\n            'v': 1,\n            'f': \"1\",\n        },\n{\n            'v': 117,\n            'f': \"117\",\n        },\n\"0.85%\",\n{\n            'v': 72.81,\n            'f': \"72.81\",\n        }],\n [{\n            'v': 362,\n            'f': \"362\",\n        },\n\"mercedes repair birmingham al\",\n{\n            'v': 1,\n            'f': \"1\",\n        },\n{\n            'v': 116,\n            'f': \"116\",\n        },\n\"0.86%\",\n{\n            'v': 3.63,\n            'f': \"3.63\",\n        }],\n [{\n            'v': 363,\n            'f': \"363\",\n        },\n\"mercedes benz used cars birmingham\",\n{\n            'v': 1,\n            'f': \"1\",\n        },\n{\n            'v': 116,\n            'f': \"116\",\n        },\n\"0.86%\",\n{\n            'v': 69.85,\n            'f': \"69.85\",\n        }],\n [{\n            'v': 364,\n            'f': \"364\",\n        },\n\"preowned mercedes benz\",\n{\n            'v': 1,\n            'f': \"1\",\n        },\n{\n            'v': 113,\n            'f': \"113\",\n        },\n\"0.88%\",\n{\n            'v': 27.03,\n            'f': \"27.03\",\n        }],\n [{\n            'v': 365,\n            'f': \"365\",\n        },\n\"mercedes lease deals\",\n{\n            'v': 1,\n            'f': \"1\",\n        },\n{\n            'v': 111,\n            'f': \"111\",\n        },\n\"0.9%\",\n{\n            'v': 39.08,\n            'f': \"39.08\",\n        }],\n [{\n            'v': 366,\n            'f': \"366\",\n        },\n\"used mercedes benz for sale\",\n{\n            'v': 1,\n            'f': \"1\",\n        },\n{\n            'v': 111,\n            'f': \"111\",\n        },\n\"0.9%\",\n{\n            'v': 39.73,\n            'f': \"39.73\",\n        }],\n [{\n            'v': 367,\n            'f': \"367\",\n        },\n\"mercedes utility van\",\n{\n            'v': 1,\n            'f': \"1\",\n        },\n{\n            'v': 99,\n            'f': \"99\",\n        },\n\"1.01%\",\n{\n            'v': 34.81,\n            'f': \"34.81\",\n        }],\n [{\n            'v': 368,\n            'f': \"368\",\n        },\n\"used mercedes benz for sale birmingham\",\n{\n            'v': 1,\n            'f': \"1\",\n        },\n{\n            'v': 98,\n            'f': \"98\",\n        },\n\"1.02%\",\n{\n            'v': 71.68,\n            'f': \"71.68\",\n        }],\n [{\n            'v': 369,\n            'f': \"369\",\n        },\n\"mercede benz\",\n{\n            'v': 1,\n            'f': \"1\",\n        },\n{\n            'v': 97,\n            'f': \"97\",\n        },\n\"1.03%\",\n{\n            'v': 55.88,\n            'f': \"55.88\",\n        }],\n [{\n            'v': 370,\n            'f': \"370\",\n        },\n\"mercedes-benz lease deals 0 down\",\n{\n            'v': 1,\n            'f': \"1\",\n        },\n{\n            'v': 95,\n            'f': \"95\",\n        },\n\"1.05%\",\n{\n            'v': 23.18,\n            'f': \"23.18\",\n        }],\n [{\n            'v': 371,\n            'f': \"371\",\n        },\n\"mercedes wagon for sale\",\n{\n            'v': 1,\n            'f': \"1\",\n        },\n{\n            'v': 87,\n            'f': \"87\",\n        },\n\"1.15%\",\n{\n            'v': 60.71,\n            'f': \"60.71\",\n        }],\n [{\n            'v': 372,\n            'f': \"372\",\n        },\n\"mercedes benz coupons\",\n{\n            'v': 1,\n            'f': \"1\",\n        },\n{\n            'v': 82,\n            'f': \"82\",\n        },\n\"1.22%\",\n{\n            'v': 77.28,\n            'f': \"77.28\",\n        }],\n [{\n            'v': 373,\n            'f': \"373\",\n        },\n\"mercedes benz g class for sale\",\n{\n            'v': 1,\n            'f': \"1\",\n        },\n{\n            'v': 79,\n            'f': \"79\",\n        },\n\"1.27%\",\n{\n            'v': 62.46,\n            'f': \"62.46\",\n        }],\n [{\n            'v': 374,\n            'f': \"374\",\n        },\n\"irondale al used cars\",\n{\n            'v': 1,\n            'f': \"1\",\n        },\n{\n            'v': 76,\n            'f': \"76\",\n        },\n\"1.32%\",\n{\n            'v': 8.04,\n            'f': \"8.04\",\n        }],\n [{\n            'v': 375,\n            'f': \"375\",\n        },\n\"gle lease\",\n{\n            'v': 1,\n            'f': \"1\",\n        },\n{\n            'v': 75,\n            'f': \"75\",\n        },\n\"1.33%\",\n{\n            'v': 15.48,\n            'f': \"15.48\",\n        }],\n [{\n            'v': 376,\n            'f': \"376\",\n        },\n\"mercedes of\",\n{\n            'v': 1,\n            'f': \"1\",\n        },\n{\n            'v': 73,\n            'f': \"73\",\n        },\n\"1.37%\",\n{\n            'v': 47.53,\n            'f': \"47.53\",\n        }],\n [{\n            'v': 377,\n            'f': \"377\",\n        },\n\"mercedes benz gls for sale\",\n{\n            'v': 1,\n            'f': \"1\",\n        },\n{\n            'v': 73,\n            'f': \"73\",\n        },\n\"1.37%\",\n{\n            'v': 48.03,\n            'f': \"48.03\",\n        }],\n [{\n            'v': 378,\n            'f': \"378\",\n        },\n\"new mercedes suv\",\n{\n            'v': 1,\n            'f': \"1\",\n        },\n{\n            'v': 70,\n            'f': \"70\",\n        },\n\"1.43%\",\n{\n            'v': 74.17,\n            'f': \"74.17\",\n        }],\n [{\n            'v': 379,\n            'f': \"379\",\n        },\n\"mercedes-benz near me\",\n{\n            'v': 1,\n            'f': \"1\",\n        },\n{\n            'v': 68,\n            'f': \"68\",\n        },\n\"1.47%\",\n{\n            'v': 57.65,\n            'f': \"57.65\",\n        }],\n [{\n            'v': 380,\n            'f': \"380\",\n        },\n\"mbenz\",\n{\n            'v': 1,\n            'f': \"1\",\n        },\n{\n            'v': 67,\n            'f': \"67\",\n        },\n\"1.49%\",\n{\n            'v': 78.58,\n            'f': \"78.58\",\n        }],\n [{\n            'v': 381,\n            'f': \"381\",\n        },\n\"mercedes-benz products\",\n{\n            'v': 1,\n            'f': \"1\",\n        },\n{\n            'v': 61,\n            'f': \"61\",\n        },\n\"1.64%\",\n{\n            'v': 10.85,\n            'f': \"10.85\",\n        }],\n [{\n            'v': 382,\n            'f': \"382\",\n        },\n\"mercedes benz cls for sale\",\n{\n            'v': 1,\n            'f': \"1\",\n        },\n{\n            'v': 61,\n            'f': \"61\",\n        },\n\"1.64%\",\n{\n            'v': 46.64,\n            'f': \"46.64\",\n        }],\n [{\n            'v': 383,\n            'f': \"383\",\n        },\n\"benz dealership near me\",\n{\n            'v': 1,\n            'f': \"1\",\n        },\n{\n            'v': 60,\n            'f': \"60\",\n        },\n\"1.67%\",\n{\n            'v': 2.7,\n            'f': \"2.7\",\n        }],\n [{\n            'v': 384,\n            'f': \"384\",\n        },\n\"012989177109\",\n{\n            'v': 1,\n            'f': \"1\",\n        },\n{\n            'v': 60,\n            'f': \"60\",\n        },\n\"1.67%\",\n{\n            'v': 9.18,\n            'f': \"9.18\",\n        }],\n [{\n            'v': 385,\n            'f': \"385\",\n        },\n\"hoover dealership\",\n{\n            'v': 1,\n            'f': \"1\",\n        },\n{\n            'v': 58,\n            'f': \"58\",\n        },\n\"1.72%\",\n{\n            'v': 45.69,\n            'f': \"45.69\",\n        }],\n [{\n            'v': 386,\n            'f': \"386\",\n        },\n\"mercedes deals\",\n{\n            'v': 1,\n            'f': \"1\",\n        },\n{\n            'v': 57,\n            'f': \"57\",\n        },\n\"1.75%\",\n{\n            'v': 31.0,\n            'f': \"31.0\",\n        }],\n [{\n            'v': 387,\n            'f': \"387\",\n        },\n\"mb dealers\",\n{\n            'v': 1,\n            'f': \"1\",\n        },\n{\n            'v': 57,\n            'f': \"57\",\n        },\n\"1.75%\",\n{\n            'v': 68.6,\n            'f': \"68.6\",\n        }],\n [{\n            'v': 388,\n            'f': \"388\",\n        },\n\"birmingham car dealers\",\n{\n            'v': 1,\n            'f': \"1\",\n        },\n{\n            'v': 56,\n            'f': \"56\",\n        },\n\"1.79%\",\n{\n            'v': 46.21,\n            'f': \"46.21\",\n        }],\n [{\n            'v': 389,\n            'f': \"389\",\n        },\n\"mercedes financing offers\",\n{\n            'v': 1,\n            'f': \"1\",\n        },\n{\n            'v': 52,\n            'f': \"52\",\n        },\n\"1.92%\",\n{\n            'v': 26.06,\n            'f': \"26.06\",\n        }],\n [{\n            'v': 390,\n            'f': \"390\",\n        },\n\"life story of my father\",\n{\n            'v': 1,\n            'f': \"1\",\n        },\n{\n            'v': 51,\n            'f': \"51\",\n        },\n\"1.96%\",\n{\n            'v': 9.16,\n            'f': \"9.16\",\n        }],\n [{\n            'v': 391,\n            'f': \"391\",\n        },\n\"the story of my father\",\n{\n            'v': 1,\n            'f': \"1\",\n        },\n{\n            'v': 51,\n            'f': \"51\",\n        },\n\"1.96%\",\n{\n            'v': 10.75,\n            'f': \"10.75\",\n        }],\n [{\n            'v': 392,\n            'f': \"392\",\n        },\n\"dealerships in birmingham al\",\n{\n            'v': 1,\n            'f': \"1\",\n        },\n{\n            'v': 51,\n            'f': \"51\",\n        },\n\"1.96%\",\n{\n            'v': 59.96,\n            'f': \"59.96\",\n        }],\n [{\n            'v': 393,\n            'f': \"393\",\n        },\n\"first mercedes benz amg\",\n{\n            'v': 1,\n            'f': \"1\",\n        },\n{\n            'v': 50,\n            'f': \"50\",\n        },\n\"2%\",\n{\n            'v': 5.78,\n            'f': \"5.78\",\n        }],\n [{\n            'v': 394,\n            'f': \"394\",\n        },\n\"mercedes benz jobs near me\",\n{\n            'v': 1,\n            'f': \"1\",\n        },\n{\n            'v': 50,\n            'f': \"50\",\n        },\n\"2%\",\n{\n            'v': 10.24,\n            'f': \"10.24\",\n        }],\n [{\n            'v': 395,\n            'f': \"395\",\n        },\n\"mercedes benz repair shop\",\n{\n            'v': 1,\n            'f': \"1\",\n        },\n{\n            'v': 49,\n            'f': \"49\",\n        },\n\"2.04%\",\n{\n            'v': 42.82,\n            'f': \"42.82\",\n        }],\n [{\n            'v': 396,\n            'f': \"396\",\n        },\n\"mercedes benz loyalty incentive\",\n{\n            'v': 1,\n            'f': \"1\",\n        },\n{\n            'v': 48,\n            'f': \"48\",\n        },\n\"2.08%\",\n{\n            'v': 6.06,\n            'f': \"6.06\",\n        }],\n [{\n            'v': 397,\n            'f': \"397\",\n        },\n\"birmingham dealerships\",\n{\n            'v': 1,\n            'f': \"1\",\n        },\n{\n            'v': 48,\n            'f': \"48\",\n        },\n\"2.08%\",\n{\n            'v': 61.25,\n            'f': \"61.25\",\n        }],\n [{\n            'v': 398,\n            'f': \"398\",\n        },\n\"mercedes diamond blue metallic\",\n{\n            'v': 1,\n            'f': \"1\",\n        },\n{\n            'v': 47,\n            'f': \"47\",\n        },\n\"2.13%\",\n{\n            'v': 8.28,\n            'f': \"8.28\",\n        }],\n [{\n            'v': 399,\n            'f': \"399\",\n        },\n\"mercedes actros dash warning lights\",\n{\n            'v': 1,\n            'f': \"1\",\n        },\n{\n            'v': 47,\n            'f': \"47\",\n        },\n\"2.13%\",\n{\n            'v': 22.32,\n            'f': \"22.32\",\n        }],\n [{\n            'v': 400,\n            'f': \"400\",\n        },\n\"nicholas saban\",\n{\n            'v': 1,\n            'f': \"1\",\n        },\n{\n            'v': 47,\n            'f': \"47\",\n        },\n\"2.13%\",\n{\n            'v': 28.34,\n            'f': \"28.34\",\n        }],\n [{\n            'v': 401,\n            'f': \"401\",\n        },\n\"mercedes benz first amg\",\n{\n            'v': 1,\n            'f': \"1\",\n        },\n{\n            'v': 46,\n            'f': \"46\",\n        },\n\"2.17%\",\n{\n            'v': 4.2,\n            'f': \"4.2\",\n        }],\n [{\n            'v': 402,\n            'f': \"402\",\n        },\n\"metris passenger van interior dimensions\",\n{\n            'v': 1,\n            'f': \"1\",\n        },\n{\n            'v': 45,\n            'f': \"45\",\n        },\n\"2.22%\",\n{\n            'v': 2.0,\n            'f': \"2.0\",\n        }],\n [{\n            'v': 403,\n            'f': \"403\",\n        },\n\"mercedes benz e300 lease\",\n{\n            'v': 1,\n            'f': \"1\",\n        },\n{\n            'v': 45,\n            'f': \"45\",\n        },\n\"2.22%\",\n{\n            'v': 11.27,\n            'f': \"11.27\",\n        }],\n [{\n            'v': 404,\n            'f': \"404\",\n        },\n\"mercedes executive demo\",\n{\n            'v': 1,\n            'f': \"1\",\n        },\n{\n            'v': 44,\n            'f': \"44\",\n        },\n\"2.27%\",\n{\n            'v': 10.07,\n            'f': \"10.07\",\n        }],\n [{\n            'v': 405,\n            'f': \"405\",\n        },\n\"mercedes gle 350 lease specials\",\n{\n            'v': 1,\n            'f': \"1\",\n        },\n{\n            'v': 43,\n            'f': \"43\",\n        },\n\"2.33%\",\n{\n            'v': 6.93,\n            'f': \"6.93\",\n        }],\n [{\n            'v': 406,\n            'f': \"406\",\n        },\n\"lease mercedes\",\n{\n            'v': 1,\n            'f': \"1\",\n        },\n{\n            'v': 43,\n            'f': \"43\",\n        },\n\"2.33%\",\n{\n            'v': 53.19,\n            'f': \"53.19\",\n        }],\n [{\n            'v': 407,\n            'f': \"407\",\n        },\n\"mercedes benz leases\",\n{\n            'v': 1,\n            'f': \"1\",\n        },\n{\n            'v': 43,\n            'f': \"43\",\n        },\n\"2.33%\",\n{\n            'v': 77.4,\n            'f': \"77.4\",\n        }],\n [{\n            'v': 408,\n            'f': \"408\",\n        },\n\"mercedes benz birmingham mi\",\n{\n            'v': 1,\n            'f': \"1\",\n        },\n{\n            'v': 42,\n            'f': \"42\",\n        },\n\"2.38%\",\n{\n            'v': 6.0,\n            'f': \"6.0\",\n        }],\n [{\n            'v': 409,\n            'f': \"409\",\n        },\n\"mercedes coupons\",\n{\n            'v': 1,\n            'f': \"1\",\n        },\n{\n            'v': 41,\n            'f': \"41\",\n        },\n\"2.44%\",\n{\n            'v': 49.51,\n            'f': \"49.51\",\n        }],\n [{\n            'v': 410,\n            'f': \"410\",\n        },\n\"mercedes dealers in alabama\",\n{\n            'v': 1,\n            'f': \"1\",\n        },\n{\n            'v': 40,\n            'f': \"40\",\n        },\n\"2.5%\",\n{\n            'v': 1.62,\n            'f': \"1.62\",\n        }],\n [{\n            'v': 411,\n            'f': \"411\",\n        },\n\"mercedes inventory\",\n{\n            'v': 1,\n            'f': \"1\",\n        },\n{\n            'v': 39,\n            'f': \"39\",\n        },\n\"2.56%\",\n{\n            'v': 67.26,\n            'f': \"67.26\",\n        }],\n [{\n            'v': 412,\n            'f': \"412\",\n        },\n\"mercedes metal weave trim\",\n{\n            'v': 1,\n            'f': \"1\",\n        },\n{\n            'v': 38,\n            'f': \"38\",\n        },\n\"2.63%\",\n{\n            'v': 14.03,\n            'f': \"14.03\",\n        }],\n [{\n            'v': 413,\n            'f': \"413\",\n        },\n\"mercedes benz demo cars\",\n{\n            'v': 1,\n            'f': \"1\",\n        },\n{\n            'v': 38,\n            'f': \"38\",\n        },\n\"2.63%\",\n{\n            'v': 15.39,\n            'f': \"15.39\",\n        }],\n [{\n            'v': 414,\n            'f': \"414\",\n        },\n\"mercedes employment\",\n{\n            'v': 1,\n            'f': \"1\",\n        },\n{\n            'v': 38,\n            'f': \"38\",\n        },\n\"2.63%\",\n{\n            'v': 23.16,\n            'f': \"23.16\",\n        }],\n [{\n            'v': 415,\n            'f': \"415\",\n        },\n\"mercedes benz first time buyer program\",\n{\n            'v': 1,\n            'f': \"1\",\n        },\n{\n            'v': 36,\n            'f': \"36\",\n        },\n\"2.78%\",\n{\n            'v': 5.22,\n            'f': \"5.22\",\n        }],\n [{\n            'v': 416,\n            'f': \"416\",\n        },\n\"mercedes job application\",\n{\n            'v': 1,\n            'f': \"1\",\n        },\n{\n            'v': 36,\n            'f': \"36\",\n        },\n\"2.78%\",\n{\n            'v': 9.25,\n            'f': \"9.25\",\n        }],\n [{\n            'v': 417,\n            'f': \"417\",\n        },\n\"luxury car dealership\",\n{\n            'v': 1,\n            'f': \"1\",\n        },\n{\n            'v': 35,\n            'f': \"35\",\n        },\n\"2.86%\",\n{\n            'v': 52.74,\n            'f': \"52.74\",\n        }],\n [{\n            'v': 418,\n            'f': \"418\",\n        },\n\"anthony glover\",\n{\n            'v': 1,\n            'f': \"1\",\n        },\n{\n            'v': 34,\n            'f': \"34\",\n        },\n\"2.94%\",\n{\n            'v': 43.91,\n            'f': \"43.91\",\n        }],\n [{\n            'v': 419,\n            'f': \"419\",\n        },\n\"edgars near me\",\n{\n            'v': 1,\n            'f': \"1\",\n        },\n{\n            'v': 33,\n            'f': \"33\",\n        },\n\"3.03%\",\n{\n            'v': 13.82,\n            'f': \"13.82\",\n        }],\n [{\n            'v': 420,\n            'f': \"420\",\n        },\n\"diamond blue mercedes\",\n{\n            'v': 1,\n            'f': \"1\",\n        },\n{\n            'v': 32,\n            'f': \"32\",\n        },\n\"3.12%\",\n{\n            'v': 5.75,\n            'f': \"5.75\",\n        }],\n [{\n            'v': 421,\n            'f': \"421\",\n        },\n\"mercedes gle lease deals\",\n{\n            'v': 1,\n            'f': \"1\",\n        },\n{\n            'v': 32,\n            'f': \"32\",\n        },\n\"3.12%\",\n{\n            'v': 39.12,\n            'f': \"39.12\",\n        }],\n [{\n            'v': 422,\n            'f': \"422\",\n        },\n\"metris interior dimensions\",\n{\n            'v': 1,\n            'f': \"1\",\n        },\n{\n            'v': 31,\n            'f': \"31\",\n        },\n\"3.23%\",\n{\n            'v': 1.03,\n            'f': \"1.03\",\n        }],\n [{\n            'v': 423,\n            'f': \"423\",\n        },\n\"first sadak amg\",\n{\n            'v': 1,\n            'f': \"1\",\n        },\n{\n            'v': 31,\n            'f': \"31\",\n        },\n\"3.23%\",\n{\n            'v': 5.35,\n            'f': \"5.35\",\n        }],\n [{\n            'v': 424,\n            'f': \"424\",\n        },\n\"demo mercedes benz\",\n{\n            'v': 1,\n            'f': \"1\",\n        },\n{\n            'v': 31,\n            'f': \"31\",\n        },\n\"3.23%\",\n{\n            'v': 8.45,\n            'f': \"8.45\",\n        }],\n [{\n            'v': 425,\n            'f': \"425\",\n        },\n\"mercedes demo lease\",\n{\n            'v': 1,\n            'f': \"1\",\n        },\n{\n            'v': 31,\n            'f': \"31\",\n        },\n\"3.23%\",\n{\n            'v': 9.45,\n            'f': \"9.45\",\n        }],\n [{\n            'v': 426,\n            'f': \"426\",\n        },\n\"mercedes pre owned vehicles\",\n{\n            'v': 1,\n            'f': \"1\",\n        },\n{\n            'v': 31,\n            'f': \"31\",\n        },\n\"3.23%\",\n{\n            'v': 60.16,\n            'f': \"60.16\",\n        }],\n [{\n            'v': 427,\n            'f': \"427\",\n        },\n\"boubacar thiam\",\n{\n            'v': 1,\n            'f': \"1\",\n        },\n{\n            'v': 30,\n            'f': \"30\",\n        },\n\"3.33%\",\n{\n            'v': 3.87,\n            'f': \"3.87\",\n        }],\n [{\n            'v': 428,\n            'f': \"428\",\n        },\n\"crown automotive birmingham al\",\n{\n            'v': 1,\n            'f': \"1\",\n        },\n{\n            'v': 29,\n            'f': \"29\",\n        },\n\"3.45%\",\n{\n            'v': 5.34,\n            'f': \"5.34\",\n        }],\n [{\n            'v': 429,\n            'f': \"429\",\n        },\n\"602589004000\",\n{\n            'v': 1,\n            'f': \"1\",\n        },\n{\n            'v': 29,\n            'f': \"29\",\n        },\n\"3.45%\",\n{\n            'v': 44.55,\n            'f': \"44.55\",\n        }],\n [{\n            'v': 430,\n            'f': \"430\",\n        },\n\"mercedes careers alabama\",\n{\n            'v': 1,\n            'f': \"1\",\n        },\n{\n            'v': 28,\n            'f': \"28\",\n        },\n\"3.57%\",\n{\n            'v': 10.18,\n            'f': \"10.18\",\n        }],\n [{\n            'v': 431,\n            'f': \"431\",\n        },\n\"mercedes pre owned certified\",\n{\n            'v': 1,\n            'f': \"1\",\n        },\n{\n            'v': 28,\n            'f': \"28\",\n        },\n\"3.57%\",\n{\n            'v': 28.14,\n            'f': \"28.14\",\n        }],\n [{\n            'v': 432,\n            'f': \"432\",\n        },\n\"hoover used cars\",\n{\n            'v': 1,\n            'f': \"1\",\n        },\n{\n            'v': 28,\n            'f': \"28\",\n        },\n\"3.57%\",\n{\n            'v': 32.14,\n            'f': \"32.14\",\n        }],\n [{\n            'v': 433,\n            'f': \"433\",\n        },\n\"level 205 happy glass\",\n{\n            'v': 1,\n            'f': \"1\",\n        },\n{\n            'v': 28,\n            'f': \"28\",\n        },\n\"3.57%\",\n{\n            'v': 64.07,\n            'f': \"64.07\",\n        }],\n [{\n            'v': 434,\n            'f': \"434\",\n        },\n\"mercedes benz protection\",\n{\n            'v': 1,\n            'f': \"1\",\n        },\n{\n            'v': 26,\n            'f': \"26\",\n        },\n\"3.85%\",\n{\n            'v': 6.35,\n            'f': \"6.35\",\n        }],\n [{\n            'v': 435,\n            'f': \"435\",\n        },\n\"2742003300\",\n{\n            'v': 1,\n            'f': \"1\",\n        },\n{\n            'v': 26,\n            'f': \"26\",\n        },\n\"3.85%\",\n{\n            'v': 8.19,\n            'f': \"8.19\",\n        }],\n [{\n            'v': 436,\n            'f': \"436\",\n        },\n\"merceded\",\n{\n            'v': 1,\n            'f': \"1\",\n        },\n{\n            'v': 26,\n            'f': \"26\",\n        },\n\"3.85%\",\n{\n            'v': 50.31,\n            'f': \"50.31\",\n        }],\n [{\n            'v': 437,\n            'f': \"437\",\n        },\n\"1961 corvair\",\n{\n            'v': 1,\n            'f': \"1\",\n        },\n{\n            'v': 26,\n            'f': \"26\",\n        },\n\"3.85%\",\n{\n            'v': 66.92,\n            'f': \"66.92\",\n        }],\n [{\n            'v': 438,\n            'f': \"438\",\n        },\n\"the first amg mercedes\",\n{\n            'v': 1,\n            'f': \"1\",\n        },\n{\n            'v': 25,\n            'f': \"25\",\n        },\n\"4%\",\n{\n            'v': 4.56,\n            'f': \"4.56\",\n        }],\n [{\n            'v': 439,\n            'f': \"439\",\n        },\n\"used mercedes dealership\",\n{\n            'v': 1,\n            'f': \"1\",\n        },\n{\n            'v': 25,\n            'f': \"25\",\n        },\n\"4%\",\n{\n            'v': 65.04,\n            'f': \"65.04\",\n        }],\n [{\n            'v': 440,\n            'f': \"440\",\n        },\n\"bhm .com\",\n{\n            'v': 1,\n            'f': \"1\",\n        },\n{\n            'v': 24,\n            'f': \"24\",\n        },\n\"4.17%\",\n{\n            'v': 9.25,\n            'f': \"9.25\",\n        }],\n [{\n            'v': 441,\n            'f': \"441\",\n        },\n\"mercedes dealers birmingham\",\n{\n            'v': 1,\n            'f': \"1\",\n        },\n{\n            'v': 23,\n            'f': \"23\",\n        },\n\"4.35%\",\n{\n            'v': 11.13,\n            'f': \"11.13\",\n        }],\n [{\n            'v': 442,\n            'f': \"442\",\n        },\n\"ocp mercedes\",\n{\n            'v': 1,\n            'f': \"1\",\n        },\n{\n            'v': 23,\n            'f': \"23\",\n        },\n\"4.35%\",\n{\n            'v': 14.48,\n            'f': \"14.48\",\n        }],\n [{\n            'v': 443,\n            'f': \"443\",\n        },\n\"mercedes c300 dashboard symbols\",\n{\n            'v': 1,\n            'f': \"1\",\n        },\n{\n            'v': 23,\n            'f': \"23\",\n        },\n\"4.35%\",\n{\n            'v': 20.83,\n            'f': \"20.83\",\n        }],\n [{\n            'v': 444,\n            'f': \"444\",\n        },\n\"mercedies\",\n{\n            'v': 1,\n            'f': \"1\",\n        },\n{\n            'v': 23,\n            'f': \"23\",\n        },\n\"4.35%\",\n{\n            'v': 45.04,\n            'f': \"45.04\",\n        }],\n [{\n            'v': 445,\n            'f': \"445\",\n        },\n\"gls vs x7\",\n{\n            'v': 1,\n            'f': \"1\",\n        },\n{\n            'v': 23,\n            'f': \"23\",\n        },\n\"4.35%\",\n{\n            'v': 53.13,\n            'f': \"53.13\",\n        }],\n [{\n            'v': 446,\n            'f': \"446\",\n        },\n\"merecedes benz\",\n{\n            'v': 1,\n            'f': \"1\",\n        },\n{\n            'v': 22,\n            'f': \"22\",\n        },\n\"4.55%\",\n{\n            'v': 48.64,\n            'f': \"48.64\",\n        }],\n [{\n            'v': 447,\n            'f': \"447\",\n        },\n\"mercedes benz car dealership\",\n{\n            'v': 1,\n            'f': \"1\",\n        },\n{\n            'v': 22,\n            'f': \"22\",\n        },\n\"4.55%\",\n{\n            'v': 54.91,\n            'f': \"54.91\",\n        }],\n [{\n            'v': 448,\n            'f': \"448\",\n        },\n\"mercedes dealership near me now\",\n{\n            'v': 1,\n            'f': \"1\",\n        },\n{\n            'v': 22,\n            'f': \"22\",\n        },\n\"4.55%\",\n{\n            'v': 71.77,\n            'f': \"71.77\",\n        }],\n [{\n            'v': 449,\n            'f': \"449\",\n        },\n\"mercedes benz birmingham central\",\n{\n            'v': 1,\n            'f': \"1\",\n        },\n{\n            'v': 21,\n            'f': \"21\",\n        },\n\"4.76%\",\n{\n            'v': 9.38,\n            'f': \"9.38\",\n        }],\n [{\n            'v': 450,\n            'f': \"450\",\n        },\n\"gla 250 suv lease\",\n{\n            'v': 1,\n            'f': \"1\",\n        },\n{\n            'v': 21,\n            'f': \"21\",\n        },\n\"4.76%\",\n{\n            'v': 10.48,\n            'f': \"10.48\",\n        }],\n [{\n            'v': 451,\n            'f': \"451\",\n        },\n\"5.5l v8\",\n{\n            'v': 1,\n            'f': \"1\",\n        },\n{\n            'v': 21,\n            'f': \"21\",\n        },\n\"4.76%\",\n{\n            'v': 10.86,\n            'f': \"10.86\",\n        }],\n [{\n            'v': 452,\n            'f': \"452\",\n        },\n\"lease a mercedes\",\n{\n            'v': 1,\n            'f': \"1\",\n        },\n{\n            'v': 21,\n            'f': \"21\",\n        },\n\"4.76%\",\n{\n            'v': 25.71,\n            'f': \"25.71\",\n        }],\n [{\n            'v': 453,\n            'f': \"453\",\n        },\n\"mercedes-benz used\",\n{\n            'v': 1,\n            'f': \"1\",\n        },\n{\n            'v': 21,\n            'f': \"21\",\n        },\n\"4.76%\",\n{\n            'v': 76.71,\n            'f': \"76.71\",\n        }],\n [{\n            'v': 454,\n            'f': \"454\",\n        },\n\"mercedes hiring near me\",\n{\n            'v': 1,\n            'f': \"1\",\n        },\n{\n            'v': 20,\n            'f': \"20\",\n        },\n\"5%\",\n{\n            'v': 6.45,\n            'f': \"6.45\",\n        }],\n [{\n            'v': 455,\n            'f': \"455\",\n        },\n\"my dad i\",\n{\n            'v': 1,\n            'f': \"1\",\n        },\n{\n            'v': 20,\n            'f': \"20\",\n        },\n\"5%\",\n{\n            'v': 8.3,\n            'f': \"8.3\",\n        }],\n [{\n            'v': 456,\n            'f': \"456\",\n        },\n\"mercedees\",\n{\n            'v': 1,\n            'f': \"1\",\n        },\n{\n            'v': 20,\n            'f': \"20\",\n        },\n\"5%\",\n{\n            'v': 44.25,\n            'f': \"44.25\",\n        }],\n [{\n            'v': 457,\n            'f': \"457\",\n        },\n\"used mercedes-benz for sale in birmingham, al\",\n{\n            'v': 1,\n            'f': \"1\",\n        },\n{\n            'v': 19,\n            'f': \"19\",\n        },\n\"5.26%\",\n{\n            'v': 3.68,\n            'f': \"3.68\",\n        }],\n [{\n            'v': 458,\n            'f': \"458\",\n        },\n\"mercedes car for sale\",\n{\n            'v': 1,\n            'f': \"1\",\n        },\n{\n            'v': 19,\n            'f': \"19\",\n        },\n\"5.26%\",\n{\n            'v': 79.42,\n            'f': \"79.42\",\n        }],\n [{\n            'v': 459,\n            'f': \"459\",\n        },\n\"mercedes lunar blue metallic\",\n{\n            'v': 1,\n            'f': \"1\",\n        },\n{\n            'v': 18,\n            'f': \"18\",\n        },\n\"5.56%\",\n{\n            'v': 18.39,\n            'f': \"18.39\",\n        }],\n [{\n            'v': 460,\n            'f': \"460\",\n        },\n\"mersedes benz\",\n{\n            'v': 1,\n            'f': \"1\",\n        },\n{\n            'v': 18,\n            'f': \"18\",\n        },\n\"5.56%\",\n{\n            'v': 65.5,\n            'f': \"65.5\",\n        }],\n [{\n            'v': 461,\n            'f': \"461\",\n        },\n\"2020 mercedes benz cls 450 coupe\",\n{\n            'v': 1,\n            'f': \"1\",\n        },\n{\n            'v': 17,\n            'f': \"17\",\n        },\n\"5.88%\",\n{\n            'v': 1.0,\n            'f': \"1.0\",\n        }],\n [{\n            'v': 462,\n            'f': \"462\",\n        },\n\"mercedes benz executive demo cars\",\n{\n            'v': 1,\n            'f': \"1\",\n        },\n{\n            'v': 17,\n            'f': \"17\",\n        },\n\"5.88%\",\n{\n            'v': 17.18,\n            'f': \"17.18\",\n        }],\n [{\n            'v': 463,\n            'f': \"463\",\n        },\n\"mercedes benz glk for sale\",\n{\n            'v': 1,\n            'f': \"1\",\n        },\n{\n            'v': 17,\n            'f': \"17\",\n        },\n\"5.88%\",\n{\n            'v': 23.41,\n            'f': \"23.41\",\n        }],\n [{\n            'v': 464,\n            'f': \"464\",\n        },\n\"sprinter 4x4 towing capacity\",\n{\n            'v': 1,\n            'f': \"1\",\n        },\n{\n            'v': 17,\n            'f': \"17\",\n        },\n\"5.88%\",\n{\n            'v': 35.24,\n            'f': \"35.24\",\n        }],\n [{\n            'v': 465,\n            'f': \"465\",\n        },\n\"mercedes sprinter dealer near me\",\n{\n            'v': 1,\n            'f': \"1\",\n        },\n{\n            'v': 17,\n            'f': \"17\",\n        },\n\"5.88%\",\n{\n            'v': 62.12,\n            'f': \"62.12\",\n        }],\n [{\n            'v': 466,\n            'f': \"466\",\n        },\n\"gle 42\",\n{\n            'v': 1,\n            'f': \"1\",\n        },\n{\n            'v': 16,\n            'f': \"16\",\n        },\n\"6.25%\",\n{\n            'v': 9.88,\n            'f': \"9.88\",\n        }],\n [{\n            'v': 467,\n            'f': \"467\",\n        },\n\"lease mercedes gle\",\n{\n            'v': 1,\n            'f': \"1\",\n        },\n{\n            'v': 16,\n            'f': \"16\",\n        },\n\"6.25%\",\n{\n            'v': 10.69,\n            'f': \"10.69\",\n        }],\n [{\n            'v': 468,\n            'f': \"468\",\n        },\n\"mercedes for sale birmingham\",\n{\n            'v': 1,\n            'f': \"1\",\n        },\n{\n            'v': 16,\n            'f': \"16\",\n        },\n\"6.25%\",\n{\n            'v': 10.81,\n            'f': \"10.81\",\n        }],\n [{\n            'v': 469,\n            'f': \"469\",\n        },\n\"2020 cla 250 lease\",\n{\n            'v': 1,\n            'f': \"1\",\n        },\n{\n            'v': 16,\n            'f': \"16\",\n        },\n\"6.25%\",\n{\n            'v': 11.56,\n            'f': \"11.56\",\n        }],\n [{\n            'v': 470,\n            'f': \"470\",\n        },\n\"mercedes ben\",\n{\n            'v': 1,\n            'f': \"1\",\n        },\n{\n            'v': 16,\n            'f': \"16\",\n        },\n\"6.25%\",\n{\n            'v': 35.56,\n            'f': \"35.56\",\n        }],\n [{\n            'v': 471,\n            'f': \"471\",\n        },\n\"car dealerships birmingham al\",\n{\n            'v': 1,\n            'f': \"1\",\n        },\n{\n            'v': 16,\n            'f': \"16\",\n        },\n\"6.25%\",\n{\n            'v': 81.0,\n            'f': \"81.0\",\n        }],\n [{\n            'v': 472,\n            'f': \"472\",\n        },\n\"mercedes metris interior dimensions\",\n{\n            'v': 1,\n            'f': \"1\",\n        },\n{\n            'v': 15,\n            'f': \"15\",\n        },\n\"6.67%\",\n{\n            'v': 1.47,\n            'f': \"1.47\",\n        }],\n [{\n            'v': 473,\n            'f': \"473\",\n        },\n\"mercedes demos for sale\",\n{\n            'v': 1,\n            'f': \"1\",\n        },\n{\n            'v': 15,\n            'f': \"15\",\n        },\n\"6.67%\",\n{\n            'v': 8.67,\n            'f': \"8.67\",\n        }],\n [{\n            'v': 474,\n            'f': \"474\",\n        },\n\"irondale birmingham\",\n{\n            'v': 1,\n            'f': \"1\",\n        },\n{\n            'v': 15,\n            'f': \"15\",\n        },\n\"6.67%\",\n{\n            'v': 13.53,\n            'f': \"13.53\",\n        }],\n [{\n            'v': 475,\n            'f': \"475\",\n        },\n\"mercadez\",\n{\n            'v': 1,\n            'f': \"1\",\n        },\n{\n            'v': 15,\n            'f': \"15\",\n        },\n\"6.67%\",\n{\n            'v': 56.0,\n            'f': \"56.0\",\n        }],\n [{\n            'v': 476,\n            'f': \"476\",\n        },\n\"g wagon lease deals\",\n{\n            'v': 1,\n            'f': \"1\",\n        },\n{\n            'v': 15,\n            'f': \"15\",\n        },\n\"6.67%\",\n{\n            'v': 60.07,\n            'f': \"60.07\",\n        }],\n [{\n            'v': 477,\n            'f': \"477\",\n        },\n\"mercedes-benz locations\",\n{\n            'v': 1,\n            'f': \"1\",\n        },\n{\n            'v': 14,\n            'f': \"14\",\n        },\n\"7.14%\",\n{\n            'v': 3.43,\n            'f': \"3.43\",\n        }],\n [{\n            'v': 478,\n            'f': \"478\",\n        },\n\"what color is lunar blue\",\n{\n            'v': 1,\n            'f': \"1\",\n        },\n{\n            'v': 14,\n            'f': \"14\",\n        },\n\"7.14%\",\n{\n            'v': 4.14,\n            'f': \"4.14\",\n        }],\n [{\n            'v': 479,\n            'f': \"479\",\n        },\n\"mercedes.\",\n{\n            'v': 1,\n            'f': \"1\",\n        },\n{\n            'v': 14,\n            'f': \"14\",\n        },\n\"7.14%\",\n{\n            'v': 5.29,\n            'f': \"5.29\",\n        }],\n [{\n            'v': 480,\n            'f': \"480\",\n        },\n\"mercedes demo vehicles\",\n{\n            'v': 1,\n            'f': \"1\",\n        },\n{\n            'v': 14,\n            'f': \"14\",\n        },\n\"7.14%\",\n{\n            'v': 6.71,\n            'f': \"6.71\",\n        }],\n [{\n            'v': 481,\n            'f': \"481\",\n        },\n\"amg leather\",\n{\n            'v': 1,\n            'f': \"1\",\n        },\n{\n            'v': 14,\n            'f': \"14\",\n        },\n\"7.14%\",\n{\n            'v': 8.14,\n            'f': \"8.14\",\n        }],\n [{\n            'v': 482,\n            'f': \"482\",\n        },\n\"lunar blue metallic color\",\n{\n            'v': 1,\n            'f': \"1\",\n        },\n{\n            'v': 14,\n            'f': \"14\",\n        },\n\"7.14%\",\n{\n            'v': 10.36,\n            'f': \"10.36\",\n        }],\n [{\n            'v': 483,\n            'f': \"483\",\n        },\n\"mercedes leases\",\n{\n            'v': 1,\n            'f': \"1\",\n        },\n{\n            'v': 14,\n            'f': \"14\",\n        },\n\"7.14%\",\n{\n            'v': 41.07,\n            'f': \"41.07\",\n        }],\n [{\n            'v': 484,\n            'f': \"484\",\n        },\n\"used cars in hoover al\",\n{\n            'v': 1,\n            'f': \"1\",\n        },\n{\n            'v': 14,\n            'f': \"14\",\n        },\n\"7.14%\",\n{\n            'v': 66.0,\n            'f': \"66.0\",\n        }],\n [{\n            'v': 485,\n            'f': \"485\",\n        },\n\"crown mercedes hoover\",\n{\n            'v': 1,\n            'f': \"1\",\n        },\n{\n            'v': 13,\n            'f': \"13\",\n        },\n\"7.69%\",\n{\n            'v': 2.54,\n            'f': \"2.54\",\n        }],\n [{\n            'v': 486,\n            'f': \"486\",\n        },\n\"mercedes jobs birmingham al\",\n{\n            'v': 1,\n            'f': \"1\",\n        },\n{\n            'v': 13,\n            'f': \"13\",\n        },\n\"7.69%\",\n{\n            'v': 5.0,\n            'f': \"5.0\",\n        }],\n [{\n            'v': 487,\n            'f': \"487\",\n        },\n\"mercedes crown\",\n{\n            'v': 1,\n            'f': \"1\",\n        },\n{\n            'v': 13,\n            'f': \"13\",\n        },\n\"7.69%\",\n{\n            'v': 18.85,\n            'f': \"18.85\",\n        }],\n [{\n            'v': 488,\n            'f': \"488\",\n        },\n\"mercedes-benz finance specials\",\n{\n            'v': 1,\n            'f': \"1\",\n        },\n{\n            'v': 13,\n            'f': \"13\",\n        },\n\"7.69%\",\n{\n            'v': 29.46,\n            'f': \"29.46\",\n        }],\n [{\n            'v': 489,\n            'f': \"489\",\n        },\n\"certified pre owned mercedes s550\",\n{\n            'v': 1,\n            'f': \"1\",\n        },\n{\n            'v': 13,\n            'f': \"13\",\n        },\n\"7.69%\",\n{\n            'v': 33.92,\n            'f': \"33.92\",\n        }],\n [{\n            'v': 490,\n            'f': \"490\",\n        },\n\"mercedes-benz parts online\",\n{\n            'v': 1,\n            'f': \"1\",\n        },\n{\n            'v': 13,\n            'f': \"13\",\n        },\n\"7.69%\",\n{\n            'v': 65.77,\n            'f': \"65.77\",\n        }],\n [{\n            'v': 491,\n            'f': \"491\",\n        },\n\"mercedes benz cpo inspection checklist\",\n{\n            'v': 1,\n            'f': \"1\",\n        },\n{\n            'v': 12,\n            'f': \"12\",\n        },\n\"8.33%\",\n{\n            'v': 7.17,\n            'f': \"7.17\",\n        }],\n [{\n            'v': 492,\n            'f': \"492\",\n        },\n\"metris cargo dimensions\",\n{\n            'v': 1,\n            'f': \"1\",\n        },\n{\n            'v': 12,\n            'f': \"12\",\n        },\n\"8.33%\",\n{\n            'v': 24.17,\n            'f': \"24.17\",\n        }],\n [{\n            'v': 493,\n            'f': \"493\",\n        },\n\"meecedes benz\",\n{\n            'v': 1,\n            'f': \"1\",\n        },\n{\n            'v': 12,\n            'f': \"12\",\n        },\n\"8.33%\",\n{\n            'v': 24.75,\n            'f': \"24.75\",\n        }],\n [{\n            'v': 494,\n            'f': \"494\",\n        },\n\"meecedes\",\n{\n            'v': 1,\n            'f': \"1\",\n        },\n{\n            'v': 12,\n            'f': \"12\",\n        },\n\"8.33%\",\n{\n            'v': 25.67,\n            'f': \"25.67\",\n        }],\n [{\n            'v': 495,\n            'f': \"495\",\n        },\n\"mercedes truck for sale\",\n{\n            'v': 1,\n            'f': \"1\",\n        },\n{\n            'v': 12,\n            'f': \"12\",\n        },\n\"8.33%\",\n{\n            'v': 29.33,\n            'f': \"29.33\",\n        }],\n [{\n            'v': 496,\n            'f': \"496\",\n        },\n\"cla 250 mercedes for sale\",\n{\n            'v': 1,\n            'f': \"1\",\n        },\n{\n            'v': 12,\n            'f': \"12\",\n        },\n\"8.33%\",\n{\n            'v': 50.67,\n            'f': \"50.67\",\n        }],\n [{\n            'v': 497,\n            'f': \"497\",\n        },\n\"2020 gls450\",\n{\n            'v': 1,\n            'f': \"1\",\n        },\n{\n            'v': 12,\n            'f': \"12\",\n        },\n\"8.33%\",\n{\n            'v': 64.0,\n            'f': \"64.0\",\n        }],\n [{\n            'v': 498,\n            'f': \"498\",\n        },\n\"mercedes service appointment\",\n{\n            'v': 1,\n            'f': \"1\",\n        },\n{\n            'v': 12,\n            'f': \"12\",\n        },\n\"8.33%\",\n{\n            'v': 81.92,\n            'f': \"81.92\",\n        }],\n [{\n            'v': 499,\n            'f': \"499\",\n        },\n\"certified mercedes near me\",\n{\n            'v': 1,\n            'f': \"1\",\n        },\n{\n            'v': 11,\n            'f': \"11\",\n        },\n\"9.09%\",\n{\n            'v': 11.36,\n            'f': \"11.36\",\n        }],\n [{\n            'v': 500,\n            'f': \"500\",\n        },\n\"pre owned mercedes near me\",\n{\n            'v': 1,\n            'f': \"1\",\n        },\n{\n            'v': 11,\n            'f': \"11\",\n        },\n\"9.09%\",\n{\n            'v': 21.73,\n            'f': \"21.73\",\n        }],\n [{\n            'v': 501,\n            'f': \"501\",\n        },\n\"mercedes benze\",\n{\n            'v': 1,\n            'f': \"1\",\n        },\n{\n            'v': 11,\n            'f': \"11\",\n        },\n\"9.09%\",\n{\n            'v': 41.64,\n            'f': \"41.64\",\n        }],\n [{\n            'v': 502,\n            'f': \"502\",\n        },\n\"mercedes gle 350 for sale\",\n{\n            'v': 1,\n            'f': \"1\",\n        },\n{\n            'v': 11,\n            'f': \"11\",\n        },\n\"9.09%\",\n{\n            'v': 48.45,\n            'f': \"48.45\",\n        }],\n [{\n            'v': 503,\n            'f': \"503\",\n        },\n\"irondale campus\",\n{\n            'v': 1,\n            'f': \"1\",\n        },\n{\n            'v': 10,\n            'f': \"10\",\n        },\n\"10%\",\n{\n            'v': 2.0,\n            'f': \"2.0\",\n        }],\n [{\n            'v': 504,\n            'f': \"504\",\n        },\n\"metris passenger van for sale\",\n{\n            'v': 1,\n            'f': \"1\",\n        },\n{\n            'v': 10,\n            'f': \"10\",\n        },\n\"10%\",\n{\n            'v': 17.5,\n            'f': \"17.5\",\n        }],\n [{\n            'v': 505,\n            'f': \"505\",\n        },\n\"mercedes showroom birmingham\",\n{\n            'v': 1,\n            'f': \"1\",\n        },\n{\n            'v': 10,\n            'f': \"10\",\n        },\n\"10%\",\n{\n            'v': 20.8,\n            'f': \"20.8\",\n        }],\n [{\n            'v': 506,\n            'f': \"506\",\n        },\n\"amg performance exhaust\",\n{\n            'v': 1,\n            'f': \"1\",\n        },\n{\n            'v': 10,\n            'f': \"10\",\n        },\n\"10%\",\n{\n            'v': 40.9,\n            'f': \"40.9\",\n        }],\n [{\n            'v': 507,\n            'f': \"507\",\n        },\n\"car dealer birmingham\",\n{\n            'v': 1,\n            'f': \"1\",\n        },\n{\n            'v': 10,\n            'f': \"10\",\n        },\n\"10%\",\n{\n            'v': 43.8,\n            'f': \"43.8\",\n        }],\n [{\n            'v': 508,\n            'f': \"508\",\n        },\n\"lease specials birmingham al\",\n{\n            'v': 1,\n            'f': \"1\",\n        },\n{\n            'v': 9,\n            'f': \"9\",\n        },\n\"11.11%\",\n{\n            'v': 8.67,\n            'f': \"8.67\",\n        }],\n [{\n            'v': 509,\n            'f': \"509\",\n        },\n\"mercedes benz sprinter van dashboard warning lights\",\n{\n            'v': 1,\n            'f': \"1\",\n        },\n{\n            'v': 9,\n            'f': \"9\",\n        },\n\"11.11%\",\n{\n            'v': 9.78,\n            'f': \"9.78\",\n        }],\n [{\n            'v': 510,\n            'f': \"510\",\n        },\n\"my dad's story\",\n{\n            'v': 1,\n            'f': \"1\",\n        },\n{\n            'v': 9,\n            'f': \"9\",\n        },\n\"11.11%\",\n{\n            'v': 9.78,\n            'f': \"9.78\",\n        }],\n [{\n            'v': 511,\n            'f': \"511\",\n        },\n\"mercedes-benz service a specials\",\n{\n            'v': 1,\n            'f': \"1\",\n        },\n{\n            'v': 9,\n            'f': \"9\",\n        },\n\"11.11%\",\n{\n            'v': 17.11,\n            'f': \"17.11\",\n        }],\n [{\n            'v': 512,\n            'f': \"512\",\n        },\n\"mercedes for sale near me\",\n{\n            'v': 1,\n            'f': \"1\",\n        },\n{\n            'v': 9,\n            'f': \"9\",\n        },\n\"11.11%\",\n{\n            'v': 17.22,\n            'f': \"17.22\",\n        }],\n [{\n            'v': 513,\n            'f': \"513\",\n        },\n\"mercedes dealership jobs\",\n{\n            'v': 1,\n            'f': \"1\",\n        },\n{\n            'v': 9,\n            'f': \"9\",\n        },\n\"11.11%\",\n{\n            'v': 29.33,\n            'f': \"29.33\",\n        }],\n [{\n            'v': 514,\n            'f': \"514\",\n        },\n\"mercedes-benz glc amg 43 4matic\",\n{\n            'v': 1,\n            'f': \"1\",\n        },\n{\n            'v': 9,\n            'f': \"9\",\n        },\n\"11.11%\",\n{\n            'v': 35.22,\n            'f': \"35.22\",\n        }],\n [{\n            'v': 515,\n            'f': \"515\",\n        },\n\"mercadese\",\n{\n            'v': 1,\n            'f': \"1\",\n        },\n{\n            'v': 9,\n            'f': \"9\",\n        },\n\"11.11%\",\n{\n            'v': 44.0,\n            'f': \"44.0\",\n        }],\n [{\n            'v': 516,\n            'f': \"516\",\n        },\n\"mercedes parta\",\n{\n            'v': 1,\n            'f': \"1\",\n        },\n{\n            'v': 9,\n            'f': \"9\",\n        },\n\"11.11%\",\n{\n            'v': 48.67,\n            'f': \"48.67\",\n        }],\n [{\n            'v': 517,\n            'f': \"517\",\n        },\n\"mercedes benz plant\",\n{\n            'v': 1,\n            'f': \"1\",\n        },\n{\n            'v': 9,\n            'f': \"9\",\n        },\n\"11.11%\",\n{\n            'v': 60.33,\n            'f': \"60.33\",\n        }],\n [{\n            'v': 518,\n            'f': \"518\",\n        },\n\"used car dealerships birmingham al\",\n{\n            'v': 1,\n            'f': \"1\",\n        },\n{\n            'v': 9,\n            'f': \"9\",\n        },\n\"11.11%\",\n{\n            'v': 66.44,\n            'f': \"66.44\",\n        }],\n [{\n            'v': 519,\n            'f': \"519\",\n        },\n\"mercedes benz car service\",\n{\n            'v': 1,\n            'f': \"1\",\n        },\n{\n            'v': 9,\n            'f': \"9\",\n        },\n\"11.11%\",\n{\n            'v': 72.78,\n            'f': \"72.78\",\n        }],\n [{\n            'v': 520,\n            'f': \"520\",\n        },\n\"gle mercedes interior\",\n{\n            'v': 1,\n            'f': \"1\",\n        },\n{\n            'v': 9,\n            'f': \"9\",\n        },\n\"11.11%\",\n{\n            'v': 87.44,\n            'f': \"87.44\",\n        }],\n [{\n            'v': 521,\n            'f': \"521\",\n        },\n\"mercedes birmingham, al\",\n{\n            'v': 1,\n            'f': \"1\",\n        },\n{\n            'v': 8,\n            'f': \"8\",\n        },\n\"12.5%\",\n{\n            'v': 1.88,\n            'f': \"1.88\",\n        }],\n [{\n            'v': 522,\n            'f': \"522\",\n        },\n\"mercedes benz inspection checklist\",\n{\n            'v': 1,\n            'f': \"1\",\n        },\n{\n            'v': 8,\n            'f': \"8\",\n        },\n\"12.5%\",\n{\n            'v': 6.25,\n            'f': \"6.25\",\n        }],\n [{\n            'v': 523,\n            'f': \"523\",\n        },\n\"mercedes used near me\",\n{\n            'v': 1,\n            'f': \"1\",\n        },\n{\n            'v': 8,\n            'f': \"8\",\n        },\n\"12.5%\",\n{\n            'v': 7.25,\n            'f': \"7.25\",\n        }],\n [{\n            'v': 524,\n            'f': \"524\",\n        },\n\"mbn 10226\",\n{\n            'v': 1,\n            'f': \"1\",\n        },\n{\n            'v': 8,\n            'f': \"8\",\n        },\n\"12.5%\",\n{\n            'v': 9.5,\n            'f': \"9.5\",\n        }],\n [{\n            'v': 525,\n            'f': \"525\",\n        },\n\"mercedes benz sprinter 1500\",\n{\n            'v': 1,\n            'f': \"1\",\n        },\n{\n            'v': 8,\n            'f': \"8\",\n        },\n\"12.5%\",\n{\n            'v': 13.62,\n            'f': \"13.62\",\n        }],\n [{\n            'v': 526,\n            'f': \"526\",\n        },\n\"mb dealer near me\",\n{\n            'v': 1,\n            'f': \"1\",\n        },\n{\n            'v': 8,\n            'f': \"8\",\n        },\n\"12.5%\",\n{\n            'v': 19.75,\n            'f': \"19.75\",\n        }],\n [{\n            'v': 527,\n            'f': \"527\",\n        },\n\"mercerdes benz\",\n{\n            'v': 1,\n            'f': \"1\",\n        },\n{\n            'v': 8,\n            'f': \"8\",\n        },\n\"12.5%\",\n{\n            'v': 31.25,\n            'f': \"31.25\",\n        }],\n [{\n            'v': 528,\n            'f': \"528\",\n        },\n\"mercedes benz special financing\",\n{\n            'v': 1,\n            'f': \"1\",\n        },\n{\n            'v': 8,\n            'f': \"8\",\n        },\n\"12.5%\",\n{\n            'v': 37.12,\n            'f': \"37.12\",\n        }],\n [{\n            'v': 529,\n            'f': \"529\",\n        },\n\"mercedez dealers\",\n{\n            'v': 1,\n            'f': \"1\",\n        },\n{\n            'v': 8,\n            'f': \"8\",\n        },\n\"12.5%\",\n{\n            'v': 46.12,\n            'f': \"46.12\",\n        }],\n [{\n            'v': 530,\n            'f': \"530\",\n        },\n\"birmingham infiniti\",\n{\n            'v': 1,\n            'f': \"1\",\n        },\n{\n            'v': 8,\n            'f': \"8\",\n        },\n\"12.5%\",\n{\n            'v': 54.75,\n            'f': \"54.75\",\n        }],\n [{\n            'v': 531,\n            'f': \"531\",\n        },\n\"marcedes\",\n{\n            'v': 1,\n            'f': \"1\",\n        },\n{\n            'v': 8,\n            'f': \"8\",\n        },\n\"12.5%\",\n{\n            'v': 55.75,\n            'f': \"55.75\",\n        }],\n [{\n            'v': 532,\n            'f': \"532\",\n        },\n\"mercedes-benz dealerships\",\n{\n            'v': 1,\n            'f': \"1\",\n        },\n{\n            'v': 7,\n            'f': \"7\",\n        },\n\"14.29%\",\n{\n            'v': 12.86,\n            'f': \"12.86\",\n        }],\n [{\n            'v': 533,\n            'f': \"533\",\n        },\n\"benz products\",\n{\n            'v': 1,\n            'f': \"1\",\n        },\n{\n            'v': 7,\n            'f': \"7\",\n        },\n\"14.29%\",\n{\n            'v': 13.43,\n            'f': \"13.43\",\n        }],\n [{\n            'v': 534,\n            'f': \"534\",\n        },\n\"003 545 54 05\",\n{\n            'v': 1,\n            'f': \"1\",\n        },\n{\n            'v': 7,\n            'f': \"7\",\n        },\n\"14.29%\",\n{\n            'v': 16.0,\n            'f': \"16.0\",\n        }],\n [{\n            'v': 535,\n            'f': \"535\",\n        },\n\"convertible mercedes for sale\",\n{\n            'v': 1,\n            'f': \"1\",\n        },\n{\n            'v': 7,\n            'f': \"7\",\n        },\n\"14.29%\",\n{\n            'v': 28.14,\n            'f': \"28.14\",\n        }],\n [{\n            'v': 536,\n            'f': \"536\",\n        },\n\"hoover dealerships\",\n{\n            'v': 1,\n            'f': \"1\",\n        },\n{\n            'v': 7,\n            'f': \"7\",\n        },\n\"14.29%\",\n{\n            'v': 33.29,\n            'f': \"33.29\",\n        }],\n [{\n            'v': 537,\n            'f': \"537\",\n        },\n\"2016 mercedes-benz sprinter extended cargo van\",\n{\n            'v': 1,\n            'f': \"1\",\n        },\n{\n            'v': 7,\n            'f': \"7\",\n        },\n\"14.29%\",\n{\n            'v': 44.0,\n            'f': \"44.0\",\n        }],\n [{\n            'v': 538,\n            'f': \"538\",\n        },\n\"mercedes metris van for sale\",\n{\n            'v': 1,\n            'f': \"1\",\n        },\n{\n            'v': 7,\n            'f': \"7\",\n        },\n\"14.29%\",\n{\n            'v': 61.29,\n            'f': \"61.29\",\n        }],\n [{\n            'v': 539,\n            'f': \"539\",\n        },\n\"mercedz benz\",\n{\n            'v': 1,\n            'f': \"1\",\n        },\n{\n            'v': 7,\n            'f': \"7\",\n        },\n\"14.29%\",\n{\n            'v': 65.57,\n            'f': \"65.57\",\n        }],\n [{\n            'v': 540,\n            'f': \"540\",\n        },\n\"mb dashboard\",\n{\n            'v': 1,\n            'f': \"1\",\n        },\n{\n            'v': 6,\n            'f': \"6\",\n        },\n\"16.67%\",\n{\n            'v': 1.0,\n            'f': \"1.0\",\n        }],\n [{\n            'v': 541,\n            'f': \"541\",\n        },\n\"mercedes used car\",\n{\n            'v': 1,\n            'f': \"1\",\n        },\n{\n            'v': 6,\n            'f': \"6\",\n        },\n\"16.67%\",\n{\n            'v': 4.33,\n            'f': \"4.33\",\n        }],\n [{\n            'v': 542,\n            'f': \"542\",\n        },\n\"mercedes-benz executive demo program\",\n{\n            'v': 1,\n            'f': \"1\",\n        },\n{\n            'v': 6,\n            'f': \"6\",\n        },\n\"16.67%\",\n{\n            'v': 5.5,\n            'f': \"5.5\",\n        }],\n [{\n            'v': 543,\n            'f': \"543\",\n        },\n\"mercedes benz dealer birmingham\",\n{\n            'v': 1,\n            'f': \"1\",\n        },\n{\n            'v': 6,\n            'f': \"6\",\n        },\n\"16.67%\",\n{\n            'v': 7.5,\n            'f': \"7.5\",\n        }],\n [{\n            'v': 544,\n            'f': \"544\",\n        },\n\"a 207 350 97 02\",\n{\n            'v': 1,\n            'f': \"1\",\n        },\n{\n            'v': 6,\n            'f': \"6\",\n        },\n\"16.67%\",\n{\n            'v': 8.0,\n            'f': \"8.0\",\n        }],\n [{\n            'v': 545,\n            'f': \"545\",\n        },\n\"\\u043f\\u0440\\u043e\\u0433\\u0440\\u0430\\u043c\\u043c\\u0430 \\u043c\\u0435\\u0440\\u0441\\u0435\\u0434\\u0435\\u0441\",\n{\n            'v': 1,\n            'f': \"1\",\n        },\n{\n            'v': 6,\n            'f': \"6\",\n        },\n\"16.67%\",\n{\n            'v': 8.33,\n            'f': \"8.33\",\n        }],\n [{\n            'v': 546,\n            'f': \"546\",\n        },\n\"because of my dad\",\n{\n            'v': 1,\n            'f': \"1\",\n        },\n{\n            'v': 6,\n            'f': \"6\",\n        },\n\"16.67%\",\n{\n            'v': 8.67,\n            'f': \"8.67\",\n        }],\n [{\n            'v': 547,\n            'f': \"547\",\n        },\n\"glbamg\",\n{\n            'v': 1,\n            'f': \"1\",\n        },\n{\n            'v': 6,\n            'f': \"6\",\n        },\n\"16.67%\",\n{\n            'v': 8.67,\n            'f': \"8.67\",\n        }],\n [{\n            'v': 548,\n            'f': \"548\",\n        },\n\"amg car care\",\n{\n            'v': 1,\n            'f': \"1\",\n        },\n{\n            'v': 6,\n            'f': \"6\",\n        },\n\"16.67%\",\n{\n            'v': 11.17,\n            'f': \"11.17\",\n        }],\n [{\n            'v': 549,\n            'f': \"549\",\n        },\n\"mercedes benz amg coupe for sale\",\n{\n            'v': 1,\n            'f': \"1\",\n        },\n{\n            'v': 6,\n            'f': \"6\",\n        },\n\"16.67%\",\n{\n            'v': 19.67,\n            'f': \"19.67\",\n        }],\n [{\n            'v': 550,\n            'f': \"550\",\n        },\n\"cars for sale hoover al\",\n{\n            'v': 1,\n            'f': \"1\",\n        },\n{\n            'v': 6,\n            'f': \"6\",\n        },\n\"16.67%\",\n{\n            'v': 29.33,\n            'f': \"29.33\",\n        }],\n [{\n            'v': 551,\n            'f': \"551\",\n        },\n\"glc 43 amg coupe for sale\",\n{\n            'v': 1,\n            'f': \"1\",\n        },\n{\n            'v': 6,\n            'f': \"6\",\n        },\n\"16.67%\",\n{\n            'v': 56.17,\n            'f': \"56.17\",\n        }],\n [{\n            'v': 552,\n            'f': \"552\",\n        },\n\"mecerdes benz\",\n{\n            'v': 1,\n            'f': \"1\",\n        },\n{\n            'v': 6,\n            'f': \"6\",\n        },\n\"16.67%\",\n{\n            'v': 56.33,\n            'f': \"56.33\",\n        }],\n [{\n            'v': 553,\n            'f': \"553\",\n        },\n\"mercede dealership\",\n{\n            'v': 1,\n            'f': \"1\",\n        },\n{\n            'v': 6,\n            'f': \"6\",\n        },\n\"16.67%\",\n{\n            'v': 64.5,\n            'f': \"64.5\",\n        }],\n [{\n            'v': 554,\n            'f': \"554\",\n        },\n\"mercedes sale\",\n{\n            'v': 1,\n            'f': \"1\",\n        },\n{\n            'v': 6,\n            'f': \"6\",\n        },\n\"16.67%\",\n{\n            'v': 66.0,\n            'f': \"66.0\",\n        }],\n [{\n            'v': 555,\n            'f': \"555\",\n        },\n\"mercedes dealer alabama\",\n{\n            'v': 1,\n            'f': \"1\",\n        },\n{\n            'v': 5,\n            'f': \"5\",\n        },\n\"20%\",\n{\n            'v': 1.4,\n            'f': \"1.4\",\n        }],\n [{\n            'v': 556,\n            'f': \"556\",\n        },\n\"mercedes amg near me\",\n{\n            'v': 1,\n            'f': \"1\",\n        },\n{\n            'v': 5,\n            'f': \"5\",\n        },\n\"20%\",\n{\n            'v': 4.4,\n            'f': \"4.4\",\n        }],\n [{\n            'v': 557,\n            'f': \"557\",\n        },\n\"mercedes dealership parts\",\n{\n            'v': 1,\n            'f': \"1\",\n        },\n{\n            'v': 5,\n            'f': \"5\",\n        },\n\"20%\",\n{\n            'v': 8.2,\n            'f': \"8.2\",\n        }],\n [{\n            'v': 558,\n            'f': \"558\",\n        },\n\"mercedes jobs birmingham\",\n{\n            'v': 1,\n            'f': \"1\",\n        },\n{\n            'v': 5,\n            'f': \"5\",\n        },\n\"20%\",\n{\n            'v': 12.6,\n            'f': \"12.6\",\n        }],\n [{\n            'v': 559,\n            'f': \"559\",\n        },\n\"certified pre owned suv near me\",\n{\n            'v': 1,\n            'f': \"1\",\n        },\n{\n            'v': 5,\n            'f': \"5\",\n        },\n\"20%\",\n{\n            'v': 12.8,\n            'f': \"12.8\",\n        }],\n [{\n            'v': 560,\n            'f': \"560\",\n        },\n\"mercedes gle 350 lease price\",\n{\n            'v': 1,\n            'f': \"1\",\n        },\n{\n            'v': 5,\n            'f': \"5\",\n        },\n\"20%\",\n{\n            'v': 15.8,\n            'f': \"15.8\",\n        }],\n [{\n            'v': 561,\n            'f': \"561\",\n        },\n\"mercedes benz appointment\",\n{\n            'v': 1,\n            'f': \"1\",\n        },\n{\n            'v': 5,\n            'f': \"5\",\n        },\n\"20%\",\n{\n            'v': 19.4,\n            'f': \"19.4\",\n        }],\n [{\n            'v': 562,\n            'f': \"562\",\n        },\n\"mercedes lease deals near me\",\n{\n            'v': 1,\n            'f': \"1\",\n        },\n{\n            'v': 5,\n            'f': \"5\",\n        },\n\"20%\",\n{\n            'v': 20.8,\n            'f': \"20.8\",\n        }],\n [{\n            'v': 563,\n            'f': \"563\",\n        },\n\"mb parts store\",\n{\n            'v': 1,\n            'f': \"1\",\n        },\n{\n            'v': 5,\n            'f': \"5\",\n        },\n\"20%\",\n{\n            'v': 30.0,\n            'f': \"30.0\",\n        }],\n [{\n            'v': 564,\n            'f': \"564\",\n        },\n\"mercedes nenz\",\n{\n            'v': 1,\n            'f': \"1\",\n        },\n{\n            'v': 5,\n            'f': \"5\",\n        },\n\"20%\",\n{\n            'v': 30.2,\n            'f': \"30.2\",\n        }],\n [{\n            'v': 565,\n            'f': \"565\",\n        },\n\"sprinter crew van for sale\",\n{\n            'v': 1,\n            'f': \"1\",\n        },\n{\n            'v': 5,\n            'f': \"5\",\n        },\n\"20%\",\n{\n            'v': 57.2,\n            'f': \"57.2\",\n        }],\n [{\n            'v': 566,\n            'f': \"566\",\n        },\n\"mercedes gla for sale\",\n{\n            'v': 1,\n            'f': \"1\",\n        },\n{\n            'v': 5,\n            'f': \"5\",\n        },\n\"20%\",\n{\n            'v': 64.2,\n            'f': \"64.2\",\n        }],\n [{\n            'v': 567,\n            'f': \"567\",\n        },\n\"work vans for sale near me\",\n{\n            'v': 1,\n            'f': \"1\",\n        },\n{\n            'v': 5,\n            'f': \"5\",\n        },\n\"20%\",\n{\n            'v': 74.8,\n            'f': \"74.8\",\n        }],\n [{\n            'v': 568,\n            'f': \"568\",\n        },\n\"mercedez benz dealer\",\n{\n            'v': 1,\n            'f': \"1\",\n        },\n{\n            'v': 4,\n            'f': \"4\",\n        },\n\"25%\",\n{\n            'v': 1.75,\n            'f': \"1.75\",\n        }],\n [{\n            'v': 569,\n            'f': \"569\",\n        },\n\"a 611 203 01 08\",\n{\n            'v': 1,\n            'f': \"1\",\n        },\n{\n            'v': 4,\n            'f': \"4\",\n        },\n\"25%\",\n{\n            'v': 5.25,\n            'f': \"5.25\",\n        }],\n [{\n            'v': 570,\n            'f': \"570\",\n        },\n\"cheap mercedes\",\n{\n            'v': 1,\n            'f': \"1\",\n        },\n{\n            'v': 4,\n            'f': \"4\",\n        },\n\"25%\",\n{\n            'v': 6.0,\n            'f': \"6.0\",\n        }],\n [{\n            'v': 571,\n            'f': \"571\",\n        },\n\"certified pre owned ml350\",\n{\n            'v': 1,\n            'f': \"1\",\n        },\n{\n            'v': 4,\n            'f': \"4\",\n        },\n\"25%\",\n{\n            'v': 9.25,\n            'f': \"9.25\",\n        }],\n [{\n            'v': 572,\n            'f': \"572\",\n        },\n\"mercedes gls emerald green\",\n{\n            'v': 1,\n            'f': \"1\",\n        },\n{\n            'v': 4,\n            'f': \"4\",\n        },\n\"25%\",\n{\n            'v': 11.75,\n            'f': \"11.75\",\n        }],\n [{\n            'v': 573,\n            'f': \"573\",\n        },\n\"mercedes suv near me\",\n{\n            'v': 1,\n            'f': \"1\",\n        },\n{\n            'v': 4,\n            'f': \"4\",\n        },\n\"25%\",\n{\n            'v': 13.25,\n            'f': \"13.25\",\n        }],\n [{\n            'v': 574,\n            'f': \"574\",\n        },\n\"g wagons for sale\",\n{\n            'v': 1,\n            'f': \"1\",\n        },\n{\n            'v': 4,\n            'f': \"4\",\n        },\n\"25%\",\n{\n            'v': 19.75,\n            'f': \"19.75\",\n        }],\n [{\n            'v': 575,\n            'f': \"575\",\n        },\n\"mercedes-benz parts suppliers\",\n{\n            'v': 1,\n            'f': \"1\",\n        },\n{\n            'v': 4,\n            'f': \"4\",\n        },\n\"25%\",\n{\n            'v': 22.5,\n            'f': \"22.5\",\n        }],\n [{\n            'v': 576,\n            'f': \"576\",\n        },\n\"mercerdes\",\n{\n            'v': 1,\n            'f': \"1\",\n        },\n{\n            'v': 4,\n            'f': \"4\",\n        },\n\"25%\",\n{\n            'v': 41.25,\n            'f': \"41.25\",\n        }],\n [{\n            'v': 577,\n            'f': \"577\",\n        },\n\"mecedez benz\",\n{\n            'v': 1,\n            'f': \"1\",\n        },\n{\n            'v': 4,\n            'f': \"4\",\n        },\n\"25%\",\n{\n            'v': 44.5,\n            'f': \"44.5\",\n        }],\n [{\n            'v': 578,\n            'f': \"578\",\n        },\n\"mercedus\",\n{\n            'v': 1,\n            'f': \"1\",\n        },\n{\n            'v': 4,\n            'f': \"4\",\n        },\n\"25%\",\n{\n            'v': 50.25,\n            'f': \"50.25\",\n        }],\n [{\n            'v': 579,\n            'f': \"579\",\n        },\n\"2020 mercedes benz gls 450\",\n{\n            'v': 1,\n            'f': \"1\",\n        },\n{\n            'v': 4,\n            'f': \"4\",\n        },\n\"25%\",\n{\n            'v': 71.5,\n            'f': \"71.5\",\n        }],\n [{\n            'v': 580,\n            'f': \"580\",\n        },\n\"benz alabama\",\n{\n            'v': 1,\n            'f': \"1\",\n        },\n{\n            'v': 3,\n            'f': \"3\",\n        },\n\"33.33%\",\n{\n            'v': 1.0,\n            'f': \"1.0\",\n        }],\n [{\n            'v': 581,\n            'f': \"581\",\n        },\n\"place details\",\n{\n            'v': 1,\n            'f': \"1\",\n        },\n{\n            'v': 3,\n            'f': \"3\",\n        },\n\"33.33%\",\n{\n            'v': 1.0,\n            'f': \"1.0\",\n        }],\n [{\n            'v': 582,\n            'f': \"582\",\n        },\n\"used mercedes suv birmingham al\",\n{\n            'v': 1,\n            'f': \"1\",\n        },\n{\n            'v': 3,\n            'f': \"3\",\n        },\n\"33.33%\",\n{\n            'v': 1.0,\n            'f': \"1.0\",\n        }],\n [{\n            'v': 583,\n            'f': \"583\",\n        },\n\"are mercedes hard to maintain\",\n{\n            'v': 1,\n            'f': \"1\",\n        },\n{\n            'v': 3,\n            'f': \"3\",\n        },\n\"33.33%\",\n{\n            'v': 2.0,\n            'f': \"2.0\",\n        }],\n [{\n            'v': 584,\n            'f': \"584\",\n        },\n\"mercades benz dealership\",\n{\n            'v': 1,\n            'f': \"1\",\n        },\n{\n            'v': 3,\n            'f': \"3\",\n        },\n\"33.33%\",\n{\n            'v': 2.67,\n            'f': \"2.67\",\n        }],\n [{\n            'v': 585,\n            'f': \"585\",\n        },\n\"mercedes truck for sale near me\",\n{\n            'v': 1,\n            'f': \"1\",\n        },\n{\n            'v': 3,\n            'f': \"3\",\n        },\n\"33.33%\",\n{\n            'v': 2.67,\n            'f': \"2.67\",\n        }],\n [{\n            'v': 586,\n            'f': \"586\",\n        },\n\"merceddes\",\n{\n            'v': 1,\n            'f': \"1\",\n        },\n{\n            'v': 3,\n            'f': \"3\",\n        },\n\"33.33%\",\n{\n            'v': 4.0,\n            'f': \"4.0\",\n        }],\n [{\n            'v': 587,\n            'f': \"587\",\n        },\n\"mercedes dealership hoover\",\n{\n            'v': 1,\n            'f': \"1\",\n        },\n{\n            'v': 3,\n            'f': \"3\",\n        },\n\"33.33%\",\n{\n            'v': 5.0,\n            'f': \"5.0\",\n        }],\n [{\n            'v': 588,\n            'f': \"588\",\n        },\n\"used mercades\",\n{\n            'v': 1,\n            'f': \"1\",\n        },\n{\n            'v': 3,\n            'f': \"3\",\n        },\n\"33.33%\",\n{\n            'v': 5.33,\n            'f': \"5.33\",\n        }],\n [{\n            'v': 589,\n            'f': \"589\",\n        },\n\"mercedes c300 near me\",\n{\n            'v': 1,\n            'f': \"1\",\n        },\n{\n            'v': 3,\n            'f': \"3\",\n        },\n\"33.33%\",\n{\n            'v': 5.67,\n            'f': \"5.67\",\n        }],\n [{\n            'v': 590,\n            'f': \"590\",\n        },\n\"g63 for sale\",\n{\n            'v': 1,\n            'f': \"1\",\n        },\n{\n            'v': 3,\n            'f': \"3\",\n        },\n\"33.33%\",\n{\n            'v': 6.67,\n            'f': \"6.67\",\n        }],\n [{\n            'v': 591,\n            'f': \"591\",\n        },\n\"mercedes benz demo sale\",\n{\n            'v': 1,\n            'f': \"1\",\n        },\n{\n            'v': 3,\n            'f': \"3\",\n        },\n\"33.33%\",\n{\n            'v': 6.67,\n            'f': \"6.67\",\n        }],\n [{\n            'v': 592,\n            'f': \"592\",\n        },\n\"car lease specials\",\n{\n            'v': 1,\n            'f': \"1\",\n        },\n{\n            'v': 3,\n            'f': \"3\",\n        },\n\"33.33%\",\n{\n            'v': 12.0,\n            'f': \"12.0\",\n        }],\n [{\n            'v': 593,\n            'f': \"593\",\n        },\n\"a 222 830 04 18\",\n{\n            'v': 1,\n            'f': \"1\",\n        },\n{\n            'v': 3,\n            'f': \"3\",\n        },\n\"33.33%\",\n{\n            'v': 17.67,\n            'f': \"17.67\",\n        }],\n [{\n            'v': 594,\n            'f': \"594\",\n        },\n\"infiniti bham\",\n{\n            'v': 1,\n            'f': \"1\",\n        },\n{\n            'v': 3,\n            'f': \"3\",\n        },\n\"33.33%\",\n{\n            'v': 18.67,\n            'f': \"18.67\",\n        }],\n [{\n            'v': 595,\n            'f': \"595\",\n        },\n\"166-890-13-93-64\",\n{\n            'v': 1,\n            'f': \"1\",\n        },\n{\n            'v': 3,\n            'f': \"3\",\n        },\n\"33.33%\",\n{\n            'v': 19.0,\n            'f': \"19.0\",\n        }],\n [{\n            'v': 596,\n            'f': \"596\",\n        },\n\"merecedes lease\",\n{\n            'v': 1,\n            'f': \"1\",\n        },\n{\n            'v': 3,\n            'f': \"3\",\n        },\n\"33.33%\",\n{\n            'v': 22.0,\n            'f': \"22.0\",\n        }],\n [{\n            'v': 597,\n            'f': \"597\",\n        },\n\"mercedes.benz\",\n{\n            'v': 1,\n            'f': \"1\",\n        },\n{\n            'v': 3,\n            'f': \"3\",\n        },\n\"33.33%\",\n{\n            'v': 26.67,\n            'f': \"26.67\",\n        }],\n [{\n            'v': 598,\n            'f': \"598\",\n        },\n\"closest mercedes dealer\",\n{\n            'v': 1,\n            'f': \"1\",\n        },\n{\n            'v': 3,\n            'f': \"3\",\n        },\n\"33.33%\",\n{\n            'v': 30.67,\n            'f': \"30.67\",\n        }],\n [{\n            'v': 599,\n            'f': \"599\",\n        },\n\"marion cain\",\n{\n            'v': 1,\n            'f': \"1\",\n        },\n{\n            'v': 3,\n            'f': \"3\",\n        },\n\"33.33%\",\n{\n            'v': 33.0,\n            'f': \"33.0\",\n        }],\n [{\n            'v': 600,\n            'f': \"600\",\n        },\n\"mercedes s class cabriolet for sale\",\n{\n            'v': 1,\n            'f': \"1\",\n        },\n{\n            'v': 3,\n            'f': \"3\",\n        },\n\"33.33%\",\n{\n            'v': 42.0,\n            'f': \"42.0\",\n        }],\n [{\n            'v': 601,\n            'f': \"601\",\n        },\n\"2020 car deals near me\",\n{\n            'v': 1,\n            'f': \"1\",\n        },\n{\n            'v': 2,\n            'f': \"2\",\n        },\n\"50%\",\n{\n            'v': 1.0,\n            'f': \"1.0\",\n        }],\n [{\n            'v': 602,\n            'f': \"602\",\n        },\n\"camper van for sale\",\n{\n            'v': 1,\n            'f': \"1\",\n        },\n{\n            'v': 2,\n            'f': \"2\",\n        },\n\"50%\",\n{\n            'v': 1.0,\n            'f': \"1.0\",\n        }],\n [{\n            'v': 603,\n            'f': \"603\",\n        },\n\"car for sale under 3000\",\n{\n            'v': 1,\n            'f': \"1\",\n        },\n{\n            'v': 2,\n            'f': \"2\",\n        },\n\"50%\",\n{\n            'v': 1.0,\n            'f': \"1.0\",\n        }],\n [{\n            'v': 604,\n            'f': \"604\",\n        },\n\"jeep wrangler near me\",\n{\n            'v': 1,\n            'f': \"1\",\n        },\n{\n            'v': 2,\n            'f': \"2\",\n        },\n\"50%\",\n{\n            'v': 1.0,\n            'f': \"1.0\",\n        }],\n [{\n            'v': 605,\n            'f': \"605\",\n        },\n\"luxury cars near me for sale\",\n{\n            'v': 1,\n            'f': \"1\",\n        },\n{\n            'v': 2,\n            'f': \"2\",\n        },\n\"50%\",\n{\n            'v': 1.0,\n            'f': \"1.0\",\n        }],\n [{\n            'v': 606,\n            'f': \"606\",\n        },\n\"mercedes sprinter van dealership\",\n{\n            'v': 1,\n            'f': \"1\",\n        },\n{\n            'v': 2,\n            'f': \"2\",\n        },\n\"50%\",\n{\n            'v': 1.5,\n            'f': \"1.5\",\n        }],\n [{\n            'v': 607,\n            'f': \"607\",\n        },\n\"cls for sale near me\",\n{\n            'v': 1,\n            'f': \"1\",\n        },\n{\n            'v': 2,\n            'f': \"2\",\n        },\n\"50%\",\n{\n            'v': 3.5,\n            'f': \"3.5\",\n        }],\n [{\n            'v': 608,\n            'f': \"608\",\n        },\n\"bwm\",\n{\n            'v': 1,\n            'f': \"1\",\n        },\n{\n            'v': 2,\n            'f': \"2\",\n        },\n\"50%\",\n{\n            'v': 4.0,\n            'f': \"4.0\",\n        }],\n [{\n            'v': 609,\n            'f': \"609\",\n        },\n\"mercedes ben,\",\n{\n            'v': 1,\n            'f': \"1\",\n        },\n{\n            'v': 2,\n            'f': \"2\",\n        },\n\"50%\",\n{\n            'v': 4.0,\n            'f': \"4.0\",\n        }],\n [{\n            'v': 610,\n            'f': \"610\",\n        },\n\"metcedez benz\",\n{\n            'v': 1,\n            'f': \"1\",\n        },\n{\n            'v': 2,\n            'f': \"2\",\n        },\n\"50%\",\n{\n            'v': 4.0,\n            'f': \"4.0\",\n        }],\n [{\n            'v': 611,\n            'f': \"611\",\n        },\n\"jeep wrangler for sale\",\n{\n            'v': 1,\n            'f': \"1\",\n        },\n{\n            'v': 2,\n            'f': \"2\",\n        },\n\"50%\",\n{\n            'v': 5.0,\n            'f': \"5.0\",\n        }],\n [{\n            'v': 612,\n            'f': \"612\",\n        },\n\"mer\\u00e7edes benz\",\n{\n            'v': 1,\n            'f': \"1\",\n        },\n{\n            'v': 2,\n            'f': \"2\",\n        },\n\"50%\",\n{\n            'v': 5.0,\n            'f': \"5.0\",\n        }],\n [{\n            'v': 613,\n            'f': \"613\",\n        },\n\"mercedes-benz pre-owned\",\n{\n            'v': 1,\n            'f': \"1\",\n        },\n{\n            'v': 2,\n            'f': \"2\",\n        },\n\"50%\",\n{\n            'v': 6.5,\n            'f': \"6.5\",\n        }],\n [{\n            'v': 614,\n            'f': \"614\",\n        },\n\"does mercedes accept american express\",\n{\n            'v': 1,\n            'f': \"1\",\n        },\n{\n            'v': 2,\n            'f': \"2\",\n        },\n\"50%\",\n{\n            'v': 7.5,\n            'f': \"7.5\",\n        }],\n [{\n            'v': 615,\n            'f': \"615\",\n        },\n\"a 019 997 04 45\",\n{\n            'v': 1,\n            'f': \"1\",\n        },\n{\n            'v': 2,\n            'f': \"2\",\n        },\n\"50%\",\n{\n            'v': 9.5,\n            'f': \"9.5\",\n        }],\n [{\n            'v': 616,\n            'f': \"616\",\n        },\n\"mercedes gle coupe 2020 lease\",\n{\n            'v': 1,\n            'f': \"1\",\n        },\n{\n            'v': 2,\n            'f': \"2\",\n        },\n\"50%\",\n{\n            'v': 11.0,\n            'f': \"11.0\",\n        }],\n [{\n            'v': 617,\n            'f': \"617\",\n        },\n\"cls 450 exhaust\",\n{\n            'v': 1,\n            'f': \"1\",\n        },\n{\n            'v': 2,\n            'f': \"2\",\n        },\n\"50%\",\n{\n            'v': 12.5,\n            'f': \"12.5\",\n        }],\n [{\n            'v': 618,\n            'f': \"618\",\n        },\n\"mercedes cla lease 2020\",\n{\n            'v': 1,\n            'f': \"1\",\n        },\n{\n            'v': 2,\n            'f': \"2\",\n        },\n\"50%\",\n{\n            'v': 17.0,\n            'f': \"17.0\",\n        }],\n [{\n            'v': 619,\n            'f': \"619\",\n        },\n\"a 002 140 68 60\",\n{\n            'v': 1,\n            'f': \"1\",\n        },\n{\n            'v': 2,\n            'f': \"2\",\n        },\n\"50%\",\n{\n            'v': 23.5,\n            'f': \"23.5\",\n        }],\n [{\n            'v': 620,\n            'f': \"620\",\n        },\n\"glb for sale\",\n{\n            'v': 1,\n            'f': \"1\",\n        },\n{\n            'v': 2,\n            'f': \"2\",\n        },\n\"50%\",\n{\n            'v': 26.5,\n            'f': \"26.5\",\n        }],\n [{\n            'v': 621,\n            'f': \"621\",\n        },\n\"gls 450 for sale near me\",\n{\n            'v': 1,\n            'f': \"1\",\n        },\n{\n            'v': 2,\n            'f': \"2\",\n        },\n\"50%\",\n{\n            'v': 27.5,\n            'f': \"27.5\",\n        }],\n [{\n            'v': 622,\n            'f': \"622\",\n        },\n\"new mercedes g wagon for sale\",\n{\n            'v': 1,\n            'f': \"1\",\n        },\n{\n            'v': 2,\n            'f': \"2\",\n        },\n\"50%\",\n{\n            'v': 31.0,\n            'f': \"31.0\",\n        }],\n [{\n            'v': 623,\n            'f': \"623\",\n        },\n\"mercedes benz car lot near me\",\n{\n            'v': 1,\n            'f': \"1\",\n        },\n{\n            'v': 2,\n            'f': \"2\",\n        },\n\"50%\",\n{\n            'v': 38.0,\n            'f': \"38.0\",\n        }],\n [{\n            'v': 624,\n            'f': \"624\",\n        },\n\"mercedes diamond grille\",\n{\n            'v': 1,\n            'f': \"1\",\n        },\n{\n            'v': 2,\n            'f': \"2\",\n        },\n\"50%\",\n{\n            'v': 39.0,\n            'f': \"39.0\",\n        }],\n [{\n            'v': 625,\n            'f': \"625\",\n        },\n\"mercedesb\",\n{\n            'v': 1,\n            'f': \"1\",\n        },\n{\n            'v': 2,\n            'f': \"2\",\n        },\n\"50%\",\n{\n            'v': 42.5,\n            'f': \"42.5\",\n        }],\n [{\n            'v': 626,\n            'f': \"626\",\n        },\n\"mercedes sportline for sale\",\n{\n            'v': 1,\n            'f': \"1\",\n        },\n{\n            'v': 2,\n            'f': \"2\",\n        },\n\"50%\",\n{\n            'v': 45.0,\n            'f': \"45.0\",\n        }],\n [{\n            'v': 627,\n            'f': \"627\",\n        },\n\"000 270 26 00 80\",\n{\n            'v': 1,\n            'f': \"1\",\n        },\n{\n            'v': 2,\n            'f': \"2\",\n        },\n\"50%\",\n{\n            'v': 52.0,\n            'f': \"52.0\",\n        }],\n [{\n            'v': 628,\n            'f': \"628\",\n        },\n\"2020 amg e 53 cabriolet\",\n{\n            'v': 1,\n            'f': \"1\",\n        },\n{\n            'v': 2,\n            'f': \"2\",\n        },\n\"50%\",\n{\n            'v': 52.5,\n            'f': \"52.5\",\n        }],\n [{\n            'v': 629,\n            'f': \"629\",\n        },\n\"airstream near me\",\n{\n            'v': 1,\n            'f': \"1\",\n        },\n{\n            'v': 1,\n            'f': \"1\",\n        },\n\"100%\",\n{\n            'v': 1.0,\n            'f': \"1.0\",\n        }],\n [{\n            'v': 630,\n            'f': \"630\",\n        },\n\"car dealerships in alabama\",\n{\n            'v': 1,\n            'f': \"1\",\n        },\n{\n            'v': 1,\n            'f': \"1\",\n        },\n\"100%\",\n{\n            'v': 1.0,\n            'f': \"1.0\",\n        }],\n [{\n            'v': 631,\n            'f': \"631\",\n        },\n\"car lots\",\n{\n            'v': 1,\n            'f': \"1\",\n        },\n{\n            'v': 1,\n            'f': \"1\",\n        },\n\"100%\",\n{\n            'v': 1.0,\n            'f': \"1.0\",\n        }],\n [{\n            'v': 632,\n            'f': \"632\",\n        },\n\"car under 7000 near me\",\n{\n            'v': 1,\n            'f': \"1\",\n        },\n{\n            'v': 1,\n            'f': \"1\",\n        },\n\"100%\",\n{\n            'v': 1.0,\n            'f': \"1.0\",\n        }],\n [{\n            'v': 633,\n            'f': \"633\",\n        },\n\"cargo vans near me\",\n{\n            'v': 1,\n            'f': \"1\",\n        },\n{\n            'v': 1,\n            'f': \"1\",\n        },\n\"100%\",\n{\n            'v': 1.0,\n            'f': \"1.0\",\n        }],\n [{\n            'v': 634,\n            'f': \"634\",\n        },\n\"cars near me under 3000\",\n{\n            'v': 1,\n            'f': \"1\",\n        },\n{\n            'v': 1,\n            'f': \"1\",\n        },\n\"100%\",\n{\n            'v': 1.0,\n            'f': \"1.0\",\n        }],\n [{\n            'v': 635,\n            'f': \"635\",\n        },\n\"commercial car dealers near me\",\n{\n            'v': 1,\n            'f': \"1\",\n        },\n{\n            'v': 1,\n            'f': \"1\",\n        },\n\"100%\",\n{\n            'v': 1.0,\n            'f': \"1.0\",\n        }],\n [{\n            'v': 636,\n            'f': \"636\",\n        },\n\"dealership birmingham al\",\n{\n            'v': 1,\n            'f': \"1\",\n        },\n{\n            'v': 1,\n            'f': \"1\",\n        },\n\"100%\",\n{\n            'v': 1.0,\n            'f': \"1.0\",\n        }],\n [{\n            'v': 637,\n            'f': \"637\",\n        },\n\"g wagon rental near me\",\n{\n            'v': 1,\n            'f': \"1\",\n        },\n{\n            'v': 1,\n            'f': \"1\",\n        },\n\"100%\",\n{\n            'v': 1.0,\n            'f': \"1.0\",\n        }],\n [{\n            'v': 638,\n            'f': \"638\",\n        },\n\"hoover alabama car dealerships\",\n{\n            'v': 1,\n            'f': \"1\",\n        },\n{\n            'v': 1,\n            'f': \"1\",\n        },\n\"100%\",\n{\n            'v': 1.0,\n            'f': \"1.0\",\n        }],\n [{\n            'v': 639,\n            'f': \"639\",\n        },\n\"mb of\",\n{\n            'v': 1,\n            'f': \"1\",\n        },\n{\n            'v': 1,\n            'f': \"1\",\n        },\n\"100%\",\n{\n            'v': 1.0,\n            'f': \"1.0\",\n        }],\n [{\n            'v': 640,\n            'f': \"640\",\n        },\n\"mbbhm.com\",\n{\n            'v': 1,\n            'f': \"1\",\n        },\n{\n            'v': 1,\n            'f': \"1\",\n        },\n\"100%\",\n{\n            'v': 1.0,\n            'f': \"1.0\",\n        }],\n [{\n            'v': 641,\n            'f': \"641\",\n        },\n\"mercdes service\",\n{\n            'v': 1,\n            'f': \"1\",\n        },\n{\n            'v': 1,\n            'f': \"1\",\n        },\n\"100%\",\n{\n            'v': 1.0,\n            'f': \"1.0\",\n        }],\n [{\n            'v': 642,\n            'f': \"642\",\n        },\n\"mercedes car lots\",\n{\n            'v': 1,\n            'f': \"1\",\n        },\n{\n            'v': 1,\n            'f': \"1\",\n        },\n\"100%\",\n{\n            'v': 1.0,\n            'f': \"1.0\",\n        }],\n [{\n            'v': 643,\n            'f': \"643\",\n        },\n\"mercedes-benz detailing near me\",\n{\n            'v': 1,\n            'f': \"1\",\n        },\n{\n            'v': 1,\n            'f': \"1\",\n        },\n\"100%\",\n{\n            'v': 1.0,\n            'f': \"1.0\",\n        }],\n [{\n            'v': 644,\n            'f': \"644\",\n        },\n\"metcedes dealership\",\n{\n            'v': 1,\n            'f': \"1\",\n        },\n{\n            'v': 1,\n            'f': \"1\",\n        },\n\"100%\",\n{\n            'v': 1.0,\n            'f': \"1.0\",\n        }],\n [{\n            'v': 645,\n            'f': \"645\",\n        },\n\"service mercedes benz near me\",\n{\n            'v': 1,\n            'f': \"1\",\n        },\n{\n            'v': 1,\n            'f': \"1\",\n        },\n\"100%\",\n{\n            'v': 1.0,\n            'f': \"1.0\",\n        }],\n [{\n            'v': 646,\n            'f': \"646\",\n        },\n\"suv's for sale near me\",\n{\n            'v': 1,\n            'f': \"1\",\n        },\n{\n            'v': 1,\n            'f': \"1\",\n        },\n\"100%\",\n{\n            'v': 1.0,\n            'f': \"1.0\",\n        }],\n [{\n            'v': 647,\n            'f': \"647\",\n        },\n\"used sprinter van near me\",\n{\n            'v': 1,\n            'f': \"1\",\n        },\n{\n            'v': 1,\n            'f': \"1\",\n        },\n\"100%\",\n{\n            'v': 1.0,\n            'f': \"1.0\",\n        }],\n [{\n            'v': 648,\n            'f': \"648\",\n        },\n\"2018 mercedes gle 350 for sale near me\",\n{\n            'v': 1,\n            'f': \"1\",\n        },\n{\n            'v': 1,\n            'f': \"1\",\n        },\n\"100%\",\n{\n            'v': 2.0,\n            'f': \"2.0\",\n        }],\n [{\n            'v': 649,\n            'f': \"649\",\n        },\n\"benz car dealer\",\n{\n            'v': 1,\n            'f': \"1\",\n        },\n{\n            'v': 1,\n            'f': \"1\",\n        },\n\"100%\",\n{\n            'v': 2.0,\n            'f': \"2.0\",\n        }],\n [{\n            'v': 650,\n            'f': \"650\",\n        },\n\"cars under 10000\",\n{\n            'v': 1,\n            'f': \"1\",\n        },\n{\n            'v': 1,\n            'f': \"1\",\n        },\n\"100%\",\n{\n            'v': 2.0,\n            'f': \"2.0\",\n        }],\n [{\n            'v': 651,\n            'f': \"651\",\n        },\n\"convertibles near me for sale\",\n{\n            'v': 1,\n            'f': \"1\",\n        },\n{\n            'v': 1,\n            'f': \"1\",\n        },\n\"100%\",\n{\n            'v': 2.0,\n            'f': \"2.0\",\n        }],\n [{\n            'v': 652,\n            'f': \"652\",\n        },\n\"infinity\",\n{\n            'v': 1,\n            'f': \"1\",\n        },\n{\n            'v': 1,\n            'f': \"1\",\n        },\n\"100%\",\n{\n            'v': 2.0,\n            'f': \"2.0\",\n        }],\n [{\n            'v': 653,\n            'f': \"653\",\n        },\n\"me4cedes benz\",\n{\n            'v': 1,\n            'f': \"1\",\n        },\n{\n            'v': 1,\n            'f': \"1\",\n        },\n\"100%\",\n{\n            'v': 2.0,\n            'f': \"2.0\",\n        }],\n [{\n            'v': 654,\n            'f': \"654\",\n        },\n\"mecedws\",\n{\n            'v': 1,\n            'f': \"1\",\n        },\n{\n            'v': 1,\n            'f': \"1\",\n        },\n\"100%\",\n{\n            'v': 2.0,\n            'f': \"2.0\",\n        }],\n [{\n            'v': 655,\n            'f': \"655\",\n        },\n\"mercedes amg meaning in english\",\n{\n            'v': 1,\n            'f': \"1\",\n        },\n{\n            'v': 1,\n            'f': \"1\",\n        },\n\"100%\",\n{\n            'v': 2.0,\n            'f': \"2.0\",\n        }],\n [{\n            'v': 656,\n            'f': \"656\",\n        },\n\"mercedes gle 350 for sale near me\",\n{\n            'v': 1,\n            'f': \"1\",\n        },\n{\n            'v': 1,\n            'f': \"1\",\n        },\n\"100%\",\n{\n            'v': 2.0,\n            'f': \"2.0\",\n        }],\n [{\n            'v': 657,\n            'f': \"657\",\n        },\n\"mercedez benz dealership near me\",\n{\n            'v': 1,\n            'f': \"1\",\n        },\n{\n            'v': 1,\n            'f': \"1\",\n        },\n\"100%\",\n{\n            'v': 2.0,\n            'f': \"2.0\",\n        }],\n [{\n            'v': 658,\n            'f': \"658\",\n        },\n\"rent a mercedes\",\n{\n            'v': 1,\n            'f': \"1\",\n        },\n{\n            'v': 1,\n            'f': \"1\",\n        },\n\"100%\",\n{\n            'v': 2.0,\n            'f': \"2.0\",\n        }],\n [{\n            'v': 659,\n            'f': \"659\",\n        },\n\"cars for 1000\",\n{\n            'v': 1,\n            'f': \"1\",\n        },\n{\n            'v': 1,\n            'f': \"1\",\n        },\n\"100%\",\n{\n            'v': 3.0,\n            'f': \"3.0\",\n        }],\n [{\n            'v': 660,\n            'f': \"660\",\n        },\n\"mercedes benz 2020 for sale\",\n{\n            'v': 1,\n            'f': \"1\",\n        },\n{\n            'v': 1,\n            'f': \"1\",\n        },\n\"100%\",\n{\n            'v': 3.0,\n            'f': \"3.0\",\n        }],\n [{\n            'v': 661,\n            'f': \"661\",\n        },\n\"mercedes g wagon for sale near me\",\n{\n            'v': 1,\n            'f': \"1\",\n        },\n{\n            'v': 1,\n            'f': \"1\",\n        },\n\"100%\",\n{\n            'v': 3.0,\n            'f': \"3.0\",\n        }],\n [{\n            'v': 662,\n            'f': \"662\",\n        },\n\"mercedes suv 2018 for sale\",\n{\n            'v': 1,\n            'f': \"1\",\n        },\n{\n            'v': 1,\n            'f': \"1\",\n        },\n\"100%\",\n{\n            'v': 3.0,\n            'f': \"3.0\",\n        }],\n [{\n            'v': 663,\n            'f': \"663\",\n        },\n\"new mercedes s class 2021\",\n{\n            'v': 1,\n            'f': \"1\",\n        },\n{\n            'v': 1,\n            'f': \"1\",\n        },\n\"100%\",\n{\n            'v': 3.0,\n            'f': \"3.0\",\n        }],\n [{\n            'v': 664,\n            'f': \"664\",\n        },\n\"63 amg for sale\",\n{\n            'v': 1,\n            'f': \"1\",\n        },\n{\n            'v': 1,\n            'f': \"1\",\n        },\n\"100%\",\n{\n            'v': 4.0,\n            'f': \"4.0\",\n        }],\n [{\n            'v': 665,\n            'f': \"665\",\n        },\n\"amg for sale near me\",\n{\n            'v': 1,\n            'f': \"1\",\n        },\n{\n            'v': 1,\n            'f': \"1\",\n        },\n\"100%\",\n{\n            'v': 4.0,\n            'f': \"4.0\",\n        }],\n [{\n            'v': 666,\n            'f': \"666\",\n        },\n\"mercedes a45 amg hatchback for sale\",\n{\n            'v': 1,\n            'f': \"1\",\n        },\n{\n            'v': 1,\n            'f': \"1\",\n        },\n\"100%\",\n{\n            'v': 4.0,\n            'f': \"4.0\",\n        }],\n [{\n            'v': 667,\n            'f': \"667\",\n        },\n\"mercedes benz rental\",\n{\n            'v': 1,\n            'f': \"1\",\n        },\n{\n            'v': 1,\n            'f': \"1\",\n        },\n\"100%\",\n{\n            'v': 4.0,\n            'f': \"4.0\",\n        }],\n [{\n            'v': 668,\n            'f': \"668\",\n        },\n\"mercedes g series for sale\",\n{\n            'v': 1,\n            'f': \"1\",\n        },\n{\n            'v': 1,\n            'f': \"1\",\n        },\n\"100%\",\n{\n            'v': 4.0,\n            'f': \"4.0\",\n        }],\n [{\n            'v': 669,\n            'f': \"669\",\n        },\n\"mercedes gle coupe for sale near me\",\n{\n            'v': 1,\n            'f': \"1\",\n        },\n{\n            'v': 1,\n            'f': \"1\",\n        },\n\"100%\",\n{\n            'v': 4.0,\n            'f': \"4.0\",\n        }],\n [{\n            'v': 670,\n            'f': \"670\",\n        },\n\"used cars fsbo near me\",\n{\n            'v': 1,\n            'f': \"1\",\n        },\n{\n            'v': 1,\n            'f': \"1\",\n        },\n\"100%\",\n{\n            'v': 4.0,\n            'f': \"4.0\",\n        }],\n [{\n            'v': 671,\n            'f': \"671\",\n        },\n\"2015 e550 for sale\",\n{\n            'v': 1,\n            'f': \"1\",\n        },\n{\n            'v': 1,\n            'f': \"1\",\n        },\n\"100%\",\n{\n            'v': 5.0,\n            'f': \"5.0\",\n        }],\n [{\n            'v': 672,\n            'f': \"672\",\n        },\n\"2018 mercedes c300 certified pre owned\",\n{\n            'v': 1,\n            'f': \"1\",\n        },\n{\n            'v': 1,\n            'f': \"1\",\n        },\n\"100%\",\n{\n            'v': 5.0,\n            'f': \"5.0\",\n        }],\n [{\n            'v': 673,\n            'f': \"673\",\n        },\n\"2019 c63 amg for sale\",\n{\n            'v': 1,\n            'f': \"1\",\n        },\n{\n            'v': 1,\n            'f': \"1\",\n        },\n\"100%\",\n{\n            'v': 5.0,\n            'f': \"5.0\",\n        }],\n [{\n            'v': 674,\n            'f': \"674\",\n        },\n\"buy g class mercedes\",\n{\n            'v': 1,\n            'f': \"1\",\n        },\n{\n            'v': 1,\n            'f': \"1\",\n        },\n\"100%\",\n{\n            'v': 5.0,\n            'f': \"5.0\",\n        }],\n [{\n            'v': 675,\n            'f': \"675\",\n        },\n\"donahoo in pelham\",\n{\n            'v': 1,\n            'f': \"1\",\n        },\n{\n            'v': 1,\n            'f': \"1\",\n        },\n\"100%\",\n{\n            'v': 5.0,\n            'f': \"5.0\",\n        }],\n [{\n            'v': 676,\n            'f': \"676\",\n        },\n\"mercedes of birmingham service\",\n{\n            'v': 1,\n            'f': \"1\",\n        },\n{\n            'v': 1,\n            'f': \"1\",\n        },\n\"100%\",\n{\n            'v': 5.0,\n            'f': \"5.0\",\n        }],\n [{\n            'v': 677,\n            'f': \"677\",\n        },\n\"mercedes sprinter sales\",\n{\n            'v': 1,\n            'f': \"1\",\n        },\n{\n            'v': 1,\n            'f': \"1\",\n        },\n\"100%\",\n{\n            'v': 5.0,\n            'f': \"5.0\",\n        }],\n [{\n            'v': 678,\n            'f': \"678\",\n        },\n\"convertible car sale\",\n{\n            'v': 1,\n            'f': \"1\",\n        },\n{\n            'v': 1,\n            'f': \"1\",\n        },\n\"100%\",\n{\n            'v': 6.0,\n            'f': \"6.0\",\n        }],\n [{\n            'v': 679,\n            'f': \"679\",\n        },\n\"mercds benz\",\n{\n            'v': 1,\n            'f': \"1\",\n        },\n{\n            'v': 1,\n            'f': \"1\",\n        },\n\"100%\",\n{\n            'v': 6.0,\n            'f': \"6.0\",\n        }],\n [{\n            'v': 680,\n            'f': \"680\",\n        },\n\"s 63 amg for sale\",\n{\n            'v': 1,\n            'f': \"1\",\n        },\n{\n            'v': 1,\n            'f': \"1\",\n        },\n\"100%\",\n{\n            'v': 6.0,\n            'f': \"6.0\",\n        }],\n [{\n            'v': 681,\n            'f': \"681\",\n        },\n\"2020 s63 amg for sale\",\n{\n            'v': 1,\n            'f': \"1\",\n        },\n{\n            'v': 1,\n            'f': \"1\",\n        },\n\"100%\",\n{\n            'v': 7.0,\n            'f': \"7.0\",\n        }],\n [{\n            'v': 682,\n            'f': \"682\",\n        },\n\"amg gt 63 for sale\",\n{\n            'v': 1,\n            'f': \"1\",\n        },\n{\n            'v': 1,\n            'f': \"1\",\n        },\n\"100%\",\n{\n            'v': 7.0,\n            'f': \"7.0\",\n        }],\n [{\n            'v': 683,\n            'f': \"683\",\n        },\n\"c63 amg for sale\",\n{\n            'v': 1,\n            'f': \"1\",\n        },\n{\n            'v': 1,\n            'f': \"1\",\n        },\n\"100%\",\n{\n            'v': 8.0,\n            'f': \"8.0\",\n        }],\n [{\n            'v': 684,\n            'f': \"684\",\n        },\n\"mercedes benz rich\",\n{\n            'v': 1,\n            'f': \"1\",\n        },\n{\n            'v': 1,\n            'f': \"1\",\n        },\n\"100%\",\n{\n            'v': 10.0,\n            'f': \"10.0\",\n        }],\n [{\n            'v': 685,\n            'f': \"685\",\n        },\n\"glc 300 for sale near me\",\n{\n            'v': 1,\n            'f': \"1\",\n        },\n{\n            'v': 1,\n            'f': \"1\",\n        },\n\"100%\",\n{\n            'v': 11.0,\n            'f': \"11.0\",\n        }],\n [{\n            'v': 686,\n            'f': \"686\",\n        },\n\"used mercedes glk for sale\",\n{\n            'v': 1,\n            'f': \"1\",\n        },\n{\n            'v': 1,\n            'f': \"1\",\n        },\n\"100%\",\n{\n            'v': 11.0,\n            'f': \"11.0\",\n        }],\n [{\n            'v': 687,\n            'f': \"687\",\n        },\n\"glk 350 for sale\",\n{\n            'v': 1,\n            'f': \"1\",\n        },\n{\n            'v': 1,\n            'f': \"1\",\n        },\n\"100%\",\n{\n            'v': 12.0,\n            'f': \"12.0\",\n        }],\n [{\n            'v': 688,\n            'f': \"688\",\n        },\n\"old mercedes g wagon for sale\",\n{\n            'v': 1,\n            'f': \"1\",\n        },\n{\n            'v': 1,\n            'f': \"1\",\n        },\n\"100%\",\n{\n            'v': 12.0,\n            'f': \"12.0\",\n        }],\n [{\n            'v': 689,\n            'f': \"689\",\n        },\n\"112 589 00 40 00\",\n{\n            'v': 1,\n            'f': \"1\",\n        },\n{\n            'v': 1,\n            'f': \"1\",\n        },\n\"100%\",\n{\n            'v': 13.0,\n            'f': \"13.0\",\n        }],\n [{\n            'v': 690,\n            'f': \"690\",\n        },\n\"crest cadillac birmingham\",\n{\n            'v': 1,\n            'f': \"1\",\n        },\n{\n            'v': 1,\n            'f': \"1\",\n        },\n\"100%\",\n{\n            'v': 17.0,\n            'f': \"17.0\",\n        }],\n [{\n            'v': 691,\n            'f': \"691\",\n        },\n\"001589650900\",\n{\n            'v': 1,\n            'f': \"1\",\n        },\n{\n            'v': 1,\n            'f': \"1\",\n        },\n\"100%\",\n{\n            'v': 19.0,\n            'f': \"19.0\",\n        }],\n [{\n            'v': 692,\n            'f': \"692\",\n        },\n\"mercedes gl450 certified pre owned\",\n{\n            'v': 1,\n            'f': \"1\",\n        },\n{\n            'v': 1,\n            'f': \"1\",\n        },\n\"100%\",\n{\n            'v': 19.0,\n            'f': \"19.0\",\n        }],\n [{\n            'v': 693,\n            'f': \"693\",\n        },\n\"my dad is the first man in my life\",\n{\n            'v': 1,\n            'f': \"1\",\n        },\n{\n            'v': 1,\n            'f': \"1\",\n        },\n\"100%\",\n{\n            'v': 22.0,\n            'f': \"22.0\",\n        }],\n [{\n            'v': 694,\n            'f': \"694\",\n        },\n\"2017 gle 43 amg problems\",\n{\n            'v': 1,\n            'f': \"1\",\n        },\n{\n            'v': 1,\n            'f': \"1\",\n        },\n\"100%\",\n{\n            'v': 27.0,\n            'f': \"27.0\",\n        }],\n [{\n            'v': 695,\n            'f': \"695\",\n        },\n\"mercedes-benz auto parts near me\",\n{\n            'v': 1,\n            'f': \"1\",\n        },\n{\n            'v': 1,\n            'f': \"1\",\n        },\n\"100%\",\n{\n            'v': 29.0,\n            'f': \"29.0\",\n        }],\n [{\n            'v': 696,\n            'f': \"696\",\n        },\n\"205-780-00-22\",\n{\n            'v': 1,\n            'f': \"1\",\n        },\n{\n            'v': 1,\n            'f': \"1\",\n        },\n\"100%\",\n{\n            'v': 43.0,\n            'f': \"43.0\",\n        }],\n [{\n            'v': 697,\n            'f': \"697\",\n        },\n\"212-240-04-18\",\n{\n            'v': 1,\n            'f': \"1\",\n        },\n{\n            'v': 1,\n            'f': \"1\",\n        },\n\"100%\",\n{\n            'v': 43.0,\n            'f': \"43.0\",\n        }],\n [{\n            'v': 698,\n            'f': \"698\",\n        },\n\"4633300425\",\n{\n            'v': 1,\n            'f': \"1\",\n        },\n{\n            'v': 1,\n            'f': \"1\",\n        },\n\"100%\",\n{\n            'v': 59.0,\n            'f': \"59.0\",\n        }],\n [{\n            'v': 699,\n            'f': \"699\",\n        },\n\"metris explorer van for sale\",\n{\n            'v': 1,\n            'f': \"1\",\n        },\n{\n            'v': 1,\n            'f': \"1\",\n        },\n\"100%\",\n{\n            'v': 72.0,\n            'f': \"72.0\",\n        }],\n [{\n            'v': 700,\n            'f': \"700\",\n        },\n\"mercedes repair\",\n{\n            'v': 0,\n            'f': \"0\",\n        },\n{\n            'v': 3321,\n            'f': \"3321\",\n        },\n\"0%\",\n{\n            'v': 39.36,\n            'f': \"39.36\",\n        }],\n [{\n            'v': 701,\n            'f': \"701\",\n        },\n\"mercedes benz amg\",\n{\n            'v': 0,\n            'f': \"0\",\n        },\n{\n            'v': 2375,\n            'f': \"2375\",\n        },\n\"0%\",\n{\n            'v': 65.12,\n            'f': \"65.12\",\n        }],\n [{\n            'v': 702,\n            'f': \"702\",\n        },\n\"mercedes-benz glc\",\n{\n            'v': 0,\n            'f': \"0\",\n        },\n{\n            'v': 2048,\n            'f': \"2048\",\n        },\n\"0%\",\n{\n            'v': 73.87,\n            'f': \"73.87\",\n        }],\n [{\n            'v': 703,\n            'f': \"703\",\n        },\n\"amg\",\n{\n            'v': 0,\n            'f': \"0\",\n        },\n{\n            'v': 1749,\n            'f': \"1749\",\n        },\n\"0%\",\n{\n            'v': 55.8,\n            'f': \"55.8\",\n        }],\n [{\n            'v': 704,\n            'f': \"704\",\n        },\n\"mbusa\",\n{\n            'v': 0,\n            'f': \"0\",\n        },\n{\n            'v': 1696,\n            'f': \"1696\",\n        },\n\"0%\",\n{\n            'v': 57.46,\n            'f': \"57.46\",\n        }],\n [{\n            'v': 705,\n            'f': \"705\",\n        },\n\"mercedes glc\",\n{\n            'v': 0,\n            'f': \"0\",\n        },\n{\n            'v': 1591,\n            'f': \"1591\",\n        },\n\"0%\",\n{\n            'v': 82.24,\n            'f': \"82.24\",\n        }],\n [{\n            'v': 706,\n            'f': \"706\",\n        },\n\"mercedes benz g class\",\n{\n            'v': 0,\n            'f': \"0\",\n        },\n{\n            'v': 1575,\n            'f': \"1575\",\n        },\n\"0%\",\n{\n            'v': 90.28,\n            'f': \"90.28\",\n        }],\n [{\n            'v': 707,\n            'f': \"707\",\n        },\n\"mercedes benz glc\",\n{\n            'v': 0,\n            'f': \"0\",\n        },\n{\n            'v': 1545,\n            'f': \"1545\",\n        },\n\"0%\",\n{\n            'v': 73.25,\n            'f': \"73.25\",\n        }],\n [{\n            'v': 708,\n            'f': \"708\",\n        },\n\"mercedes usa\",\n{\n            'v': 0,\n            'f': \"0\",\n        },\n{\n            'v': 1418,\n            'f': \"1418\",\n        },\n\"0%\",\n{\n            'v': 70.99,\n            'f': \"70.99\",\n        }],\n [{\n            'v': 709,\n            'f': \"709\",\n        },\n\"mercedes benz american express credit card\",\n{\n            'v': 0,\n            'f': \"0\",\n        },\n{\n            'v': 1378,\n            'f': \"1378\",\n        },\n\"0%\",\n{\n            'v': 2.62,\n            'f': \"2.62\",\n        }],\n [{\n            'v': 710,\n            'f': \"710\",\n        },\n\"american express mercedes credit card\",\n{\n            'v': 0,\n            'f': \"0\",\n        },\n{\n            'v': 1339,\n            'f': \"1339\",\n        },\n\"0%\",\n{\n            'v': 3.5,\n            'f': \"3.5\",\n        }],\n [{\n            'v': 711,\n            'f': \"711\",\n        },\n\"s 560\",\n{\n            'v': 0,\n            'f': \"0\",\n        },\n{\n            'v': 1296,\n            'f': \"1296\",\n        },\n\"0%\",\n{\n            'v': 6.08,\n            'f': \"6.08\",\n        }],\n [{\n            'v': 712,\n            'f': \"712\",\n        },\n\"mercedes benz van\",\n{\n            'v': 0,\n            'f': \"0\",\n        },\n{\n            'v': 1120,\n            'f': \"1120\",\n        },\n\"0%\",\n{\n            'v': 75.45,\n            'f': \"75.45\",\n        }],\n [{\n            'v': 713,\n            'f': \"713\",\n        },\n\"mercedes gle\",\n{\n            'v': 0,\n            'f': \"0\",\n        },\n{\n            'v': 1083,\n            'f': \"1083\",\n        },\n\"0%\",\n{\n            'v': 81.59,\n            'f': \"81.59\",\n        }],\n [{\n            'v': 714,\n            'f': \"714\",\n        },\n\"new mercedes-benz\",\n{\n            'v': 0,\n            'f': \"0\",\n        },\n{\n            'v': 918,\n            'f': \"918\",\n        },\n\"0%\",\n{\n            'v': 32.85,\n            'f': \"32.85\",\n        }],\n [{\n            'v': 715,\n            'f': \"715\",\n        },\n\"mercedes-benz g-class\",\n{\n            'v': 0,\n            'f': \"0\",\n        },\n{\n            'v': 897,\n            'f': \"897\",\n        },\n\"0%\",\n{\n            'v': 89.23,\n            'f': \"89.23\",\n        }],\n [{\n            'v': 716,\n            'f': \"716\",\n        },\n\"mercedes-benz service\",\n{\n            'v': 0,\n            'f': \"0\",\n        },\n{\n            'v': 887,\n            'f': \"887\",\n        },\n\"0%\",\n{\n            'v': 46.75,\n            'f': \"46.75\",\n        }],\n [{\n            'v': 717,\n            'f': \"717\",\n        },\n\"mercedes cls 450\",\n{\n            'v': 0,\n            'f': \"0\",\n        },\n{\n            'v': 884,\n            'f': \"884\",\n        },\n\"0%\",\n{\n            'v': 35.6,\n            'f': \"35.6\",\n        }],\n [{\n            'v': 718,\n            'f': \"718\",\n        },\n\"mercedes certified pre owned\",\n{\n            'v': 0,\n            'f': \"0\",\n        },\n{\n            'v': 846,\n            'f': \"846\",\n        },\n\"0%\",\n{\n            'v': 39.12,\n            'f': \"39.12\",\n        }],\n [{\n            'v': 719,\n            'f': \"719\",\n        },\n\"mercedes gle 350\",\n{\n            'v': 0,\n            'f': \"0\",\n        },\n{\n            'v': 803,\n            'f': \"803\",\n        },\n\"0%\",\n{\n            'v': 87.39,\n            'f': \"87.39\",\n        }],\n [{\n            'v': 720,\n            'f': \"720\",\n        },\n\"mercedes van\",\n{\n            'v': 0,\n            'f': \"0\",\n        },\n{\n            'v': 790,\n            'f': \"790\",\n        },\n\"0%\",\n{\n            'v': 38.43,\n            'f': \"38.43\",\n        }],\n [{\n            'v': 721,\n            'f': \"721\",\n        },\n\"new mercedes benz\",\n{\n            'v': 0,\n            'f': \"0\",\n        },\n{\n            'v': 783,\n            'f': \"783\",\n        },\n\"0%\",\n{\n            'v': 39.85,\n            'f': \"39.85\",\n        }],\n [{\n            'v': 722,\n            'f': \"722\",\n        },\n\"mercedes benz g wagon\",\n{\n            'v': 0,\n            'f': \"0\",\n        },\n{\n            'v': 777,\n            'f': \"777\",\n        },\n\"0%\",\n{\n            'v': 83.14,\n            'f': \"83.14\",\n        }],\n [{\n            'v': 723,\n            'f': \"723\",\n        },\n\"new mercedes\",\n{\n            'v': 0,\n            'f': \"0\",\n        },\n{\n            'v': 764,\n            'f': \"764\",\n        },\n\"0%\",\n{\n            'v': 50.99,\n            'f': \"50.99\",\n        }],\n [{\n            'v': 724,\n            'f': \"724\",\n        },\n\"mercedes-benz gls\",\n{\n            'v': 0,\n            'f': \"0\",\n        },\n{\n            'v': 761,\n            'f': \"761\",\n        },\n\"0%\",\n{\n            'v': 66.69,\n            'f': \"66.69\",\n        }],\n [{\n            'v': 725,\n            'f': \"725\",\n        },\n\"2017 mercedes-benz c-class\",\n{\n            'v': 0,\n            'f': \"0\",\n        },\n{\n            'v': 743,\n            'f': \"743\",\n        },\n\"0%\",\n{\n            'v': 73.87,\n            'f': \"73.87\",\n        }],\n [{\n            'v': 726,\n            'f': \"726\",\n        },\n\"mercedes-benz g-wagon\",\n{\n            'v': 0,\n            'f': \"0\",\n        },\n{\n            'v': 734,\n            'f': \"734\",\n        },\n\"0%\",\n{\n            'v': 80.22,\n            'f': \"80.22\",\n        }],\n [{\n            'v': 727,\n            'f': \"727\",\n        },\n\"used cars birmingham\",\n{\n            'v': 0,\n            'f': \"0\",\n        },\n{\n            'v': 733,\n            'f': \"733\",\n        },\n\"0%\",\n{\n            'v': 80.64,\n            'f': \"80.64\",\n        }],\n [{\n            'v': 728,\n            'f': \"728\",\n        },\n\"mercedes parts online\",\n{\n            'v': 0,\n            'f': \"0\",\n        },\n{\n            'v': 726,\n            'f': \"726\",\n        },\n\"0%\",\n{\n            'v': 71.43,\n            'f': \"71.43\",\n        }],\n [{\n            'v': 729,\n            'f': \"729\",\n        },\n\"mercedes benz service center\",\n{\n            'v': 0,\n            'f': \"0\",\n        },\n{\n            'v': 723,\n            'f': \"723\",\n        },\n\"0%\",\n{\n            'v': 64.25,\n            'f': \"64.25\",\n        }],\n [{\n            'v': 730,\n            'f': \"730\",\n        },\n\"mercedes benz lease specials\",\n{\n            'v': 0,\n            'f': \"0\",\n        },\n{\n            'v': 714,\n            'f': \"714\",\n        },\n\"0%\",\n{\n            'v': 64.5,\n            'f': \"64.5\",\n        }],\n [{\n            'v': 731,\n            'f': \"731\",\n        },\n\"mercedes benz parts online\",\n{\n            'v': 0,\n            'f': \"0\",\n        },\n{\n            'v': 711,\n            'f': \"711\",\n        },\n\"0%\",\n{\n            'v': 56.77,\n            'f': \"56.77\",\n        }],\n [{\n            'v': 732,\n            'f': \"732\",\n        },\n\"mercedes service b\",\n{\n            'v': 0,\n            'f': \"0\",\n        },\n{\n            'v': 686,\n            'f': \"686\",\n        },\n\"0%\",\n{\n            'v': 57.43,\n            'f': \"57.43\",\n        }],\n [{\n            'v': 733,\n            'f': \"733\",\n        },\n\"mercedes cla\",\n{\n            'v': 0,\n            'f': \"0\",\n        },\n{\n            'v': 685,\n            'f': \"685\",\n        },\n\"0%\",\n{\n            'v': 79.4,\n            'f': \"79.4\",\n        }],\n [{\n            'v': 734,\n            'f': \"734\",\n        },\n\"mercedes amg\",\n{\n            'v': 0,\n            'f': \"0\",\n        },\n{\n            'v': 668,\n            'f': \"668\",\n        },\n\"0%\",\n{\n            'v': 84.96,\n            'f': \"84.96\",\n        }],\n [{\n            'v': 735,\n            'f': \"735\",\n        },\n\"mercedes-benz service center\",\n{\n            'v': 0,\n            'f': \"0\",\n        },\n{\n            'v': 664,\n            'f': \"664\",\n        },\n\"0%\",\n{\n            'v': 67.79,\n            'f': \"67.79\",\n        }],\n [{\n            'v': 736,\n            'f': \"736\",\n        },\n\"2016 mercedes-benz amg gt\",\n{\n            'v': 0,\n            'f': \"0\",\n        },\n{\n            'v': 634,\n            'f': \"634\",\n        },\n\"0%\",\n{\n            'v': 60.46,\n            'f': \"60.46\",\n        }],\n [{\n            'v': 737,\n            'f': \"737\",\n        },\n\"2013 mercedes c300 for sale\",\n{\n            'v': 0,\n            'f': \"0\",\n        },\n{\n            'v': 632,\n            'f': \"632\",\n        },\n\"0%\",\n{\n            'v': 19.9,\n            'f': \"19.9\",\n        }],\n [{\n            'v': 738,\n            'f': \"738\",\n        },\n\"certified mercedes benz\",\n{\n            'v': 0,\n            'f': \"0\",\n        },\n{\n            'v': 616,\n            'f': \"616\",\n        },\n\"0%\",\n{\n            'v': 50.05,\n            'f': \"50.05\",\n        }],\n [{\n            'v': 739,\n            'f': \"739\",\n        },\n\"mercedes convertible\",\n{\n            'v': 0,\n            'f': \"0\",\n        },\n{\n            'v': 606,\n            'f': \"606\",\n        },\n\"0%\",\n{\n            'v': 47.94,\n            'f': \"47.94\",\n        }],\n [{\n            'v': 740,\n            'f': \"740\",\n        },\n\"mercedes shop\",\n{\n            'v': 0,\n            'f': \"0\",\n        },\n{\n            'v': 598,\n            'f': \"598\",\n        },\n\"0%\",\n{\n            'v': 53.77,\n            'f': \"53.77\",\n        }],\n [{\n            'v': 741,\n            'f': \"741\",\n        },\n\"mercedes-benz vans\",\n{\n            'v': 0,\n            'f': \"0\",\n        },\n{\n            'v': 594,\n            'f': \"594\",\n        },\n\"0%\",\n{\n            'v': 32.77,\n            'f': \"32.77\",\n        }],\n [{\n            'v': 742,\n            'f': \"742\",\n        },\n\"mercedes certified\",\n{\n            'v': 0,\n            'f': \"0\",\n        },\n{\n            'v': 578,\n            'f': \"578\",\n        },\n\"0%\",\n{\n            'v': 45.93,\n            'f': \"45.93\",\n        }],\n [{\n            'v': 743,\n            'f': \"743\",\n        },\n\"used cars birmingham al\",\n{\n            'v': 0,\n            'f': \"0\",\n        },\n{\n            'v': 572,\n            'f': \"572\",\n        },\n\"0%\",\n{\n            'v': 83.72,\n            'f': \"83.72\",\n        }],\n [{\n            'v': 744,\n            'f': \"744\",\n        },\n\"mercedes sprinter for sale\",\n{\n            'v': 0,\n            'f': \"0\",\n        },\n{\n            'v': 569,\n            'f': \"569\",\n        },\n\"0%\",\n{\n            'v': 60.03,\n            'f': \"60.03\",\n        }],\n [{\n            'v': 745,\n            'f': \"745\",\n        },\n\"mercedes suv lease\",\n{\n            'v': 0,\n            'f': \"0\",\n        },\n{\n            'v': 553,\n            'f': \"553\",\n        },\n\"0%\",\n{\n            'v': 88.24,\n            'f': \"88.24\",\n        }],\n [{\n            'v': 746,\n            'f': \"746\",\n        },\n\"mercedes benz special offers\",\n{\n            'v': 0,\n            'f': \"0\",\n        },\n{\n            'v': 552,\n            'f': \"552\",\n        },\n\"0%\",\n{\n            'v': 73.1,\n            'f': \"73.1\",\n        }],\n [{\n            'v': 747,\n            'f': \"747\",\n        },\n\"mercedes-benz specials\",\n{\n            'v': 0,\n            'f': \"0\",\n        },\n{\n            'v': 538,\n            'f': \"538\",\n        },\n\"0%\",\n{\n            'v': 21.86,\n            'f': \"21.86\",\n        }],\n [{\n            'v': 748,\n            'f': \"748\",\n        },\n\"mercedes service a cost\",\n{\n            'v': 0,\n            'f': \"0\",\n        },\n{\n            'v': 537,\n            'f': \"537\",\n        },\n\"0%\",\n{\n            'v': 71.84,\n            'f': \"71.84\",\n        }],\n [{\n            'v': 749,\n            'f': \"749\",\n        },\n\"2020 cls 450\",\n{\n            'v': 0,\n            'f': \"0\",\n        },\n{\n            'v': 531,\n            'f': \"531\",\n        },\n\"0%\",\n{\n            'v': 1.66,\n            'f': \"1.66\",\n        }],\n [{\n            'v': 750,\n            'f': \"750\",\n        },\n\"glb 250\",\n{\n            'v': 0,\n            'f': \"0\",\n        },\n{\n            'v': 530,\n            'f': \"530\",\n        },\n\"0%\",\n{\n            'v': 27.5,\n            'f': \"27.5\",\n        }],\n [{\n            'v': 751,\n            'f': \"751\",\n        },\n\"2017 mercedes benz c class\",\n{\n            'v': 0,\n            'f': \"0\",\n        },\n{\n            'v': 521,\n            'f': \"521\",\n        },\n\"0%\",\n{\n            'v': 76.04,\n            'f': \"76.04\",\n        }],\n [{\n            'v': 752,\n            'f': \"752\",\n        },\n\"mercedes benz service specials\",\n{\n            'v': 0,\n            'f': \"0\",\n        },\n{\n            'v': 518,\n            'f': \"518\",\n        },\n\"0%\",\n{\n            'v': 43.65,\n            'f': \"43.65\",\n        }],\n [{\n            'v': 753,\n            'f': \"753\",\n        },\n\"mercedes roadside assistance\",\n{\n            'v': 0,\n            'f': \"0\",\n        },\n{\n            'v': 497,\n            'f': \"497\",\n        },\n\"0%\",\n{\n            'v': 27.32,\n            'f': \"27.32\",\n        }],\n [{\n            'v': 754,\n            'f': \"754\",\n        },\n\"2017 mercedes-benz gle-class\",\n{\n            'v': 0,\n            'f': \"0\",\n        },\n{\n            'v': 492,\n            'f': \"492\",\n        },\n\"0%\",\n{\n            'v': 43.33,\n            'f': \"43.33\",\n        }],\n [{\n            'v': 755,\n            'f': \"755\",\n        },\n\"mercedes coupes\",\n{\n            'v': 0,\n            'f': \"0\",\n        },\n{\n            'v': 485,\n            'f': \"485\",\n        },\n\"0%\",\n{\n            'v': 74.11,\n            'f': \"74.11\",\n        }],\n [{\n            'v': 756,\n            'f': \"756\",\n        },\n\"new mercedes for sale\",\n{\n            'v': 0,\n            'f': \"0\",\n        },\n{\n            'v': 478,\n            'f': \"478\",\n        },\n\"0%\",\n{\n            'v': 53.2,\n            'f': \"53.2\",\n        }],\n [{\n            'v': 757,\n            'f': \"757\",\n        },\n\"2017 mercedes-benz glc-class\",\n{\n            'v': 0,\n            'f': \"0\",\n        },\n{\n            'v': 466,\n            'f': \"466\",\n        },\n\"0%\",\n{\n            'v': 66.88,\n            'f': \"66.88\",\n        }],\n [{\n            'v': 758,\n            'f': \"758\",\n        },\n\"cls 450\",\n{\n            'v': 0,\n            'f': \"0\",\n        },\n{\n            'v': 465,\n            'f': \"465\",\n        },\n\"0%\",\n{\n            'v': 40.95,\n            'f': \"40.95\",\n        }],\n [{\n            'v': 759,\n            'f': \"759\",\n        },\n\"mercedes service a\",\n{\n            'v': 0,\n            'f': \"0\",\n        },\n{\n            'v': 464,\n            'f': \"464\",\n        },\n\"0%\",\n{\n            'v': 87.28,\n            'f': \"87.28\",\n        }],\n [{\n            'v': 760,\n            'f': \"760\",\n        },\n\"mercedes benz oem parts\",\n{\n            'v': 0,\n            'f': \"0\",\n        },\n{\n            'v': 463,\n            'f': \"463\",\n        },\n\"0%\",\n{\n            'v': 86.48,\n            'f': \"86.48\",\n        }],\n [{\n            'v': 761,\n            'f': \"761\",\n        },\n\"mb metris\",\n{\n            'v': 0,\n            'f': \"0\",\n        },\n{\n            'v': 462,\n            'f': \"462\",\n        },\n\"0%\",\n{\n            'v': 20.26,\n            'f': \"20.26\",\n        }],\n [{\n            'v': 762,\n            'f': \"762\",\n        },\n\"mercedes-benz certified pre owned\",\n{\n            'v': 0,\n            'f': \"0\",\n        },\n{\n            'v': 461,\n            'f': \"461\",\n        },\n\"0%\",\n{\n            'v': 41.38,\n            'f': \"41.38\",\n        }],\n [{\n            'v': 763,\n            'f': \"763\",\n        },\n\"amg mercedes\",\n{\n            'v': 0,\n            'f': \"0\",\n        },\n{\n            'v': 460,\n            'f': \"460\",\n        },\n\"0%\",\n{\n            'v': 53.96,\n            'f': \"53.96\",\n        }],\n [{\n            'v': 764,\n            'f': \"764\",\n        },\n\"2017 mercedes benz glc class\",\n{\n            'v': 0,\n            'f': \"0\",\n        },\n{\n            'v': 455,\n            'f': \"455\",\n        },\n\"0%\",\n{\n            'v': 62.56,\n            'f': \"62.56\",\n        }],\n [{\n            'v': 765,\n            'f': \"765\",\n        },\n\"mercedes metris\",\n{\n            'v': 0,\n            'f': \"0\",\n        },\n{\n            'v': 455,\n            'f': \"455\",\n        },\n\"0%\",\n{\n            'v': 91.82,\n            'f': \"91.82\",\n        }],\n [{\n            'v': 766,\n            'f': \"766\",\n        },\n\"2011 lexus es 350\",\n{\n            'v': 0,\n            'f': \"0\",\n        },\n{\n            'v': 437,\n            'f': \"437\",\n        },\n\"0%\",\n{\n            'v': 85.61,\n            'f': \"85.61\",\n        }],\n [{\n            'v': 767,\n            'f': \"767\",\n        },\n\"mercedes benz pre owned\",\n{\n            'v': 0,\n            'f': \"0\",\n        },\n{\n            'v': 430,\n            'f': \"430\",\n        },\n\"0%\",\n{\n            'v': 42.04,\n            'f': \"42.04\",\n        }],\n [{\n            'v': 768,\n            'f': \"768\",\n        },\n\"mercedes credit card\",\n{\n            'v': 0,\n            'f': \"0\",\n        },\n{\n            'v': 428,\n            'f': \"428\",\n        },\n\"0%\",\n{\n            'v': 11.18,\n            'f': \"11.18\",\n        }],\n [{\n            'v': 769,\n            'f': \"769\",\n        },\n\"from my dad\",\n{\n            'v': 0,\n            'f': \"0\",\n        },\n{\n            'v': 426,\n            'f': \"426\",\n        },\n\"0%\",\n{\n            'v': 12.45,\n            'f': \"12.45\",\n        }],\n [{\n            'v': 770,\n            'f': \"770\",\n        },\n\"irondale\",\n{\n            'v': 0,\n            'f': \"0\",\n        },\n{\n            'v': 425,\n            'f': \"425\",\n        },\n\"0%\",\n{\n            'v': 16.8,\n            'f': \"16.8\",\n        }],\n [{\n            'v': 771,\n            'f': \"771\",\n        },\n\"mercedes benz service in\",\n{\n            'v': 0,\n            'f': \"0\",\n        },\n{\n            'v': 425,\n            'f': \"425\",\n        },\n\"0%\",\n{\n            'v': 72.96,\n            'f': \"72.96\",\n        }],\n [{\n            'v': 772,\n            'f': \"772\",\n        },\n\"mercedes-benz glc suv\",\n{\n            'v': 0,\n            'f': \"0\",\n        },\n{\n            'v': 422,\n            'f': \"422\",\n        },\n\"0%\",\n{\n            'v': 19.63,\n            'f': \"19.63\",\n        }],\n [{\n            'v': 773,\n            'f': \"773\",\n        },\n\"2017 amg gle 43 mercedes-benz\",\n{\n            'v': 0,\n            'f': \"0\",\n        },\n{\n            'v': 422,\n            'f': \"422\",\n        },\n\"0%\",\n{\n            'v': 69.5,\n            'f': \"69.5\",\n        }],\n [{\n            'v': 774,\n            'f': \"774\",\n        },\n\"birmingham used cars\",\n{\n            'v': 0,\n            'f': \"0\",\n        },\n{\n            'v': 418,\n            'f': \"418\",\n        },\n\"0%\",\n{\n            'v': 52.62,\n            'f': \"52.62\",\n        }],\n [{\n            'v': 775,\n            'f': \"775\",\n        },\n\"mercedes benz service a\",\n{\n            'v': 0,\n            'f': \"0\",\n        },\n{\n            'v': 413,\n            'f': \"413\",\n        },\n\"0%\",\n{\n            'v': 73.36,\n            'f': \"73.36\",\n        }],\n [{\n            'v': 776,\n            'f': \"776\",\n        },\n\"service mercedes\",\n{\n            'v': 0,\n            'f': \"0\",\n        },\n{\n            'v': 412,\n            'f': \"412\",\n        },\n\"0%\",\n{\n            'v': 56.96,\n            'f': \"56.96\",\n        }],\n [{\n            'v': 777,\n            'f': \"777\",\n        },\n\"mercedes benz certified pre owned\",\n{\n            'v': 0,\n            'f': \"0\",\n        },\n{\n            'v': 408,\n            'f': \"408\",\n        },\n\"0%\",\n{\n            'v': 41.28,\n            'f': \"41.28\",\n        }],\n [{\n            'v': 778,\n            'f': \"778\",\n        },\n\"mercedes e class wagon\",\n{\n            'v': 0,\n            'f': \"0\",\n        },\n{\n            'v': 408,\n            'f': \"408\",\n        },\n\"0%\",\n{\n            'v': 91.93,\n            'f': \"91.93\",\n        }],\n [{\n            'v': 779,\n            'f': \"779\",\n        },\n\"mercedes-benz service in\",\n{\n            'v': 0,\n            'f': \"0\",\n        },\n{\n            'v': 403,\n            'f': \"403\",\n        },\n\"0%\",\n{\n            'v': 73.28,\n            'f': \"73.28\",\n        }],\n [{\n            'v': 780,\n            'f': \"780\",\n        },\n\"roadside service\",\n{\n            'v': 0,\n            'f': \"0\",\n        },\n{\n            'v': 401,\n            'f': \"401\",\n        },\n\"0%\",\n{\n            'v': 26.83,\n            'f': \"26.83\",\n        }],\n [{\n            'v': 781,\n            'f': \"781\",\n        },\n\"2015 mercedes-benz m-class\",\n{\n            'v': 0,\n            'f': \"0\",\n        },\n{\n            'v': 398,\n            'f': \"398\",\n        },\n\"0%\",\n{\n            'v': 73.52,\n            'f': \"73.52\",\n        }],\n [{\n            'v': 782,\n            'f': \"782\",\n        },\n\"mercedes care\",\n{\n            'v': 0,\n            'f': \"0\",\n        },\n{\n            'v': 393,\n            'f': \"393\",\n        },\n\"0%\",\n{\n            'v': 10.07,\n            'f': \"10.07\",\n        }],\n [{\n            'v': 783,\n            'f': \"783\",\n        },\n\"mercedes benz s 560\",\n{\n            'v': 0,\n            'f': \"0\",\n        },\n{\n            'v': 386,\n            'f': \"386\",\n        },\n\"0%\",\n{\n            'v': 10.63,\n            'f': \"10.63\",\n        }],\n [{\n            'v': 784,\n            'f': \"784\",\n        },\n\"mercedes benz cpo\",\n{\n            'v': 0,\n            'f': \"0\",\n        },\n{\n            'v': 378,\n            'f': \"378\",\n        },\n\"0%\",\n{\n            'v': 63.06,\n            'f': \"63.06\",\n        }],\n [{\n            'v': 785,\n            'f': \"785\",\n        },\n\"mercedes cargo van\",\n{\n            'v': 0,\n            'f': \"0\",\n        },\n{\n            'v': 376,\n            'f': \"376\",\n        },\n\"0%\",\n{\n            'v': 29.96,\n            'f': \"29.96\",\n        }],\n [{\n            'v': 786,\n            'f': \"786\",\n        },\n\"mercedes passenger van\",\n{\n            'v': 0,\n            'f': \"0\",\n        },\n{\n            'v': 371,\n            'f': \"371\",\n        },\n\"0%\",\n{\n            'v': 52.71,\n            'f': \"52.71\",\n        }],\n [{\n            'v': 787,\n            'f': \"787\",\n        },\n\"mercedes benz of\",\n{\n            'v': 0,\n            'f': \"0\",\n        },\n{\n            'v': 370,\n            'f': \"370\",\n        },\n\"0%\",\n{\n            'v': 52.1,\n            'f': \"52.1\",\n        }],\n [{\n            'v': 788,\n            'f': \"788\",\n        },\n\"mercedes finance\",\n{\n            'v': 0,\n            'f': \"0\",\n        },\n{\n            'v': 367,\n            'f': \"367\",\n        },\n\"0%\",\n{\n            'v': 45.08,\n            'f': \"45.08\",\n        }],\n [{\n            'v': 789,\n            'f': \"789\",\n        },\n\"2019 mercedes-benz sprinter\",\n{\n            'v': 0,\n            'f': \"0\",\n        },\n{\n            'v': 366,\n            'f': \"366\",\n        },\n\"0%\",\n{\n            'v': 79.64,\n            'f': \"79.64\",\n        }],\n [{\n            'v': 790,\n            'f': \"790\",\n        },\n\"mercedes-benz amg gt s\",\n{\n            'v': 0,\n            'f': \"0\",\n        },\n{\n            'v': 366,\n            'f': \"366\",\n        },\n\"0%\",\n{\n            'v': 97.32,\n            'f': \"97.32\",\n        }],\n [{\n            'v': 791,\n            'f': \"791\",\n        },\n\"mercedes benz glc for sale\",\n{\n            'v': 0,\n            'f': \"0\",\n        },\n{\n            'v': 363,\n            'f': \"363\",\n        },\n\"0%\",\n{\n            'v': 55.2,\n            'f': \"55.2\",\n        }],\n [{\n            'v': 792,\n            'f': \"792\",\n        },\n\"mercedes-benz dealer\",\n{\n            'v': 0,\n            'f': \"0\",\n        },\n{\n            'v': 360,\n            'f': \"360\",\n        },\n\"0%\",\n{\n            'v': 64.64,\n            'f': \"64.64\",\n        }],\n [{\n            'v': 793,\n            'f': \"793\",\n        },\n\"new mercedes cla\",\n{\n            'v': 0,\n            'f': \"0\",\n        },\n{\n            'v': 358,\n            'f': \"358\",\n        },\n\"0%\",\n{\n            'v': 62.46,\n            'f': \"62.46\",\n        }],\n [{\n            'v': 794,\n            'f': \"794\",\n        },\n\"mercedes stock\",\n{\n            'v': 0,\n            'f': \"0\",\n        },\n{\n            'v': 357,\n            'f': \"357\",\n        },\n\"0%\",\n{\n            'v': 73.66,\n            'f': \"73.66\",\n        }],\n [{\n            'v': 795,\n            'f': \"795\",\n        },\n\"mercedes benz products\",\n{\n            'v': 0,\n            'f': \"0\",\n        },\n{\n            'v': 355,\n            'f': \"355\",\n        },\n\"0%\",\n{\n            'v': 12.69,\n            'f': \"12.69\",\n        }],\n [{\n            'v': 796,\n            'f': \"796\",\n        },\n\"glc 43 amg\",\n{\n            'v': 0,\n            'f': \"0\",\n        },\n{\n            'v': 355,\n            'f': \"355\",\n        },\n\"0%\",\n{\n            'v': 67.61,\n            'f': \"67.61\",\n        }],\n [{\n            'v': 797,\n            'f': \"797\",\n        },\n\"2016 mercedes-benz sprinter\",\n{\n            'v': 0,\n            'f': \"0\",\n        },\n{\n            'v': 354,\n            'f': \"354\",\n        },\n\"0%\",\n{\n            'v': 76.34,\n            'f': \"76.34\",\n        }],\n [{\n            'v': 798,\n            'f': \"798\",\n        },\n\"blue mercedes\",\n{\n            'v': 0,\n            'f': \"0\",\n        },\n{\n            'v': 337,\n            'f': \"337\",\n        },\n\"0%\",\n{\n            'v': 19.81,\n            'f': \"19.81\",\n        }],\n [{\n            'v': 799,\n            'f': \"799\",\n        },\n\"certified pre-owned mercedes-benz\",\n{\n            'v': 0,\n            'f': \"0\",\n        },\n{\n            'v': 335,\n            'f': \"335\",\n        },\n\"0%\",\n{\n            'v': 27.43,\n            'f': \"27.43\",\n        }],\n [{\n            'v': 800,\n            'f': \"800\",\n        },\n\"mb parts\",\n{\n            'v': 0,\n            'f': \"0\",\n        },\n{\n            'v': 334,\n            'f': \"334\",\n        },\n\"0%\",\n{\n            'v': 46.53,\n            'f': \"46.53\",\n        }],\n [{\n            'v': 801,\n            'f': \"801\",\n        },\n\"used cars hoover al\",\n{\n            'v': 0,\n            'f': \"0\",\n        },\n{\n            'v': 332,\n            'f': \"332\",\n        },\n\"0%\",\n{\n            'v': 35.07,\n            'f': \"35.07\",\n        }],\n [{\n            'v': 802,\n            'f': \"802\",\n        },\n\"2010 lexus ls 460\",\n{\n            'v': 0,\n            'f': \"0\",\n        },\n{\n            'v': 332,\n            'f': \"332\",\n        },\n\"0%\",\n{\n            'v': 70.86,\n            'f': \"70.86\",\n        }],\n [{\n            'v': 803,\n            'f': \"803\",\n        },\n\"roadside assistance near me\",\n{\n            'v': 0,\n            'f': \"0\",\n        },\n{\n            'v': 331,\n            'f': \"331\",\n        },\n\"0%\",\n{\n            'v': 11.81,\n            'f': \"11.81\",\n        }],\n [{\n            'v': 804,\n            'f': \"804\",\n        },\n\"certified pre owned mercedes benz\",\n{\n            'v': 0,\n            'f': \"0\",\n        },\n{\n            'v': 331,\n            'f': \"331\",\n        },\n\"0%\",\n{\n            'v': 32.39,\n            'f': \"32.39\",\n        }],\n [{\n            'v': 805,\n            'f': \"805\",\n        },\n\"2019 mercedes-benz metris\",\n{\n            'v': 0,\n            'f': \"0\",\n        },\n{\n            'v': 330,\n            'f': \"330\",\n        },\n\"0%\",\n{\n            'v': 72.15,\n            'f': \"72.15\",\n        }],\n [{\n            'v': 806,\n            'f': \"806\",\n        },\n\"amg meaning\",\n{\n            'v': 0,\n            'f': \"0\",\n        },\n{\n            'v': 327,\n            'f': \"327\",\n        },\n\"0%\",\n{\n            'v': 68.03,\n            'f': \"68.03\",\n        }],\n [{\n            'v': 807,\n            'f': \"807\",\n        },\n\"mercedes auto body\",\n{\n            'v': 0,\n            'f': \"0\",\n        },\n{\n            'v': 326,\n            'f': \"326\",\n        },\n\"0%\",\n{\n            'v': 69.4,\n            'f': \"69.4\",\n        }],\n [{\n            'v': 808,\n            'f': \"808\",\n        },\n\"mercedes car repair\",\n{\n            'v': 0,\n            'f': \"0\",\n        },\n{\n            'v': 324,\n            'f': \"324\",\n        },\n\"0%\",\n{\n            'v': 31.25,\n            'f': \"31.25\",\n        }],\n [{\n            'v': 809,\n            'f': \"809\",\n        },\n\"mercedes benz offers\",\n{\n            'v': 0,\n            'f': \"0\",\n        },\n{\n            'v': 322,\n            'f': \"322\",\n        },\n\"0%\",\n{\n            'v': 44.09,\n            'f': \"44.09\",\n        }],\n [{\n            'v': 810,\n            'f': \"810\",\n        },\n\"mb service\",\n{\n            'v': 0,\n            'f': \"0\",\n        },\n{\n            'v': 320,\n            'f': \"320\",\n        },\n\"0%\",\n{\n            'v': 57.65,\n            'f': \"57.65\",\n        }],\n [{\n            'v': 811,\n            'f': \"811\",\n        },\n\"mercedes benz gle\",\n{\n            'v': 0,\n            'f': \"0\",\n        },\n{\n            'v': 318,\n            'f': \"318\",\n        },\n\"0%\",\n{\n            'v': 89.05,\n            'f': \"89.05\",\n        }],\n [{\n            'v': 812,\n            'f': \"812\",\n        },\n\"mercedes benz gls\",\n{\n            'v': 0,\n            'f': \"0\",\n        },\n{\n            'v': 314,\n            'f': \"314\",\n        },\n\"0%\",\n{\n            'v': 69.8,\n            'f': \"69.8\",\n        }],\n [{\n            'v': 813,\n            'f': \"813\",\n        },\n\"certified mercedes dealer\",\n{\n            'v': 0,\n            'f': \"0\",\n        },\n{\n            'v': 312,\n            'f': \"312\",\n        },\n\"0%\",\n{\n            'v': 71.32,\n            'f': \"71.32\",\n        }],\n [{\n            'v': 814,\n            'f': \"814\",\n        },\n\"mercedes service b cost\",\n{\n            'v': 0,\n            'f': \"0\",\n        },\n{\n            'v': 308,\n            'f': \"308\",\n        },\n\"0%\",\n{\n            'v': 51.33,\n            'f': \"51.33\",\n        }],\n [{\n            'v': 815,\n            'f': \"815\",\n        },\n\"used mercedes suv\",\n{\n            'v': 0,\n            'f': \"0\",\n        },\n{\n            'v': 302,\n            'f': \"302\",\n        },\n\"0%\",\n{\n            'v': 79.26,\n            'f': \"79.26\",\n        }],\n [{\n            'v': 816,\n            'f': \"816\",\n        },\n\"benz dashboard\",\n{\n            'v': 0,\n            'f': \"0\",\n        },\n{\n            'v': 301,\n            'f': \"301\",\n        },\n\"0%\",\n{\n            'v': 1.0,\n            'f': \"1.0\",\n        }],\n [{\n            'v': 817,\n            'f': \"817\",\n        },\n\"2020 mercedes benz s class\",\n{\n            'v': 0,\n            'f': \"0\",\n        },\n{\n            'v': 301,\n            'f': \"301\",\n        },\n\"0%\",\n{\n            'v': 63.11,\n            'f': \"63.11\",\n        }],\n [{\n            'v': 818,\n            'f': \"818\",\n        },\n\"birmingham al jobs\",\n{\n            'v': 0,\n            'f': \"0\",\n        },\n{\n            'v': 301,\n            'f': \"301\",\n        },\n\"0%\",\n{\n            'v': 83.64,\n            'f': \"83.64\",\n        }],\n [{\n            'v': 819,\n            'f': \"819\",\n        },\n\"birmingham\",\n{\n            'v': 0,\n            'f': \"0\",\n        },\n{\n            'v': 296,\n            'f': \"296\",\n        },\n\"0%\",\n{\n            'v': 93.24,\n            'f': \"93.24\",\n        }],\n [{\n            'v': 820,\n            'f': \"820\",\n        },\n\"2017 mercedes-benz glc 300\",\n{\n            'v': 0,\n            'f': \"0\",\n        },\n{\n            'v': 295,\n            'f': \"295\",\n        },\n\"0%\",\n{\n            'v': 65.8,\n            'f': \"65.8\",\n        }],\n [{\n            'v': 821,\n            'f': \"821\",\n        },\n\"mercedes-benz gls 450\",\n{\n            'v': 0,\n            'f': \"0\",\n        },\n{\n            'v': 295,\n            'f': \"295\",\n        },\n\"0%\",\n{\n            'v': 82.93,\n            'f': \"82.93\",\n        }],\n [{\n            'v': 822,\n            'f': \"822\",\n        },\n\"buy mercedes benz\",\n{\n            'v': 0,\n            'f': \"0\",\n        },\n{\n            'v': 295,\n            'f': \"295\",\n        },\n\"0%\",\n{\n            'v': 83.42,\n            'f': \"83.42\",\n        }],\n [{\n            'v': 823,\n            'f': \"823\",\n        },\n\"carline\",\n{\n            'v': 0,\n            'f': \"0\",\n        },\n{\n            'v': 294,\n            'f': \"294\",\n        },\n\"0%\",\n{\n            'v': 45.6,\n            'f': \"45.6\",\n        }],\n [{\n            'v': 824,\n            'f': \"824\",\n        },\n\"benz mercedes\",\n{\n            'v': 0,\n            'f': \"0\",\n        },\n{\n            'v': 294,\n            'f': \"294\",\n        },\n\"0%\",\n{\n            'v': 76.95,\n            'f': \"76.95\",\n        }],\n [{\n            'v': 825,\n            'f': \"825\",\n        },\n\"mercedes metris passenger\",\n{\n            'v': 0,\n            'f': \"0\",\n        },\n{\n            'v': 290,\n            'f': \"290\",\n        },\n\"0%\",\n{\n            'v': 66.54,\n            'f': \"66.54\",\n        }],\n [{\n            'v': 826,\n            'f': \"826\",\n        },\n\"birmingham jobs\",\n{\n            'v': 0,\n            'f': \"0\",\n        },\n{\n            'v': 290,\n            'f': \"290\",\n        },\n\"0%\",\n{\n            'v': 70.64,\n            'f': \"70.64\",\n        }],\n [{\n            'v': 827,\n            'f': \"827\",\n        },\n\"2019 mercedes benz sprinter\",\n{\n            'v': 0,\n            'f': \"0\",\n        },\n{\n            'v': 289,\n            'f': \"289\",\n        },\n\"0%\",\n{\n            'v': 81.17,\n            'f': \"81.17\",\n        }],\n [{\n            'v': 828,\n            'f': \"828\",\n        },\n\"mercedes auto repair\",\n{\n            'v': 0,\n            'f': \"0\",\n        },\n{\n            'v': 287,\n            'f': \"287\",\n        },\n\"0%\",\n{\n            'v': 80.82,\n            'f': \"80.82\",\n        }],\n [{\n            'v': 829,\n            'f': \"829\",\n        },\n\"amg mercedes benz\",\n{\n            'v': 0,\n            'f': \"0\",\n        },\n{\n            'v': 285,\n            'f': \"285\",\n        },\n\"0%\",\n{\n            'v': 31.08,\n            'f': \"31.08\",\n        }],\n [{\n            'v': 830,\n            'f': \"830\",\n        },\n\"preowned mercedes\",\n{\n            'v': 0,\n            'f': \"0\",\n        },\n{\n            'v': 285,\n            'f': \"285\",\n        },\n\"0%\",\n{\n            'v': 35.47,\n            'f': \"35.47\",\n        }],\n [{\n            'v': 831,\n            'f': \"831\",\n        },\n\"mercedes benz careers\",\n{\n            'v': 0,\n            'f': \"0\",\n        },\n{\n            'v': 285,\n            'f': \"285\",\n        },\n\"0%\",\n{\n            'v': 53.18,\n            'f': \"53.18\",\n        }],\n [{\n            'v': 832,\n            'f': \"832\",\n        },\n\"2012 jeep compass\",\n{\n            'v': 0,\n            'f': \"0\",\n        },\n{\n            'v': 285,\n            'f': \"285\",\n        },\n\"0%\",\n{\n            'v': 58.15,\n            'f': \"58.15\",\n        }],\n [{\n            'v': 833,\n            'f': \"833\",\n        },\n\"who is my dad\",\n{\n            'v': 0,\n            'f': \"0\",\n        },\n{\n            'v': 284,\n            'f': \"284\",\n        },\n\"0%\",\n{\n            'v': 19.44,\n            'f': \"19.44\",\n        }],\n [{\n            'v': 834,\n            'f': \"834\",\n        },\n\"mercedes glc suv\",\n{\n            'v': 0,\n            'f': \"0\",\n        },\n{\n            'v': 283,\n            'f': \"283\",\n        },\n\"0%\",\n{\n            'v': 70.28,\n            'f': \"70.28\",\n        }],\n [{\n            'v': 835,\n            'f': \"835\",\n        },\n\"mercedes-benz service department\",\n{\n            'v': 0,\n            'f': \"0\",\n        },\n{\n            'v': 282,\n            'f': \"282\",\n        },\n\"0%\",\n{\n            'v': 40.51,\n            'f': \"40.51\",\n        }],\n [{\n            'v': 836,\n            'f': \"836\",\n        },\n\"2018 mercedes-benz cls550\",\n{\n            'v': 0,\n            'f': \"0\",\n        },\n{\n            'v': 281,\n            'f': \"281\",\n        },\n\"0%\",\n{\n            'v': 45.67,\n            'f': \"45.67\",\n        }],\n [{\n            'v': 837,\n            'f': \"837\",\n        },\n\"2020 mercedes cls 450\",\n{\n            'v': 0,\n            'f': \"0\",\n        },\n{\n            'v': 279,\n            'f': \"279\",\n        },\n\"0%\",\n{\n            'v': 1.85,\n            'f': \"1.85\",\n        }],\n [{\n            'v': 838,\n            'f': \"838\",\n        },\n\"gle.com\",\n{\n            'v': 0,\n            'f': \"0\",\n        },\n{\n            'v': 279,\n            'f': \"279\",\n        },\n\"0%\",\n{\n            'v': 27.83,\n            'f': \"27.83\",\n        }],\n [{\n            'v': 839,\n            'f': \"839\",\n        },\n\"560 mercedes\",\n{\n            'v': 0,\n            'f': \"0\",\n        },\n{\n            'v': 277,\n            'f': \"277\",\n        },\n\"0%\",\n{\n            'v': 2.26,\n            'f': \"2.26\",\n        }],\n [{\n            'v': 840,\n            'f': \"840\",\n        },\n\"mercedes benz service a cost\",\n{\n            'v': 0,\n            'f': \"0\",\n        },\n{\n            'v': 276,\n            'f': \"276\",\n        },\n\"0%\",\n{\n            'v': 86.95,\n            'f': \"86.95\",\n        }],\n [{\n            'v': 841,\n            'f': \"841\",\n        },\n\"glc lease\",\n{\n            'v': 0,\n            'f': \"0\",\n        },\n{\n            'v': 274,\n            'f': \"274\",\n        },\n\"0%\",\n{\n            'v': 71.35,\n            'f': \"71.35\",\n        }],\n [{\n            'v': 842,\n            'f': \"842\",\n        },\n\"cla coupe\",\n{\n            'v': 0,\n            'f': \"0\",\n        },\n{\n            'v': 270,\n            'f': \"270\",\n        },\n\"0%\",\n{\n            'v': 49.03,\n            'f': \"49.03\",\n        }],\n [{\n            'v': 843,\n            'f': \"843\",\n        },\n\"mercedes e 350\",\n{\n            'v': 0,\n            'f': \"0\",\n        },\n{\n            'v': 268,\n            'f': \"268\",\n        },\n\"0%\",\n{\n            'v': 50.48,\n            'f': \"50.48\",\n        }],\n [{\n            'v': 844,\n            'f': \"844\",\n        },\n\"mercedes benz payment\",\n{\n            'v': 0,\n            'f': \"0\",\n        },\n{\n            'v': 267,\n            'f': \"267\",\n        },\n\"0%\",\n{\n            'v': 19.62,\n            'f': \"19.62\",\n        }],\n [{\n            'v': 845,\n            'f': \"845\",\n        },\n\"mercedes benz gle 350\",\n{\n            'v': 0,\n            'f': \"0\",\n        },\n{\n            'v': 265,\n            'f': \"265\",\n        },\n\"0%\",\n{\n            'v': 76.32,\n            'f': \"76.32\",\n        }],\n [{\n            'v': 846,\n            'f': \"846\",\n        },\n\"glc suv\",\n{\n            'v': 0,\n            'f': \"0\",\n        },\n{\n            'v': 263,\n            'f': \"263\",\n        },\n\"0%\",\n{\n            'v': 41.3,\n            'f': \"41.3\",\n        }],\n [{\n            'v': 847,\n            'f': \"847\",\n        },\n\"service a mercedes\",\n{\n            'v': 0,\n            'f': \"0\",\n        },\n{\n            'v': 262,\n            'f': \"262\",\n        },\n\"0%\",\n{\n            'v': 77.16,\n            'f': \"77.16\",\n        }],\n [{\n            'v': 848,\n            'f': \"848\",\n        },\n\"mercedes sprinter 2500\",\n{\n            'v': 0,\n            'f': \"0\",\n        },\n{\n            'v': 261,\n            'f': \"261\",\n        },\n\"0%\",\n{\n            'v': 53.66,\n            'f': \"53.66\",\n        }],\n [{\n            'v': 849,\n            'f': \"849\",\n        },\n\"mercedes financing\",\n{\n            'v': 0,\n            'f': \"0\",\n        },\n{\n            'v': 261,\n            'f': \"261\",\n        },\n\"0%\",\n{\n            'v': 61.08,\n            'f': \"61.08\",\n        }],\n [{\n            'v': 850,\n            'f': \"850\",\n        },\n\"mercedes sprinter passenger van\",\n{\n            'v': 0,\n            'f': \"0\",\n        },\n{\n            'v': 260,\n            'f': \"260\",\n        },\n\"0%\",\n{\n            'v': 53.61,\n            'f': \"53.61\",\n        }],\n [{\n            'v': 851,\n            'f': \"851\",\n        },\n\"mercedes benz roadside assistance\",\n{\n            'v': 0,\n            'f': \"0\",\n        },\n{\n            'v': 256,\n            'f': \"256\",\n        },\n\"0%\",\n{\n            'v': 28.44,\n            'f': \"28.44\",\n        }],\n [{\n            'v': 852,\n            'f': \"852\",\n        },\n\"service b mercedes\",\n{\n            'v': 0,\n            'f': \"0\",\n        },\n{\n            'v': 255,\n            'f': \"255\",\n        },\n\"0%\",\n{\n            'v': 58.51,\n            'f': \"58.51\",\n        }],\n [{\n            'v': 853,\n            'f': \"853\",\n        },\n\"mercedes suv\",\n{\n            'v': 0,\n            'f': \"0\",\n        },\n{\n            'v': 252,\n            'f': \"252\",\n        },\n\"0%\",\n{\n            'v': 23.87,\n            'f': \"23.87\",\n        }],\n [{\n            'v': 854,\n            'f': \"854\",\n        },\n\"used mercedes suv for sale\",\n{\n            'v': 0,\n            'f': \"0\",\n        },\n{\n            'v': 251,\n            'f': \"251\",\n        },\n\"0%\",\n{\n            'v': 70.3,\n            'f': \"70.3\",\n        }],\n [{\n            'v': 855,\n            'f': \"855\",\n        },\n\"mercedes cla 2020\",\n{\n            'v': 0,\n            'f': \"0\",\n        },\n{\n            'v': 251,\n            'f': \"251\",\n        },\n\"0%\",\n{\n            'v': 75.2,\n            'f': \"75.2\",\n        }],\n [{\n            'v': 856,\n            'f': \"856\",\n        },\n\"2020 mercedes-benz cls\",\n{\n            'v': 0,\n            'f': \"0\",\n        },\n{\n            'v': 249,\n            'f': \"249\",\n        },\n\"0%\",\n{\n            'v': 30.36,\n            'f': \"30.36\",\n        }],\n [{\n            'v': 857,\n            'f': \"857\",\n        },\n\"mercedes benz van for sale\",\n{\n            'v': 0,\n            'f': \"0\",\n        },\n{\n            'v': 248,\n            'f': \"248\",\n        },\n\"0%\",\n{\n            'v': 45.98,\n            'f': \"45.98\",\n        }],\n [{\n            'v': 858,\n            'f': \"858\",\n        },\n\"mercedes sprinter van\",\n{\n            'v': 0,\n            'f': \"0\",\n        },\n{\n            'v': 248,\n            'f': \"248\",\n        },\n\"0%\",\n{\n            'v': 80.98,\n            'f': \"80.98\",\n        }],\n [{\n            'v': 859,\n            'f': \"859\",\n        },\n\"mercedes-benz sprinter 2500\",\n{\n            'v': 0,\n            'f': \"0\",\n        },\n{\n            'v': 247,\n            'f': \"247\",\n        },\n\"0%\",\n{\n            'v': 43.44,\n            'f': \"43.44\",\n        }],\n [{\n            'v': 860,\n            'f': \"860\",\n        },\n\"cars for sale in birmingham al\",\n{\n            'v': 0,\n            'f': \"0\",\n        },\n{\n            'v': 247,\n            'f': \"247\",\n        },\n\"0%\",\n{\n            'v': 66.05,\n            'f': \"66.05\",\n        }],\n [{\n            'v': 861,\n            'f': \"861\",\n        },\n\"genuine mercedes parts\",\n{\n            'v': 0,\n            'f': \"0\",\n        },\n{\n            'v': 246,\n            'f': \"246\",\n        },\n\"0%\",\n{\n            'v': 93.12,\n            'f': \"93.12\",\n        }],\n [{\n            'v': 862,\n            'f': \"862\",\n        },\n\"s class 560\",\n{\n            'v': 0,\n            'f': \"0\",\n        },\n{\n            'v': 245,\n            'f': \"245\",\n        },\n\"0%\",\n{\n            'v': 2.27,\n            'f': \"2.27\",\n        }],\n [{\n            'v': 863,\n            'f': \"863\",\n        },\n\"metris passenger van\",\n{\n            'v': 0,\n            'f': \"0\",\n        },\n{\n            'v': 244,\n            'f': \"244\",\n        },\n\"0%\",\n{\n            'v': 60.13,\n            'f': \"60.13\",\n        }],\n [{\n            'v': 864,\n            'f': \"864\",\n        },\n\"mercedes oem parts online\",\n{\n            'v': 0,\n            'f': \"0\",\n        },\n{\n            'v': 242,\n            'f': \"242\",\n        },\n\"0%\",\n{\n            'v': 84.17,\n            'f': \"84.17\",\n        }],\n [{\n            'v': 865,\n            'f': \"865\",\n        },\n\"mercedes-benz sprinter vans\",\n{\n            'v': 0,\n            'f': \"0\",\n        },\n{\n            'v': 237,\n            'f': \"237\",\n        },\n\"0%\",\n{\n            'v': 66.09,\n            'f': \"66.09\",\n        }],\n [{\n            'v': 866,\n            'f': \"866\",\n        },\n\"mercedes oil change coupons\",\n{\n            'v': 0,\n            'f': \"0\",\n        },\n{\n            'v': 236,\n            'f': \"236\",\n        },\n\"0%\",\n{\n            'v': 57.92,\n            'f': \"57.92\",\n        }],\n [{\n            'v': 867,\n            'f': \"867\",\n        },\n\"2018 mercedes sprinter cab chassis\",\n{\n            'v': 0,\n            'f': \"0\",\n        },\n{\n            'v': 235,\n            'f': \"235\",\n        },\n\"0%\",\n{\n            'v': 86.24,\n            'f': \"86.24\",\n        }],\n [{\n            'v': 868,\n            'f': \"868\",\n        },\n\"2016 bmw x5 sdrive35i\",\n{\n            'v': 0,\n            'f': \"0\",\n        },\n{\n            'v': 234,\n            'f': \"234\",\n        },\n\"0%\",\n{\n            'v': 43.15,\n            'f': \"43.15\",\n        }],\n [{\n            'v': 869,\n            'f': \"869\",\n        },\n\"e class mercedes\",\n{\n            'v': 0,\n            'f': \"0\",\n        },\n{\n            'v': 234,\n            'f': \"234\",\n        },\n\"0%\",\n{\n            'v': 61.23,\n            'f': \"61.23\",\n        }],\n [{\n            'v': 870,\n            'f': \"870\",\n        },\n\"mercedes cars for sale\",\n{\n            'v': 0,\n            'f': \"0\",\n        },\n{\n            'v': 234,\n            'f': \"234\",\n        },\n\"0%\",\n{\n            'v': 66.11,\n            'f': \"66.11\",\n        }],\n [{\n            'v': 871,\n            'f': \"871\",\n        },\n\"mercedes leasing\",\n{\n            'v': 0,\n            'f': \"0\",\n        },\n{\n            'v': 233,\n            'f': \"233\",\n        },\n\"0%\",\n{\n            'v': 43.04,\n            'f': \"43.04\",\n        }],\n [{\n            'v': 872,\n            'f': \"872\",\n        },\n\"glc for sale\",\n{\n            'v': 0,\n            'f': \"0\",\n        },\n{\n            'v': 233,\n            'f': \"233\",\n        },\n\"0%\",\n{\n            'v': 77.14,\n            'f': \"77.14\",\n        }],\n [{\n            'v': 873,\n            'f': \"873\",\n        },\n\"2014 toyota avalon\",\n{\n            'v': 0,\n            'f': \"0\",\n        },\n{\n            'v': 232,\n            'f': \"232\",\n        },\n\"0%\",\n{\n            'v': 69.45,\n            'f': \"69.45\",\n        }],\n [{\n            'v': 874,\n            'f': \"874\",\n        },\n\"2012 nissan armada\",\n{\n            'v': 0,\n            'f': \"0\",\n        },\n{\n            'v': 232,\n            'f': \"232\",\n        },\n\"0%\",\n{\n            'v': 78.75,\n            'f': \"78.75\",\n        }],\n [{\n            'v': 875,\n            'f': \"875\",\n        },\n\"bham\",\n{\n            'v': 0,\n            'f': \"0\",\n        },\n{\n            'v': 232,\n            'f': \"232\",\n        },\n\"0%\",\n{\n            'v': 79.39,\n            'f': \"79.39\",\n        }],\n [{\n            'v': 876,\n            'f': \"876\",\n        },\n\"birmingham luxury motors birmingham, al\",\n{\n            'v': 0,\n            'f': \"0\",\n        },\n{\n            'v': 231,\n            'f': \"231\",\n        },\n\"0%\",\n{\n            'v': 23.84,\n            'f': \"23.84\",\n        }],\n [{\n            'v': 877,\n            'f': \"877\",\n        },\n\"vehicle locator\",\n{\n            'v': 0,\n            'f': \"0\",\n        },\n{\n            'v': 230,\n            'f': \"230\",\n        },\n\"0%\",\n{\n            'v': 50.53,\n            'f': \"50.53\",\n        }],\n [{\n            'v': 878,\n            'f': \"878\",\n        },\n\"new sprinter\",\n{\n            'v': 0,\n            'f': \"0\",\n        },\n{\n            'v': 230,\n            'f': \"230\",\n        },\n\"0%\",\n{\n            'v': 51.37,\n            'f': \"51.37\",\n        }],\n [{\n            'v': 879,\n            'f': \"879\",\n        },\n\"mercedes benz montgomery\",\n{\n            'v': 0,\n            'f': \"0\",\n        },\n{\n            'v': 229,\n            'f': \"229\",\n        },\n\"0%\",\n{\n            'v': 14.26,\n            'f': \"14.26\",\n        }],\n [{\n            'v': 880,\n            'f': \"880\",\n        },\n\"brian nichols\",\n{\n            'v': 0,\n            'f': \"0\",\n        },\n{\n            'v': 229,\n            'f': \"229\",\n        },\n\"0%\",\n{\n            'v': 40.85,\n            'f': \"40.85\",\n        }],\n [{\n            'v': 881,\n            'f': \"881\",\n        },\n\"mercedes-benz e-class wagon\",\n{\n            'v': 0,\n            'f': \"0\",\n        },\n{\n            'v': 229,\n            'f': \"229\",\n        },\n\"0%\",\n{\n            'v': 84.12,\n            'f': \"84.12\",\n        }],\n [{\n            'v': 882,\n            'f': \"882\",\n        },\n\"mercedes floor mats\",\n{\n            'v': 0,\n            'f': \"0\",\n        },\n{\n            'v': 228,\n            'f': \"228\",\n        },\n\"0%\",\n{\n            'v': 38.23,\n            'f': \"38.23\",\n        }],\n [{\n            'v': 883,\n            'f': \"883\",\n        },\n\"high mileage lease programs\",\n{\n            'v': 0,\n            'f': \"0\",\n        },\n{\n            'v': 227,\n            'f': \"227\",\n        },\n\"0%\",\n{\n            'v': 42.28,\n            'f': \"42.28\",\n        }],\n [{\n            'v': 884,\n            'f': \"884\",\n        },\n\"used cars for sale in birmingham al\",\n{\n            'v': 0,\n            'f': \"0\",\n        },\n{\n            'v': 227,\n            'f': \"227\",\n        },\n\"0%\",\n{\n            'v': 61.19,\n            'f': \"61.19\",\n        }],\n [{\n            'v': 885,\n            'f': \"885\",\n        },\n\"mercedes glb 250\",\n{\n            'v': 0,\n            'f': \"0\",\n        },\n{\n            'v': 226,\n            'f': \"226\",\n        },\n\"0%\",\n{\n            'v': 46.41,\n            'f': \"46.41\",\n        }],\n [{\n            'v': 886,\n            'f': \"886\",\n        },\n\"mercedes benz gle for sale\",\n{\n            'v': 0,\n            'f': \"0\",\n        },\n{\n            'v': 226,\n            'f': \"226\",\n        },\n\"0%\",\n{\n            'v': 54.17,\n            'f': \"54.17\",\n        }],\n [{\n            'v': 887,\n            'f': \"887\",\n        },\n\"certified mercedes for sale\",\n{\n            'v': 0,\n            'f': \"0\",\n        },\n{\n            'v': 224,\n            'f': \"224\",\n        },\n\"0%\",\n{\n            'v': 57.83,\n            'f': \"57.83\",\n        }],\n [{\n            'v': 888,\n            'f': \"888\",\n        },\n\"amg repair\",\n{\n            'v': 0,\n            'f': \"0\",\n        },\n{\n            'v': 224,\n            'f': \"224\",\n        },\n\"0%\",\n{\n            'v': 83.98,\n            'f': \"83.98\",\n        }],\n [{\n            'v': 889,\n            'f': \"889\",\n        },\n\"mbc900\",\n{\n            'v': 0,\n            'f': \"0\",\n        },\n{\n            'v': 223,\n            'f': \"223\",\n        },\n\"0%\",\n{\n            'v': 61.92,\n            'f': \"61.92\",\n        }],\n [{\n            'v': 890,\n            'f': \"890\",\n        },\n\"mercedes service coupon\",\n{\n            'v': 0,\n            'f': \"0\",\n        },\n{\n            'v': 223,\n            'f': \"223\",\n        },\n\"0%\",\n{\n            'v': 68.3,\n            'f': \"68.3\",\n        }],\n [{\n            'v': 891,\n            'f': \"891\",\n        },\n\"new mercedes-benz gla for sale\",\n{\n            'v': 0,\n            'f': \"0\",\n        },\n{\n            'v': 222,\n            'f': \"222\",\n        },\n\"0%\",\n{\n            'v': 46.99,\n            'f': \"46.99\",\n        }],\n [{\n            'v': 892,\n            'f': \"892\",\n        },\n\"mercedes benz lease deals\",\n{\n            'v': 0,\n            'f': \"0\",\n        },\n{\n            'v': 219,\n            'f': \"219\",\n        },\n\"0%\",\n{\n            'v': 65.14,\n            'f': \"65.14\",\n        }],\n [{\n            'v': 893,\n            'f': \"893\",\n        },\n\"mercedes kompressor\",\n{\n            'v': 0,\n            'f': \"0\",\n        },\n{\n            'v': 218,\n            'f': \"218\",\n        },\n\"0%\",\n{\n            'v': 64.01,\n            'f': \"64.01\",\n        }],\n [{\n            'v': 894,\n            'f': \"894\",\n        },\n\"2012 audi s5\",\n{\n            'v': 0,\n            'f': \"0\",\n        },\n{\n            'v': 215,\n            'f': \"215\",\n        },\n\"0%\",\n{\n            'v': 81.68,\n            'f': \"81.68\",\n        }],\n [{\n            'v': 895,\n            'f': \"895\",\n        },\n\"mercedes sprinter vans\",\n{\n            'v': 0,\n            'f': \"0\",\n        },\n{\n            'v': 213,\n            'f': \"213\",\n        },\n\"0%\",\n{\n            'v': 80.22,\n            'f': \"80.22\",\n        }],\n [{\n            'v': 896,\n            'f': \"896\",\n        },\n\"alabama luxury motors\",\n{\n            'v': 0,\n            'f': \"0\",\n        },\n{\n            'v': 212,\n            'f': \"212\",\n        },\n\"0%\",\n{\n            'v': 20.72,\n            'f': \"20.72\",\n        }],\n [{\n            'v': 897,\n            'f': \"897\",\n        },\n\"2017 mercedes benz gle class\",\n{\n            'v': 0,\n            'f': \"0\",\n        },\n{\n            'v': 211,\n            'f': \"211\",\n        },\n\"0%\",\n{\n            'v': 40.4,\n            'f': \"40.4\",\n        }],\n [{\n            'v': 898,\n            'f': \"898\",\n        },\n\"2018 mercedes metris cargo van\",\n{\n            'v': 0,\n            'f': \"0\",\n        },\n{\n            'v': 210,\n            'f': \"210\",\n        },\n\"0%\",\n{\n            'v': 67.31,\n            'f': \"67.31\",\n        }],\n [{\n            'v': 899,\n            'f': \"899\",\n        },\n\"2019 mercedes benz metris\",\n{\n            'v': 0,\n            'f': \"0\",\n        },\n{\n            'v': 209,\n            'f': \"209\",\n        },\n\"0%\",\n{\n            'v': 72.04,\n            'f': \"72.04\",\n        }],\n [{\n            'v': 900,\n            'f': \"900\",\n        },\n\"mercedes website\",\n{\n            'v': 0,\n            'f': \"0\",\n        },\n{\n            'v': 208,\n            'f': \"208\",\n        },\n\"0%\",\n{\n            'v': 33.35,\n            'f': \"33.35\",\n        }],\n [{\n            'v': 901,\n            'f': \"901\",\n        },\n\"mercedes benz roadside assistance number\",\n{\n            'v': 0,\n            'f': \"0\",\n        },\n{\n            'v': 208,\n            'f': \"208\",\n        },\n\"0%\",\n{\n            'v': 64.29,\n            'f': \"64.29\",\n        }],\n [{\n            'v': 902,\n            'f': \"902\",\n        },\n\"cls 450 2020\",\n{\n            'v': 0,\n            'f': \"0\",\n        },\n{\n            'v': 207,\n            'f': \"207\",\n        },\n\"0%\",\n{\n            'v': 1.58,\n            'f': \"1.58\",\n        }],\n [{\n            'v': 903,\n            'f': \"903\",\n        },\n\"mercedes-benz metris cargo\",\n{\n            'v': 0,\n            'f': \"0\",\n        },\n{\n            'v': 207,\n            'f': \"207\",\n        },\n\"0%\",\n{\n            'v': 54.77,\n            'f': \"54.77\",\n        }],\n [{\n            'v': 904,\n            'f': \"904\",\n        },\n\"mercedes benz glc suv\",\n{\n            'v': 0,\n            'f': \"0\",\n        },\n{\n            'v': 207,\n            'f': \"207\",\n        },\n\"0%\",\n{\n            'v': 66.42,\n            'f': \"66.42\",\n        }],\n [{\n            'v': 905,\n            'f': \"905\",\n        },\n\"2020 mercedes benz metris\",\n{\n            'v': 0,\n            'f': \"0\",\n        },\n{\n            'v': 207,\n            'f': \"207\",\n        },\n\"0%\",\n{\n            'v': 70.92,\n            'f': \"70.92\",\n        }],\n [{\n            'v': 906,\n            'f': \"906\",\n        },\n\"mercedes-benz gle\",\n{\n            'v': 0,\n            'f': \"0\",\n        },\n{\n            'v': 207,\n            'f': \"207\",\n        },\n\"0%\",\n{\n            'v': 87.95,\n            'f': \"87.95\",\n        }],\n [{\n            'v': 907,\n            'f': \"907\",\n        },\n\"mercedes cpo\",\n{\n            'v': 0,\n            'f': \"0\",\n        },\n{\n            'v': 206,\n            'f': \"206\",\n        },\n\"0%\",\n{\n            'v': 50.29,\n            'f': \"50.29\",\n        }],\n [{\n            'v': 908,\n            'f': \"908\",\n        },\n\"buy mercedes-benz\",\n{\n            'v': 0,\n            'f': \"0\",\n        },\n{\n            'v': 206,\n            'f': \"206\",\n        },\n\"0%\",\n{\n            'v': 87.73,\n            'f': \"87.73\",\n        }],\n [{\n            'v': 909,\n            'f': \"909\",\n        },\n\"certified used mercedes\",\n{\n            'v': 0,\n            'f': \"0\",\n        },\n{\n            'v': 205,\n            'f': \"205\",\n        },\n\"0%\",\n{\n            'v': 38.58,\n            'f': \"38.58\",\n        }],\n [{\n            'v': 910,\n            'f': \"910\",\n        },\n\"mercedes car parts\",\n{\n            'v': 0,\n            'f': \"0\",\n        },\n{\n            'v': 205,\n            'f': \"205\",\n        },\n\"0%\",\n{\n            'v': 52.11,\n            'f': \"52.11\",\n        }],\n [{\n            'v': 911,\n            'f': \"911\",\n        },\n\"mercedes-benz service a\",\n{\n            'v': 0,\n            'f': \"0\",\n        },\n{\n            'v': 205,\n            'f': \"205\",\n        },\n\"0%\",\n{\n            'v': 77.12,\n            'f': \"77.12\",\n        }],\n [{\n            'v': 912,\n            'f': \"912\",\n        },\n\"new mercedes-benz gle for sale\",\n{\n            'v': 0,\n            'f': \"0\",\n        },\n{\n            'v': 204,\n            'f': \"204\",\n        },\n\"0%\",\n{\n            'v': 29.02,\n            'f': \"29.02\",\n        }],\n [{\n            'v': 913,\n            'f': \"913\",\n        },\n\"2015 mercedes benz m class\",\n{\n            'v': 0,\n            'f': \"0\",\n        },\n{\n            'v': 204,\n            'f': \"204\",\n        },\n\"0%\",\n{\n            'v': 61.66,\n            'f': \"61.66\",\n        }],\n [{\n            'v': 914,\n            'f': \"914\",\n        },\n\"mercedes dashboard symbols and meanings\",\n{\n            'v': 0,\n            'f': \"0\",\n        },\n{\n            'v': 202,\n            'f': \"202\",\n        },\n\"0%\",\n{\n            'v': 31.51,\n            'f': \"31.51\",\n        }],\n [{\n            'v': 915,\n            'f': \"915\",\n        },\n\"mercedes-amg\",\n{\n            'v': 0,\n            'f': \"0\",\n        },\n{\n            'v': 202,\n            'f': \"202\",\n        },\n\"0%\",\n{\n            'v': 89.69,\n            'f': \"89.69\",\n        }],\n [{\n            'v': 916,\n            'f': \"916\",\n        },\n\"gle 350\",\n{\n            'v': 0,\n            'f': \"0\",\n        },\n{\n            'v': 201,\n            'f': \"201\",\n        },\n\"0%\",\n{\n            'v': 92.16,\n            'f': \"92.16\",\n        }],\n [{\n            'v': 917,\n            'f': \"917\",\n        },\n\"mb van\",\n{\n            'v': 0,\n            'f': \"0\",\n        },\n{\n            'v': 200,\n            'f': \"200\",\n        },\n\"0%\",\n{\n            'v': 36.88,\n            'f': \"36.88\",\n        }],\n [{\n            'v': 918,\n            'f': \"918\",\n        },\n\"birmingham website\",\n{\n            'v': 0,\n            'f': \"0\",\n        },\n{\n            'v': 199,\n            'f': \"199\",\n        },\n\"0%\",\n{\n            'v': 23.3,\n            'f': \"23.3\",\n        }],\n [{\n            'v': 919,\n            'f': \"919\",\n        },\n\"mercedes warning light is on\",\n{\n            'v': 0,\n            'f': \"0\",\n        },\n{\n            'v': 199,\n            'f': \"199\",\n        },\n\"0%\",\n{\n            'v': 45.78,\n            'f': \"45.78\",\n        }],\n [{\n            'v': 920,\n            'f': \"920\",\n        },\n\"what is amg\",\n{\n            'v': 0,\n            'f': \"0\",\n        },\n{\n            'v': 199,\n            'f': \"199\",\n        },\n\"0%\",\n{\n            'v': 71.55,\n            'f': \"71.55\",\n        }],\n [{\n            'v': 921,\n            'f': \"921\",\n        },\n\"2019 mercedes-benz metris cargo\",\n{\n            'v': 0,\n            'f': \"0\",\n        },\n{\n            'v': 198,\n            'f': \"198\",\n        },\n\"0%\",\n{\n            'v': 39.48,\n            'f': \"39.48\",\n        }],\n [{\n            'v': 922,\n            'f': \"922\",\n        },\n\"parts for mercedes\",\n{\n            'v': 0,\n            'f': \"0\",\n        },\n{\n            'v': 198,\n            'f': \"198\",\n        },\n\"0%\",\n{\n            'v': 61.55,\n            'f': \"61.55\",\n        }],\n [{\n            'v': 923,\n            'f': \"923\",\n        },\n\"2020 mercedes-benz glb\",\n{\n            'v': 0,\n            'f': \"0\",\n        },\n{\n            'v': 198,\n            'f': \"198\",\n        },\n\"0%\",\n{\n            'v': 86.32,\n            'f': \"86.32\",\n        }],\n [{\n            'v': 924,\n            'f': \"924\",\n        },\n\"benz parts\",\n{\n            'v': 0,\n            'f': \"0\",\n        },\n{\n            'v': 197,\n            'f': \"197\",\n        },\n\"0%\",\n{\n            'v': 53.76,\n            'f': \"53.76\",\n        }],\n [{\n            'v': 925,\n            'f': \"925\",\n        },\n\"infiniti birmingham\",\n{\n            'v': 0,\n            'f': \"0\",\n        },\n{\n            'v': 197,\n            'f': \"197\",\n        },\n\"0%\",\n{\n            'v': 59.84,\n            'f': \"59.84\",\n        }],\n [{\n            'v': 926,\n            'f': \"926\",\n        },\n\"mbusa com\",\n{\n            'v': 0,\n            'f': \"0\",\n        },\n{\n            'v': 197,\n            'f': \"197\",\n        },\n\"0%\",\n{\n            'v': 74.27,\n            'f': \"74.27\",\n        }],\n [{\n            'v': 927,\n            'f': \"927\",\n        },\n\"mercedes e300 lease\",\n{\n            'v': 0,\n            'f': \"0\",\n        },\n{\n            'v': 195,\n            'f': \"195\",\n        },\n\"0%\",\n{\n            'v': 8.55,\n            'f': \"8.55\",\n        }],\n [{\n            'v': 928,\n            'f': \"928\",\n        },\n\"mercedes benz sprinter chassis\",\n{\n            'v': 0,\n            'f': \"0\",\n        },\n{\n            'v': 195,\n            'f': \"195\",\n        },\n\"0%\",\n{\n            'v': 53.24,\n            'f': \"53.24\",\n        }],\n [{\n            'v': 929,\n            'f': \"929\",\n        },\n\"glc coupe for sale\",\n{\n            'v': 0,\n            'f': \"0\",\n        },\n{\n            'v': 194,\n            'f': \"194\",\n        },\n\"0%\",\n{\n            'v': 68.03,\n            'f': \"68.03\",\n        }],\n [{\n            'v': 930,\n            'f': \"930\",\n        },\n\"mercedes benz america\",\n{\n            'v': 0,\n            'f': \"0\",\n        },\n{\n            'v': 192,\n            'f': \"192\",\n        },\n\"0%\",\n{\n            'v': 57.94,\n            'f': \"57.94\",\n        }],\n [{\n            'v': 931,\n            'f': \"931\",\n        },\n\"used cars in birmingham\",\n{\n            'v': 0,\n            'f': \"0\",\n        },\n{\n            'v': 192,\n            'f': \"192\",\n        },\n\"0%\",\n{\n            'v': 66.99,\n            'f': \"66.99\",\n        }],\n [{\n            'v': 932,\n            'f': \"932\",\n        },\n\"mercedes parts center\",\n{\n            'v': 0,\n            'f': \"0\",\n        },\n{\n            'v': 191,\n            'f': \"191\",\n        },\n\"0%\",\n{\n            'v': 16.13,\n            'f': \"16.13\",\n        }],\n [{\n            'v': 933,\n            'f': \"933\",\n        },\n\"mercedes careers\",\n{\n            'v': 0,\n            'f': \"0\",\n        },\n{\n            'v': 191,\n            'f': \"191\",\n        },\n\"0%\",\n{\n            'v': 36.8,\n            'f': \"36.8\",\n        }],\n [{\n            'v': 934,\n            'f': \"934\",\n        },\n\"mercedes-benz glc 43 amg\",\n{\n            'v': 0,\n            'f': \"0\",\n        },\n{\n            'v': 191,\n            'f': \"191\",\n        },\n\"0%\",\n{\n            'v': 54.7,\n            'f': \"54.7\",\n        }],\n [{\n            'v': 935,\n            'f': \"935\",\n        },\n\"mercedes benz pre owned certified\",\n{\n            'v': 0,\n            'f': \"0\",\n        },\n{\n            'v': 190,\n            'f': \"190\",\n        },\n\"0%\",\n{\n            'v': 36.75,\n            'f': \"36.75\",\n        }],\n [{\n            'v': 936,\n            'f': \"936\",\n        },\n\"mercedes roadside assistance number\",\n{\n            'v': 0,\n            'f': \"0\",\n        },\n{\n            'v': 190,\n            'f': \"190\",\n        },\n\"0%\",\n{\n            'v': 43.81,\n            'f': \"43.81\",\n        }],\n [{\n            'v': 937,\n            'f': \"937\",\n        },\n\"mercedes benz c class for sale birmingham\",\n{\n            'v': 0,\n            'f': \"0\",\n        },\n{\n            'v': 190,\n            'f': \"190\",\n        },\n\"0%\",\n{\n            'v': 55.12,\n            'f': \"55.12\",\n        }],\n [{\n            'v': 938,\n            'f': \"938\",\n        },\n\"vans sprinter\",\n{\n            'v': 0,\n            'f': \"0\",\n        },\n{\n            'v': 190,\n            'f': \"190\",\n        },\n\"0%\",\n{\n            'v': 57.07,\n            'f': \"57.07\",\n        }],\n [{\n            'v': 939,\n            'f': \"939\",\n        },\n\"mercedes metris passenger van\",\n{\n            'v': 0,\n            'f': \"0\",\n        },\n{\n            'v': 190,\n            'f': \"190\",\n        },\n\"0%\",\n{\n            'v': 57.11,\n            'f': \"57.11\",\n        }],\n [{\n            'v': 940,\n            'f': \"940\",\n        },\n\"2020 mercedes-benz metris\",\n{\n            'v': 0,\n            'f': \"0\",\n        },\n{\n            'v': 190,\n            'f': \"190\",\n        },\n\"0%\",\n{\n            'v': 71.08,\n            'f': \"71.08\",\n        }],\n [{\n            'v': 941,\n            'f': \"941\",\n        },\n\"me and my dad\",\n{\n            'v': 0,\n            'f': \"0\",\n        },\n{\n            'v': 189,\n            'f': \"189\",\n        },\n\"0%\",\n{\n            'v': 29.97,\n            'f': \"29.97\",\n        }],\n [{\n            'v': 942,\n            'f': \"942\",\n        },\n\"2020 mercedes-benz s-class\",\n{\n            'v': 0,\n            'f': \"0\",\n        },\n{\n            'v': 189,\n            'f': \"189\",\n        },\n\"0%\",\n{\n            'v': 60.25,\n            'f': \"60.25\",\n        }],\n [{\n            'v': 943,\n            'f': \"943\",\n        },\n\"car dealers birmingham\",\n{\n            'v': 0,\n            'f': \"0\",\n        },\n{\n            'v': 188,\n            'f': \"188\",\n        },\n\"0%\",\n{\n            'v': 49.04,\n            'f': \"49.04\",\n        }],\n [{\n            'v': 944,\n            'f': \"944\",\n        },\n\"mbz\",\n{\n            'v': 0,\n            'f': \"0\",\n        },\n{\n            'v': 188,\n            'f': \"188\",\n        },\n\"0%\",\n{\n            'v': 81.35,\n            'f': \"81.35\",\n        }],\n [{\n            'v': 945,\n            'f': \"945\",\n        },\n\"used mercedes benz gle birmingham\",\n{\n            'v': 0,\n            'f': \"0\",\n        },\n{\n            'v': 187,\n            'f': \"187\",\n        },\n\"0%\",\n{\n            'v': 35.8,\n            'f': \"35.8\",\n        }],\n [{\n            'v': 946,\n            'f': \"946\",\n        },\n\"mercedes gls lease specials\",\n{\n            'v': 0,\n            'f': \"0\",\n        },\n{\n            'v': 187,\n            'f': \"187\",\n        },\n\"0%\",\n{\n            'v': 76.91,\n            'f': \"76.91\",\n        }],\n [{\n            'v': 947,\n            'f': \"947\",\n        },\n\"used mercedes benz gls birmingham\",\n{\n            'v': 0,\n            'f': \"0\",\n        },\n{\n            'v': 186,\n            'f': \"186\",\n        },\n\"0%\",\n{\n            'v': 30.56,\n            'f': \"30.56\",\n        }],\n [{\n            'v': 948,\n            'f': \"948\",\n        },\n\"where did my dad go\",\n{\n            'v': 0,\n            'f': \"0\",\n        },\n{\n            'v': 186,\n            'f': \"186\",\n        },\n\"0%\",\n{\n            'v': 43.66,\n            'f': \"43.66\",\n        }],\n [{\n            'v': 949,\n            'f': \"949\",\n        },\n\"mercedes benz e class for sale birmingham\",\n{\n            'v': 0,\n            'f': \"0\",\n        },\n{\n            'v': 186,\n            'f': \"186\",\n        },\n\"0%\",\n{\n            'v': 52.26,\n            'f': \"52.26\",\n        }],\n [{\n            'v': 950,\n            'f': \"950\",\n        },\n\"new mercedes-benz gls birmingham\",\n{\n            'v': 0,\n            'f': \"0\",\n        },\n{\n            'v': 185,\n            'f': \"185\",\n        },\n\"0%\",\n{\n            'v': 2.78,\n            'f': \"2.78\",\n        }],\n [{\n            'v': 951,\n            'f': \"951\",\n        },\n\"cls 450 mercedes 2020\",\n{\n            'v': 0,\n            'f': \"0\",\n        },\n{\n            'v': 184,\n            'f': \"184\",\n        },\n\"0%\",\n{\n            'v': 1.14,\n            'f': \"1.14\",\n        }],\n [{\n            'v': 952,\n            'f': \"952\",\n        },\n\"new mercedes-benz glc amg offers birmingham\",\n{\n            'v': 0,\n            'f': \"0\",\n        },\n{\n            'v': 184,\n            'f': \"184\",\n        },\n\"0%\",\n{\n            'v': 13.33,\n            'f': \"13.33\",\n        }],\n [{\n            'v': 953,\n            'f': \"953\",\n        },\n\"signature series cars\",\n{\n            'v': 0,\n            'f': \"0\",\n        },\n{\n            'v': 184,\n            'f': \"184\",\n        },\n\"0%\",\n{\n            'v': 29.74,\n            'f': \"29.74\",\n        }],\n [{\n            'v': 954,\n            'f': \"954\",\n        },\n\"mercedes-benz parts\",\n{\n            'v': 0,\n            'f': \"0\",\n        },\n{\n            'v': 184,\n            'f': \"184\",\n        },\n\"0%\",\n{\n            'v': 34.83,\n            'f': \"34.83\",\n        }],\n [{\n            'v': 955,\n            'f': \"955\",\n        },\n\"mercedes s class 2020\",\n{\n            'v': 0,\n            'f': \"0\",\n        },\n{\n            'v': 184,\n            'f': \"184\",\n        },\n\"0%\",\n{\n            'v': 73.65,\n            'f': \"73.65\",\n        }],\n [{\n            'v': 956,\n            'f': \"956\",\n        },\n\"mercedes benz roadside assistance app\",\n{\n            'v': 0,\n            'f': \"0\",\n        },\n{\n            'v': 183,\n            'f': \"183\",\n        },\n\"0%\",\n{\n            'v': 63.72,\n            'f': \"63.72\",\n        }],\n [{\n            'v': 957,\n            'f': \"957\",\n        },\n\"new mercedes-benz amg g-class birmingham\",\n{\n            'v': 0,\n            'f': \"0\",\n        },\n{\n            'v': 182,\n            'f': \"182\",\n        },\n\"0%\",\n{\n            'v': 4.9,\n            'f': \"4.9\",\n        }],\n [{\n            'v': 958,\n            'f': \"958\",\n        },\n\"new mercedes-benz amg gcl-class birmingham\",\n{\n            'v': 0,\n            'f': \"0\",\n        },\n{\n            'v': 182,\n            'f': \"182\",\n        },\n\"0%\",\n{\n            'v': 4.98,\n            'f': \"4.98\",\n        }],\n [{\n            'v': 959,\n            'f': \"959\",\n        },\n\"used cars for sale in birmingham\",\n{\n            'v': 0,\n            'f': \"0\",\n        },\n{\n            'v': 182,\n            'f': \"182\",\n        },\n\"0%\",\n{\n            'v': 53.55,\n            'f': \"53.55\",\n        }],\n [{\n            'v': 960,\n            'f': \"960\",\n        },\n\"2016 cadillac escalade platinum\",\n{\n            'v': 0,\n            'f': \"0\",\n        },\n{\n            'v': 182,\n            'f': \"182\",\n        },\n\"0%\",\n{\n            'v': 79.15,\n            'f': \"79.15\",\n        }],\n [{\n            'v': 961,\n            'f': \"961\",\n        },\n\"mercedes benz sprinter van\",\n{\n            'v': 0,\n            'f': \"0\",\n        },\n{\n            'v': 182,\n            'f': \"182\",\n        },\n\"0%\",\n{\n            'v': 89.55,\n            'f': \"89.55\",\n        }],\n [{\n            'v': 962,\n            'f': \"962\",\n        },\n\"mercedes commercial van\",\n{\n            'v': 0,\n            'f': \"0\",\n        },\n{\n            'v': 181,\n            'f': \"181\",\n        },\n\"0%\",\n{\n            'v': 88.95,\n            'f': \"88.95\",\n        }],\n [{\n            'v': 963,\n            'f': \"963\",\n        },\n\"new mercedes-benz slc birmingham\",\n{\n            'v': 0,\n            'f': \"0\",\n        },\n{\n            'v': 180,\n            'f': \"180\",\n        },\n\"0%\",\n{\n            'v': 16.61,\n            'f': \"16.61\",\n        }],\n [{\n            'v': 964,\n            'f': \"964\",\n        },\n\"used mercedes-benz gls birmingham\",\n{\n            'v': 0,\n            'f': \"0\",\n        },\n{\n            'v': 180,\n            'f': \"180\",\n        },\n\"0%\",\n{\n            'v': 30.48,\n            'f': \"30.48\",\n        }],\n [{\n            'v': 965,\n            'f': \"965\",\n        },\n\"mercedes cla coupe for sale\",\n{\n            'v': 0,\n            'f': \"0\",\n        },\n{\n            'v': 180,\n            'f': \"180\",\n        },\n\"0%\",\n{\n            'v': 53.47,\n            'f': \"53.47\",\n        }],\n [{\n            'v': 966,\n            'f': \"966\",\n        },\n\"nick saban\",\n{\n            'v': 0,\n            'f': \"0\",\n        },\n{\n            'v': 180,\n            'f': \"180\",\n        },\n\"0%\",\n{\n            'v': 59.72,\n            'f': \"59.72\",\n        }],\n [{\n            'v': 967,\n            'f': \"967\",\n        },\n\"mercedes car service\",\n{\n            'v': 0,\n            'f': \"0\",\n        },\n{\n            'v': 180,\n            'f': \"180\",\n        },\n\"0%\",\n{\n            'v': 61.92,\n            'f': \"61.92\",\n        }],\n [{\n            'v': 968,\n            'f': \"968\",\n        },\n\"new gle lease\",\n{\n            'v': 0,\n            'f': \"0\",\n        },\n{\n            'v': 180,\n            'f': \"180\",\n        },\n\"0%\",\n{\n            'v': 82.55,\n            'f': \"82.55\",\n        }],\n [{\n            'v': 969,\n            'f': \"969\",\n        },\n\"gls lease specials\",\n{\n            'v': 0,\n            'f': \"0\",\n        },\n{\n            'v': 180,\n            'f': \"180\",\n        },\n\"0%\",\n{\n            'v': 84.91,\n            'f': \"84.91\",\n        }],\n [{\n            'v': 970,\n            'f': \"970\",\n        },\n\"glc mercedes\",\n{\n            'v': 0,\n            'f': \"0\",\n        },\n{\n            'v': 180,\n            'f': \"180\",\n        },\n\"0%\",\n{\n            'v': 88.95,\n            'f': \"88.95\",\n        }],\n [{\n            'v': 971,\n            'f': \"971\",\n        },\n\"new mercedes-benz amg cla birmingham\",\n{\n            'v': 0,\n            'f': \"0\",\n        },\n{\n            'v': 179,\n            'f': \"179\",\n        },\n\"0%\",\n{\n            'v': 8.02,\n            'f': \"8.02\",\n        }],\n [{\n            'v': 972,\n            'f': \"972\",\n        },\n\"2020 cla 250\",\n{\n            'v': 0,\n            'f': \"0\",\n        },\n{\n            'v': 179,\n            'f': \"179\",\n        },\n\"0%\",\n{\n            'v': 54.56,\n            'f': \"54.56\",\n        }],\n [{\n            'v': 973,\n            'f': \"973\",\n        },\n\"mbvans\",\n{\n            'v': 0,\n            'f': \"0\",\n        },\n{\n            'v': 179,\n            'f': \"179\",\n        },\n\"0%\",\n{\n            'v': 69.26,\n            'f': \"69.26\",\n        }],\n [{\n            'v': 974,\n            'f': \"974\",\n        },\n\"mercedes of montgomery\",\n{\n            'v': 0,\n            'f': \"0\",\n        },\n{\n            'v': 178,\n            'f': \"178\",\n        },\n\"0%\",\n{\n            'v': 14.63,\n            'f': \"14.63\",\n        }],\n [{\n            'v': 975,\n            'f': \"975\",\n        },\n\"mercedes roadside assistance program\",\n{\n            'v': 0,\n            'f': \"0\",\n        },\n{\n            'v': 178,\n            'f': \"178\",\n        },\n\"0%\",\n{\n            'v': 50.63,\n            'f': \"50.63\",\n        }],\n [{\n            'v': 976,\n            'f': \"976\",\n        },\n\"mercedes s class 560\",\n{\n            'v': 0,\n            'f': \"0\",\n        },\n{\n            'v': 177,\n            'f': \"177\",\n        },\n\"0%\",\n{\n            'v': 1.88,\n            'f': \"1.88\",\n        }],\n [{\n            'v': 977,\n            'f': \"977\",\n        },\n\"new mercedes-benz a-class amg offers birmingham\",\n{\n            'v': 0,\n            'f': \"0\",\n        },\n{\n            'v': 177,\n            'f': \"177\",\n        },\n\"0%\",\n{\n            'v': 35.89,\n            'f': \"35.89\",\n        }],\n [{\n            'v': 978,\n            'f': \"978\",\n        },\n\"gle350\",\n{\n            'v': 0,\n            'f': \"0\",\n        },\n{\n            'v': 177,\n            'f': \"177\",\n        },\n\"0%\",\n{\n            'v': 81.69,\n            'f': \"81.69\",\n        }],\n [{\n            'v': 979,\n            'f': \"979\",\n        },\n\"new mercedes-benz amg cls birmingham\",\n{\n            'v': 0,\n            'f': \"0\",\n        },\n{\n            'v': 176,\n            'f': \"176\",\n        },\n\"0%\",\n{\n            'v': 8.88,\n            'f': \"8.88\",\n        }],\n [{\n            'v': 980,\n            'f': \"980\",\n        },\n\"e300 lease\",\n{\n            'v': 0,\n            'f': \"0\",\n        },\n{\n            'v': 176,\n            'f': \"176\",\n        },\n\"0%\",\n{\n            'v': 11.62,\n            'f': \"11.62\",\n        }],\n [{\n            'v': 981,\n            'f': \"981\",\n        },\n\"roadside assistance alabama\",\n{\n            'v': 0,\n            'f': \"0\",\n        },\n{\n            'v': 176,\n            'f': \"176\",\n        },\n\"0%\",\n{\n            'v': 27.68,\n            'f': \"27.68\",\n        }],\n [{\n            'v': 982,\n            'f': \"982\",\n        },\n\"mercedes benz c class for sale\",\n{\n            'v': 0,\n            'f': \"0\",\n        },\n{\n            'v': 176,\n            'f': \"176\",\n        },\n\"0%\",\n{\n            'v': 57.08,\n            'f': \"57.08\",\n        }],\n [{\n            'v': 983,\n            'f': \"983\",\n        },\n\"2020 mercedes benz gt class\",\n{\n            'v': 0,\n            'f': \"0\",\n        },\n{\n            'v': 176,\n            'f': \"176\",\n        },\n\"0%\",\n{\n            'v': 81.84,\n            'f': \"81.84\",\n        }],\n [{\n            'v': 984,\n            'f': \"984\",\n        },\n\"2017 mercedes-benz gle\",\n{\n            'v': 0,\n            'f': \"0\",\n        },\n{\n            'v': 175,\n            'f': \"175\",\n        },\n\"0%\",\n{\n            'v': 22.98,\n            'f': \"22.98\",\n        }],\n [{\n            'v': 985,\n            'f': \"985\",\n        },\n\"mercedes benz lease deals 0 down\",\n{\n            'v': 0,\n            'f': \"0\",\n        },\n{\n            'v': 175,\n            'f': \"175\",\n        },\n\"0%\",\n{\n            'v': 25.89,\n            'f': \"25.89\",\n        }],\n [{\n            'v': 986,\n            'f': \"986\",\n        },\n\"new mercedes-benz c-class coupe offers birmingham\",\n{\n            'v': 0,\n            'f': \"0\",\n        },\n{\n            'v': 175,\n            'f': \"175\",\n        },\n\"0%\",\n{\n            'v': 36.66,\n            'f': \"36.66\",\n        }],\n [{\n            'v': 987,\n            'f': \"987\",\n        },\n\"glc amg 43\",\n{\n            'v': 0,\n            'f': \"0\",\n        },\n{\n            'v': 175,\n            'f': \"175\",\n        },\n\"0%\",\n{\n            'v': 63.56,\n            'f': \"63.56\",\n        }],\n [{\n            'v': 988,\n            'f': \"988\",\n        },\n\"2005 lexus gx 470\",\n{\n            'v': 0,\n            'f': \"0\",\n        },\n{\n            'v': 175,\n            'f': \"175\",\n        },\n\"0%\",\n{\n            'v': 67.75,\n            'f': \"67.75\",\n        }],\n [{\n            'v': 989,\n            'f': \"989\",\n        },\n\"build your own mercedes\",\n{\n            'v': 0,\n            'f': \"0\",\n        },\n{\n            'v': 174,\n            'f': \"174\",\n        },\n\"0%\",\n{\n            'v': 20.6,\n            'f': \"20.6\",\n        }],\n [{\n            'v': 990,\n            'f': \"990\",\n        },\n\"used mercedes-benz amg gle birmingham\",\n{\n            'v': 0,\n            'f': \"0\",\n        },\n{\n            'v': 173,\n            'f': \"173\",\n        },\n\"0%\",\n{\n            'v': 36.46,\n            'f': \"36.46\",\n        }],\n [{\n            'v': 991,\n            'f': \"991\",\n        },\n\"mercedes amg gt for sale\",\n{\n            'v': 0,\n            'f': \"0\",\n        },\n{\n            'v': 173,\n            'f': \"173\",\n        },\n\"0%\",\n{\n            'v': 48.36,\n            'f': \"48.36\",\n        }],\n [{\n            'v': 992,\n            'f': \"992\",\n        },\n\"mercedes benz dealers\",\n{\n            'v': 0,\n            'f': \"0\",\n        },\n{\n            'v': 173,\n            'f': \"173\",\n        },\n\"0%\",\n{\n            'v': 72.9,\n            'f': \"72.9\",\n        }],\n [{\n            'v': 993,\n            'f': \"993\",\n        },\n\"buy mercedes parts\",\n{\n            'v': 0,\n            'f': \"0\",\n        },\n{\n            'v': 173,\n            'f': \"173\",\n        },\n\"0%\",\n{\n            'v': 74.21,\n            'f': \"74.21\",\n        }],\n [{\n            'v': 994,\n            'f': \"994\",\n        },\n\"new mercedes-benz cls birmingham\",\n{\n            'v': 0,\n            'f': \"0\",\n        },\n{\n            'v': 172,\n            'f': \"172\",\n        },\n\"0%\",\n{\n            'v': 4.66,\n            'f': \"4.66\",\n        }],\n [{\n            'v': 995,\n            'f': \"995\",\n        },\n\"jeep grand cherokee sterling edition\",\n{\n            'v': 0,\n            'f': \"0\",\n        },\n{\n            'v': 172,\n            'f': \"172\",\n        },\n\"0%\",\n{\n            'v': 34.56,\n            'f': \"34.56\",\n        }],\n [{\n            'v': 996,\n            'f': \"996\",\n        },\n\"lease pre owned mercedes\",\n{\n            'v': 0,\n            'f': \"0\",\n        },\n{\n            'v': 172,\n            'f': \"172\",\n        },\n\"0%\",\n{\n            'v': 49.16,\n            'f': \"49.16\",\n        }],\n [{\n            'v': 997,\n            'f': \"997\",\n        },\n\"new mercedes-benz amg s-class birmingham\",\n{\n            'v': 0,\n            'f': \"0\",\n        },\n{\n            'v': 171,\n            'f': \"171\",\n        },\n\"0%\",\n{\n            'v': 15.15,\n            'f': \"15.15\",\n        }],\n [{\n            'v': 998,\n            'f': \"998\",\n        },\n\"certified pre owned mercedes suv\",\n{\n            'v': 0,\n            'f': \"0\",\n        },\n{\n            'v': 171,\n            'f': \"171\",\n        },\n\"0%\",\n{\n            'v': 23.03,\n            'f': \"23.03\",\n        }],\n [{\n            'v': 999,\n            'f': \"999\",\n        },\n\"new mercedes-benz amg e-class birmingham\",\n{\n            'v': 0,\n            'f': \"0\",\n        },\n{\n            'v': 171,\n            'f': \"171\",\n        },\n\"0%\",\n{\n            'v': 23.13,\n            'f': \"23.13\",\n        }]],\n        columns: [[\"number\", \"index\"], [\"string\", \"Query\"], [\"number\", \"Clicks\"], [\"number\", \"Impressions\"], [\"string\", \"CTR\"], [\"number\", \"Position\"]],\n        columnOptions: [{\"width\": \"1px\", \"className\": \"index_column\"}],\n        rowsPerPage: 25,\n        helpUrl: \"https://colab.research.google.com/notebooks/data_table.ipynb\",\n        suppressOutputScrolling: true,\n        minimumWidth: undefined,\n      });\n    ",
            "text/html": [
              "<div>\n",
              "<style scoped>\n",
              "    .dataframe tbody tr th:only-of-type {\n",
              "        vertical-align: middle;\n",
              "    }\n",
              "\n",
              "    .dataframe tbody tr th {\n",
              "        vertical-align: top;\n",
              "    }\n",
              "\n",
              "    .dataframe thead th {\n",
              "        text-align: right;\n",
              "    }\n",
              "</style>\n",
              "<table border=\"1\" class=\"dataframe\">\n",
              "  <thead>\n",
              "    <tr style=\"text-align: right;\">\n",
              "      <th></th>\n",
              "      <th>Query</th>\n",
              "      <th>Clicks</th>\n",
              "      <th>Impressions</th>\n",
              "      <th>CTR</th>\n",
              "      <th>Position</th>\n",
              "    </tr>\n",
              "  </thead>\n",
              "  <tbody>\n",
              "    <tr>\n",
              "      <th>0</th>\n",
              "      <td>mercedes birmingham</td>\n",
              "      <td>5461</td>\n",
              "      <td>10840</td>\n",
              "      <td>50.38%</td>\n",
              "      <td>3.85</td>\n",
              "    </tr>\n",
              "    <tr>\n",
              "      <th>1</th>\n",
              "      <td>mercedes of birmingham</td>\n",
              "      <td>2013</td>\n",
              "      <td>3423</td>\n",
              "      <td>58.81%</td>\n",
              "      <td>1.50</td>\n",
              "    </tr>\n",
              "    <tr>\n",
              "      <th>2</th>\n",
              "      <td>mercedes benz birmingham</td>\n",
              "      <td>1889</td>\n",
              "      <td>4113</td>\n",
              "      <td>45.93%</td>\n",
              "      <td>2.99</td>\n",
              "    </tr>\n",
              "    <tr>\n",
              "      <th>3</th>\n",
              "      <td>mercedes benz of birmingham</td>\n",
              "      <td>1704</td>\n",
              "      <td>2966</td>\n",
              "      <td>57.45%</td>\n",
              "      <td>1.50</td>\n",
              "    </tr>\n",
              "    <tr>\n",
              "      <th>4</th>\n",
              "      <td>birmingham mercedes</td>\n",
              "      <td>979</td>\n",
              "      <td>1434</td>\n",
              "      <td>68.27%</td>\n",
              "      <td>1.79</td>\n",
              "    </tr>\n",
              "    <tr>\n",
              "      <th>...</th>\n",
              "      <td>...</td>\n",
              "      <td>...</td>\n",
              "      <td>...</td>\n",
              "      <td>...</td>\n",
              "      <td>...</td>\n",
              "    </tr>\n",
              "    <tr>\n",
              "      <th>995</th>\n",
              "      <td>jeep grand cherokee sterling edition</td>\n",
              "      <td>0</td>\n",
              "      <td>172</td>\n",
              "      <td>0%</td>\n",
              "      <td>34.56</td>\n",
              "    </tr>\n",
              "    <tr>\n",
              "      <th>996</th>\n",
              "      <td>lease pre owned mercedes</td>\n",
              "      <td>0</td>\n",
              "      <td>172</td>\n",
              "      <td>0%</td>\n",
              "      <td>49.16</td>\n",
              "    </tr>\n",
              "    <tr>\n",
              "      <th>997</th>\n",
              "      <td>new mercedes-benz amg s-class birmingham</td>\n",
              "      <td>0</td>\n",
              "      <td>171</td>\n",
              "      <td>0%</td>\n",
              "      <td>15.15</td>\n",
              "    </tr>\n",
              "    <tr>\n",
              "      <th>998</th>\n",
              "      <td>certified pre owned mercedes suv</td>\n",
              "      <td>0</td>\n",
              "      <td>171</td>\n",
              "      <td>0%</td>\n",
              "      <td>23.03</td>\n",
              "    </tr>\n",
              "    <tr>\n",
              "      <th>999</th>\n",
              "      <td>new mercedes-benz amg e-class birmingham</td>\n",
              "      <td>0</td>\n",
              "      <td>171</td>\n",
              "      <td>0%</td>\n",
              "      <td>23.13</td>\n",
              "    </tr>\n",
              "  </tbody>\n",
              "</table>\n",
              "<p>1000 rows × 5 columns</p>\n",
              "</div>"
            ],
            "text/plain": [
              "                                        Query  Clicks  ...     CTR Position\n",
              "0                         mercedes birmingham    5461  ...  50.38%     3.85\n",
              "1                      mercedes of birmingham    2013  ...  58.81%     1.50\n",
              "2                    mercedes benz birmingham    1889  ...  45.93%     2.99\n",
              "3                 mercedes benz of birmingham    1704  ...  57.45%     1.50\n",
              "4                         birmingham mercedes     979  ...  68.27%     1.79\n",
              "..                                        ...     ...  ...     ...      ...\n",
              "995      jeep grand cherokee sterling edition       0  ...      0%    34.56\n",
              "996                  lease pre owned mercedes       0  ...      0%    49.16\n",
              "997  new mercedes-benz amg s-class birmingham       0  ...      0%    15.15\n",
              "998          certified pre owned mercedes suv       0  ...      0%    23.03\n",
              "999  new mercedes-benz amg e-class birmingham       0  ...      0%    23.13\n",
              "\n",
              "[1000 rows x 5 columns]"
            ]
          },
          "metadata": {
            "tags": []
          },
          "execution_count": 12
        }
      ]
    },
    {
      "cell_type": "markdown",
      "metadata": {
        "id": "rAQcVHFCw8IC",
        "colab_type": "text"
      },
      "source": [
        "A few interesting features of the data table display:\n",
        "\n",
        "- Clicking the <button>Filter</button> button in the upper right allows you to search for terms or values in any particular column.\n",
        "- Clicking on any column title lets you sort the results according to that column's value.\n",
        "- The table displays only a subset of the data at a time. You can navigate through pages of data using the controls on the lower right.\n"
      ]
    },
    {
      "cell_type": "markdown",
      "metadata": {
        "id": "ji3aim2NwSZ1",
        "colab_type": "text"
      },
      "source": [
        "#Disabaling Table View"
      ]
    },
    {
      "cell_type": "code",
      "metadata": {
        "id": "CNS6o4NrwU5S",
        "colab_type": "code",
        "colab": {
          "base_uri": "https://localhost:8080/",
          "height": 411
        },
        "outputId": "dae66318-17ea-41c5-c2ce-783c88a5b025"
      },
      "source": [
        "%unload_ext google.colab.data_table\n",
        "df"
      ],
      "execution_count": 13,
      "outputs": [
        {
          "output_type": "execute_result",
          "data": {
            "text/html": [
              "<div>\n",
              "<style scoped>\n",
              "    .dataframe tbody tr th:only-of-type {\n",
              "        vertical-align: middle;\n",
              "    }\n",
              "\n",
              "    .dataframe tbody tr th {\n",
              "        vertical-align: top;\n",
              "    }\n",
              "\n",
              "    .dataframe thead th {\n",
              "        text-align: right;\n",
              "    }\n",
              "</style>\n",
              "<table border=\"1\" class=\"dataframe\">\n",
              "  <thead>\n",
              "    <tr style=\"text-align: right;\">\n",
              "      <th></th>\n",
              "      <th>Query</th>\n",
              "      <th>Clicks</th>\n",
              "      <th>Impressions</th>\n",
              "      <th>CTR</th>\n",
              "      <th>Position</th>\n",
              "    </tr>\n",
              "  </thead>\n",
              "  <tbody>\n",
              "    <tr>\n",
              "      <th>0</th>\n",
              "      <td>mercedes birmingham</td>\n",
              "      <td>5461</td>\n",
              "      <td>10840</td>\n",
              "      <td>50.38%</td>\n",
              "      <td>3.85</td>\n",
              "    </tr>\n",
              "    <tr>\n",
              "      <th>1</th>\n",
              "      <td>mercedes of birmingham</td>\n",
              "      <td>2013</td>\n",
              "      <td>3423</td>\n",
              "      <td>58.81%</td>\n",
              "      <td>1.50</td>\n",
              "    </tr>\n",
              "    <tr>\n",
              "      <th>2</th>\n",
              "      <td>mercedes benz birmingham</td>\n",
              "      <td>1889</td>\n",
              "      <td>4113</td>\n",
              "      <td>45.93%</td>\n",
              "      <td>2.99</td>\n",
              "    </tr>\n",
              "    <tr>\n",
              "      <th>3</th>\n",
              "      <td>mercedes benz of birmingham</td>\n",
              "      <td>1704</td>\n",
              "      <td>2966</td>\n",
              "      <td>57.45%</td>\n",
              "      <td>1.50</td>\n",
              "    </tr>\n",
              "    <tr>\n",
              "      <th>4</th>\n",
              "      <td>birmingham mercedes</td>\n",
              "      <td>979</td>\n",
              "      <td>1434</td>\n",
              "      <td>68.27%</td>\n",
              "      <td>1.79</td>\n",
              "    </tr>\n",
              "    <tr>\n",
              "      <th>...</th>\n",
              "      <td>...</td>\n",
              "      <td>...</td>\n",
              "      <td>...</td>\n",
              "      <td>...</td>\n",
              "      <td>...</td>\n",
              "    </tr>\n",
              "    <tr>\n",
              "      <th>995</th>\n",
              "      <td>jeep grand cherokee sterling edition</td>\n",
              "      <td>0</td>\n",
              "      <td>172</td>\n",
              "      <td>0%</td>\n",
              "      <td>34.56</td>\n",
              "    </tr>\n",
              "    <tr>\n",
              "      <th>996</th>\n",
              "      <td>lease pre owned mercedes</td>\n",
              "      <td>0</td>\n",
              "      <td>172</td>\n",
              "      <td>0%</td>\n",
              "      <td>49.16</td>\n",
              "    </tr>\n",
              "    <tr>\n",
              "      <th>997</th>\n",
              "      <td>new mercedes-benz amg s-class birmingham</td>\n",
              "      <td>0</td>\n",
              "      <td>171</td>\n",
              "      <td>0%</td>\n",
              "      <td>15.15</td>\n",
              "    </tr>\n",
              "    <tr>\n",
              "      <th>998</th>\n",
              "      <td>certified pre owned mercedes suv</td>\n",
              "      <td>0</td>\n",
              "      <td>171</td>\n",
              "      <td>0%</td>\n",
              "      <td>23.03</td>\n",
              "    </tr>\n",
              "    <tr>\n",
              "      <th>999</th>\n",
              "      <td>new mercedes-benz amg e-class birmingham</td>\n",
              "      <td>0</td>\n",
              "      <td>171</td>\n",
              "      <td>0%</td>\n",
              "      <td>23.13</td>\n",
              "    </tr>\n",
              "  </tbody>\n",
              "</table>\n",
              "<p>1000 rows × 5 columns</p>\n",
              "</div>"
            ],
            "text/plain": [
              "                                        Query  Clicks  ...     CTR Position\n",
              "0                         mercedes birmingham    5461  ...  50.38%     3.85\n",
              "1                      mercedes of birmingham    2013  ...  58.81%     1.50\n",
              "2                    mercedes benz birmingham    1889  ...  45.93%     2.99\n",
              "3                 mercedes benz of birmingham    1704  ...  57.45%     1.50\n",
              "4                         birmingham mercedes     979  ...  68.27%     1.79\n",
              "..                                        ...     ...  ...     ...      ...\n",
              "995      jeep grand cherokee sterling edition       0  ...      0%    34.56\n",
              "996                  lease pre owned mercedes       0  ...      0%    49.16\n",
              "997  new mercedes-benz amg s-class birmingham       0  ...      0%    15.15\n",
              "998          certified pre owned mercedes suv       0  ...      0%    23.03\n",
              "999  new mercedes-benz amg e-class birmingham       0  ...      0%    23.13\n",
              "\n",
              "[1000 rows x 5 columns]"
            ]
          },
          "metadata": {
            "tags": []
          },
          "execution_count": 13
        }
      ]
    },
    {
      "cell_type": "markdown",
      "metadata": {
        "id": "mRxd3HcGRkK4",
        "colab_type": "text"
      },
      "source": [
        "#Change Column Headers"
      ]
    },
    {
      "cell_type": "code",
      "metadata": {
        "id": "1636hMVkQ43k",
        "colab_type": "code",
        "colab": {}
      },
      "source": [
        "# Writing out the column names for our data\n",
        "CTR_column=\"CTR %\"\n",
        "Position_column=\"Rank\"\n",
        "\n",
        "df=df.rename(columns={'CTR':'CTR %','Position':'Rank'})\n"
      ],
      "execution_count": 14,
      "outputs": []
    },
    {
      "cell_type": "code",
      "metadata": {
        "id": "XZ6pKRNlRuyD",
        "colab_type": "code",
        "colab": {
          "base_uri": "https://localhost:8080/",
          "height": 411
        },
        "outputId": "2d90b8ca-44ea-4544-d12b-7006e933ea84"
      },
      "source": [
        "df"
      ],
      "execution_count": 15,
      "outputs": [
        {
          "output_type": "execute_result",
          "data": {
            "text/html": [
              "<div>\n",
              "<style scoped>\n",
              "    .dataframe tbody tr th:only-of-type {\n",
              "        vertical-align: middle;\n",
              "    }\n",
              "\n",
              "    .dataframe tbody tr th {\n",
              "        vertical-align: top;\n",
              "    }\n",
              "\n",
              "    .dataframe thead th {\n",
              "        text-align: right;\n",
              "    }\n",
              "</style>\n",
              "<table border=\"1\" class=\"dataframe\">\n",
              "  <thead>\n",
              "    <tr style=\"text-align: right;\">\n",
              "      <th></th>\n",
              "      <th>Query</th>\n",
              "      <th>Clicks</th>\n",
              "      <th>Impressions</th>\n",
              "      <th>CTR %</th>\n",
              "      <th>Rank</th>\n",
              "    </tr>\n",
              "  </thead>\n",
              "  <tbody>\n",
              "    <tr>\n",
              "      <th>0</th>\n",
              "      <td>mercedes birmingham</td>\n",
              "      <td>5461</td>\n",
              "      <td>10840</td>\n",
              "      <td>50.38%</td>\n",
              "      <td>3.85</td>\n",
              "    </tr>\n",
              "    <tr>\n",
              "      <th>1</th>\n",
              "      <td>mercedes of birmingham</td>\n",
              "      <td>2013</td>\n",
              "      <td>3423</td>\n",
              "      <td>58.81%</td>\n",
              "      <td>1.50</td>\n",
              "    </tr>\n",
              "    <tr>\n",
              "      <th>2</th>\n",
              "      <td>mercedes benz birmingham</td>\n",
              "      <td>1889</td>\n",
              "      <td>4113</td>\n",
              "      <td>45.93%</td>\n",
              "      <td>2.99</td>\n",
              "    </tr>\n",
              "    <tr>\n",
              "      <th>3</th>\n",
              "      <td>mercedes benz of birmingham</td>\n",
              "      <td>1704</td>\n",
              "      <td>2966</td>\n",
              "      <td>57.45%</td>\n",
              "      <td>1.50</td>\n",
              "    </tr>\n",
              "    <tr>\n",
              "      <th>4</th>\n",
              "      <td>birmingham mercedes</td>\n",
              "      <td>979</td>\n",
              "      <td>1434</td>\n",
              "      <td>68.27%</td>\n",
              "      <td>1.79</td>\n",
              "    </tr>\n",
              "    <tr>\n",
              "      <th>...</th>\n",
              "      <td>...</td>\n",
              "      <td>...</td>\n",
              "      <td>...</td>\n",
              "      <td>...</td>\n",
              "      <td>...</td>\n",
              "    </tr>\n",
              "    <tr>\n",
              "      <th>995</th>\n",
              "      <td>jeep grand cherokee sterling edition</td>\n",
              "      <td>0</td>\n",
              "      <td>172</td>\n",
              "      <td>0%</td>\n",
              "      <td>34.56</td>\n",
              "    </tr>\n",
              "    <tr>\n",
              "      <th>996</th>\n",
              "      <td>lease pre owned mercedes</td>\n",
              "      <td>0</td>\n",
              "      <td>172</td>\n",
              "      <td>0%</td>\n",
              "      <td>49.16</td>\n",
              "    </tr>\n",
              "    <tr>\n",
              "      <th>997</th>\n",
              "      <td>new mercedes-benz amg s-class birmingham</td>\n",
              "      <td>0</td>\n",
              "      <td>171</td>\n",
              "      <td>0%</td>\n",
              "      <td>15.15</td>\n",
              "    </tr>\n",
              "    <tr>\n",
              "      <th>998</th>\n",
              "      <td>certified pre owned mercedes suv</td>\n",
              "      <td>0</td>\n",
              "      <td>171</td>\n",
              "      <td>0%</td>\n",
              "      <td>23.03</td>\n",
              "    </tr>\n",
              "    <tr>\n",
              "      <th>999</th>\n",
              "      <td>new mercedes-benz amg e-class birmingham</td>\n",
              "      <td>0</td>\n",
              "      <td>171</td>\n",
              "      <td>0%</td>\n",
              "      <td>23.13</td>\n",
              "    </tr>\n",
              "  </tbody>\n",
              "</table>\n",
              "<p>1000 rows × 5 columns</p>\n",
              "</div>"
            ],
            "text/plain": [
              "                                        Query  Clicks  ...   CTR %   Rank\n",
              "0                         mercedes birmingham    5461  ...  50.38%   3.85\n",
              "1                      mercedes of birmingham    2013  ...  58.81%   1.50\n",
              "2                    mercedes benz birmingham    1889  ...  45.93%   2.99\n",
              "3                 mercedes benz of birmingham    1704  ...  57.45%   1.50\n",
              "4                         birmingham mercedes     979  ...  68.27%   1.79\n",
              "..                                        ...     ...  ...     ...    ...\n",
              "995      jeep grand cherokee sterling edition       0  ...      0%  34.56\n",
              "996                  lease pre owned mercedes       0  ...      0%  49.16\n",
              "997  new mercedes-benz amg s-class birmingham       0  ...      0%  15.15\n",
              "998          certified pre owned mercedes suv       0  ...      0%  23.03\n",
              "999  new mercedes-benz amg e-class birmingham       0  ...      0%  23.13\n",
              "\n",
              "[1000 rows x 5 columns]"
            ]
          },
          "metadata": {
            "tags": []
          },
          "execution_count": 15
        }
      ]
    },
    {
      "cell_type": "markdown",
      "metadata": {
        "id": "eR5WyYC1TIK3",
        "colab_type": "text"
      },
      "source": [
        ""
      ]
    },
    {
      "cell_type": "markdown",
      "metadata": {
        "id": "7dIbFPqaTFXC",
        "colab_type": "text"
      },
      "source": [
        "#Collect all branded keywords"
      ]
    },
    {
      "cell_type": "code",
      "metadata": {
        "id": "PNBc3qgQTH1Z",
        "colab_type": "code",
        "colab": {}
      },
      "source": [
        "#Replace \"mercedes|benz|birmingham\" with your branded keywords to easily create a new Branded Keywords df\n",
        "df_branded = df[(df['Query'].str.contains(\"mercedes|benz|birmingham\", regex=True)==True)]\n"
      ],
      "execution_count": 17,
      "outputs": []
    },
    {
      "cell_type": "code",
      "metadata": {
        "id": "wPRalE3WTQfr",
        "colab_type": "code",
        "colab": {
          "base_uri": "https://localhost:8080/",
          "height": 411
        },
        "outputId": "a5e1548a-6877-45a9-f9eb-b6aa57cb1b05"
      },
      "source": [
        "df_branded"
      ],
      "execution_count": 18,
      "outputs": [
        {
          "output_type": "execute_result",
          "data": {
            "text/html": [
              "<div>\n",
              "<style scoped>\n",
              "    .dataframe tbody tr th:only-of-type {\n",
              "        vertical-align: middle;\n",
              "    }\n",
              "\n",
              "    .dataframe tbody tr th {\n",
              "        vertical-align: top;\n",
              "    }\n",
              "\n",
              "    .dataframe thead th {\n",
              "        text-align: right;\n",
              "    }\n",
              "</style>\n",
              "<table border=\"1\" class=\"dataframe\">\n",
              "  <thead>\n",
              "    <tr style=\"text-align: right;\">\n",
              "      <th></th>\n",
              "      <th>Query</th>\n",
              "      <th>Clicks</th>\n",
              "      <th>Impressions</th>\n",
              "      <th>CTR %</th>\n",
              "      <th>Rank</th>\n",
              "    </tr>\n",
              "  </thead>\n",
              "  <tbody>\n",
              "    <tr>\n",
              "      <th>0</th>\n",
              "      <td>mercedes birmingham</td>\n",
              "      <td>5461</td>\n",
              "      <td>10840</td>\n",
              "      <td>50.38%</td>\n",
              "      <td>3.85</td>\n",
              "    </tr>\n",
              "    <tr>\n",
              "      <th>1</th>\n",
              "      <td>mercedes of birmingham</td>\n",
              "      <td>2013</td>\n",
              "      <td>3423</td>\n",
              "      <td>58.81%</td>\n",
              "      <td>1.50</td>\n",
              "    </tr>\n",
              "    <tr>\n",
              "      <th>2</th>\n",
              "      <td>mercedes benz birmingham</td>\n",
              "      <td>1889</td>\n",
              "      <td>4113</td>\n",
              "      <td>45.93%</td>\n",
              "      <td>2.99</td>\n",
              "    </tr>\n",
              "    <tr>\n",
              "      <th>3</th>\n",
              "      <td>mercedes benz of birmingham</td>\n",
              "      <td>1704</td>\n",
              "      <td>2966</td>\n",
              "      <td>57.45%</td>\n",
              "      <td>1.50</td>\n",
              "    </tr>\n",
              "    <tr>\n",
              "      <th>4</th>\n",
              "      <td>birmingham mercedes</td>\n",
              "      <td>979</td>\n",
              "      <td>1434</td>\n",
              "      <td>68.27%</td>\n",
              "      <td>1.79</td>\n",
              "    </tr>\n",
              "    <tr>\n",
              "      <th>...</th>\n",
              "      <td>...</td>\n",
              "      <td>...</td>\n",
              "      <td>...</td>\n",
              "      <td>...</td>\n",
              "      <td>...</td>\n",
              "    </tr>\n",
              "    <tr>\n",
              "      <th>994</th>\n",
              "      <td>new mercedes-benz cls birmingham</td>\n",
              "      <td>0</td>\n",
              "      <td>172</td>\n",
              "      <td>0%</td>\n",
              "      <td>4.66</td>\n",
              "    </tr>\n",
              "    <tr>\n",
              "      <th>996</th>\n",
              "      <td>lease pre owned mercedes</td>\n",
              "      <td>0</td>\n",
              "      <td>172</td>\n",
              "      <td>0%</td>\n",
              "      <td>49.16</td>\n",
              "    </tr>\n",
              "    <tr>\n",
              "      <th>997</th>\n",
              "      <td>new mercedes-benz amg s-class birmingham</td>\n",
              "      <td>0</td>\n",
              "      <td>171</td>\n",
              "      <td>0%</td>\n",
              "      <td>15.15</td>\n",
              "    </tr>\n",
              "    <tr>\n",
              "      <th>998</th>\n",
              "      <td>certified pre owned mercedes suv</td>\n",
              "      <td>0</td>\n",
              "      <td>171</td>\n",
              "      <td>0%</td>\n",
              "      <td>23.03</td>\n",
              "    </tr>\n",
              "    <tr>\n",
              "      <th>999</th>\n",
              "      <td>new mercedes-benz amg e-class birmingham</td>\n",
              "      <td>0</td>\n",
              "      <td>171</td>\n",
              "      <td>0%</td>\n",
              "      <td>23.13</td>\n",
              "    </tr>\n",
              "  </tbody>\n",
              "</table>\n",
              "<p>732 rows × 5 columns</p>\n",
              "</div>"
            ],
            "text/plain": [
              "                                        Query  Clicks  ...   CTR %   Rank\n",
              "0                         mercedes birmingham    5461  ...  50.38%   3.85\n",
              "1                      mercedes of birmingham    2013  ...  58.81%   1.50\n",
              "2                    mercedes benz birmingham    1889  ...  45.93%   2.99\n",
              "3                 mercedes benz of birmingham    1704  ...  57.45%   1.50\n",
              "4                         birmingham mercedes     979  ...  68.27%   1.79\n",
              "..                                        ...     ...  ...     ...    ...\n",
              "994          new mercedes-benz cls birmingham       0  ...      0%   4.66\n",
              "996                  lease pre owned mercedes       0  ...      0%  49.16\n",
              "997  new mercedes-benz amg s-class birmingham       0  ...      0%  15.15\n",
              "998          certified pre owned mercedes suv       0  ...      0%  23.03\n",
              "999  new mercedes-benz amg e-class birmingham       0  ...      0%  23.13\n",
              "\n",
              "[732 rows x 5 columns]"
            ]
          },
          "metadata": {
            "tags": []
          },
          "execution_count": 18
        }
      ]
    },
    {
      "cell_type": "markdown",
      "metadata": {
        "id": "sgNymMQtTrjm",
        "colab_type": "text"
      },
      "source": [
        "#Export Branded Keywords"
      ]
    },
    {
      "cell_type": "code",
      "metadata": {
        "id": "daeit17gTUgA",
        "colab_type": "code",
        "colab": {}
      },
      "source": [
        "df_branded.to_csv('branded-keyword-data.csv')"
      ],
      "execution_count": 37,
      "outputs": []
    },
    {
      "cell_type": "markdown",
      "metadata": {
        "id": "9Us3CsJoUhKe",
        "colab_type": "text"
      },
      "source": [
        "#Add Branded Keyword Column to Original Dataframe"
      ]
    },
    {
      "cell_type": "code",
      "metadata": {
        "id": "k0MlLg8ZULhC",
        "colab_type": "code",
        "colab": {
          "base_uri": "https://localhost:8080/",
          "height": 411
        },
        "outputId": "7927387c-ee54-4977-a9cd-56e6a0a0d86f"
      },
      "source": [
        "df[\"Branded\"]=df.Query.str.contains(\"mercedes|benz|birmingham\")\n",
        "df\n"
      ],
      "execution_count": 38,
      "outputs": [
        {
          "output_type": "execute_result",
          "data": {
            "text/html": [
              "<div>\n",
              "<style scoped>\n",
              "    .dataframe tbody tr th:only-of-type {\n",
              "        vertical-align: middle;\n",
              "    }\n",
              "\n",
              "    .dataframe tbody tr th {\n",
              "        vertical-align: top;\n",
              "    }\n",
              "\n",
              "    .dataframe thead th {\n",
              "        text-align: right;\n",
              "    }\n",
              "</style>\n",
              "<table border=\"1\" class=\"dataframe\">\n",
              "  <thead>\n",
              "    <tr style=\"text-align: right;\">\n",
              "      <th></th>\n",
              "      <th>Query</th>\n",
              "      <th>Clicks</th>\n",
              "      <th>Impressions</th>\n",
              "      <th>CTR %</th>\n",
              "      <th>Rank</th>\n",
              "      <th>Branded</th>\n",
              "      <th>DA</th>\n",
              "    </tr>\n",
              "  </thead>\n",
              "  <tbody>\n",
              "    <tr>\n",
              "      <th>0</th>\n",
              "      <td>mercedes birmingham</td>\n",
              "      <td>5461</td>\n",
              "      <td>10840</td>\n",
              "      <td>50.38%</td>\n",
              "      <td>3.85</td>\n",
              "      <td>True</td>\n",
              "      <td>False</td>\n",
              "    </tr>\n",
              "    <tr>\n",
              "      <th>1</th>\n",
              "      <td>mercedes of birmingham</td>\n",
              "      <td>2013</td>\n",
              "      <td>3423</td>\n",
              "      <td>58.81%</td>\n",
              "      <td>1.50</td>\n",
              "      <td>True</td>\n",
              "      <td>False</td>\n",
              "    </tr>\n",
              "    <tr>\n",
              "      <th>2</th>\n",
              "      <td>mercedes benz birmingham</td>\n",
              "      <td>1889</td>\n",
              "      <td>4113</td>\n",
              "      <td>45.93%</td>\n",
              "      <td>2.99</td>\n",
              "      <td>True</td>\n",
              "      <td>False</td>\n",
              "    </tr>\n",
              "    <tr>\n",
              "      <th>3</th>\n",
              "      <td>mercedes benz of birmingham</td>\n",
              "      <td>1704</td>\n",
              "      <td>2966</td>\n",
              "      <td>57.45%</td>\n",
              "      <td>1.50</td>\n",
              "      <td>True</td>\n",
              "      <td>False</td>\n",
              "    </tr>\n",
              "    <tr>\n",
              "      <th>4</th>\n",
              "      <td>birmingham mercedes</td>\n",
              "      <td>979</td>\n",
              "      <td>1434</td>\n",
              "      <td>68.27%</td>\n",
              "      <td>1.79</td>\n",
              "      <td>True</td>\n",
              "      <td>False</td>\n",
              "    </tr>\n",
              "    <tr>\n",
              "      <th>...</th>\n",
              "      <td>...</td>\n",
              "      <td>...</td>\n",
              "      <td>...</td>\n",
              "      <td>...</td>\n",
              "      <td>...</td>\n",
              "      <td>...</td>\n",
              "      <td>...</td>\n",
              "    </tr>\n",
              "    <tr>\n",
              "      <th>995</th>\n",
              "      <td>jeep grand cherokee sterling edition</td>\n",
              "      <td>0</td>\n",
              "      <td>172</td>\n",
              "      <td>0%</td>\n",
              "      <td>34.56</td>\n",
              "      <td>False</td>\n",
              "      <td>False</td>\n",
              "    </tr>\n",
              "    <tr>\n",
              "      <th>996</th>\n",
              "      <td>lease pre owned mercedes</td>\n",
              "      <td>0</td>\n",
              "      <td>172</td>\n",
              "      <td>0%</td>\n",
              "      <td>49.16</td>\n",
              "      <td>True</td>\n",
              "      <td>False</td>\n",
              "    </tr>\n",
              "    <tr>\n",
              "      <th>997</th>\n",
              "      <td>new mercedes-benz amg s-class birmingham</td>\n",
              "      <td>0</td>\n",
              "      <td>171</td>\n",
              "      <td>0%</td>\n",
              "      <td>15.15</td>\n",
              "      <td>True</td>\n",
              "      <td>False</td>\n",
              "    </tr>\n",
              "    <tr>\n",
              "      <th>998</th>\n",
              "      <td>certified pre owned mercedes suv</td>\n",
              "      <td>0</td>\n",
              "      <td>171</td>\n",
              "      <td>0%</td>\n",
              "      <td>23.03</td>\n",
              "      <td>True</td>\n",
              "      <td>False</td>\n",
              "    </tr>\n",
              "    <tr>\n",
              "      <th>999</th>\n",
              "      <td>new mercedes-benz amg e-class birmingham</td>\n",
              "      <td>0</td>\n",
              "      <td>171</td>\n",
              "      <td>0%</td>\n",
              "      <td>23.13</td>\n",
              "      <td>True</td>\n",
              "      <td>False</td>\n",
              "    </tr>\n",
              "  </tbody>\n",
              "</table>\n",
              "<p>1000 rows × 7 columns</p>\n",
              "</div>"
            ],
            "text/plain": [
              "                                        Query  Clicks  ...  Branded     DA\n",
              "0                         mercedes birmingham    5461  ...     True  False\n",
              "1                      mercedes of birmingham    2013  ...     True  False\n",
              "2                    mercedes benz birmingham    1889  ...     True  False\n",
              "3                 mercedes benz of birmingham    1704  ...     True  False\n",
              "4                         birmingham mercedes     979  ...     True  False\n",
              "..                                        ...     ...  ...      ...    ...\n",
              "995      jeep grand cherokee sterling edition       0  ...    False  False\n",
              "996                  lease pre owned mercedes       0  ...     True  False\n",
              "997  new mercedes-benz amg s-class birmingham       0  ...     True  False\n",
              "998          certified pre owned mercedes suv       0  ...     True  False\n",
              "999  new mercedes-benz amg e-class birmingham       0  ...     True  False\n",
              "\n",
              "[1000 rows x 7 columns]"
            ]
          },
          "metadata": {
            "tags": []
          },
          "execution_count": 38
        }
      ]
    },
    {
      "cell_type": "code",
      "metadata": {
        "id": "1A-pqks5UxTo",
        "colab_type": "code",
        "colab": {
          "base_uri": "https://localhost:8080/",
          "height": 341
        },
        "outputId": "d93c8659-9371-4cdc-e89c-eaed29b86c00"
      },
      "source": [
        "#Woops accidentilly ran the above cell twice and added 2 'branded' + 'Branded' columns\n",
        "#No problem! Let's drop the extra lowercase column:\n",
        "df.drop(['branded'], axis=1)"
      ],
      "execution_count": 39,
      "outputs": [
        {
          "output_type": "error",
          "ename": "KeyError",
          "evalue": "ignored",
          "traceback": [
            "\u001b[0;31m---------------------------------------------------------------------------\u001b[0m",
            "\u001b[0;31mKeyError\u001b[0m                                  Traceback (most recent call last)",
            "\u001b[0;32m<ipython-input-39-a26790cc8e2f>\u001b[0m in \u001b[0;36m<module>\u001b[0;34m()\u001b[0m\n\u001b[1;32m      1\u001b[0m \u001b[0;31m#Woops accidentilly ran the above cell twice and added 2 'branded' + 'Branded' columns\u001b[0m\u001b[0;34m\u001b[0m\u001b[0;34m\u001b[0m\u001b[0;34m\u001b[0m\u001b[0m\n\u001b[1;32m      2\u001b[0m \u001b[0;31m#No problem! Let's drop the extra lowercase column:\u001b[0m\u001b[0;34m\u001b[0m\u001b[0;34m\u001b[0m\u001b[0;34m\u001b[0m\u001b[0m\n\u001b[0;32m----> 3\u001b[0;31m \u001b[0mdf\u001b[0m\u001b[0;34m.\u001b[0m\u001b[0mdrop\u001b[0m\u001b[0;34m(\u001b[0m\u001b[0;34m[\u001b[0m\u001b[0;34m'branded'\u001b[0m\u001b[0;34m]\u001b[0m\u001b[0;34m,\u001b[0m \u001b[0maxis\u001b[0m\u001b[0;34m=\u001b[0m\u001b[0;36m1\u001b[0m\u001b[0;34m)\u001b[0m\u001b[0;34m\u001b[0m\u001b[0;34m\u001b[0m\u001b[0m\n\u001b[0m",
            "\u001b[0;32m/usr/local/lib/python3.6/dist-packages/pandas/core/frame.py\u001b[0m in \u001b[0;36mdrop\u001b[0;34m(self, labels, axis, index, columns, level, inplace, errors)\u001b[0m\n\u001b[1;32m   3995\u001b[0m             \u001b[0mlevel\u001b[0m\u001b[0;34m=\u001b[0m\u001b[0mlevel\u001b[0m\u001b[0;34m,\u001b[0m\u001b[0;34m\u001b[0m\u001b[0;34m\u001b[0m\u001b[0m\n\u001b[1;32m   3996\u001b[0m             \u001b[0minplace\u001b[0m\u001b[0;34m=\u001b[0m\u001b[0minplace\u001b[0m\u001b[0;34m,\u001b[0m\u001b[0;34m\u001b[0m\u001b[0;34m\u001b[0m\u001b[0m\n\u001b[0;32m-> 3997\u001b[0;31m             \u001b[0merrors\u001b[0m\u001b[0;34m=\u001b[0m\u001b[0merrors\u001b[0m\u001b[0;34m,\u001b[0m\u001b[0;34m\u001b[0m\u001b[0;34m\u001b[0m\u001b[0m\n\u001b[0m\u001b[1;32m   3998\u001b[0m         )\n\u001b[1;32m   3999\u001b[0m \u001b[0;34m\u001b[0m\u001b[0m\n",
            "\u001b[0;32m/usr/local/lib/python3.6/dist-packages/pandas/core/generic.py\u001b[0m in \u001b[0;36mdrop\u001b[0;34m(self, labels, axis, index, columns, level, inplace, errors)\u001b[0m\n\u001b[1;32m   3934\u001b[0m         \u001b[0;32mfor\u001b[0m \u001b[0maxis\u001b[0m\u001b[0;34m,\u001b[0m \u001b[0mlabels\u001b[0m \u001b[0;32min\u001b[0m \u001b[0maxes\u001b[0m\u001b[0;34m.\u001b[0m\u001b[0mitems\u001b[0m\u001b[0;34m(\u001b[0m\u001b[0;34m)\u001b[0m\u001b[0;34m:\u001b[0m\u001b[0;34m\u001b[0m\u001b[0;34m\u001b[0m\u001b[0m\n\u001b[1;32m   3935\u001b[0m             \u001b[0;32mif\u001b[0m \u001b[0mlabels\u001b[0m \u001b[0;32mis\u001b[0m \u001b[0;32mnot\u001b[0m \u001b[0;32mNone\u001b[0m\u001b[0;34m:\u001b[0m\u001b[0;34m\u001b[0m\u001b[0;34m\u001b[0m\u001b[0m\n\u001b[0;32m-> 3936\u001b[0;31m                 \u001b[0mobj\u001b[0m \u001b[0;34m=\u001b[0m \u001b[0mobj\u001b[0m\u001b[0;34m.\u001b[0m\u001b[0m_drop_axis\u001b[0m\u001b[0;34m(\u001b[0m\u001b[0mlabels\u001b[0m\u001b[0;34m,\u001b[0m \u001b[0maxis\u001b[0m\u001b[0;34m,\u001b[0m \u001b[0mlevel\u001b[0m\u001b[0;34m=\u001b[0m\u001b[0mlevel\u001b[0m\u001b[0;34m,\u001b[0m \u001b[0merrors\u001b[0m\u001b[0;34m=\u001b[0m\u001b[0merrors\u001b[0m\u001b[0;34m)\u001b[0m\u001b[0;34m\u001b[0m\u001b[0;34m\u001b[0m\u001b[0m\n\u001b[0m\u001b[1;32m   3937\u001b[0m \u001b[0;34m\u001b[0m\u001b[0m\n\u001b[1;32m   3938\u001b[0m         \u001b[0;32mif\u001b[0m \u001b[0minplace\u001b[0m\u001b[0;34m:\u001b[0m\u001b[0;34m\u001b[0m\u001b[0;34m\u001b[0m\u001b[0m\n",
            "\u001b[0;32m/usr/local/lib/python3.6/dist-packages/pandas/core/generic.py\u001b[0m in \u001b[0;36m_drop_axis\u001b[0;34m(self, labels, axis, level, errors)\u001b[0m\n\u001b[1;32m   3968\u001b[0m                 \u001b[0mnew_axis\u001b[0m \u001b[0;34m=\u001b[0m \u001b[0maxis\u001b[0m\u001b[0;34m.\u001b[0m\u001b[0mdrop\u001b[0m\u001b[0;34m(\u001b[0m\u001b[0mlabels\u001b[0m\u001b[0;34m,\u001b[0m \u001b[0mlevel\u001b[0m\u001b[0;34m=\u001b[0m\u001b[0mlevel\u001b[0m\u001b[0;34m,\u001b[0m \u001b[0merrors\u001b[0m\u001b[0;34m=\u001b[0m\u001b[0merrors\u001b[0m\u001b[0;34m)\u001b[0m\u001b[0;34m\u001b[0m\u001b[0;34m\u001b[0m\u001b[0m\n\u001b[1;32m   3969\u001b[0m             \u001b[0;32melse\u001b[0m\u001b[0;34m:\u001b[0m\u001b[0;34m\u001b[0m\u001b[0;34m\u001b[0m\u001b[0m\n\u001b[0;32m-> 3970\u001b[0;31m                 \u001b[0mnew_axis\u001b[0m \u001b[0;34m=\u001b[0m \u001b[0maxis\u001b[0m\u001b[0;34m.\u001b[0m\u001b[0mdrop\u001b[0m\u001b[0;34m(\u001b[0m\u001b[0mlabels\u001b[0m\u001b[0;34m,\u001b[0m \u001b[0merrors\u001b[0m\u001b[0;34m=\u001b[0m\u001b[0merrors\u001b[0m\u001b[0;34m)\u001b[0m\u001b[0;34m\u001b[0m\u001b[0;34m\u001b[0m\u001b[0m\n\u001b[0m\u001b[1;32m   3971\u001b[0m             \u001b[0mresult\u001b[0m \u001b[0;34m=\u001b[0m \u001b[0mself\u001b[0m\u001b[0;34m.\u001b[0m\u001b[0mreindex\u001b[0m\u001b[0;34m(\u001b[0m\u001b[0;34m**\u001b[0m\u001b[0;34m{\u001b[0m\u001b[0maxis_name\u001b[0m\u001b[0;34m:\u001b[0m \u001b[0mnew_axis\u001b[0m\u001b[0;34m}\u001b[0m\u001b[0;34m)\u001b[0m\u001b[0;34m\u001b[0m\u001b[0;34m\u001b[0m\u001b[0m\n\u001b[1;32m   3972\u001b[0m \u001b[0;34m\u001b[0m\u001b[0m\n",
            "\u001b[0;32m/usr/local/lib/python3.6/dist-packages/pandas/core/indexes/base.py\u001b[0m in \u001b[0;36mdrop\u001b[0;34m(self, labels, errors)\u001b[0m\n\u001b[1;32m   5016\u001b[0m         \u001b[0;32mif\u001b[0m \u001b[0mmask\u001b[0m\u001b[0;34m.\u001b[0m\u001b[0many\u001b[0m\u001b[0;34m(\u001b[0m\u001b[0;34m)\u001b[0m\u001b[0;34m:\u001b[0m\u001b[0;34m\u001b[0m\u001b[0;34m\u001b[0m\u001b[0m\n\u001b[1;32m   5017\u001b[0m             \u001b[0;32mif\u001b[0m \u001b[0merrors\u001b[0m \u001b[0;34m!=\u001b[0m \u001b[0;34m\"ignore\"\u001b[0m\u001b[0;34m:\u001b[0m\u001b[0;34m\u001b[0m\u001b[0;34m\u001b[0m\u001b[0m\n\u001b[0;32m-> 5018\u001b[0;31m                 \u001b[0;32mraise\u001b[0m \u001b[0mKeyError\u001b[0m\u001b[0;34m(\u001b[0m\u001b[0;34mf\"{labels[mask]} not found in axis\"\u001b[0m\u001b[0;34m)\u001b[0m\u001b[0;34m\u001b[0m\u001b[0;34m\u001b[0m\u001b[0m\n\u001b[0m\u001b[1;32m   5019\u001b[0m             \u001b[0mindexer\u001b[0m \u001b[0;34m=\u001b[0m \u001b[0mindexer\u001b[0m\u001b[0;34m[\u001b[0m\u001b[0;34m~\u001b[0m\u001b[0mmask\u001b[0m\u001b[0;34m]\u001b[0m\u001b[0;34m\u001b[0m\u001b[0;34m\u001b[0m\u001b[0m\n\u001b[1;32m   5020\u001b[0m         \u001b[0;32mreturn\u001b[0m \u001b[0mself\u001b[0m\u001b[0;34m.\u001b[0m\u001b[0mdelete\u001b[0m\u001b[0;34m(\u001b[0m\u001b[0mindexer\u001b[0m\u001b[0;34m)\u001b[0m\u001b[0;34m\u001b[0m\u001b[0;34m\u001b[0m\u001b[0m\n",
            "\u001b[0;31mKeyError\u001b[0m: \"['branded'] not found in axis\""
          ]
        }
      ]
    },
    {
      "cell_type": "code",
      "metadata": {
        "id": "O4ERQOABVTVS",
        "colab_type": "code",
        "colab": {}
      },
      "source": [
        "#Let's add a column for all keyword instances of 'Domain Authority'"
      ],
      "execution_count": 40,
      "outputs": []
    },
    {
      "cell_type": "code",
      "metadata": {
        "id": "GRnZrcIvU_rf",
        "colab_type": "code",
        "colab": {
          "base_uri": "https://localhost:8080/",
          "height": 411
        },
        "outputId": "ec88d4f9-1f2f-4f90-b516-1aeef1a22dff"
      },
      "source": [
        "df[\"DA\"]=df.Query.str.contains(\"DA|authority|domain|google ranking factor|link juice\")\n",
        "df\n",
        "\n",
        "#jk /= google ranking factor :)"
      ],
      "execution_count": 41,
      "outputs": [
        {
          "output_type": "execute_result",
          "data": {
            "text/html": [
              "<div>\n",
              "<style scoped>\n",
              "    .dataframe tbody tr th:only-of-type {\n",
              "        vertical-align: middle;\n",
              "    }\n",
              "\n",
              "    .dataframe tbody tr th {\n",
              "        vertical-align: top;\n",
              "    }\n",
              "\n",
              "    .dataframe thead th {\n",
              "        text-align: right;\n",
              "    }\n",
              "</style>\n",
              "<table border=\"1\" class=\"dataframe\">\n",
              "  <thead>\n",
              "    <tr style=\"text-align: right;\">\n",
              "      <th></th>\n",
              "      <th>Query</th>\n",
              "      <th>Clicks</th>\n",
              "      <th>Impressions</th>\n",
              "      <th>CTR %</th>\n",
              "      <th>Rank</th>\n",
              "      <th>Branded</th>\n",
              "      <th>DA</th>\n",
              "    </tr>\n",
              "  </thead>\n",
              "  <tbody>\n",
              "    <tr>\n",
              "      <th>0</th>\n",
              "      <td>mercedes birmingham</td>\n",
              "      <td>5461</td>\n",
              "      <td>10840</td>\n",
              "      <td>50.38%</td>\n",
              "      <td>3.85</td>\n",
              "      <td>True</td>\n",
              "      <td>False</td>\n",
              "    </tr>\n",
              "    <tr>\n",
              "      <th>1</th>\n",
              "      <td>mercedes of birmingham</td>\n",
              "      <td>2013</td>\n",
              "      <td>3423</td>\n",
              "      <td>58.81%</td>\n",
              "      <td>1.50</td>\n",
              "      <td>True</td>\n",
              "      <td>False</td>\n",
              "    </tr>\n",
              "    <tr>\n",
              "      <th>2</th>\n",
              "      <td>mercedes benz birmingham</td>\n",
              "      <td>1889</td>\n",
              "      <td>4113</td>\n",
              "      <td>45.93%</td>\n",
              "      <td>2.99</td>\n",
              "      <td>True</td>\n",
              "      <td>False</td>\n",
              "    </tr>\n",
              "    <tr>\n",
              "      <th>3</th>\n",
              "      <td>mercedes benz of birmingham</td>\n",
              "      <td>1704</td>\n",
              "      <td>2966</td>\n",
              "      <td>57.45%</td>\n",
              "      <td>1.50</td>\n",
              "      <td>True</td>\n",
              "      <td>False</td>\n",
              "    </tr>\n",
              "    <tr>\n",
              "      <th>4</th>\n",
              "      <td>birmingham mercedes</td>\n",
              "      <td>979</td>\n",
              "      <td>1434</td>\n",
              "      <td>68.27%</td>\n",
              "      <td>1.79</td>\n",
              "      <td>True</td>\n",
              "      <td>False</td>\n",
              "    </tr>\n",
              "    <tr>\n",
              "      <th>...</th>\n",
              "      <td>...</td>\n",
              "      <td>...</td>\n",
              "      <td>...</td>\n",
              "      <td>...</td>\n",
              "      <td>...</td>\n",
              "      <td>...</td>\n",
              "      <td>...</td>\n",
              "    </tr>\n",
              "    <tr>\n",
              "      <th>995</th>\n",
              "      <td>jeep grand cherokee sterling edition</td>\n",
              "      <td>0</td>\n",
              "      <td>172</td>\n",
              "      <td>0%</td>\n",
              "      <td>34.56</td>\n",
              "      <td>False</td>\n",
              "      <td>False</td>\n",
              "    </tr>\n",
              "    <tr>\n",
              "      <th>996</th>\n",
              "      <td>lease pre owned mercedes</td>\n",
              "      <td>0</td>\n",
              "      <td>172</td>\n",
              "      <td>0%</td>\n",
              "      <td>49.16</td>\n",
              "      <td>True</td>\n",
              "      <td>False</td>\n",
              "    </tr>\n",
              "    <tr>\n",
              "      <th>997</th>\n",
              "      <td>new mercedes-benz amg s-class birmingham</td>\n",
              "      <td>0</td>\n",
              "      <td>171</td>\n",
              "      <td>0%</td>\n",
              "      <td>15.15</td>\n",
              "      <td>True</td>\n",
              "      <td>False</td>\n",
              "    </tr>\n",
              "    <tr>\n",
              "      <th>998</th>\n",
              "      <td>certified pre owned mercedes suv</td>\n",
              "      <td>0</td>\n",
              "      <td>171</td>\n",
              "      <td>0%</td>\n",
              "      <td>23.03</td>\n",
              "      <td>True</td>\n",
              "      <td>False</td>\n",
              "    </tr>\n",
              "    <tr>\n",
              "      <th>999</th>\n",
              "      <td>new mercedes-benz amg e-class birmingham</td>\n",
              "      <td>0</td>\n",
              "      <td>171</td>\n",
              "      <td>0%</td>\n",
              "      <td>23.13</td>\n",
              "      <td>True</td>\n",
              "      <td>False</td>\n",
              "    </tr>\n",
              "  </tbody>\n",
              "</table>\n",
              "<p>1000 rows × 7 columns</p>\n",
              "</div>"
            ],
            "text/plain": [
              "                                        Query  Clicks  ...  Branded     DA\n",
              "0                         mercedes birmingham    5461  ...     True  False\n",
              "1                      mercedes of birmingham    2013  ...     True  False\n",
              "2                    mercedes benz birmingham    1889  ...     True  False\n",
              "3                 mercedes benz of birmingham    1704  ...     True  False\n",
              "4                         birmingham mercedes     979  ...     True  False\n",
              "..                                        ...     ...  ...      ...    ...\n",
              "995      jeep grand cherokee sterling edition       0  ...    False  False\n",
              "996                  lease pre owned mercedes       0  ...     True  False\n",
              "997  new mercedes-benz amg s-class birmingham       0  ...     True  False\n",
              "998          certified pre owned mercedes suv       0  ...     True  False\n",
              "999  new mercedes-benz amg e-class birmingham       0  ...     True  False\n",
              "\n",
              "[1000 rows x 7 columns]"
            ]
          },
          "metadata": {
            "tags": []
          },
          "execution_count": 41
        }
      ]
    },
    {
      "cell_type": "markdown",
      "metadata": {
        "id": "ACRytRduVzdy",
        "colab_type": "text"
      },
      "source": [
        "#COPY THIS NOTEBOOK & EASILY ORGANIZE + EXPORT YOUR KEYWORD DATA HERE!!!!\n",
        "\n",
        "Did I mention that this way is also waaaayy faster?!\n",
        "\n",
        "#Never use another long excel command like this again:\n",
        "![Export internal link csv to your local computer](https://i.imgur.com/in1u5rs.png)\n",
        "\n",
        "Shoutout to Robin Lord for the inspo behind this!!!! See his slides & examples here: https://www.dropbox.com/sh/vl5miyt6sgbvmkl/AAC5365YcWTun_EzkQLtixe1a?dl=0"
      ]
    },
    {
      "cell_type": "code",
      "metadata": {
        "id": "q4ECDDZ2XBJ5",
        "colab_type": "code",
        "colab": {}
      },
      "source": [
        "#It's talks like Robin's that can change the trajectory of someone's career!\n",
        "#KEEP LEARNING! There are easier ways to do traditional SEO, promise!\n",
        "\n",
        "#*big hugs* -Britney"
      ],
      "execution_count": 42,
      "outputs": []
    },
    {
      "cell_type": "markdown",
      "metadata": {
        "id": "hf6ARsaTSe1R",
        "colab_type": "text"
      },
      "source": [
        ""
      ]
    },
    {
      "cell_type": "code",
      "metadata": {
        "id": "0sQ0A89fQPWT",
        "colab_type": "code",
        "colab": {
          "base_uri": "https://localhost:8080/",
          "height": 548
        },
        "outputId": "6430f2d9-bf6e-49ce-f1f6-a5c24fdafef9"
      },
      "source": [
        "!pip install -U notebook-as-pdf"
      ],
      "execution_count": 43,
      "outputs": [
        {
          "output_type": "stream",
          "text": [
            "Requirement already up-to-date: notebook-as-pdf in /usr/local/lib/python3.6/dist-packages (0.0.2)\n",
            "Requirement already satisfied, skipping upgrade: nbconvert in /usr/local/lib/python3.6/dist-packages (from notebook-as-pdf) (5.6.1)\n",
            "Requirement already satisfied, skipping upgrade: pyppeteer in /usr/local/lib/python3.6/dist-packages (from notebook-as-pdf) (0.2.2)\n",
            "Requirement already satisfied, skipping upgrade: pikepdf in /usr/local/lib/python3.6/dist-packages (from notebook-as-pdf) (1.17.2)\n",
            "Requirement already satisfied, skipping upgrade: pandocfilters>=1.4.1 in /usr/local/lib/python3.6/dist-packages (from nbconvert->notebook-as-pdf) (1.4.2)\n",
            "Requirement already satisfied, skipping upgrade: jupyter-core in /usr/local/lib/python3.6/dist-packages (from nbconvert->notebook-as-pdf) (4.6.3)\n",
            "Requirement already satisfied, skipping upgrade: mistune<2,>=0.8.1 in /usr/local/lib/python3.6/dist-packages (from nbconvert->notebook-as-pdf) (0.8.4)\n",
            "Requirement already satisfied, skipping upgrade: pygments in /usr/local/lib/python3.6/dist-packages (from nbconvert->notebook-as-pdf) (2.1.3)\n",
            "Requirement already satisfied, skipping upgrade: traitlets>=4.2 in /usr/local/lib/python3.6/dist-packages (from nbconvert->notebook-as-pdf) (4.3.3)\n",
            "Requirement already satisfied, skipping upgrade: testpath in /usr/local/lib/python3.6/dist-packages (from nbconvert->notebook-as-pdf) (0.4.4)\n",
            "Requirement already satisfied, skipping upgrade: defusedxml in /usr/local/lib/python3.6/dist-packages (from nbconvert->notebook-as-pdf) (0.6.0)\n",
            "Requirement already satisfied, skipping upgrade: entrypoints>=0.2.2 in /usr/local/lib/python3.6/dist-packages (from nbconvert->notebook-as-pdf) (0.3)\n",
            "Requirement already satisfied, skipping upgrade: jinja2>=2.4 in /usr/local/lib/python3.6/dist-packages (from nbconvert->notebook-as-pdf) (2.11.2)\n",
            "Requirement already satisfied, skipping upgrade: bleach in /usr/local/lib/python3.6/dist-packages (from nbconvert->notebook-as-pdf) (3.1.5)\n",
            "Requirement already satisfied, skipping upgrade: nbformat>=4.4 in /usr/local/lib/python3.6/dist-packages (from nbconvert->notebook-as-pdf) (5.0.7)\n",
            "Requirement already satisfied, skipping upgrade: appdirs<2.0.0,>=1.4.3 in /usr/local/lib/python3.6/dist-packages (from pyppeteer->notebook-as-pdf) (1.4.4)\n",
            "Requirement already satisfied, skipping upgrade: urllib3<2.0.0,>=1.25.8 in /usr/local/lib/python3.6/dist-packages (from pyppeteer->notebook-as-pdf) (1.25.9)\n",
            "Requirement already satisfied, skipping upgrade: pyee<8.0.0,>=7.0.1 in /usr/local/lib/python3.6/dist-packages (from pyppeteer->notebook-as-pdf) (7.0.2)\n",
            "Requirement already satisfied, skipping upgrade: tqdm<5.0.0,>=4.42.1 in /usr/local/lib/python3.6/dist-packages (from pyppeteer->notebook-as-pdf) (4.48.0)\n",
            "Requirement already satisfied, skipping upgrade: websockets<9.0,>=8.1 in /usr/local/lib/python3.6/dist-packages (from pyppeteer->notebook-as-pdf) (8.1)\n",
            "Requirement already satisfied, skipping upgrade: Pillow>=6 in /usr/local/lib/python3.6/dist-packages (from pikepdf->notebook-as-pdf) (7.0.0)\n",
            "Requirement already satisfied, skipping upgrade: lxml>=4.0 in /usr/local/lib/python3.6/dist-packages (from pikepdf->notebook-as-pdf) (4.2.6)\n",
            "Requirement already satisfied, skipping upgrade: decorator in /usr/local/lib/python3.6/dist-packages (from traitlets>=4.2->nbconvert->notebook-as-pdf) (4.4.2)\n",
            "Requirement already satisfied, skipping upgrade: ipython-genutils in /usr/local/lib/python3.6/dist-packages (from traitlets>=4.2->nbconvert->notebook-as-pdf) (0.2.0)\n",
            "Requirement already satisfied, skipping upgrade: six in /usr/local/lib/python3.6/dist-packages (from traitlets>=4.2->nbconvert->notebook-as-pdf) (1.12.0)\n",
            "Requirement already satisfied, skipping upgrade: MarkupSafe>=0.23 in /usr/local/lib/python3.6/dist-packages (from jinja2>=2.4->nbconvert->notebook-as-pdf) (1.1.1)\n",
            "Requirement already satisfied, skipping upgrade: packaging in /usr/local/lib/python3.6/dist-packages (from bleach->nbconvert->notebook-as-pdf) (20.4)\n",
            "Requirement already satisfied, skipping upgrade: webencodings in /usr/local/lib/python3.6/dist-packages (from bleach->nbconvert->notebook-as-pdf) (0.5.1)\n",
            "Requirement already satisfied, skipping upgrade: jsonschema!=2.5.0,>=2.4 in /usr/local/lib/python3.6/dist-packages (from nbformat>=4.4->nbconvert->notebook-as-pdf) (2.6.0)\n",
            "Requirement already satisfied, skipping upgrade: pyparsing>=2.0.2 in /usr/local/lib/python3.6/dist-packages (from packaging->bleach->nbconvert->notebook-as-pdf) (2.4.7)\n"
          ],
          "name": "stdout"
        }
      ]
    },
    {
      "cell_type": "code",
      "metadata": {
        "id": "vjhnkIB_QWDm",
        "colab_type": "code",
        "colab": {
          "base_uri": "https://localhost:8080/",
          "height": 119
        },
        "outputId": "9cd18d6f-da98-4794-eae1-868842883084"
      },
      "source": [
        "!pip install pyppeteer"
      ],
      "execution_count": 44,
      "outputs": [
        {
          "output_type": "stream",
          "text": [
            "Requirement already satisfied: pyppeteer in /usr/local/lib/python3.6/dist-packages (0.2.2)\n",
            "Requirement already satisfied: websockets<9.0,>=8.1 in /usr/local/lib/python3.6/dist-packages (from pyppeteer) (8.1)\n",
            "Requirement already satisfied: tqdm<5.0.0,>=4.42.1 in /usr/local/lib/python3.6/dist-packages (from pyppeteer) (4.48.0)\n",
            "Requirement already satisfied: pyee<8.0.0,>=7.0.1 in /usr/local/lib/python3.6/dist-packages (from pyppeteer) (7.0.2)\n",
            "Requirement already satisfied: urllib3<2.0.0,>=1.25.8 in /usr/local/lib/python3.6/dist-packages (from pyppeteer) (1.25.9)\n",
            "Requirement already satisfied: appdirs<2.0.0,>=1.4.3 in /usr/local/lib/python3.6/dist-packages (from pyppeteer) (1.4.4)\n"
          ],
          "name": "stdout"
        }
      ]
    },
    {
      "cell_type": "code",
      "metadata": {
        "id": "4YFvar7ZzCoe",
        "colab_type": "code",
        "colab": {}
      },
      "source": [
        ""
      ],
      "execution_count": 31,
      "outputs": []
    }
  ]
}