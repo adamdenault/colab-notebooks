{
  "nbformat": 4,
  "nbformat_minor": 0,
  "metadata": {
    "colab": {
      "name": "Copy of Category Classification.ipynb",
      "provenance": [],
      "collapsed_sections": [],
      "toc_visible": true,
      "machine_shape": "hm",
      "include_colab_link": true
    },
    "kernelspec": {
      "name": "python3",
      "display_name": "Python 3"
    },
    "accelerator": "GPU"
  },
  "cells": [
    {
      "cell_type": "markdown",
      "metadata": {
        "id": "view-in-github",
        "colab_type": "text"
      },
      "source": [
        "<a href=\"https://colab.research.google.com/github/adamdenault/colab-notebooks/blob/master/Category_Classification.ipynb\" target=\"_parent\"><img src=\"https://colab.research.google.com/assets/colab-badge.svg\" alt=\"Open In Colab\"/></a>"
      ]
    },
    {
      "cell_type": "markdown",
      "metadata": {
        "id": "eXiEVrpmtguk",
        "colab_type": "text"
      },
      "source": [
        "This notebook is intended to allow a user to run entity analysis on three URLs and understand differences in central topics covered by pieces of content. It is a tutorial implementation of Google's NLP entity Analysis API. \n",
        "\n",
        "For more guidance on how to run this, see here: https://sashadagayev.com/systematically-analyze-your-content-vs-competitor-content-and-make-actionable-improvements/\n",
        "\n",
        "To use this notebook - go to File > Save a Copy in Drive.\n"
      ]
    },
    {
      "cell_type": "code",
      "metadata": {
        "id": "_ygJDAflZzEz",
        "colab_type": "code",
        "colab": {
          "base_uri": "https://localhost:8080/",
          "height": 309
        },
        "outputId": "46d862a6-dbda-42bf-9122-ec2ce4b31607"
      },
      "source": [
        "import os\n",
        "import json\n",
        "import urllib3\n",
        "import pandas as pd\n",
        "!pip install \"requests[security]\""
      ],
      "execution_count": 1,
      "outputs": [
        {
          "output_type": "stream",
          "text": [
            "Requirement already satisfied: requests[security] in /usr/local/lib/python3.6/dist-packages (2.23.0)\n",
            "Requirement already satisfied: certifi>=2017.4.17 in /usr/local/lib/python3.6/dist-packages (from requests[security]) (2020.6.20)\n",
            "Requirement already satisfied: idna<3,>=2.5 in /usr/local/lib/python3.6/dist-packages (from requests[security]) (2.10)\n",
            "Requirement already satisfied: chardet<4,>=3.0.2 in /usr/local/lib/python3.6/dist-packages (from requests[security]) (3.0.4)\n",
            "Requirement already satisfied: urllib3!=1.25.0,!=1.25.1,<1.26,>=1.21.1 in /usr/local/lib/python3.6/dist-packages (from requests[security]) (1.24.3)\n",
            "Collecting pyOpenSSL>=0.14; extra == \"security\"\n",
            "\u001b[?25l  Downloading https://files.pythonhosted.org/packages/9e/de/f8342b68fa9e981d348039954657bdf681b2ab93de27443be51865ffa310/pyOpenSSL-19.1.0-py2.py3-none-any.whl (53kB)\n",
            "\u001b[K     |████████████████████████████████| 61kB 4.3MB/s \n",
            "\u001b[?25hCollecting cryptography>=1.3.4; extra == \"security\"\n",
            "\u001b[?25l  Downloading https://files.pythonhosted.org/packages/3c/04/686efee2dcdd25aecf357992e7d9362f443eb182ecd623f882bc9f7a6bba/cryptography-2.9.2-cp35-abi3-manylinux2010_x86_64.whl (2.7MB)\n",
            "\u001b[K     |████████████████████████████████| 2.7MB 14.2MB/s \n",
            "\u001b[?25hRequirement already satisfied: six>=1.5.2 in /usr/local/lib/python3.6/dist-packages (from pyOpenSSL>=0.14; extra == \"security\"->requests[security]) (1.12.0)\n",
            "Requirement already satisfied: cffi!=1.11.3,>=1.8 in /usr/local/lib/python3.6/dist-packages (from cryptography>=1.3.4; extra == \"security\"->requests[security]) (1.14.0)\n",
            "Requirement already satisfied: pycparser in /usr/local/lib/python3.6/dist-packages (from cffi!=1.11.3,>=1.8->cryptography>=1.3.4; extra == \"security\"->requests[security]) (2.20)\n",
            "Installing collected packages: cryptography, pyOpenSSL\n",
            "Successfully installed cryptography-2.9.2 pyOpenSSL-19.1.0\n"
          ],
          "name": "stdout"
        }
      ]
    },
    {
      "cell_type": "code",
      "metadata": {
        "id": "WZpFgSKoaFFh",
        "colab_type": "code",
        "colab": {}
      },
      "source": [
        "#os.environ['GOOGLE_APPLICATION_CREDENTIALS'] = \"/content/nlp-colab.json\" #change to the name of your credentials. These can be obtained here:https://cloud.google.com/natural-language/docs/quickstart\n",
        "os.environ['GOOGLE_APPLICATION_CREDENTIALS'] = \"/content/nlp-colab.json\" #change to the name of your credentials. These can be obtained here:https://cloud.google.com/natural-language/docs/quickstart"
      ],
      "execution_count": 2,
      "outputs": []
    },
    {
      "cell_type": "code",
      "metadata": {
        "id": "qkSW-0qyYlcP",
        "colab_type": "code",
        "colab": {}
      },
      "source": [
        "# Imports the Google Cloud client library\n",
        "from google.cloud import language\n",
        "from google.cloud.language import enums\n",
        "from google.cloud.language import types\n",
        "from google.cloud import language_v1\n",
        "from google.cloud.language_v1 import enums\n",
        "\n",
        "# Instantiates a client\n",
        "client = language.LanguageServiceClient()"
      ],
      "execution_count": 3,
      "outputs": []
    },
    {
      "cell_type": "markdown",
      "metadata": {
        "id": "4XCGW9btPE-9",
        "colab_type": "text"
      },
      "source": [
        "This is the default sentiment analysis method recommended by Google. It is currently set up to take in an HTML response from a page."
      ]
    },
    {
      "cell_type": "code",
      "metadata": {
        "colab_type": "code",
        "id": "zndJdEyupb39",
        "colab": {}
      },
      "source": [
        "def sample_classify_text(html_content):\n",
        "  # Comment test\n",
        "  client = language_v1.LanguageServiceClient()\n",
        "\n",
        "  # Available types: PLAIN_TEXT, HTML\n",
        "  type_ = enums.Document.Type.PLAIN_TEXT #you can change this to be just text; doesn't have to be HTML.\n",
        "\n",
        "  # Optional. If not specified, the language is automatically detected.\n",
        "  # For list of supported languages:\n",
        "  # https://cloud.google.com/natural-language/docs/languages\n",
        "  language = \"en\"\n",
        "  document = {\"gcs_content_uri\": gcs_content_uri, \"type\": type_, \"language\": language}\n",
        "\n",
        "  # Available values: NONE, UTF8, UTF16, UTF32\n",
        "  encoding_type = enums.EncodingType.UTF8\n",
        "\n",
        "  response = client.analyze_categories(document)\n",
        "  return response\n"
      ],
      "execution_count": 4,
      "outputs": []
    },
    {
      "cell_type": "code",
      "metadata": {
        "id": "s3WCBz3bp582",
        "colab_type": "code",
        "colab": {}
      },
      "source": [
        "def return_category_dataframe(response):\n",
        "  document = {\n",
        "      \"content\": response.data,\n",
        "      \"language\": 'en',\n",
        "      \"type\": 'HTML'\n",
        "  }\n",
        "  output = client.classify_text(document)\n",
        "  output_list = []\n",
        "  # I'm only ever seeing one category from each call to classify_text.\n",
        "  for category in output.categories:\n",
        "    category_dict = {}\n",
        "    category_dict['category_name'] = category.name\n",
        "    category_dict['category_confidence('+response._request_url+')'] = category.confidence\n",
        "    # No está ahi.\n",
        "    # category_dict['category_number_of_mentions('+response._request_url+')'] = len(category.mentions)\n",
        "    output_list.append(category_dict)\n",
        "  json_category_analysis = json.dumps(output_list)\n",
        "  df = pd.read_json(json_category_analysis)\n",
        "  summed_df = df.groupby(['category_name']).sum()\n",
        "  summed_df.sort_values(by=['category_confidence('+response._request_url+')'], ascending=False)\n",
        "  return summed_df"
      ],
      "execution_count": 5,
      "outputs": []
    },
    {
      "cell_type": "markdown",
      "metadata": {
        "id": "-NTBzXHwQpxG",
        "colab_type": "text"
      },
      "source": [
        "This is where the URLs are defined. You can switch this out to be the three URLs you would like for it to be. "
      ]
    },
    {
      "cell_type": "code",
      "metadata": {
        "id": "VzGTE1O7lUfz",
        "colab_type": "code",
        "colab": {
          "base_uri": "https://localhost:8080/",
          "height": 309
        },
        "outputId": "f800d47d-38e0-4d21-9a28-4b750b8ebe54"
      },
      "source": [
        "http = urllib3.PoolManager()\n",
        "response1 = http.request('GET','https://mbbhm.com')\n",
        "response2 = http.request('GET','https://mbofmc.com')\n",
        "response3 = http.request('GET','https://mbotw.com')\n",
        "response4 = http.request('GET','https://mbobr.com')\n"
      ],
      "execution_count": 7,
      "outputs": [
        {
          "output_type": "stream",
          "text": [
            "/usr/local/lib/python3.6/dist-packages/urllib3/connectionpool.py:847: InsecureRequestWarning: Unverified HTTPS request is being made. Adding certificate verification is strongly advised. See: https://urllib3.readthedocs.io/en/latest/advanced-usage.html#ssl-warnings\n",
            "  InsecureRequestWarning)\n",
            "/usr/local/lib/python3.6/dist-packages/urllib3/connectionpool.py:847: InsecureRequestWarning: Unverified HTTPS request is being made. Adding certificate verification is strongly advised. See: https://urllib3.readthedocs.io/en/latest/advanced-usage.html#ssl-warnings\n",
            "  InsecureRequestWarning)\n",
            "/usr/local/lib/python3.6/dist-packages/urllib3/connectionpool.py:847: InsecureRequestWarning: Unverified HTTPS request is being made. Adding certificate verification is strongly advised. See: https://urllib3.readthedocs.io/en/latest/advanced-usage.html#ssl-warnings\n",
            "  InsecureRequestWarning)\n",
            "/usr/local/lib/python3.6/dist-packages/urllib3/connectionpool.py:847: InsecureRequestWarning: Unverified HTTPS request is being made. Adding certificate verification is strongly advised. See: https://urllib3.readthedocs.io/en/latest/advanced-usage.html#ssl-warnings\n",
            "  InsecureRequestWarning)\n",
            "/usr/local/lib/python3.6/dist-packages/urllib3/connectionpool.py:847: InsecureRequestWarning: Unverified HTTPS request is being made. Adding certificate verification is strongly advised. See: https://urllib3.readthedocs.io/en/latest/advanced-usage.html#ssl-warnings\n",
            "  InsecureRequestWarning)\n",
            "/usr/local/lib/python3.6/dist-packages/urllib3/connectionpool.py:847: InsecureRequestWarning: Unverified HTTPS request is being made. Adding certificate verification is strongly advised. See: https://urllib3.readthedocs.io/en/latest/advanced-usage.html#ssl-warnings\n",
            "  InsecureRequestWarning)\n",
            "/usr/local/lib/python3.6/dist-packages/urllib3/connectionpool.py:847: InsecureRequestWarning: Unverified HTTPS request is being made. Adding certificate verification is strongly advised. See: https://urllib3.readthedocs.io/en/latest/advanced-usage.html#ssl-warnings\n",
            "  InsecureRequestWarning)\n",
            "/usr/local/lib/python3.6/dist-packages/urllib3/connectionpool.py:847: InsecureRequestWarning: Unverified HTTPS request is being made. Adding certificate verification is strongly advised. See: https://urllib3.readthedocs.io/en/latest/advanced-usage.html#ssl-warnings\n",
            "  InsecureRequestWarning)\n"
          ],
          "name": "stderr"
        }
      ]
    },
    {
      "cell_type": "code",
      "metadata": {
        "id": "VBGvqTfgEBlE",
        "colab_type": "code",
        "colab": {}
      },
      "source": [
        ""
      ],
      "execution_count": 7,
      "outputs": []
    },
    {
      "cell_type": "code",
      "metadata": {
        "id": "Jl0oeZM3sBBe",
        "colab_type": "code",
        "colab": {}
      },
      "source": [
        "url1_analysis = return_category_dataframe(response1)\n",
        "url2_analysis = return_category_dataframe(response2)\n",
        "url3_analysis = return_category_dataframe(response3)\n",
        "url4_analysis = return_category_dataframe(response4)\n",
        "#url5_analysis = return_category_dataframe(response5)\n",
        "#url6_analysis = return_category_dataframe(response6)\n",
        "#url7_analysis = return_category_dataframe(response7)\n",
        "#url8_analysis = return_category_dataframe(response8)"
      ],
      "execution_count": 10,
      "outputs": []
    },
    {
      "cell_type": "markdown",
      "metadata": {
        "id": "mo1zly_LQ9qt",
        "colab_type": "text"
      },
      "source": [
        "These functions here join all of the entity results into one giant table so that it can be easier for the users to review results and compare. "
      ]
    },
    {
      "cell_type": "code",
      "metadata": {
        "id": "wkHg_k2MyJF8",
        "colab_type": "code",
        "colab": {}
      },
      "source": [
        "url1and2 = url1_analysis.merge(url2_analysis,how='outer', left_on='category_name', right_on=\"category_name\")\n",
        "url1and2and3 = url1and2.merge(url3_analysis,how='outer', left_on='category_name', right_on=\"category_name\")\n",
        "url1and2and3and4 = url1and2and3.merge(url4_analysis,how='outer', left_on='category_name', right_on=\"category_name\")\n",
        "#url1and2and3and4and5 = url1and2and3and4.merge(url5_analysis,how='outer', left_on='category_name', right_on=\"category_name\")\n",
        "#url1and2and3and4and5and6 = url1and2and3and4and5.merge(url6_analysis,how='outer', left_on='category_name', right_on=\"category_name\")\n"
      ],
      "execution_count": 11,
      "outputs": []
    },
    {
      "cell_type": "code",
      "metadata": {
        "id": "DNMTixY-yHiq",
        "colab_type": "code",
        "colab": {
          "base_uri": "https://localhost:8080/",
          "height": 169
        },
        "outputId": "735a7b62-f98d-4131-9cb5-4116f45cc819"
      },
      "source": [
        "url1and2.sort_values(by=['category_confidence('+response1._request_url+')'], ascending=False)\n"
      ],
      "execution_count": 12,
      "outputs": [
        {
          "output_type": "execute_result",
          "data": {
            "text/html": [
              "<div>\n",
              "<style scoped>\n",
              "    .dataframe tbody tr th:only-of-type {\n",
              "        vertical-align: middle;\n",
              "    }\n",
              "\n",
              "    .dataframe tbody tr th {\n",
              "        vertical-align: top;\n",
              "    }\n",
              "\n",
              "    .dataframe thead th {\n",
              "        text-align: right;\n",
              "    }\n",
              "</style>\n",
              "<table border=\"1\" class=\"dataframe\">\n",
              "  <thead>\n",
              "    <tr style=\"text-align: right;\">\n",
              "      <th></th>\n",
              "      <th>category_confidence(https://mbbhm.com)</th>\n",
              "      <th>category_confidence(https://mbofmc.com)</th>\n",
              "    </tr>\n",
              "    <tr>\n",
              "      <th>category_name</th>\n",
              "      <th></th>\n",
              "      <th></th>\n",
              "    </tr>\n",
              "  </thead>\n",
              "  <tbody>\n",
              "    <tr>\n",
              "      <th>/Autos &amp; Vehicles/Motor Vehicles (By Type)</th>\n",
              "      <td>0.85</td>\n",
              "      <td>0.81</td>\n",
              "    </tr>\n",
              "    <tr>\n",
              "      <th>/Autos &amp; Vehicles/Vehicle Shopping</th>\n",
              "      <td>0.76</td>\n",
              "      <td>0.79</td>\n",
              "    </tr>\n",
              "    <tr>\n",
              "      <th>/Shopping/Luxury Goods</th>\n",
              "      <td>0.66</td>\n",
              "      <td>0.71</td>\n",
              "    </tr>\n",
              "  </tbody>\n",
              "</table>\n",
              "</div>"
            ],
            "text/plain": [
              "                                            category_confidence(https://mbbhm.com)  category_confidence(https://mbofmc.com)\n",
              "category_name                                                                                                              \n",
              "/Autos & Vehicles/Motor Vehicles (By Type)                                    0.85                                     0.81\n",
              "/Autos & Vehicles/Vehicle Shopping                                            0.76                                     0.79\n",
              "/Shopping/Luxury Goods                                                        0.66                                     0.71"
            ]
          },
          "metadata": {
            "tags": []
          },
          "execution_count": 12
        }
      ]
    },
    {
      "cell_type": "markdown",
      "metadata": {
        "id": "NEriVgum8AIx",
        "colab_type": "text"
      },
      "source": [
        ""
      ]
    },
    {
      "cell_type": "code",
      "metadata": {
        "id": "VmSEh9_H0-ZQ",
        "colab_type": "code",
        "colab": {}
      },
      "source": [
        "url1and2and3and4.to_csv('categories.csv')"
      ],
      "execution_count": 18,
      "outputs": []
    },
    {
      "cell_type": "code",
      "metadata": {
        "id": "zEslC8m_3HcM",
        "colab_type": "code",
        "colab": {}
      },
      "source": [
        "db = url1and2and3and4"
      ],
      "execution_count": 22,
      "outputs": []
    },
    {
      "cell_type": "code",
      "metadata": {
        "id": "C2rn81qx3LnW",
        "colab_type": "code",
        "colab": {
          "base_uri": "https://localhost:8080/",
          "height": 292
        },
        "outputId": "ef09d630-2593-4fec-ac9a-62acc93625e2"
      },
      "source": [
        "db"
      ],
      "execution_count": 21,
      "outputs": [
        {
          "output_type": "execute_result",
          "data": {
            "text/html": [
              "<div>\n",
              "<style scoped>\n",
              "    .dataframe tbody tr th:only-of-type {\n",
              "        vertical-align: middle;\n",
              "    }\n",
              "\n",
              "    .dataframe tbody tr th {\n",
              "        vertical-align: top;\n",
              "    }\n",
              "\n",
              "    .dataframe thead th {\n",
              "        text-align: right;\n",
              "    }\n",
              "</style>\n",
              "<table border=\"1\" class=\"dataframe\">\n",
              "  <thead>\n",
              "    <tr style=\"text-align: right;\">\n",
              "      <th></th>\n",
              "      <th>category_confidence(https://mbbhm.com)</th>\n",
              "      <th>category_confidence(https://mbofmc.com)</th>\n",
              "      <th>category_confidence(https://mbotw.com)</th>\n",
              "      <th>category_confidence(https://mbobr.com)</th>\n",
              "    </tr>\n",
              "    <tr>\n",
              "      <th>category_name</th>\n",
              "      <th></th>\n",
              "      <th></th>\n",
              "      <th></th>\n",
              "      <th></th>\n",
              "    </tr>\n",
              "  </thead>\n",
              "  <tbody>\n",
              "    <tr>\n",
              "      <th>/Autos &amp; Vehicles/Motor Vehicles (By Type)</th>\n",
              "      <td>0.85</td>\n",
              "      <td>0.81</td>\n",
              "      <td>0.79</td>\n",
              "      <td>0.76</td>\n",
              "    </tr>\n",
              "    <tr>\n",
              "      <th>/Autos &amp; Vehicles/Vehicle Shopping</th>\n",
              "      <td>0.76</td>\n",
              "      <td>0.79</td>\n",
              "      <td>0.65</td>\n",
              "      <td>0.81</td>\n",
              "    </tr>\n",
              "    <tr>\n",
              "      <th>/Shopping/Luxury Goods</th>\n",
              "      <td>0.66</td>\n",
              "      <td>0.71</td>\n",
              "      <td>0.53</td>\n",
              "      <td>0.60</td>\n",
              "    </tr>\n",
              "  </tbody>\n",
              "</table>\n",
              "</div>"
            ],
            "text/plain": [
              "                                            category_confidence(https://mbbhm.com)  ...  category_confidence(https://mbobr.com)\n",
              "category_name                                                                       ...                                        \n",
              "/Autos & Vehicles/Motor Vehicles (By Type)                                    0.85  ...                                    0.76\n",
              "/Autos & Vehicles/Vehicle Shopping                                            0.76  ...                                    0.81\n",
              "/Shopping/Luxury Goods                                                        0.66  ...                                    0.60\n",
              "\n",
              "[3 rows x 4 columns]"
            ]
          },
          "metadata": {
            "tags": []
          },
          "execution_count": 21
        }
      ]
    },
    {
      "cell_type": "code",
      "metadata": {
        "id": "hTfY14A0EpAO",
        "colab_type": "code",
        "colab": {
          "base_uri": "https://localhost:8080/",
          "height": 34
        },
        "outputId": "0c9c9351-2a2d-4412-9704-fcd6ff9836b4"
      },
      "source": [
        "from google.colab import drive\n",
        "drive.mount('/content/drive')"
      ],
      "execution_count": 23,
      "outputs": [
        {
          "output_type": "stream",
          "text": [
            "Drive already mounted at /content/drive; to attempt to forcibly remount, call drive.mount(\"/content/drive\", force_remount=True).\n"
          ],
          "name": "stdout"
        }
      ]
    }
  ]
}