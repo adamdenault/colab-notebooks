{
  "nbformat": 4,
  "nbformat_minor": 0,
  "metadata": {
    "colab": {
      "name": "Copy of Category Classification.ipynb",
      "provenance": [],
      "collapsed_sections": [],
      "toc_visible": true,
      "machine_shape": "hm",
      "include_colab_link": true
    },
    "kernelspec": {
      "name": "python3",
      "display_name": "Python 3"
    },
    "accelerator": "GPU"
  },
  "cells": [
    {
      "cell_type": "markdown",
      "metadata": {
        "id": "view-in-github",
        "colab_type": "text"
      },
      "source": [
        "<a href=\"https://colab.research.google.com/github/adamdenault/colab-notebooks/blob/master/Category_Classification.ipynb\" target=\"_parent\"><img src=\"https://colab.research.google.com/assets/colab-badge.svg\" alt=\"Open In Colab\"/></a>"
      ]
    },
    {
      "cell_type": "markdown",
      "metadata": {
        "id": "eXiEVrpmtguk",
        "colab_type": "text"
      },
      "source": [
        "This notebook is intended to allow a user to run entity analysis on three URLs and understand differences in central topics covered by pieces of content. It is a tutorial implementation of Google's NLP entity Analysis API. \n",
        "\n",
        "For more guidance on how to run this, see here: https://sashadagayev.com/systematically-analyze-your-content-vs-competitor-content-and-make-actionable-improvements/\n",
        "\n",
        "To use this notebook - go to File > Save a Copy in Drive.\n"
      ]
    },
    {
      "cell_type": "code",
      "metadata": {
        "id": "_ygJDAflZzEz",
        "colab_type": "code",
        "colab": {
          "base_uri": "https://localhost:8080/",
          "height": 325
        },
        "outputId": "471e2fcc-61d3-44bc-8192-2decd5eac6d8"
      },
      "source": [
        "import os\n",
        "import json\n",
        "import urllib3\n",
        "import pandas as pd\n",
        "!pip install \"requests[security]\""
      ],
      "execution_count": null,
      "outputs": [
        {
          "output_type": "stream",
          "text": [
            "Requirement already satisfied: requests[security] in /usr/local/lib/python3.6/dist-packages (2.23.0)\n",
            "Requirement already satisfied: idna<3,>=2.5 in /usr/local/lib/python3.6/dist-packages (from requests[security]) (2.9)\n",
            "Requirement already satisfied: urllib3!=1.25.0,!=1.25.1,<1.26,>=1.21.1 in /usr/local/lib/python3.6/dist-packages (from requests[security]) (1.24.3)\n",
            "Requirement already satisfied: certifi>=2017.4.17 in /usr/local/lib/python3.6/dist-packages (from requests[security]) (2020.4.5.2)\n",
            "Requirement already satisfied: chardet<4,>=3.0.2 in /usr/local/lib/python3.6/dist-packages (from requests[security]) (3.0.4)\n",
            "Collecting pyOpenSSL>=0.14; extra == \"security\"\n",
            "\u001b[?25l  Downloading https://files.pythonhosted.org/packages/9e/de/f8342b68fa9e981d348039954657bdf681b2ab93de27443be51865ffa310/pyOpenSSL-19.1.0-py2.py3-none-any.whl (53kB)\n",
            "\u001b[K     |████████████████████████████████| 61kB 2.8MB/s \n",
            "\u001b[?25hCollecting cryptography>=1.3.4; extra == \"security\"\n",
            "\u001b[?25l  Downloading https://files.pythonhosted.org/packages/3c/04/686efee2dcdd25aecf357992e7d9362f443eb182ecd623f882bc9f7a6bba/cryptography-2.9.2-cp35-abi3-manylinux2010_x86_64.whl (2.7MB)\n",
            "\u001b[K     |████████████████████████████████| 2.7MB 10.8MB/s \n",
            "\u001b[?25hRequirement already satisfied: six>=1.5.2 in /usr/local/lib/python3.6/dist-packages (from pyOpenSSL>=0.14; extra == \"security\"->requests[security]) (1.12.0)\n",
            "Requirement already satisfied: cffi!=1.11.3,>=1.8 in /usr/local/lib/python3.6/dist-packages (from cryptography>=1.3.4; extra == \"security\"->requests[security]) (1.14.0)\n",
            "Requirement already satisfied: pycparser in /usr/local/lib/python3.6/dist-packages (from cffi!=1.11.3,>=1.8->cryptography>=1.3.4; extra == \"security\"->requests[security]) (2.20)\n",
            "Installing collected packages: cryptography, pyOpenSSL\n",
            "Successfully installed cryptography-2.9.2 pyOpenSSL-19.1.0\n"
          ],
          "name": "stdout"
        }
      ]
    },
    {
      "cell_type": "code",
      "metadata": {
        "id": "WZpFgSKoaFFh",
        "colab_type": "code",
        "colab": {}
      },
      "source": [
        "#os.environ['GOOGLE_APPLICATION_CREDENTIALS'] = \"/content/nlp-colab.json\" #change to the name of your credentials. These can be obtained here:https://cloud.google.com/natural-language/docs/quickstart\n",
        "os.environ['GOOGLE_APPLICATION_CREDENTIALS'] = \"/content/nlp-colab.json\" #change to the name of your credentials. These can be obtained here:https://cloud.google.com/natural-language/docs/quickstart"
      ],
      "execution_count": null,
      "outputs": []
    },
    {
      "cell_type": "code",
      "metadata": {
        "id": "qkSW-0qyYlcP",
        "colab_type": "code",
        "colab": {}
      },
      "source": [
        "# Imports the Google Cloud client library\n",
        "from google.cloud import language\n",
        "from google.cloud.language import enums\n",
        "from google.cloud.language import types\n",
        "from google.cloud import language_v1\n",
        "from google.cloud.language_v1 import enums\n",
        "\n",
        "# Instantiates a client\n",
        "client = language.LanguageServiceClient()"
      ],
      "execution_count": null,
      "outputs": []
    },
    {
      "cell_type": "markdown",
      "metadata": {
        "id": "4XCGW9btPE-9",
        "colab_type": "text"
      },
      "source": [
        "This is the default sentiment analysis method recommended by Google. It is currently set up to take in an HTML response from a page."
      ]
    },
    {
      "cell_type": "code",
      "metadata": {
        "colab_type": "code",
        "id": "zndJdEyupb39",
        "colab": {}
      },
      "source": [
        "def sample_classify_text(html_content):\n",
        "  # Comment test\n",
        "  client = language_v1.LanguageServiceClient()\n",
        "\n",
        "  # Available types: PLAIN_TEXT, HTML\n",
        "  type_ = enums.Document.Type.PLAIN_TEXT #you can change this to be just text; doesn't have to be HTML.\n",
        "\n",
        "  # Optional. If not specified, the language is automatically detected.\n",
        "  # For list of supported languages:\n",
        "  # https://cloud.google.com/natural-language/docs/languages\n",
        "  language = \"en\"\n",
        "  document = {\"gcs_content_uri\": gcs_content_uri, \"type\": type_, \"language\": language}\n",
        "\n",
        "  # Available values: NONE, UTF8, UTF16, UTF32\n",
        "  encoding_type = enums.EncodingType.UTF8\n",
        "\n",
        "  response = client.analyze_categories(document)\n",
        "  return response\n"
      ],
      "execution_count": null,
      "outputs": []
    },
    {
      "cell_type": "code",
      "metadata": {
        "id": "s3WCBz3bp582",
        "colab_type": "code",
        "colab": {}
      },
      "source": [
        "def return_category_dataframe(response):\n",
        "  document = {\n",
        "      \"content\": response.data,\n",
        "      \"language\": 'en',\n",
        "      \"type\": 'HTML'\n",
        "  }\n",
        "  output = client.classify_text(document)\n",
        "  output_list = []\n",
        "  # I'm only ever seeing one category from each call to classify_text.\n",
        "  for category in output.categories:\n",
        "    category_dict = {}\n",
        "    category_dict['category_name'] = category.name\n",
        "    category_dict['category_confidence('+response._request_url+')'] = category.confidence\n",
        "    # No está ahi.\n",
        "    # category_dict['category_number_of_mentions('+response._request_url+')'] = len(category.mentions)\n",
        "    output_list.append(category_dict)\n",
        "  json_category_analysis = json.dumps(output_list)\n",
        "  df = pd.read_json(json_category_analysis)\n",
        "  summed_df = df.groupby(['category_name']).sum()\n",
        "  summed_df.sort_values(by=['category_confidence('+response._request_url+')'], ascending=False)\n",
        "  return summed_df"
      ],
      "execution_count": null,
      "outputs": []
    },
    {
      "cell_type": "markdown",
      "metadata": {
        "id": "-NTBzXHwQpxG",
        "colab_type": "text"
      },
      "source": [
        "This is where the URLs are defined. You can switch this out to be the three URLs you would like for it to be. "
      ]
    },
    {
      "cell_type": "code",
      "metadata": {
        "id": "VzGTE1O7lUfz",
        "colab_type": "code",
        "colab": {
          "base_uri": "https://localhost:8080/",
          "height": 73
        },
        "outputId": "a262fad5-310c-4b01-ed94-cb5415422853"
      },
      "source": [
        "http = urllib3.PoolManager()\n",
        "response1 = http.request('GET', 'http://mozseoclass.com/who-is-the-smartest-seo/')\n",
        "response2 = http.request('GET', 'https://hookagency.com/who-is-the-smartest-seo-in-the-world/')\n",
        "response3 = http.request('GET', 'http://www.thegooglecache.com/who-is-the-smartest-seo-russ-jones/')\n"
      ],
      "execution_count": null,
      "outputs": [
        {
          "output_type": "stream",
          "text": [
            "/usr/local/lib/python3.6/dist-packages/urllib3/connectionpool.py:847: InsecureRequestWarning: Unverified HTTPS request is being made. Adding certificate verification is strongly advised. See: https://urllib3.readthedocs.io/en/latest/advanced-usage.html#ssl-warnings\n",
            "  InsecureRequestWarning)\n"
          ],
          "name": "stderr"
        }
      ]
    },
    {
      "cell_type": "code",
      "metadata": {
        "id": "Jl0oeZM3sBBe",
        "colab_type": "code",
        "colab": {}
      },
      "source": [
        "url1_analysis = return_category_dataframe(response1)\n",
        "url2_analysis = return_category_dataframe(response2)\n",
        "url3_analysis = return_category_dataframe(response3)\n",
        "#url4_analysis = return_category_dataframe(response4)\n",
        "#url5_analysis = return_category_dataframe(response5)\n",
        "#url6_analysis = return_category_dataframe(response6)\n",
        "#url7_analysis = return_category_dataframe(response7)\n",
        "#url8_analysis = return_category_dataframe(response8)"
      ],
      "execution_count": null,
      "outputs": []
    },
    {
      "cell_type": "markdown",
      "metadata": {
        "id": "mo1zly_LQ9qt",
        "colab_type": "text"
      },
      "source": [
        "These functions here join all of the entity results into one giant table so that it can be easier for the users to review results and compare. "
      ]
    },
    {
      "cell_type": "code",
      "metadata": {
        "id": "wkHg_k2MyJF8",
        "colab_type": "code",
        "colab": {}
      },
      "source": [
        "url1and2 = url1_analysis.merge(url2_analysis,how='outer', left_on='category_name', right_on=\"category_name\")\n",
        "url1and2and3 = url1and2.merge(url3_analysis,how='outer', left_on='category_name', right_on=\"category_name\")\n",
        "#url1and2and3and4 = url1and2and3.merge(url4_analysis,how='outer', left_on='category_name', right_on=\"category_name\")\n",
        "#url1and2and3and4and5 = url1and2and3and4.merge(url5_analysis,how='outer', left_on='category_name', right_on=\"category_name\")\n",
        "#url1and2and3and4and5and6 = url1and2and3and4and5.merge(url6_analysis,how='outer', left_on='category_name', right_on=\"category_name\")\n"
      ],
      "execution_count": null,
      "outputs": []
    },
    {
      "cell_type": "code",
      "metadata": {
        "id": "DNMTixY-yHiq",
        "colab_type": "code",
        "colab": {
          "base_uri": "https://localhost:8080/",
          "height": 247
        },
        "outputId": "46179836-f2f1-4aa0-a9a3-2301eea7aa02"
      },
      "source": [
        "url1and2.sort_values(by=['category_confidence('+response1._request_url+')'], ascending=False)\n"
      ],
      "execution_count": null,
      "outputs": [
        {
          "output_type": "execute_result",
          "data": {
            "text/html": [
              "<div>\n",
              "<style scoped>\n",
              "    .dataframe tbody tr th:only-of-type {\n",
              "        vertical-align: middle;\n",
              "    }\n",
              "\n",
              "    .dataframe tbody tr th {\n",
              "        vertical-align: top;\n",
              "    }\n",
              "\n",
              "    .dataframe thead th {\n",
              "        text-align: right;\n",
              "    }\n",
              "</style>\n",
              "<table border=\"1\" class=\"dataframe\">\n",
              "  <thead>\n",
              "    <tr style=\"text-align: right;\">\n",
              "      <th></th>\n",
              "      <th>category_confidence(http://mozseoclass.com/who-is-the-smartest-seo/)</th>\n",
              "      <th>category_confidence(https://hookagency.com/who-is-the-smartest-seo-in-the-world/)</th>\n",
              "    </tr>\n",
              "    <tr>\n",
              "      <th>category_name</th>\n",
              "      <th></th>\n",
              "      <th></th>\n",
              "    </tr>\n",
              "  </thead>\n",
              "  <tbody>\n",
              "    <tr>\n",
              "      <th>/Business &amp; Industrial/Business Services</th>\n",
              "      <td>0.97</td>\n",
              "      <td>0.93</td>\n",
              "    </tr>\n",
              "    <tr>\n",
              "      <th>/Internet &amp; Telecom/Web Services</th>\n",
              "      <td>0.88</td>\n",
              "      <td>0.89</td>\n",
              "    </tr>\n",
              "  </tbody>\n",
              "</table>\n",
              "</div>"
            ],
            "text/plain": [
              "                                          category_confidence(http://mozseoclass.com/who-is-the-smartest-seo/)  category_confidence(https://hookagency.com/who-is-the-smartest-seo-in-the-world/)\n",
              "category_name                                                                                                                                                                                    \n",
              "/Business & Industrial/Business Services                                               0.97                                                                  0.93                                \n",
              "/Internet & Telecom/Web Services                                                       0.88                                                                  0.89                                "
            ]
          },
          "metadata": {
            "tags": []
          },
          "execution_count": 9
        }
      ]
    },
    {
      "cell_type": "markdown",
      "metadata": {
        "id": "NEriVgum8AIx",
        "colab_type": "text"
      },
      "source": [
        ""
      ]
    },
    {
      "cell_type": "code",
      "metadata": {
        "id": "VmSEh9_H0-ZQ",
        "colab_type": "code",
        "colab": {}
      },
      "source": [
        "url1and2and3.to_csv('categories.csv')"
      ],
      "execution_count": null,
      "outputs": []
    },
    {
      "cell_type": "code",
      "metadata": {
        "id": "zEslC8m_3HcM",
        "colab_type": "code",
        "colab": {}
      },
      "source": [
        "db = url1and2and3and4and5and6"
      ],
      "execution_count": null,
      "outputs": []
    },
    {
      "cell_type": "code",
      "metadata": {
        "id": "C2rn81qx3LnW",
        "colab_type": "code",
        "colab": {
          "base_uri": "https://localhost:8080/",
          "height": 405
        },
        "outputId": "0aaa0d67-7af2-4a47-aed5-136fdcb294e8"
      },
      "source": [
        "db"
      ],
      "execution_count": null,
      "outputs": [
        {
          "output_type": "execute_result",
          "data": {
            "text/html": [
              "<div>\n",
              "<style scoped>\n",
              "    .dataframe tbody tr th:only-of-type {\n",
              "        vertical-align: middle;\n",
              "    }\n",
              "\n",
              "    .dataframe tbody tr th {\n",
              "        vertical-align: top;\n",
              "    }\n",
              "\n",
              "    .dataframe thead th {\n",
              "        text-align: right;\n",
              "    }\n",
              "</style>\n",
              "<table border=\"1\" class=\"dataframe\">\n",
              "  <thead>\n",
              "    <tr style=\"text-align: right;\">\n",
              "      <th></th>\n",
              "      <th>category_confidence(https://www.healthline.com/nutrition/ketogenic-diet-101)</th>\n",
              "      <th>category_confidence(https://www.dietdoctor.com/low-carb/keto)</th>\n",
              "      <th>category_confidence(https://www.health.harvard.edu/staying-healthy/should-you-try-the-keto-diet)</th>\n",
              "      <th>category_confidence(https://www.health.harvard.edu/staying-healthy)</th>\n",
              "      <th>category_confidence(https://moz.com/)</th>\n",
              "      <th>category_confidence(https://www.semrush.com/)</th>\n",
              "    </tr>\n",
              "    <tr>\n",
              "      <th>category_name</th>\n",
              "      <th></th>\n",
              "      <th></th>\n",
              "      <th></th>\n",
              "      <th></th>\n",
              "      <th></th>\n",
              "      <th></th>\n",
              "    </tr>\n",
              "  </thead>\n",
              "  <tbody>\n",
              "    <tr>\n",
              "      <th>/Health/Nutrition/Special &amp; Restricted Diets</th>\n",
              "      <td>0.98</td>\n",
              "      <td>0.99</td>\n",
              "      <td>NaN</td>\n",
              "      <td>NaN</td>\n",
              "      <td>NaN</td>\n",
              "      <td>NaN</td>\n",
              "    </tr>\n",
              "    <tr>\n",
              "      <th>/Beauty &amp; Fitness/Weight Loss</th>\n",
              "      <td>NaN</td>\n",
              "      <td>0.70</td>\n",
              "      <td>NaN</td>\n",
              "      <td>NaN</td>\n",
              "      <td>NaN</td>\n",
              "      <td>NaN</td>\n",
              "    </tr>\n",
              "    <tr>\n",
              "      <th>/Health/Nutrition</th>\n",
              "      <td>NaN</td>\n",
              "      <td>NaN</td>\n",
              "      <td>0.55</td>\n",
              "      <td>NaN</td>\n",
              "      <td>NaN</td>\n",
              "      <td>NaN</td>\n",
              "    </tr>\n",
              "    <tr>\n",
              "      <th>/Health/Health Conditions</th>\n",
              "      <td>NaN</td>\n",
              "      <td>NaN</td>\n",
              "      <td>NaN</td>\n",
              "      <td>0.81</td>\n",
              "      <td>NaN</td>\n",
              "      <td>NaN</td>\n",
              "    </tr>\n",
              "    <tr>\n",
              "      <th>/Business &amp; Industrial/Business Services</th>\n",
              "      <td>NaN</td>\n",
              "      <td>NaN</td>\n",
              "      <td>NaN</td>\n",
              "      <td>NaN</td>\n",
              "      <td>0.99</td>\n",
              "      <td>0.99</td>\n",
              "    </tr>\n",
              "    <tr>\n",
              "      <th>/Internet &amp; Telecom/Web Services</th>\n",
              "      <td>NaN</td>\n",
              "      <td>NaN</td>\n",
              "      <td>NaN</td>\n",
              "      <td>NaN</td>\n",
              "      <td>0.98</td>\n",
              "      <td>0.97</td>\n",
              "    </tr>\n",
              "  </tbody>\n",
              "</table>\n",
              "</div>"
            ],
            "text/plain": [
              "                                              category_confidence(https://www.healthline.com/nutrition/ketogenic-diet-101)  ...  category_confidence(https://www.semrush.com/)\n",
              "category_name                                                                                                               ...                                               \n",
              "/Health/Nutrition/Special & Restricted Diets                                               0.98                             ...                                            NaN\n",
              "/Beauty & Fitness/Weight Loss                                                               NaN                             ...                                            NaN\n",
              "/Health/Nutrition                                                                           NaN                             ...                                            NaN\n",
              "/Health/Health Conditions                                                                   NaN                             ...                                            NaN\n",
              "/Business & Industrial/Business Services                                                    NaN                             ...                                           0.99\n",
              "/Internet & Telecom/Web Services                                                            NaN                             ...                                           0.97\n",
              "\n",
              "[6 rows x 6 columns]"
            ]
          },
          "metadata": {
            "tags": []
          },
          "execution_count": 12
        }
      ]
    }
  ]
}